{
 "cells": [
  {
   "cell_type": "markdown",
   "metadata": {},
   "source": [
    "# Ex 5.1: Part V (Outside Class) "
   ]
  },
  {
   "cell_type": "code",
   "execution_count": 1,
   "metadata": {},
   "outputs": [],
   "source": [
    "import pandas as pd\n",
    "import plotly.express as px"
   ]
  },
  {
   "cell_type": "markdown",
   "metadata": {},
   "source": [
    "# 1. Read one of the data sources to combine into a Dataframe "
   ]
  },
  {
   "cell_type": "code",
   "execution_count": 2,
   "metadata": {},
   "outputs": [
    {
     "name": "stdout",
     "output_type": "stream",
     "text": [
      "(3, 3)\n"
     ]
    },
    {
     "data": {
      "text/html": [
       "<div>\n",
       "<style scoped>\n",
       "    .dataframe tbody tr th:only-of-type {\n",
       "        vertical-align: middle;\n",
       "    }\n",
       "\n",
       "    .dataframe tbody tr th {\n",
       "        vertical-align: top;\n",
       "    }\n",
       "\n",
       "    .dataframe thead th {\n",
       "        text-align: right;\n",
       "    }\n",
       "</style>\n",
       "<table border=\"1\" class=\"dataframe\">\n",
       "  <thead>\n",
       "    <tr style=\"text-align: right;\">\n",
       "      <th></th>\n",
       "      <th>ShipperID</th>\n",
       "      <th>ShipperName</th>\n",
       "      <th>Phone</th>\n",
       "    </tr>\n",
       "  </thead>\n",
       "  <tbody>\n",
       "    <tr>\n",
       "      <th>0</th>\n",
       "      <td>1</td>\n",
       "      <td>Speedy Express</td>\n",
       "      <td>(503) 555-9831</td>\n",
       "    </tr>\n",
       "    <tr>\n",
       "      <th>1</th>\n",
       "      <td>2</td>\n",
       "      <td>United Package</td>\n",
       "      <td>(503) 555-3199</td>\n",
       "    </tr>\n",
       "    <tr>\n",
       "      <th>2</th>\n",
       "      <td>3</td>\n",
       "      <td>Federal Shipping</td>\n",
       "      <td>(503) 555-9931</td>\n",
       "    </tr>\n",
       "  </tbody>\n",
       "</table>\n",
       "</div>"
      ],
      "text/plain": [
       "   ShipperID       ShipperName           Phone\n",
       "0          1    Speedy Express  (503) 555-9831\n",
       "1          2    United Package  (503) 555-3199\n",
       "2          3  Federal Shipping  (503) 555-9931"
      ]
     },
     "execution_count": 2,
     "metadata": {},
     "output_type": "execute_result"
    }
   ],
   "source": [
    "df_shippers = pd.read_excel(\"Data/w3schools_Data.xlsx\", \"Shippers\", skiprows=2)\n",
    "\n",
    "print(df_shippers.shape)\n",
    "df_shippers.head()"
   ]
  },
  {
   "cell_type": "markdown",
   "metadata": {},
   "source": [
    "# 2. Read a second data source to combine into a Dataframe  "
   ]
  },
  {
   "cell_type": "code",
   "execution_count": 3,
   "metadata": {},
   "outputs": [
    {
     "name": "stdout",
     "output_type": "stream",
     "text": [
      "(518, 21)\n"
     ]
    },
    {
     "data": {
      "text/html": [
       "<div>\n",
       "<style scoped>\n",
       "    .dataframe tbody tr th:only-of-type {\n",
       "        vertical-align: middle;\n",
       "    }\n",
       "\n",
       "    .dataframe tbody tr th {\n",
       "        vertical-align: top;\n",
       "    }\n",
       "\n",
       "    .dataframe thead th {\n",
       "        text-align: right;\n",
       "    }\n",
       "</style>\n",
       "<table border=\"1\" class=\"dataframe\">\n",
       "  <thead>\n",
       "    <tr style=\"text-align: right;\">\n",
       "      <th></th>\n",
       "      <th>OrderDetailID</th>\n",
       "      <th>OrderID</th>\n",
       "      <th>Product_ID</th>\n",
       "      <th>Quantity</th>\n",
       "      <th>CustomerID</th>\n",
       "      <th>EmployeeID</th>\n",
       "      <th>OrderDate</th>\n",
       "      <th>ShipperID</th>\n",
       "      <th>Product_Name</th>\n",
       "      <th>SupplierID</th>\n",
       "      <th>...</th>\n",
       "      <th>ProductDescription</th>\n",
       "      <th>ProductPrice</th>\n",
       "      <th>CategoryName</th>\n",
       "      <th>Description</th>\n",
       "      <th>CustomerName</th>\n",
       "      <th>ContactName</th>\n",
       "      <th>Address</th>\n",
       "      <th>City</th>\n",
       "      <th>PostalCode</th>\n",
       "      <th>Country</th>\n",
       "    </tr>\n",
       "  </thead>\n",
       "  <tbody>\n",
       "    <tr>\n",
       "      <th>0</th>\n",
       "      <td>1</td>\n",
       "      <td>10248</td>\n",
       "      <td>11</td>\n",
       "      <td>12</td>\n",
       "      <td>90</td>\n",
       "      <td>5</td>\n",
       "      <td>1996-07-04</td>\n",
       "      <td>3</td>\n",
       "      <td>Queso Cabrales</td>\n",
       "      <td>5</td>\n",
       "      <td>...</td>\n",
       "      <td>1 kg pkg.</td>\n",
       "      <td>21.0</td>\n",
       "      <td>Dairy Products</td>\n",
       "      <td>Cheeses</td>\n",
       "      <td>Wilman Kala</td>\n",
       "      <td>Matti Karttunen</td>\n",
       "      <td>Keskuskatu 45</td>\n",
       "      <td>Helsinki</td>\n",
       "      <td>21240</td>\n",
       "      <td>Finland</td>\n",
       "    </tr>\n",
       "    <tr>\n",
       "      <th>1</th>\n",
       "      <td>2</td>\n",
       "      <td>10248</td>\n",
       "      <td>42</td>\n",
       "      <td>10</td>\n",
       "      <td>90</td>\n",
       "      <td>5</td>\n",
       "      <td>1996-07-04</td>\n",
       "      <td>3</td>\n",
       "      <td>Singaporean Hokkien Fried Mee</td>\n",
       "      <td>20</td>\n",
       "      <td>...</td>\n",
       "      <td>32 - 1 kg pkgs.</td>\n",
       "      <td>14.0</td>\n",
       "      <td>Grains/Cereals</td>\n",
       "      <td>Breads, crackers, pasta, and cereal</td>\n",
       "      <td>Wilman Kala</td>\n",
       "      <td>Matti Karttunen</td>\n",
       "      <td>Keskuskatu 45</td>\n",
       "      <td>Helsinki</td>\n",
       "      <td>21240</td>\n",
       "      <td>Finland</td>\n",
       "    </tr>\n",
       "    <tr>\n",
       "      <th>2</th>\n",
       "      <td>3</td>\n",
       "      <td>10248</td>\n",
       "      <td>72</td>\n",
       "      <td>5</td>\n",
       "      <td>90</td>\n",
       "      <td>5</td>\n",
       "      <td>1996-07-04</td>\n",
       "      <td>3</td>\n",
       "      <td>Mozzarella di Giovanni</td>\n",
       "      <td>14</td>\n",
       "      <td>...</td>\n",
       "      <td>24 - 200 g pkgs.</td>\n",
       "      <td>34.8</td>\n",
       "      <td>Dairy Products</td>\n",
       "      <td>Cheeses</td>\n",
       "      <td>Wilman Kala</td>\n",
       "      <td>Matti Karttunen</td>\n",
       "      <td>Keskuskatu 45</td>\n",
       "      <td>Helsinki</td>\n",
       "      <td>21240</td>\n",
       "      <td>Finland</td>\n",
       "    </tr>\n",
       "  </tbody>\n",
       "</table>\n",
       "<p>3 rows × 21 columns</p>\n",
       "</div>"
      ],
      "text/plain": [
       "   OrderDetailID  OrderID  Product_ID  Quantity  CustomerID  EmployeeID  \\\n",
       "0              1    10248          11        12          90           5   \n",
       "1              2    10248          42        10          90           5   \n",
       "2              3    10248          72         5          90           5   \n",
       "\n",
       "    OrderDate  ShipperID                   Product_Name  SupplierID  ...  \\\n",
       "0  1996-07-04          3                 Queso Cabrales           5  ...   \n",
       "1  1996-07-04          3  Singaporean Hokkien Fried Mee          20  ...   \n",
       "2  1996-07-04          3         Mozzarella di Giovanni          14  ...   \n",
       "\n",
       "   ProductDescription ProductPrice    CategoryName  \\\n",
       "0           1 kg pkg.         21.0  Dairy Products   \n",
       "1     32 - 1 kg pkgs.         14.0  Grains/Cereals   \n",
       "2    24 - 200 g pkgs.         34.8  Dairy Products   \n",
       "\n",
       "                           Description CustomerName      ContactName  \\\n",
       "0                              Cheeses  Wilman Kala  Matti Karttunen   \n",
       "1  Breads, crackers, pasta, and cereal  Wilman Kala  Matti Karttunen   \n",
       "2                              Cheeses  Wilman Kala  Matti Karttunen   \n",
       "\n",
       "         Address      City PostalCode  Country  \n",
       "0  Keskuskatu 45  Helsinki      21240  Finland  \n",
       "1  Keskuskatu 45  Helsinki      21240  Finland  \n",
       "2  Keskuskatu 45  Helsinki      21240  Finland  \n",
       "\n",
       "[3 rows x 21 columns]"
      ]
     },
     "execution_count": 3,
     "metadata": {},
     "output_type": "execute_result"
    }
   ],
   "source": [
    "df_P4 = pd.read_csv(\"Data/P4_OD_OR_Prod_Cat_Cust.csv\")\n",
    "\n",
    "print(df_P4.shape)\n",
    "df_P4.head(3)"
   ]
  },
  {
   "cell_type": "markdown",
   "metadata": {},
   "source": [
    "# 3. Make Crucial Decisions  "
   ]
  },
  {
   "cell_type": "markdown",
   "metadata": {},
   "source": [
    "### Decision 1: Choose the Left and Right Tables  "
   ]
  },
  {
   "cell_type": "code",
   "execution_count": 4,
   "metadata": {},
   "outputs": [],
   "source": [
    "left_table = df_P4\n",
    "right_table = df_shippers"
   ]
  },
  {
   "cell_type": "markdown",
   "metadata": {},
   "source": [
    "### Decision 2:  Choose the Join Fields     "
   ]
  },
  {
   "cell_type": "code",
   "execution_count": 5,
   "metadata": {},
   "outputs": [
    {
     "data": {
      "text/html": [
       "<div>\n",
       "<style scoped>\n",
       "    .dataframe tbody tr th:only-of-type {\n",
       "        vertical-align: middle;\n",
       "    }\n",
       "\n",
       "    .dataframe tbody tr th {\n",
       "        vertical-align: top;\n",
       "    }\n",
       "\n",
       "    .dataframe thead th {\n",
       "        text-align: right;\n",
       "    }\n",
       "</style>\n",
       "<table border=\"1\" class=\"dataframe\">\n",
       "  <thead>\n",
       "    <tr style=\"text-align: right;\">\n",
       "      <th></th>\n",
       "      <th>OrderDetailID</th>\n",
       "      <th>OrderID</th>\n",
       "      <th>Product_ID</th>\n",
       "      <th>Quantity</th>\n",
       "      <th>CustomerID</th>\n",
       "      <th>EmployeeID</th>\n",
       "      <th>OrderDate</th>\n",
       "      <th>ShipperID</th>\n",
       "      <th>Product_Name</th>\n",
       "      <th>SupplierID</th>\n",
       "      <th>...</th>\n",
       "      <th>ProductDescription</th>\n",
       "      <th>ProductPrice</th>\n",
       "      <th>CategoryName</th>\n",
       "      <th>Description</th>\n",
       "      <th>CustomerName</th>\n",
       "      <th>ContactName</th>\n",
       "      <th>Address</th>\n",
       "      <th>City</th>\n",
       "      <th>PostalCode</th>\n",
       "      <th>Country</th>\n",
       "    </tr>\n",
       "  </thead>\n",
       "  <tbody>\n",
       "    <tr>\n",
       "      <th>0</th>\n",
       "      <td>1</td>\n",
       "      <td>10248</td>\n",
       "      <td>11</td>\n",
       "      <td>12</td>\n",
       "      <td>90</td>\n",
       "      <td>5</td>\n",
       "      <td>1996-07-04</td>\n",
       "      <td>3</td>\n",
       "      <td>Queso Cabrales</td>\n",
       "      <td>5</td>\n",
       "      <td>...</td>\n",
       "      <td>1 kg pkg.</td>\n",
       "      <td>21.0</td>\n",
       "      <td>Dairy Products</td>\n",
       "      <td>Cheeses</td>\n",
       "      <td>Wilman Kala</td>\n",
       "      <td>Matti Karttunen</td>\n",
       "      <td>Keskuskatu 45</td>\n",
       "      <td>Helsinki</td>\n",
       "      <td>21240</td>\n",
       "      <td>Finland</td>\n",
       "    </tr>\n",
       "  </tbody>\n",
       "</table>\n",
       "<p>1 rows × 21 columns</p>\n",
       "</div>"
      ],
      "text/plain": [
       "   OrderDetailID  OrderID  Product_ID  Quantity  CustomerID  EmployeeID  \\\n",
       "0              1    10248          11        12          90           5   \n",
       "\n",
       "    OrderDate  ShipperID    Product_Name  SupplierID  ...  ProductDescription  \\\n",
       "0  1996-07-04          3  Queso Cabrales           5  ...           1 kg pkg.   \n",
       "\n",
       "  ProductPrice    CategoryName Description CustomerName      ContactName  \\\n",
       "0         21.0  Dairy Products     Cheeses  Wilman Kala  Matti Karttunen   \n",
       "\n",
       "         Address      City PostalCode  Country  \n",
       "0  Keskuskatu 45  Helsinki      21240  Finland  \n",
       "\n",
       "[1 rows x 21 columns]"
      ]
     },
     "execution_count": 5,
     "metadata": {},
     "output_type": "execute_result"
    }
   ],
   "source": [
    "left_table.head(1)"
   ]
  },
  {
   "cell_type": "code",
   "execution_count": 6,
   "metadata": {},
   "outputs": [
    {
     "data": {
      "text/html": [
       "<div>\n",
       "<style scoped>\n",
       "    .dataframe tbody tr th:only-of-type {\n",
       "        vertical-align: middle;\n",
       "    }\n",
       "\n",
       "    .dataframe tbody tr th {\n",
       "        vertical-align: top;\n",
       "    }\n",
       "\n",
       "    .dataframe thead th {\n",
       "        text-align: right;\n",
       "    }\n",
       "</style>\n",
       "<table border=\"1\" class=\"dataframe\">\n",
       "  <thead>\n",
       "    <tr style=\"text-align: right;\">\n",
       "      <th></th>\n",
       "      <th>ShipperID</th>\n",
       "      <th>ShipperName</th>\n",
       "      <th>Phone</th>\n",
       "    </tr>\n",
       "  </thead>\n",
       "  <tbody>\n",
       "    <tr>\n",
       "      <th>0</th>\n",
       "      <td>1</td>\n",
       "      <td>Speedy Express</td>\n",
       "      <td>(503) 555-9831</td>\n",
       "    </tr>\n",
       "  </tbody>\n",
       "</table>\n",
       "</div>"
      ],
      "text/plain": [
       "   ShipperID     ShipperName           Phone\n",
       "0          1  Speedy Express  (503) 555-9831"
      ]
     },
     "execution_count": 6,
     "metadata": {},
     "output_type": "execute_result"
    }
   ],
   "source": [
    "right_table.head(1)"
   ]
  },
  {
   "cell_type": "code",
   "execution_count": 7,
   "metadata": {},
   "outputs": [],
   "source": [
    "left_table_join_field = 'ShipperID'\n",
    "right_table_join_field = 'ShipperID'"
   ]
  },
  {
   "cell_type": "markdown",
   "metadata": {},
   "source": [
    "# 4. Use pandas *merge()* to create a Left Join "
   ]
  },
  {
   "cell_type": "code",
   "execution_count": 8,
   "metadata": {},
   "outputs": [
    {
     "name": "stdout",
     "output_type": "stream",
     "text": [
      "\n",
      "Ex 5.1 Part 5: Merged Shippers data\n",
      "Left Table:   (518, 21)\n",
      "Right Table:  (3, 3)\n",
      "Joined Dataframe:  (518, 23)\n",
      "\n"
     ]
    },
    {
     "data": {
      "text/html": [
       "<div>\n",
       "<style scoped>\n",
       "    .dataframe tbody tr th:only-of-type {\n",
       "        vertical-align: middle;\n",
       "    }\n",
       "\n",
       "    .dataframe tbody tr th {\n",
       "        vertical-align: top;\n",
       "    }\n",
       "\n",
       "    .dataframe thead th {\n",
       "        text-align: right;\n",
       "    }\n",
       "</style>\n",
       "<table border=\"1\" class=\"dataframe\">\n",
       "  <thead>\n",
       "    <tr style=\"text-align: right;\">\n",
       "      <th></th>\n",
       "      <th>OrderDetailID</th>\n",
       "      <th>OrderID</th>\n",
       "      <th>Product_ID</th>\n",
       "      <th>Quantity</th>\n",
       "      <th>CustomerID</th>\n",
       "      <th>EmployeeID</th>\n",
       "      <th>OrderDate</th>\n",
       "      <th>ShipperID</th>\n",
       "      <th>Product_Name</th>\n",
       "      <th>SupplierID</th>\n",
       "      <th>...</th>\n",
       "      <th>CategoryName</th>\n",
       "      <th>Description</th>\n",
       "      <th>CustomerName</th>\n",
       "      <th>ContactName</th>\n",
       "      <th>Address</th>\n",
       "      <th>City</th>\n",
       "      <th>PostalCode</th>\n",
       "      <th>Country</th>\n",
       "      <th>ShipperName</th>\n",
       "      <th>Phone</th>\n",
       "    </tr>\n",
       "  </thead>\n",
       "  <tbody>\n",
       "    <tr>\n",
       "      <th>0</th>\n",
       "      <td>1</td>\n",
       "      <td>10248</td>\n",
       "      <td>11</td>\n",
       "      <td>12</td>\n",
       "      <td>90</td>\n",
       "      <td>5</td>\n",
       "      <td>1996-07-04</td>\n",
       "      <td>3</td>\n",
       "      <td>Queso Cabrales</td>\n",
       "      <td>5</td>\n",
       "      <td>...</td>\n",
       "      <td>Dairy Products</td>\n",
       "      <td>Cheeses</td>\n",
       "      <td>Wilman Kala</td>\n",
       "      <td>Matti Karttunen</td>\n",
       "      <td>Keskuskatu 45</td>\n",
       "      <td>Helsinki</td>\n",
       "      <td>21240</td>\n",
       "      <td>Finland</td>\n",
       "      <td>Federal Shipping</td>\n",
       "      <td>(503) 555-9931</td>\n",
       "    </tr>\n",
       "    <tr>\n",
       "      <th>1</th>\n",
       "      <td>2</td>\n",
       "      <td>10248</td>\n",
       "      <td>42</td>\n",
       "      <td>10</td>\n",
       "      <td>90</td>\n",
       "      <td>5</td>\n",
       "      <td>1996-07-04</td>\n",
       "      <td>3</td>\n",
       "      <td>Singaporean Hokkien Fried Mee</td>\n",
       "      <td>20</td>\n",
       "      <td>...</td>\n",
       "      <td>Grains/Cereals</td>\n",
       "      <td>Breads, crackers, pasta, and cereal</td>\n",
       "      <td>Wilman Kala</td>\n",
       "      <td>Matti Karttunen</td>\n",
       "      <td>Keskuskatu 45</td>\n",
       "      <td>Helsinki</td>\n",
       "      <td>21240</td>\n",
       "      <td>Finland</td>\n",
       "      <td>Federal Shipping</td>\n",
       "      <td>(503) 555-9931</td>\n",
       "    </tr>\n",
       "  </tbody>\n",
       "</table>\n",
       "<p>2 rows × 23 columns</p>\n",
       "</div>"
      ],
      "text/plain": [
       "   OrderDetailID  OrderID  Product_ID  Quantity  CustomerID  EmployeeID  \\\n",
       "0              1    10248          11        12          90           5   \n",
       "1              2    10248          42        10          90           5   \n",
       "\n",
       "    OrderDate  ShipperID                   Product_Name  SupplierID  ...  \\\n",
       "0  1996-07-04          3                 Queso Cabrales           5  ...   \n",
       "1  1996-07-04          3  Singaporean Hokkien Fried Mee          20  ...   \n",
       "\n",
       "     CategoryName                          Description  CustomerName  \\\n",
       "0  Dairy Products                              Cheeses   Wilman Kala   \n",
       "1  Grains/Cereals  Breads, crackers, pasta, and cereal   Wilman Kala   \n",
       "\n",
       "       ContactName        Address      City PostalCode  Country  \\\n",
       "0  Matti Karttunen  Keskuskatu 45  Helsinki      21240  Finland   \n",
       "1  Matti Karttunen  Keskuskatu 45  Helsinki      21240  Finland   \n",
       "\n",
       "        ShipperName           Phone  \n",
       "0  Federal Shipping  (503) 555-9931  \n",
       "1  Federal Shipping  (503) 555-9931  \n",
       "\n",
       "[2 rows x 23 columns]"
      ]
     },
     "execution_count": 8,
     "metadata": {},
     "output_type": "execute_result"
    }
   ],
   "source": [
    "df_joined = pd.merge(left_table,       \n",
    "                       right_table,     \n",
    "                       left_on=left_table_join_field,\n",
    "                       right_on=right_table_join_field,\n",
    "                       how='left'         # Type of Join:  Left!\n",
    "                      )\n",
    "\n",
    "print()\n",
    "print(\"Ex 5.1 Part 5: Merged Shippers data\")\n",
    "print(\"Left Table:  \", left_table.shape)\n",
    "print(\"Right Table: \", right_table.shape)\n",
    "print(\"Joined Dataframe: \", df_joined.shape)\n",
    "print()\n",
    "\n",
    "df_joined.head(2)"
   ]
  },
  {
   "cell_type": "code",
   "execution_count": 9,
   "metadata": {},
   "outputs": [
    {
     "data": {
      "text/plain": [
       "OrderDetailID           int64\n",
       "OrderID                 int64\n",
       "Product_ID              int64\n",
       "Quantity                int64\n",
       "CustomerID              int64\n",
       "EmployeeID              int64\n",
       "OrderDate              object\n",
       "ShipperID               int64\n",
       "Product_Name           object\n",
       "SupplierID              int64\n",
       "CategoryID              int64\n",
       "ProductDescription     object\n",
       "ProductPrice          float64\n",
       "CategoryName           object\n",
       "Description            object\n",
       "CustomerName           object\n",
       "ContactName            object\n",
       "Address                object\n",
       "City                   object\n",
       "PostalCode             object\n",
       "Country                object\n",
       "ShipperName            object\n",
       "Phone                  object\n",
       "dtype: object"
      ]
     },
     "execution_count": 9,
     "metadata": {},
     "output_type": "execute_result"
    }
   ],
   "source": [
    "df_joined.dtypes"
   ]
  },
  {
   "cell_type": "markdown",
   "metadata": {},
   "source": [
    "# Optional:  Save the Joined Dataframe as a CSV file"
   ]
  },
  {
   "cell_type": "code",
   "execution_count": 10,
   "metadata": {},
   "outputs": [],
   "source": [
    "csv_file_to_create = \"P5_OD_OR_Prod_Cat_Cust_Ship.csv\"\n",
    "\n",
    "filename_with_path = \"Data/\" + csv_file_to_create\n",
    "df_joined.to_csv(filename_with_path, index=False)"
   ]
  }
 ],
 "metadata": {
  "kernelspec": {
   "display_name": "Python 3.9.12",
   "language": "python",
   "name": "python3"
  },
  "language_info": {
   "codemirror_mode": {
    "name": "ipython",
    "version": 3
   },
   "file_extension": ".py",
   "mimetype": "text/x-python",
   "name": "python",
   "nbconvert_exporter": "python",
   "pygments_lexer": "ipython3",
   "version": "3.9.12"
  },
  "vscode": {
   "interpreter": {
    "hash": "0ccba871b46202fe891a5da8f1fa45061240964d317113191dbecc63a04b0fa2"
   }
  }
 },
 "nbformat": 4,
 "nbformat_minor": 4
}
