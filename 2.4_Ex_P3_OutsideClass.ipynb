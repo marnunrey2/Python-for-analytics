{
 "cells": [
  {
   "cell_type": "markdown",
   "metadata": {},
   "source": [
    "# Ex 2.4: Part 3 (Outside Class)    "
   ]
  },
  {
   "cell_type": "code",
   "execution_count": 1,
   "metadata": {},
   "outputs": [],
   "source": [
    "import pandas as pd"
   ]
  },
  {
   "cell_type": "markdown",
   "metadata": {},
   "source": [
    "### Read the datafile File into a *pandas* Dataframe  "
   ]
  },
  {
   "cell_type": "code",
   "execution_count": 2,
   "metadata": {},
   "outputs": [
    {
     "name": "stdout",
     "output_type": "stream",
     "text": [
      "(10868, 6)\n"
     ]
    },
    {
     "data": {
      "text/html": [
       "<div>\n",
       "<style scoped>\n",
       "    .dataframe tbody tr th:only-of-type {\n",
       "        vertical-align: middle;\n",
       "    }\n",
       "\n",
       "    .dataframe tbody tr th {\n",
       "        vertical-align: top;\n",
       "    }\n",
       "\n",
       "    .dataframe thead th {\n",
       "        text-align: right;\n",
       "    }\n",
       "</style>\n",
       "<table border=\"1\" class=\"dataframe\">\n",
       "  <thead>\n",
       "    <tr style=\"text-align: right;\">\n",
       "      <th></th>\n",
       "      <th>Year</th>\n",
       "      <th>Death_Cause_Name</th>\n",
       "      <th>113_Cause_Name</th>\n",
       "      <th>State</th>\n",
       "      <th>Deaths</th>\n",
       "      <th>Age-Adjusted Death Rate</th>\n",
       "    </tr>\n",
       "  </thead>\n",
       "  <tbody>\n",
       "    <tr>\n",
       "      <th>0</th>\n",
       "      <td>2017</td>\n",
       "      <td>Unintentional injuries</td>\n",
       "      <td>Accidents (unintentional injuries) (V01-X59,Y8...</td>\n",
       "      <td>United States</td>\n",
       "      <td>169936</td>\n",
       "      <td>49.4</td>\n",
       "    </tr>\n",
       "    <tr>\n",
       "      <th>1</th>\n",
       "      <td>2017</td>\n",
       "      <td>Unintentional injuries</td>\n",
       "      <td>Accidents (unintentional injuries) (V01-X59,Y8...</td>\n",
       "      <td>Alabama</td>\n",
       "      <td>2703</td>\n",
       "      <td>53.8</td>\n",
       "    </tr>\n",
       "    <tr>\n",
       "      <th>2</th>\n",
       "      <td>2017</td>\n",
       "      <td>Unintentional injuries</td>\n",
       "      <td>Accidents (unintentional injuries) (V01-X59,Y8...</td>\n",
       "      <td>Alaska</td>\n",
       "      <td>436</td>\n",
       "      <td>63.7</td>\n",
       "    </tr>\n",
       "    <tr>\n",
       "      <th>3</th>\n",
       "      <td>2017</td>\n",
       "      <td>Unintentional injuries</td>\n",
       "      <td>Accidents (unintentional injuries) (V01-X59,Y8...</td>\n",
       "      <td>Arizona</td>\n",
       "      <td>4184</td>\n",
       "      <td>56.2</td>\n",
       "    </tr>\n",
       "    <tr>\n",
       "      <th>4</th>\n",
       "      <td>2017</td>\n",
       "      <td>Unintentional injuries</td>\n",
       "      <td>Accidents (unintentional injuries) (V01-X59,Y8...</td>\n",
       "      <td>Arkansas</td>\n",
       "      <td>1625</td>\n",
       "      <td>51.8</td>\n",
       "    </tr>\n",
       "  </tbody>\n",
       "</table>\n",
       "</div>"
      ],
      "text/plain": [
       "   Year        Death_Cause_Name  \\\n",
       "0  2017  Unintentional injuries   \n",
       "1  2017  Unintentional injuries   \n",
       "2  2017  Unintentional injuries   \n",
       "3  2017  Unintentional injuries   \n",
       "4  2017  Unintentional injuries   \n",
       "\n",
       "                                      113_Cause_Name          State  Deaths  \\\n",
       "0  Accidents (unintentional injuries) (V01-X59,Y8...  United States  169936   \n",
       "1  Accidents (unintentional injuries) (V01-X59,Y8...        Alabama    2703   \n",
       "2  Accidents (unintentional injuries) (V01-X59,Y8...         Alaska     436   \n",
       "3  Accidents (unintentional injuries) (V01-X59,Y8...        Arizona    4184   \n",
       "4  Accidents (unintentional injuries) (V01-X59,Y8...       Arkansas    1625   \n",
       "\n",
       "   Age-Adjusted Death Rate  \n",
       "0                     49.4  \n",
       "1                     53.8  \n",
       "2                     63.7  \n",
       "3                     56.2  \n",
       "4                     51.8  "
      ]
     },
     "execution_count": 2,
     "metadata": {},
     "output_type": "execute_result"
    }
   ],
   "source": [
    "df = pd.read_csv(\"Data/Leading_Causes_of_Death.csv\")\n",
    "\n",
    "print(df.shape)\n",
    "df.head()"
   ]
  },
  {
   "cell_type": "code",
   "execution_count": 3,
   "metadata": {},
   "outputs": [
    {
     "data": {
      "text/plain": [
       "Year                         int64\n",
       "Death_Cause_Name            object\n",
       "113_Cause_Name              object\n",
       "State                       object\n",
       "Deaths                       int64\n",
       "Age-Adjusted Death Rate    float64\n",
       "dtype: object"
      ]
     },
     "execution_count": 3,
     "metadata": {},
     "output_type": "execute_result"
    }
   ],
   "source": [
    "df.dtypes"
   ]
  },
  {
   "cell_type": "markdown",
   "metadata": {},
   "source": [
    "# Q3.1:  In 2017, what were the Top 5 leading causes of death in the US? "
   ]
  },
  {
   "cell_type": "code",
   "execution_count": 8,
   "metadata": {},
   "outputs": [
    {
     "name": "stdout",
     "output_type": "stream",
     "text": [
      "Ex 2.4 Part 3: In 2017, what were the Top 5 leading causes of death in the US? \n",
      "(5, 6)\n"
     ]
    },
    {
     "name": "stderr",
     "output_type": "stream",
     "text": [
      "C:\\Users\\W10\\AppData\\Local\\Temp\\ipykernel_4344\\3164045932.py:2: SettingWithCopyWarning: \n",
      "A value is trying to be set on a copy of a slice from a DataFrame\n",
      "\n",
      "See the caveats in the documentation: https://pandas.pydata.org/pandas-docs/stable/user_guide/indexing.html#returning-a-view-versus-a-copy\n",
      "  df_Q1.drop_duplicates(subset='Death_Cause_Name', inplace=True)\n",
      "C:\\Users\\W10\\AppData\\Local\\Temp\\ipykernel_4344\\3164045932.py:3: SettingWithCopyWarning: \n",
      "A value is trying to be set on a copy of a slice from a DataFrame\n",
      "\n",
      "See the caveats in the documentation: https://pandas.pydata.org/pandas-docs/stable/user_guide/indexing.html#returning-a-view-versus-a-copy\n",
      "  df_Q1.sort_values(by='Deaths', ascending=False, inplace=True)\n"
     ]
    },
    {
     "data": {
      "text/html": [
       "<div>\n",
       "<style scoped>\n",
       "    .dataframe tbody tr th:only-of-type {\n",
       "        vertical-align: middle;\n",
       "    }\n",
       "\n",
       "    .dataframe tbody tr th {\n",
       "        vertical-align: top;\n",
       "    }\n",
       "\n",
       "    .dataframe thead th {\n",
       "        text-align: right;\n",
       "    }\n",
       "</style>\n",
       "<table border=\"1\" class=\"dataframe\">\n",
       "  <thead>\n",
       "    <tr style=\"text-align: right;\">\n",
       "      <th></th>\n",
       "      <th>Year</th>\n",
       "      <th>Death_Cause_Name</th>\n",
       "      <th>113_Cause_Name</th>\n",
       "      <th>State</th>\n",
       "      <th>Deaths</th>\n",
       "      <th>Age-Adjusted Death Rate</th>\n",
       "    </tr>\n",
       "  </thead>\n",
       "  <tbody>\n",
       "    <tr>\n",
       "      <th>312</th>\n",
       "      <td>2017</td>\n",
       "      <td>Heart disease</td>\n",
       "      <td>Diseases of heart (I00-I09,I11,I13,I20-I51)</td>\n",
       "      <td>United States</td>\n",
       "      <td>647457</td>\n",
       "      <td>165.0</td>\n",
       "    </tr>\n",
       "    <tr>\n",
       "      <th>468</th>\n",
       "      <td>2017</td>\n",
       "      <td>Cancer</td>\n",
       "      <td>Malignant neoplasms (C00-C97)</td>\n",
       "      <td>United States</td>\n",
       "      <td>599108</td>\n",
       "      <td>152.5</td>\n",
       "    </tr>\n",
       "    <tr>\n",
       "      <th>0</th>\n",
       "      <td>2017</td>\n",
       "      <td>Unintentional injuries</td>\n",
       "      <td>Accidents (unintentional injuries) (V01-X59,Y8...</td>\n",
       "      <td>United States</td>\n",
       "      <td>169936</td>\n",
       "      <td>49.4</td>\n",
       "    </tr>\n",
       "    <tr>\n",
       "      <th>208</th>\n",
       "      <td>2017</td>\n",
       "      <td>CLRD</td>\n",
       "      <td>Chronic lower respiratory diseases (J40-J47)</td>\n",
       "      <td>United States</td>\n",
       "      <td>160201</td>\n",
       "      <td>40.9</td>\n",
       "    </tr>\n",
       "    <tr>\n",
       "      <th>156</th>\n",
       "      <td>2017</td>\n",
       "      <td>Stroke</td>\n",
       "      <td>Cerebrovascular diseases (I60-I69)</td>\n",
       "      <td>United States</td>\n",
       "      <td>146383</td>\n",
       "      <td>37.6</td>\n",
       "    </tr>\n",
       "  </tbody>\n",
       "</table>\n",
       "</div>"
      ],
      "text/plain": [
       "     Year        Death_Cause_Name  \\\n",
       "312  2017           Heart disease   \n",
       "468  2017                  Cancer   \n",
       "0    2017  Unintentional injuries   \n",
       "208  2017                    CLRD   \n",
       "156  2017                  Stroke   \n",
       "\n",
       "                                        113_Cause_Name          State  Deaths  \\\n",
       "312        Diseases of heart (I00-I09,I11,I13,I20-I51)  United States  647457   \n",
       "468                      Malignant neoplasms (C00-C97)  United States  599108   \n",
       "0    Accidents (unintentional injuries) (V01-X59,Y8...  United States  169936   \n",
       "208       Chronic lower respiratory diseases (J40-J47)  United States  160201   \n",
       "156                 Cerebrovascular diseases (I60-I69)  United States  146383   \n",
       "\n",
       "     Age-Adjusted Death Rate  \n",
       "312                    165.0  \n",
       "468                    152.5  \n",
       "0                       49.4  \n",
       "208                     40.9  \n",
       "156                     37.6  "
      ]
     },
     "execution_count": 8,
     "metadata": {},
     "output_type": "execute_result"
    }
   ],
   "source": [
    "df_Q1 = df.query(\"Year == 2017 and State == 'United States' and Death_Cause_Name != 'All causes'\")\n",
    "df_Q1.drop_duplicates(subset='Death_Cause_Name', inplace=True)\n",
    "df_Q1.sort_values(by='Deaths', ascending=False, inplace=True)\n",
    "\n",
    "print(\"Ex 2.4 Part 3: In 2017, what were the Top 5 leading causes of death in the US? \")\n",
    "df_TopN = df_Q1.iloc[ : 5]\n",
    "\n",
    "print(df_TopN.shape)\n",
    "df_TopN"
   ]
  },
  {
   "cell_type": "code",
   "execution_count": null,
   "metadata": {},
   "outputs": [],
   "source": []
  }
 ],
 "metadata": {
  "kernelspec": {
   "display_name": "Python 3.9.12",
   "language": "python",
   "name": "python3"
  },
  "language_info": {
   "codemirror_mode": {
    "name": "ipython",
    "version": 3
   },
   "file_extension": ".py",
   "mimetype": "text/x-python",
   "name": "python",
   "nbconvert_exporter": "python",
   "pygments_lexer": "ipython3",
   "version": "3.9.12"
  },
  "vscode": {
   "interpreter": {
    "hash": "0ccba871b46202fe891a5da8f1fa45061240964d317113191dbecc63a04b0fa2"
   }
  }
 },
 "nbformat": 4,
 "nbformat_minor": 4
}
