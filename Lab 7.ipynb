{
 "cells": [
  {
   "cell_type": "markdown",
   "id": "departmental-republic",
   "metadata": {},
   "source": [
    "# Lab 7 \n"
   ]
  },
  {
   "cell_type": "code",
   "execution_count": 31,
   "id": "academic-spine",
   "metadata": {},
   "outputs": [],
   "source": [
    "import pandas as pd"
   ]
  },
  {
   "cell_type": "markdown",
   "id": "f46ebede-a740-4d59-9e63-82a6cc69559d",
   "metadata": {},
   "source": [
    "# 1. Read data "
   ]
  },
  {
   "cell_type": "code",
   "execution_count": 32,
   "id": "d279b8e5-8583-475e-828c-a961450b420d",
   "metadata": {},
   "outputs": [
    {
     "name": "stdout",
     "output_type": "stream",
     "text": [
      "(4, 6)\n"
     ]
    },
    {
     "data": {
      "text/html": [
       "<div>\n",
       "<style scoped>\n",
       "    .dataframe tbody tr th:only-of-type {\n",
       "        vertical-align: middle;\n",
       "    }\n",
       "\n",
       "    .dataframe tbody tr th {\n",
       "        vertical-align: top;\n",
       "    }\n",
       "\n",
       "    .dataframe thead th {\n",
       "        text-align: right;\n",
       "    }\n",
       "</style>\n",
       "<table border=\"1\" class=\"dataframe\">\n",
       "  <thead>\n",
       "    <tr style=\"text-align: right;\">\n",
       "      <th></th>\n",
       "      <th>BusinessEntityID</th>\n",
       "      <th>EmployeeName</th>\n",
       "      <th>EmailAddress</th>\n",
       "      <th>PhoneNumber</th>\n",
       "      <th>StartDate</th>\n",
       "      <th>CurrentSalary</th>\n",
       "    </tr>\n",
       "  </thead>\n",
       "  <tbody>\n",
       "    <tr>\n",
       "      <th>0</th>\n",
       "      <td>01699</td>\n",
       "      <td>Robinett, David</td>\n",
       "      <td>david22@adventure-works.com</td>\n",
       "      <td>(827) 525-0100</td>\n",
       "      <td>06-05-2010</td>\n",
       "      <td>80950</td>\n",
       "    </tr>\n",
       "    <tr>\n",
       "      <th>1</th>\n",
       "      <td>01700</td>\n",
       "      <td>Robinson, Rebecca</td>\n",
       "      <td>rebecca5 @adventure-works.com</td>\n",
       "      <td>(829) 525-0101</td>\n",
       "      <td>05-01-2015</td>\n",
       "      <td>70950</td>\n",
       "    </tr>\n",
       "    <tr>\n",
       "      <th>2</th>\n",
       "      <td>01701</td>\n",
       "      <td>Robinson, Dorothy</td>\n",
       "      <td>dorothy3@adventure-works.com</td>\n",
       "      <td>(828) 555-0102</td>\n",
       "      <td>03-01-2017</td>\n",
       "      <td>na</td>\n",
       "    </tr>\n",
       "    <tr>\n",
       "      <th>3</th>\n",
       "      <td>01702</td>\n",
       "      <td>Clapper, Dan</td>\n",
       "      <td>clapper@adventure-works.com</td>\n",
       "      <td>(828) 555-0102</td>\n",
       "      <td>03-01-2017</td>\n",
       "      <td>None</td>\n",
       "    </tr>\n",
       "  </tbody>\n",
       "</table>\n",
       "</div>"
      ],
      "text/plain": [
       "  BusinessEntityID       EmployeeName                   EmailAddress  \\\n",
       "0            01699    Robinett, David    david22@adventure-works.com   \n",
       "1            01700  Robinson, Rebecca  rebecca5 @adventure-works.com   \n",
       "2            01701  Robinson, Dorothy   dorothy3@adventure-works.com   \n",
       "3            01702       Clapper, Dan    clapper@adventure-works.com   \n",
       "\n",
       "      PhoneNumber   StartDate CurrentSalary  \n",
       "0  (827) 525-0100  06-05-2010         80950  \n",
       "1  (829) 525-0101  05-01-2015         70950  \n",
       "2  (828) 555-0102  03-01-2017            na  \n",
       "3  (828) 555-0102  03-01-2017          None  "
      ]
     },
     "execution_count": 32,
     "metadata": {},
     "output_type": "execute_result"
    }
   ],
   "source": [
    "df = pd.read_csv(\"Data/Lab_7_P1_Data.csv\", dtype={'BusinessEntityID':str})\n",
    "\n",
    "print(df.shape)\n",
    "df.head()"
   ]
  },
  {
   "cell_type": "code",
   "execution_count": 33,
   "id": "large-inspection",
   "metadata": {},
   "outputs": [
    {
     "data": {
      "text/plain": [
       "BusinessEntityID    object\n",
       "EmployeeName        object\n",
       "EmailAddress        object\n",
       "PhoneNumber         object\n",
       "StartDate           object\n",
       "CurrentSalary       object\n",
       "dtype: object"
      ]
     },
     "execution_count": 33,
     "metadata": {},
     "output_type": "execute_result"
    }
   ],
   "source": [
    "df.dtypes"
   ]
  },
  {
   "cell_type": "markdown",
   "id": "b5e38edb-c9ba-4c58-b1d4-ae4d176e9427",
   "metadata": {},
   "source": [
    "# 2. Split columns"
   ]
  },
  {
   "cell_type": "code",
   "execution_count": 34,
   "id": "2f0c01ea-6f60-4886-9a73-673a465f259b",
   "metadata": {},
   "outputs": [
    {
     "name": "stdout",
     "output_type": "stream",
     "text": [
      "(4, 8)\n"
     ]
    },
    {
     "data": {
      "text/html": [
       "<div>\n",
       "<style scoped>\n",
       "    .dataframe tbody tr th:only-of-type {\n",
       "        vertical-align: middle;\n",
       "    }\n",
       "\n",
       "    .dataframe tbody tr th {\n",
       "        vertical-align: top;\n",
       "    }\n",
       "\n",
       "    .dataframe thead th {\n",
       "        text-align: right;\n",
       "    }\n",
       "</style>\n",
       "<table border=\"1\" class=\"dataframe\">\n",
       "  <thead>\n",
       "    <tr style=\"text-align: right;\">\n",
       "      <th></th>\n",
       "      <th>BusinessEntityID</th>\n",
       "      <th>EmployeeName</th>\n",
       "      <th>EmailAddress</th>\n",
       "      <th>PhoneNumber</th>\n",
       "      <th>StartDate</th>\n",
       "      <th>CurrentSalary</th>\n",
       "      <th>Last_Name</th>\n",
       "      <th>First_Name</th>\n",
       "    </tr>\n",
       "  </thead>\n",
       "  <tbody>\n",
       "    <tr>\n",
       "      <th>0</th>\n",
       "      <td>01699</td>\n",
       "      <td>Robinett, David</td>\n",
       "      <td>david22@adventure-works.com</td>\n",
       "      <td>(827) 525-0100</td>\n",
       "      <td>06-05-2010</td>\n",
       "      <td>80950</td>\n",
       "      <td>Robinett</td>\n",
       "      <td>David</td>\n",
       "    </tr>\n",
       "    <tr>\n",
       "      <th>1</th>\n",
       "      <td>01700</td>\n",
       "      <td>Robinson, Rebecca</td>\n",
       "      <td>rebecca5 @adventure-works.com</td>\n",
       "      <td>(829) 525-0101</td>\n",
       "      <td>05-01-2015</td>\n",
       "      <td>70950</td>\n",
       "      <td>Robinson</td>\n",
       "      <td>Rebecca</td>\n",
       "    </tr>\n",
       "    <tr>\n",
       "      <th>2</th>\n",
       "      <td>01701</td>\n",
       "      <td>Robinson, Dorothy</td>\n",
       "      <td>dorothy3@adventure-works.com</td>\n",
       "      <td>(828) 555-0102</td>\n",
       "      <td>03-01-2017</td>\n",
       "      <td>na</td>\n",
       "      <td>Robinson</td>\n",
       "      <td>Dorothy</td>\n",
       "    </tr>\n",
       "    <tr>\n",
       "      <th>3</th>\n",
       "      <td>01702</td>\n",
       "      <td>Clapper, Dan</td>\n",
       "      <td>clapper@adventure-works.com</td>\n",
       "      <td>(828) 555-0102</td>\n",
       "      <td>03-01-2017</td>\n",
       "      <td>None</td>\n",
       "      <td>Clapper</td>\n",
       "      <td>Dan</td>\n",
       "    </tr>\n",
       "  </tbody>\n",
       "</table>\n",
       "</div>"
      ],
      "text/plain": [
       "  BusinessEntityID       EmployeeName                   EmailAddress  \\\n",
       "0            01699    Robinett, David    david22@adventure-works.com   \n",
       "1            01700  Robinson, Rebecca  rebecca5 @adventure-works.com   \n",
       "2            01701  Robinson, Dorothy   dorothy3@adventure-works.com   \n",
       "3            01702       Clapper, Dan    clapper@adventure-works.com   \n",
       "\n",
       "      PhoneNumber   StartDate CurrentSalary Last_Name First_Name  \n",
       "0  (827) 525-0100  06-05-2010         80950  Robinett      David  \n",
       "1  (829) 525-0101  05-01-2015         70950  Robinson    Rebecca  \n",
       "2  (828) 555-0102  03-01-2017            na  Robinson    Dorothy  \n",
       "3  (828) 555-0102  03-01-2017          None   Clapper        Dan  "
      ]
     },
     "execution_count": 34,
     "metadata": {},
     "output_type": "execute_result"
    }
   ],
   "source": [
    "two_new_cols = ['Last_Name', 'First_Name']\n",
    "\n",
    "df[two_new_cols] = df['EmployeeName'].str.split(',',1, expand=True)\n",
    "\n",
    "print(df.shape)\n",
    "df.head()"
   ]
  },
  {
   "cell_type": "code",
   "execution_count": 35,
   "id": "3cfeec9d",
   "metadata": {},
   "outputs": [
    {
     "name": "stdout",
     "output_type": "stream",
     "text": [
      "(4, 10)\n"
     ]
    },
    {
     "data": {
      "text/html": [
       "<div>\n",
       "<style scoped>\n",
       "    .dataframe tbody tr th:only-of-type {\n",
       "        vertical-align: middle;\n",
       "    }\n",
       "\n",
       "    .dataframe tbody tr th {\n",
       "        vertical-align: top;\n",
       "    }\n",
       "\n",
       "    .dataframe thead th {\n",
       "        text-align: right;\n",
       "    }\n",
       "</style>\n",
       "<table border=\"1\" class=\"dataframe\">\n",
       "  <thead>\n",
       "    <tr style=\"text-align: right;\">\n",
       "      <th></th>\n",
       "      <th>BusinessEntityID</th>\n",
       "      <th>EmployeeName</th>\n",
       "      <th>EmailAddress</th>\n",
       "      <th>PhoneNumber</th>\n",
       "      <th>StartDate</th>\n",
       "      <th>CurrentSalary</th>\n",
       "      <th>Last_Name</th>\n",
       "      <th>First_Name</th>\n",
       "      <th>AreaCode</th>\n",
       "      <th>Delete1</th>\n",
       "    </tr>\n",
       "  </thead>\n",
       "  <tbody>\n",
       "    <tr>\n",
       "      <th>0</th>\n",
       "      <td>01699</td>\n",
       "      <td>Robinett, David</td>\n",
       "      <td>david22@adventure-works.com</td>\n",
       "      <td>(827) 525-0100</td>\n",
       "      <td>06-05-2010</td>\n",
       "      <td>80950</td>\n",
       "      <td>Robinett</td>\n",
       "      <td>David</td>\n",
       "      <td>(827</td>\n",
       "      <td>525-0100</td>\n",
       "    </tr>\n",
       "    <tr>\n",
       "      <th>1</th>\n",
       "      <td>01700</td>\n",
       "      <td>Robinson, Rebecca</td>\n",
       "      <td>rebecca5 @adventure-works.com</td>\n",
       "      <td>(829) 525-0101</td>\n",
       "      <td>05-01-2015</td>\n",
       "      <td>70950</td>\n",
       "      <td>Robinson</td>\n",
       "      <td>Rebecca</td>\n",
       "      <td>(829</td>\n",
       "      <td>525-0101</td>\n",
       "    </tr>\n",
       "    <tr>\n",
       "      <th>2</th>\n",
       "      <td>01701</td>\n",
       "      <td>Robinson, Dorothy</td>\n",
       "      <td>dorothy3@adventure-works.com</td>\n",
       "      <td>(828) 555-0102</td>\n",
       "      <td>03-01-2017</td>\n",
       "      <td>na</td>\n",
       "      <td>Robinson</td>\n",
       "      <td>Dorothy</td>\n",
       "      <td>(828</td>\n",
       "      <td>555-0102</td>\n",
       "    </tr>\n",
       "    <tr>\n",
       "      <th>3</th>\n",
       "      <td>01702</td>\n",
       "      <td>Clapper, Dan</td>\n",
       "      <td>clapper@adventure-works.com</td>\n",
       "      <td>(828) 555-0102</td>\n",
       "      <td>03-01-2017</td>\n",
       "      <td>None</td>\n",
       "      <td>Clapper</td>\n",
       "      <td>Dan</td>\n",
       "      <td>(828</td>\n",
       "      <td>555-0102</td>\n",
       "    </tr>\n",
       "  </tbody>\n",
       "</table>\n",
       "</div>"
      ],
      "text/plain": [
       "  BusinessEntityID       EmployeeName                   EmailAddress  \\\n",
       "0            01699    Robinett, David    david22@adventure-works.com   \n",
       "1            01700  Robinson, Rebecca  rebecca5 @adventure-works.com   \n",
       "2            01701  Robinson, Dorothy   dorothy3@adventure-works.com   \n",
       "3            01702       Clapper, Dan    clapper@adventure-works.com   \n",
       "\n",
       "      PhoneNumber   StartDate CurrentSalary Last_Name First_Name AreaCode  \\\n",
       "0  (827) 525-0100  06-05-2010         80950  Robinett      David     (827   \n",
       "1  (829) 525-0101  05-01-2015         70950  Robinson    Rebecca     (829   \n",
       "2  (828) 555-0102  03-01-2017            na  Robinson    Dorothy     (828   \n",
       "3  (828) 555-0102  03-01-2017          None   Clapper        Dan     (828   \n",
       "\n",
       "     Delete1  \n",
       "0   525-0100  \n",
       "1   525-0101  \n",
       "2   555-0102  \n",
       "3   555-0102  "
      ]
     },
     "execution_count": 35,
     "metadata": {},
     "output_type": "execute_result"
    }
   ],
   "source": [
    "two_new_cols = ['AreaCode', 'Delete1']\n",
    "\n",
    "df[two_new_cols] = df['PhoneNumber'].str.split(')',1, expand=True)\n",
    "\n",
    "print(df.shape)\n",
    "df.head()"
   ]
  },
  {
   "cell_type": "code",
   "execution_count": 36,
   "id": "5a374406",
   "metadata": {},
   "outputs": [
    {
     "name": "stdout",
     "output_type": "stream",
     "text": [
      "(4, 12)\n"
     ]
    },
    {
     "data": {
      "text/html": [
       "<div>\n",
       "<style scoped>\n",
       "    .dataframe tbody tr th:only-of-type {\n",
       "        vertical-align: middle;\n",
       "    }\n",
       "\n",
       "    .dataframe tbody tr th {\n",
       "        vertical-align: top;\n",
       "    }\n",
       "\n",
       "    .dataframe thead th {\n",
       "        text-align: right;\n",
       "    }\n",
       "</style>\n",
       "<table border=\"1\" class=\"dataframe\">\n",
       "  <thead>\n",
       "    <tr style=\"text-align: right;\">\n",
       "      <th></th>\n",
       "      <th>BusinessEntityID</th>\n",
       "      <th>EmployeeName</th>\n",
       "      <th>EmailAddress</th>\n",
       "      <th>PhoneNumber</th>\n",
       "      <th>StartDate</th>\n",
       "      <th>CurrentSalary</th>\n",
       "      <th>Last_Name</th>\n",
       "      <th>First_Name</th>\n",
       "      <th>AreaCode</th>\n",
       "      <th>Delete1</th>\n",
       "      <th>Delete2</th>\n",
       "      <th>Area_Code</th>\n",
       "    </tr>\n",
       "  </thead>\n",
       "  <tbody>\n",
       "    <tr>\n",
       "      <th>0</th>\n",
       "      <td>01699</td>\n",
       "      <td>Robinett, David</td>\n",
       "      <td>david22@adventure-works.com</td>\n",
       "      <td>(827) 525-0100</td>\n",
       "      <td>06-05-2010</td>\n",
       "      <td>80950</td>\n",
       "      <td>Robinett</td>\n",
       "      <td>David</td>\n",
       "      <td>(827</td>\n",
       "      <td>525-0100</td>\n",
       "      <td></td>\n",
       "      <td>827</td>\n",
       "    </tr>\n",
       "    <tr>\n",
       "      <th>1</th>\n",
       "      <td>01700</td>\n",
       "      <td>Robinson, Rebecca</td>\n",
       "      <td>rebecca5 @adventure-works.com</td>\n",
       "      <td>(829) 525-0101</td>\n",
       "      <td>05-01-2015</td>\n",
       "      <td>70950</td>\n",
       "      <td>Robinson</td>\n",
       "      <td>Rebecca</td>\n",
       "      <td>(829</td>\n",
       "      <td>525-0101</td>\n",
       "      <td></td>\n",
       "      <td>829</td>\n",
       "    </tr>\n",
       "    <tr>\n",
       "      <th>2</th>\n",
       "      <td>01701</td>\n",
       "      <td>Robinson, Dorothy</td>\n",
       "      <td>dorothy3@adventure-works.com</td>\n",
       "      <td>(828) 555-0102</td>\n",
       "      <td>03-01-2017</td>\n",
       "      <td>na</td>\n",
       "      <td>Robinson</td>\n",
       "      <td>Dorothy</td>\n",
       "      <td>(828</td>\n",
       "      <td>555-0102</td>\n",
       "      <td></td>\n",
       "      <td>828</td>\n",
       "    </tr>\n",
       "    <tr>\n",
       "      <th>3</th>\n",
       "      <td>01702</td>\n",
       "      <td>Clapper, Dan</td>\n",
       "      <td>clapper@adventure-works.com</td>\n",
       "      <td>(828) 555-0102</td>\n",
       "      <td>03-01-2017</td>\n",
       "      <td>None</td>\n",
       "      <td>Clapper</td>\n",
       "      <td>Dan</td>\n",
       "      <td>(828</td>\n",
       "      <td>555-0102</td>\n",
       "      <td></td>\n",
       "      <td>828</td>\n",
       "    </tr>\n",
       "  </tbody>\n",
       "</table>\n",
       "</div>"
      ],
      "text/plain": [
       "  BusinessEntityID       EmployeeName                   EmailAddress  \\\n",
       "0            01699    Robinett, David    david22@adventure-works.com   \n",
       "1            01700  Robinson, Rebecca  rebecca5 @adventure-works.com   \n",
       "2            01701  Robinson, Dorothy   dorothy3@adventure-works.com   \n",
       "3            01702       Clapper, Dan    clapper@adventure-works.com   \n",
       "\n",
       "      PhoneNumber   StartDate CurrentSalary Last_Name First_Name AreaCode  \\\n",
       "0  (827) 525-0100  06-05-2010         80950  Robinett      David     (827   \n",
       "1  (829) 525-0101  05-01-2015         70950  Robinson    Rebecca     (829   \n",
       "2  (828) 555-0102  03-01-2017            na  Robinson    Dorothy     (828   \n",
       "3  (828) 555-0102  03-01-2017          None   Clapper        Dan     (828   \n",
       "\n",
       "     Delete1 Delete2 Area_Code  \n",
       "0   525-0100               827  \n",
       "1   525-0101               829  \n",
       "2   555-0102               828  \n",
       "3   555-0102               828  "
      ]
     },
     "execution_count": 36,
     "metadata": {},
     "output_type": "execute_result"
    }
   ],
   "source": [
    "two_new_cols = ['Delete2', 'Area_Code']\n",
    "\n",
    "df[two_new_cols] = df['AreaCode'].str.split('(',1, expand=True)\n",
    "\n",
    "print(df.shape)\n",
    "df.head()"
   ]
  },
  {
   "cell_type": "markdown",
   "id": "ebf56d8e",
   "metadata": {},
   "source": [
    "# 3. Drop columns"
   ]
  },
  {
   "cell_type": "code",
   "execution_count": 37,
   "id": "2f1e7c21",
   "metadata": {},
   "outputs": [
    {
     "data": {
      "text/html": [
       "<div>\n",
       "<style scoped>\n",
       "    .dataframe tbody tr th:only-of-type {\n",
       "        vertical-align: middle;\n",
       "    }\n",
       "\n",
       "    .dataframe tbody tr th {\n",
       "        vertical-align: top;\n",
       "    }\n",
       "\n",
       "    .dataframe thead th {\n",
       "        text-align: right;\n",
       "    }\n",
       "</style>\n",
       "<table border=\"1\" class=\"dataframe\">\n",
       "  <thead>\n",
       "    <tr style=\"text-align: right;\">\n",
       "      <th></th>\n",
       "      <th>BusinessEntityID</th>\n",
       "      <th>StartDate</th>\n",
       "      <th>CurrentSalary</th>\n",
       "      <th>Last_Name</th>\n",
       "      <th>First_Name</th>\n",
       "      <th>Area_Code</th>\n",
       "    </tr>\n",
       "  </thead>\n",
       "  <tbody>\n",
       "    <tr>\n",
       "      <th>0</th>\n",
       "      <td>01699</td>\n",
       "      <td>06-05-2010</td>\n",
       "      <td>80950</td>\n",
       "      <td>Robinett</td>\n",
       "      <td>David</td>\n",
       "      <td>827</td>\n",
       "    </tr>\n",
       "    <tr>\n",
       "      <th>1</th>\n",
       "      <td>01700</td>\n",
       "      <td>05-01-2015</td>\n",
       "      <td>70950</td>\n",
       "      <td>Robinson</td>\n",
       "      <td>Rebecca</td>\n",
       "      <td>829</td>\n",
       "    </tr>\n",
       "    <tr>\n",
       "      <th>2</th>\n",
       "      <td>01701</td>\n",
       "      <td>03-01-2017</td>\n",
       "      <td>na</td>\n",
       "      <td>Robinson</td>\n",
       "      <td>Dorothy</td>\n",
       "      <td>828</td>\n",
       "    </tr>\n",
       "    <tr>\n",
       "      <th>3</th>\n",
       "      <td>01702</td>\n",
       "      <td>03-01-2017</td>\n",
       "      <td>None</td>\n",
       "      <td>Clapper</td>\n",
       "      <td>Dan</td>\n",
       "      <td>828</td>\n",
       "    </tr>\n",
       "  </tbody>\n",
       "</table>\n",
       "</div>"
      ],
      "text/plain": [
       "  BusinessEntityID   StartDate CurrentSalary Last_Name First_Name Area_Code\n",
       "0            01699  06-05-2010         80950  Robinett      David       827\n",
       "1            01700  05-01-2015         70950  Robinson    Rebecca       829\n",
       "2            01701  03-01-2017            na  Robinson    Dorothy       828\n",
       "3            01702  03-01-2017          None   Clapper        Dan       828"
      ]
     },
     "execution_count": 37,
     "metadata": {},
     "output_type": "execute_result"
    }
   ],
   "source": [
    "df.drop([\"EmployeeName\", \"EmailAddress\", \"PhoneNumber\", 'AreaCode', 'Delete1', 'Delete2'], axis='columns', inplace=True)\n",
    "df.head()"
   ]
  },
  {
   "cell_type": "markdown",
   "id": "1c08ab81-1ffa-42c5-a66d-3a63935d625a",
   "metadata": {},
   "source": [
    "# 4. Rename Columns"
   ]
  },
  {
   "cell_type": "code",
   "execution_count": 38,
   "id": "3687e17e-c397-4786-8807-4db99a27b52d",
   "metadata": {},
   "outputs": [
    {
     "name": "stdout",
     "output_type": "stream",
     "text": [
      "(4, 6)\n"
     ]
    },
    {
     "data": {
      "text/html": [
       "<div>\n",
       "<style scoped>\n",
       "    .dataframe tbody tr th:only-of-type {\n",
       "        vertical-align: middle;\n",
       "    }\n",
       "\n",
       "    .dataframe tbody tr th {\n",
       "        vertical-align: top;\n",
       "    }\n",
       "\n",
       "    .dataframe thead th {\n",
       "        text-align: right;\n",
       "    }\n",
       "</style>\n",
       "<table border=\"1\" class=\"dataframe\">\n",
       "  <thead>\n",
       "    <tr style=\"text-align: right;\">\n",
       "      <th></th>\n",
       "      <th>ID</th>\n",
       "      <th>Start_Date</th>\n",
       "      <th>Current_Salary</th>\n",
       "      <th>Last_Name</th>\n",
       "      <th>First_Name</th>\n",
       "      <th>Area_Code</th>\n",
       "    </tr>\n",
       "  </thead>\n",
       "  <tbody>\n",
       "    <tr>\n",
       "      <th>0</th>\n",
       "      <td>01699</td>\n",
       "      <td>06-05-2010</td>\n",
       "      <td>80950</td>\n",
       "      <td>Robinett</td>\n",
       "      <td>David</td>\n",
       "      <td>827</td>\n",
       "    </tr>\n",
       "    <tr>\n",
       "      <th>1</th>\n",
       "      <td>01700</td>\n",
       "      <td>05-01-2015</td>\n",
       "      <td>70950</td>\n",
       "      <td>Robinson</td>\n",
       "      <td>Rebecca</td>\n",
       "      <td>829</td>\n",
       "    </tr>\n",
       "    <tr>\n",
       "      <th>2</th>\n",
       "      <td>01701</td>\n",
       "      <td>03-01-2017</td>\n",
       "      <td>na</td>\n",
       "      <td>Robinson</td>\n",
       "      <td>Dorothy</td>\n",
       "      <td>828</td>\n",
       "    </tr>\n",
       "    <tr>\n",
       "      <th>3</th>\n",
       "      <td>01702</td>\n",
       "      <td>03-01-2017</td>\n",
       "      <td>None</td>\n",
       "      <td>Clapper</td>\n",
       "      <td>Dan</td>\n",
       "      <td>828</td>\n",
       "    </tr>\n",
       "  </tbody>\n",
       "</table>\n",
       "</div>"
      ],
      "text/plain": [
       "      ID  Start_Date Current_Salary Last_Name First_Name Area_Code\n",
       "0  01699  06-05-2010          80950  Robinett      David       827\n",
       "1  01700  05-01-2015          70950  Robinson    Rebecca       829\n",
       "2  01701  03-01-2017             na  Robinson    Dorothy       828\n",
       "3  01702  03-01-2017           None   Clapper        Dan       828"
      ]
     },
     "execution_count": 38,
     "metadata": {},
     "output_type": "execute_result"
    }
   ],
   "source": [
    "cols_to_rename = {\n",
    "                   'BusinessEntityID':'ID', \n",
    "                   'StartDate' : 'Start_Date', \n",
    "                   'CurrentSalary' : 'Current_Salary'\n",
    "                 }\n",
    "df.rename(columns = cols_to_rename, inplace=True)\n",
    "\n",
    "print(df.shape)\n",
    "df.head()"
   ]
  },
  {
   "cell_type": "markdown",
   "id": "75ebecbd",
   "metadata": {},
   "source": [
    "# 5. Changing data types"
   ]
  },
  {
   "cell_type": "code",
   "execution_count": 39,
   "id": "e7e93df6",
   "metadata": {},
   "outputs": [
    {
     "data": {
      "text/plain": [
       "ID                object\n",
       "Start_Date        object\n",
       "Current_Salary    object\n",
       "Last_Name         object\n",
       "First_Name        object\n",
       "Area_Code         object\n",
       "dtype: object"
      ]
     },
     "execution_count": 39,
     "metadata": {},
     "output_type": "execute_result"
    }
   ],
   "source": [
    "df.dtypes"
   ]
  },
  {
   "cell_type": "code",
   "execution_count": 40,
   "id": "610d9add",
   "metadata": {},
   "outputs": [],
   "source": [
    "df['Start_Date'] = pd.to_datetime(df['Start_Date'])"
   ]
  },
  {
   "cell_type": "code",
   "execution_count": 41,
   "id": "d81168b9",
   "metadata": {},
   "outputs": [],
   "source": [
    "df['Current_Salary'] = df['Current_Salary'].str.replace(\"na\", \"\")\n",
    "df['Current_Salary'] = df['Current_Salary'].str.replace(\"None\", \"\")\n",
    "\n",
    "df['Current_Salary'] = pd.to_numeric(df['Current_Salary']).astype(float)"
   ]
  },
  {
   "cell_type": "code",
   "execution_count": 42,
   "id": "ec867741",
   "metadata": {},
   "outputs": [
    {
     "data": {
      "text/plain": [
       "ID                        object\n",
       "Start_Date        datetime64[ns]\n",
       "Current_Salary           float64\n",
       "Last_Name                 object\n",
       "First_Name                object\n",
       "Area_Code                 object\n",
       "dtype: object"
      ]
     },
     "execution_count": 42,
     "metadata": {},
     "output_type": "execute_result"
    }
   ],
   "source": [
    "df.dtypes"
   ]
  },
  {
   "cell_type": "markdown",
   "id": "f3dd52ba",
   "metadata": {},
   "source": [
    "# 6. Reorder columns"
   ]
  },
  {
   "cell_type": "code",
   "execution_count": 44,
   "id": "2a932abb",
   "metadata": {},
   "outputs": [
    {
     "name": "stdout",
     "output_type": "stream",
     "text": [
      "Lab 7\n",
      "(4, 6)\n"
     ]
    },
    {
     "data": {
      "text/html": [
       "<div>\n",
       "<style scoped>\n",
       "    .dataframe tbody tr th:only-of-type {\n",
       "        vertical-align: middle;\n",
       "    }\n",
       "\n",
       "    .dataframe tbody tr th {\n",
       "        vertical-align: top;\n",
       "    }\n",
       "\n",
       "    .dataframe thead th {\n",
       "        text-align: right;\n",
       "    }\n",
       "</style>\n",
       "<table border=\"1\" class=\"dataframe\">\n",
       "  <thead>\n",
       "    <tr style=\"text-align: right;\">\n",
       "      <th></th>\n",
       "      <th>ID</th>\n",
       "      <th>Last_Name</th>\n",
       "      <th>First_Name</th>\n",
       "      <th>Current_Salary</th>\n",
       "      <th>Area_Code</th>\n",
       "      <th>Start_Date</th>\n",
       "    </tr>\n",
       "  </thead>\n",
       "  <tbody>\n",
       "    <tr>\n",
       "      <th>0</th>\n",
       "      <td>01699</td>\n",
       "      <td>Robinett</td>\n",
       "      <td>David</td>\n",
       "      <td>80950.0</td>\n",
       "      <td>827</td>\n",
       "      <td>2010-06-05</td>\n",
       "    </tr>\n",
       "    <tr>\n",
       "      <th>1</th>\n",
       "      <td>01700</td>\n",
       "      <td>Robinson</td>\n",
       "      <td>Rebecca</td>\n",
       "      <td>70950.0</td>\n",
       "      <td>829</td>\n",
       "      <td>2015-05-01</td>\n",
       "    </tr>\n",
       "    <tr>\n",
       "      <th>2</th>\n",
       "      <td>01701</td>\n",
       "      <td>Robinson</td>\n",
       "      <td>Dorothy</td>\n",
       "      <td>NaN</td>\n",
       "      <td>828</td>\n",
       "      <td>2017-03-01</td>\n",
       "    </tr>\n",
       "    <tr>\n",
       "      <th>3</th>\n",
       "      <td>01702</td>\n",
       "      <td>Clapper</td>\n",
       "      <td>Dan</td>\n",
       "      <td>NaN</td>\n",
       "      <td>828</td>\n",
       "      <td>2017-03-01</td>\n",
       "    </tr>\n",
       "  </tbody>\n",
       "</table>\n",
       "</div>"
      ],
      "text/plain": [
       "      ID Last_Name First_Name  Current_Salary Area_Code Start_Date\n",
       "0  01699  Robinett      David         80950.0       827 2010-06-05\n",
       "1  01700  Robinson    Rebecca         70950.0       829 2015-05-01\n",
       "2  01701  Robinson    Dorothy             NaN       828 2017-03-01\n",
       "3  01702   Clapper        Dan             NaN       828 2017-03-01"
      ]
     },
     "execution_count": 44,
     "metadata": {},
     "output_type": "execute_result"
    }
   ],
   "source": [
    "cols_to_keep = ['ID', 'Last_Name', 'First_Name', 'Current_Salary', 'Area_Code', 'Start_Date']\n",
    "df = df[cols_to_keep]\n",
    "\n",
    "print(\"Lab 7\")\n",
    "print(df.shape)\n",
    "df.head()"
   ]
  },
  {
   "cell_type": "code",
   "execution_count": 45,
   "id": "38fcf9f5",
   "metadata": {},
   "outputs": [
    {
     "data": {
      "text/plain": [
       "ID                        object\n",
       "Last_Name                 object\n",
       "First_Name                object\n",
       "Current_Salary           float64\n",
       "Area_Code                 object\n",
       "Start_Date        datetime64[ns]\n",
       "dtype: object"
      ]
     },
     "execution_count": 45,
     "metadata": {},
     "output_type": "execute_result"
    }
   ],
   "source": [
    "df.dtypes"
   ]
  }
 ],
 "metadata": {
  "kernelspec": {
   "display_name": "Python 3.9.12",
   "language": "python",
   "name": "python3"
  },
  "language_info": {
   "codemirror_mode": {
    "name": "ipython",
    "version": 3
   },
   "file_extension": ".py",
   "mimetype": "text/x-python",
   "name": "python",
   "nbconvert_exporter": "python",
   "pygments_lexer": "ipython3",
   "version": "3.9.12"
  },
  "vscode": {
   "interpreter": {
    "hash": "0ccba871b46202fe891a5da8f1fa45061240964d317113191dbecc63a04b0fa2"
   }
  }
 },
 "nbformat": 4,
 "nbformat_minor": 5
}
