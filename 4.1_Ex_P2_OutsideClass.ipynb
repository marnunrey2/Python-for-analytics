{
 "cells": [
  {
   "cell_type": "markdown",
   "metadata": {},
   "source": [
    "# Ex 4.1: Part 2 (Outside Class)"
   ]
  },
  {
   "cell_type": "code",
   "execution_count": 2,
   "metadata": {},
   "outputs": [],
   "source": [
    "import pandas as pd "
   ]
  },
  {
   "cell_type": "code",
   "execution_count": 3,
   "metadata": {},
   "outputs": [
    {
     "name": "stdout",
     "output_type": "stream",
     "text": [
      "(3, 6)\n"
     ]
    },
    {
     "data": {
      "text/html": [
       "<div>\n",
       "<style scoped>\n",
       "    .dataframe tbody tr th:only-of-type {\n",
       "        vertical-align: middle;\n",
       "    }\n",
       "\n",
       "    .dataframe tbody tr th {\n",
       "        vertical-align: top;\n",
       "    }\n",
       "\n",
       "    .dataframe thead th {\n",
       "        text-align: right;\n",
       "    }\n",
       "</style>\n",
       "<table border=\"1\" class=\"dataframe\">\n",
       "  <thead>\n",
       "    <tr style=\"text-align: right;\">\n",
       "      <th></th>\n",
       "      <th>BusinessEntityID</th>\n",
       "      <th>EmployeeName</th>\n",
       "      <th>EmailAddress</th>\n",
       "      <th>PhoneNumber</th>\n",
       "      <th>StartDate</th>\n",
       "      <th>CurrentSalary</th>\n",
       "    </tr>\n",
       "  </thead>\n",
       "  <tbody>\n",
       "    <tr>\n",
       "      <th>0</th>\n",
       "      <td>1699</td>\n",
       "      <td>Robinett, David</td>\n",
       "      <td>david22@adventure-works.com</td>\n",
       "      <td>(827) 525-0100</td>\n",
       "      <td>06-05-2010</td>\n",
       "      <td>$80,950</td>\n",
       "    </tr>\n",
       "    <tr>\n",
       "      <th>1</th>\n",
       "      <td>1700</td>\n",
       "      <td>Robinson, Rebecca</td>\n",
       "      <td>rebecca5 @adventure-works.com</td>\n",
       "      <td>(829) 525-0101</td>\n",
       "      <td>05-01-2015</td>\n",
       "      <td>$70,950</td>\n",
       "    </tr>\n",
       "    <tr>\n",
       "      <th>2</th>\n",
       "      <td>1701</td>\n",
       "      <td>Robinson, Dorothy</td>\n",
       "      <td>dorothy3@adventure-works.com</td>\n",
       "      <td>(828) 555-0102</td>\n",
       "      <td>03-01-2017</td>\n",
       "      <td>$50,00</td>\n",
       "    </tr>\n",
       "  </tbody>\n",
       "</table>\n",
       "</div>"
      ],
      "text/plain": [
       "   BusinessEntityID                EmployeeName  \\\n",
       "0              1699           Robinett, David     \n",
       "1              1700         Robinson, Rebecca     \n",
       "2              1701       Robinson, Dorothy       \n",
       "\n",
       "                         EmailAddress     PhoneNumber   StartDate  \\\n",
       "0       david22@adventure-works.com    (827) 525-0100  06-05-2010   \n",
       "1     rebecca5 @adventure-works.com    (829) 525-0101  05-01-2015   \n",
       "2    dorothy3@adventure-works.com      (828) 555-0102  03-01-2017   \n",
       "\n",
       "  CurrentSalary  \n",
       "0       $80,950  \n",
       "1       $70,950  \n",
       "2        $50,00  "
      ]
     },
     "execution_count": 3,
     "metadata": {},
     "output_type": "execute_result"
    }
   ],
   "source": [
    "# Hardcode a dataframe \n",
    "df_employees = pd.DataFrame( \n",
    "    [ \n",
    "    [1699,'  Robinett, David  ','  david22@adventure-works.com  ', '(827) 525-0100', '06-05-2010', '$80,950'],  \n",
    "    [1700,'  Robinson, Rebecca  ','  rebecca5 @adventure-works.com  ', '(829) 525-0101', '05-01-2015', '$70,950'], \n",
    "    [1701,'     Robinson, Dorothy    ','  dorothy3@adventure-works.com    ', '(828) 555-0102', '03-01-2017', '$50,00'], \n",
    "    ],  \n",
    "\n",
    "    columns=['BusinessEntityID', 'EmployeeName','EmailAddress', 'PhoneNumber', 'StartDate', 'CurrentSalary']\n",
    "    ) \n",
    " \n",
    "print(df_employees.shape)\n",
    "df_employees"
   ]
  },
  {
   "cell_type": "code",
   "execution_count": 4,
   "metadata": {},
   "outputs": [
    {
     "data": {
      "text/plain": [
       "BusinessEntityID     int64\n",
       "EmployeeName        object\n",
       "EmailAddress        object\n",
       "PhoneNumber         object\n",
       "StartDate           object\n",
       "CurrentSalary       object\n",
       "dtype: object"
      ]
     },
     "execution_count": 4,
     "metadata": {},
     "output_type": "execute_result"
    }
   ],
   "source": [
    "df_employees.dtypes"
   ]
  },
  {
   "cell_type": "markdown",
   "metadata": {},
   "source": [
    "# 1. Cleaning dataframe"
   ]
  },
  {
   "cell_type": "code",
   "execution_count": 5,
   "metadata": {},
   "outputs": [],
   "source": [
    "df_employees.drop(\"BusinessEntityID\", axis='columns', inplace=True)\n",
    "\n",
    "cols_to_rename = {\n",
    "                   'EmployeeName':'Employee_Name', \n",
    "                   'EmailAddress' : 'Employee_Email', \n",
    "                   'PhoneNumber' : 'Employee_Phone', \n",
    "                   'StartDate' : 'Employee_Start', \n",
    "                   'CurrentSalary' : 'Employee_Salary'\n",
    "                 }\n",
    "df_employees.rename(columns = cols_to_rename, inplace=True)"
   ]
  },
  {
   "cell_type": "code",
   "execution_count": 6,
   "metadata": {},
   "outputs": [
    {
     "name": "stderr",
     "output_type": "stream",
     "text": [
      "C:\\Users\\W10\\AppData\\Local\\Temp\\ipykernel_14720\\4191439950.py:1: FutureWarning: The default value of regex will change from True to False in a future version. In addition, single character regular expressions will *not* be treated as literal strings when regex=True.\n",
      "  df_employees['Employee_Salary'] = df_employees['Employee_Salary'].str.replace('$','')\n"
     ]
    }
   ],
   "source": [
    "df_employees['Employee_Salary'] = df_employees['Employee_Salary'].str.replace('$','')\n",
    "df_employees['Employee_Salary'] = df_employees['Employee_Salary'].str.replace(',','')\n",
    "\n",
    "df_employees['Employee_Salary'] = pd.to_numeric(df_employees['Employee_Salary']).astype(float)"
   ]
  },
  {
   "cell_type": "code",
   "execution_count": 7,
   "metadata": {},
   "outputs": [],
   "source": [
    "df_employees['Employee_Start'] = pd.to_datetime(df_employees['Employee_Start'])"
   ]
  },
  {
   "cell_type": "code",
   "execution_count": 8,
   "metadata": {},
   "outputs": [
    {
     "name": "stdout",
     "output_type": "stream",
     "text": [
      "Ex 4.1 Part 2: (3, 5)\n"
     ]
    },
    {
     "data": {
      "text/html": [
       "<div>\n",
       "<style scoped>\n",
       "    .dataframe tbody tr th:only-of-type {\n",
       "        vertical-align: middle;\n",
       "    }\n",
       "\n",
       "    .dataframe tbody tr th {\n",
       "        vertical-align: top;\n",
       "    }\n",
       "\n",
       "    .dataframe thead th {\n",
       "        text-align: right;\n",
       "    }\n",
       "</style>\n",
       "<table border=\"1\" class=\"dataframe\">\n",
       "  <thead>\n",
       "    <tr style=\"text-align: right;\">\n",
       "      <th></th>\n",
       "      <th>Employee_Name</th>\n",
       "      <th>Employee_Email</th>\n",
       "      <th>Employee_Phone</th>\n",
       "      <th>Employee_Start</th>\n",
       "      <th>Employee_Salary</th>\n",
       "    </tr>\n",
       "  </thead>\n",
       "  <tbody>\n",
       "    <tr>\n",
       "      <th>0</th>\n",
       "      <td>Robinett, David</td>\n",
       "      <td>david22@adventure-works.com</td>\n",
       "      <td>(827) 525-0100</td>\n",
       "      <td>2010-06-05</td>\n",
       "      <td>80950.0</td>\n",
       "    </tr>\n",
       "    <tr>\n",
       "      <th>1</th>\n",
       "      <td>Robinson, Rebecca</td>\n",
       "      <td>rebecca5 @adventure-works.com</td>\n",
       "      <td>(829) 525-0101</td>\n",
       "      <td>2015-05-01</td>\n",
       "      <td>70950.0</td>\n",
       "    </tr>\n",
       "    <tr>\n",
       "      <th>2</th>\n",
       "      <td>Robinson, Dorothy</td>\n",
       "      <td>dorothy3@adventure-works.com</td>\n",
       "      <td>(828) 555-0102</td>\n",
       "      <td>2017-03-01</td>\n",
       "      <td>5000.0</td>\n",
       "    </tr>\n",
       "  </tbody>\n",
       "</table>\n",
       "</div>"
      ],
      "text/plain": [
       "                Employee_Name                      Employee_Email  \\\n",
       "0           Robinett, David         david22@adventure-works.com     \n",
       "1         Robinson, Rebecca       rebecca5 @adventure-works.com     \n",
       "2       Robinson, Dorothy        dorothy3@adventure-works.com       \n",
       "\n",
       "   Employee_Phone Employee_Start  Employee_Salary  \n",
       "0  (827) 525-0100     2010-06-05          80950.0  \n",
       "1  (829) 525-0101     2015-05-01          70950.0  \n",
       "2  (828) 555-0102     2017-03-01           5000.0  "
      ]
     },
     "execution_count": 8,
     "metadata": {},
     "output_type": "execute_result"
    }
   ],
   "source": [
    "print(\"Ex 4.1 Part 2:\", df_employees.shape)\n",
    "df_employees.head()"
   ]
  },
  {
   "cell_type": "code",
   "execution_count": 9,
   "metadata": {},
   "outputs": [
    {
     "data": {
      "text/plain": [
       "Employee_Name              object\n",
       "Employee_Email             object\n",
       "Employee_Phone             object\n",
       "Employee_Start     datetime64[ns]\n",
       "Employee_Salary           float64\n",
       "dtype: object"
      ]
     },
     "execution_count": 9,
     "metadata": {},
     "output_type": "execute_result"
    }
   ],
   "source": [
    "df_employees.dtypes"
   ]
  }
 ],
 "metadata": {
  "kernelspec": {
   "display_name": "Python 3.9.12",
   "language": "python",
   "name": "python3"
  },
  "language_info": {
   "codemirror_mode": {
    "name": "ipython",
    "version": 3
   },
   "file_extension": ".py",
   "mimetype": "text/x-python",
   "name": "python",
   "nbconvert_exporter": "python",
   "pygments_lexer": "ipython3",
   "version": "3.9.12"
  },
  "vscode": {
   "interpreter": {
    "hash": "0ccba871b46202fe891a5da8f1fa45061240964d317113191dbecc63a04b0fa2"
   }
  }
 },
 "nbformat": 4,
 "nbformat_minor": 4
}
