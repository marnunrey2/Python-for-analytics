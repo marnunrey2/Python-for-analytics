{
 "cells": [
  {
   "cell_type": "markdown",
   "metadata": {},
   "source": [
    "# Demo 3.4 Formatting Bar Chart Labels    \n",
    "\n",
    "- **Adding Bar Labels**  \n",
    "- **Formatting Bar Labels:** \n",
    "  - [**Exact Numbers**:  ***f***](#Formatting-Bar-Labels:-Exact-Numbers-with-f-formats)      \n",
    "    - Commas\n",
    "    - Fixed Number of Decimal Places  \n",
    "    - Dollar Signs  \n",
    "    - Percentages  \n",
    "  - [**Rounded Numbers - Significant Digits**: ***s***](#Formatting-Bar-Labels:--Rounded-Numbers-(k-or-m)-with-s-formats)      \n",
    "    - k  \n",
    "    - m   \n"
   ]
  },
  {
   "cell_type": "code",
   "execution_count": 1,
   "metadata": {},
   "outputs": [],
   "source": [
    "import pandas as pd\n",
    "import plotly.express as px"
   ]
  },
  {
   "cell_type": "code",
   "execution_count": 3,
   "metadata": {},
   "outputs": [
    {
     "name": "stdout",
     "output_type": "stream",
     "text": [
      "(428, 13)\n"
     ]
    },
    {
     "data": {
      "text/html": [
       "<div>\n",
       "<style scoped>\n",
       "    .dataframe tbody tr th:only-of-type {\n",
       "        vertical-align: middle;\n",
       "    }\n",
       "\n",
       "    .dataframe tbody tr th {\n",
       "        vertical-align: top;\n",
       "    }\n",
       "\n",
       "    .dataframe thead th {\n",
       "        text-align: right;\n",
       "    }\n",
       "</style>\n",
       "<table border=\"1\" class=\"dataframe\">\n",
       "  <thead>\n",
       "    <tr style=\"text-align: right;\">\n",
       "      <th></th>\n",
       "      <th>Vehicle_Make</th>\n",
       "      <th>Vehicle_Model</th>\n",
       "      <th>Vehicle_Type</th>\n",
       "      <th>Manufacturing_Origin</th>\n",
       "      <th>MPG_City</th>\n",
       "      <th>MPG_Hwy</th>\n",
       "      <th>MSRP</th>\n",
       "      <th>Invoice</th>\n",
       "      <th>Weight</th>\n",
       "      <th>Wheelbase</th>\n",
       "      <th>DriveTrain</th>\n",
       "      <th>EngineSize</th>\n",
       "      <th>Horsepower</th>\n",
       "    </tr>\n",
       "  </thead>\n",
       "  <tbody>\n",
       "    <tr>\n",
       "      <th>0</th>\n",
       "      <td>Acura</td>\n",
       "      <td>MDX</td>\n",
       "      <td>SUV</td>\n",
       "      <td>Asia</td>\n",
       "      <td>17</td>\n",
       "      <td>23</td>\n",
       "      <td>36945</td>\n",
       "      <td>33337</td>\n",
       "      <td>4451</td>\n",
       "      <td>106</td>\n",
       "      <td>All</td>\n",
       "      <td>3.5</td>\n",
       "      <td>265</td>\n",
       "    </tr>\n",
       "    <tr>\n",
       "      <th>1</th>\n",
       "      <td>Acura</td>\n",
       "      <td>RSX Type S 2dr</td>\n",
       "      <td>Sedan</td>\n",
       "      <td>Asia</td>\n",
       "      <td>24</td>\n",
       "      <td>31</td>\n",
       "      <td>23820</td>\n",
       "      <td>21761</td>\n",
       "      <td>2778</td>\n",
       "      <td>101</td>\n",
       "      <td>Front</td>\n",
       "      <td>2.0</td>\n",
       "      <td>200</td>\n",
       "    </tr>\n",
       "    <tr>\n",
       "      <th>2</th>\n",
       "      <td>Acura</td>\n",
       "      <td>TSX 4dr</td>\n",
       "      <td>Sedan</td>\n",
       "      <td>Asia</td>\n",
       "      <td>22</td>\n",
       "      <td>29</td>\n",
       "      <td>26990</td>\n",
       "      <td>24647</td>\n",
       "      <td>3230</td>\n",
       "      <td>105</td>\n",
       "      <td>Front</td>\n",
       "      <td>2.4</td>\n",
       "      <td>200</td>\n",
       "    </tr>\n",
       "    <tr>\n",
       "      <th>3</th>\n",
       "      <td>Acura</td>\n",
       "      <td>TL 4dr</td>\n",
       "      <td>Sedan</td>\n",
       "      <td>Asia</td>\n",
       "      <td>20</td>\n",
       "      <td>28</td>\n",
       "      <td>33195</td>\n",
       "      <td>30299</td>\n",
       "      <td>3575</td>\n",
       "      <td>108</td>\n",
       "      <td>Front</td>\n",
       "      <td>3.2</td>\n",
       "      <td>270</td>\n",
       "    </tr>\n",
       "    <tr>\n",
       "      <th>4</th>\n",
       "      <td>Acura</td>\n",
       "      <td>3.5 RL 4dr</td>\n",
       "      <td>Sedan</td>\n",
       "      <td>Asia</td>\n",
       "      <td>18</td>\n",
       "      <td>24</td>\n",
       "      <td>43755</td>\n",
       "      <td>39014</td>\n",
       "      <td>3880</td>\n",
       "      <td>115</td>\n",
       "      <td>Front</td>\n",
       "      <td>3.5</td>\n",
       "      <td>225</td>\n",
       "    </tr>\n",
       "  </tbody>\n",
       "</table>\n",
       "</div>"
      ],
      "text/plain": [
       "  Vehicle_Make   Vehicle_Model Vehicle_Type Manufacturing_Origin  MPG_City  \\\n",
       "0        Acura             MDX          SUV                 Asia        17   \n",
       "1        Acura  RSX Type S 2dr        Sedan                 Asia        24   \n",
       "2        Acura         TSX 4dr        Sedan                 Asia        22   \n",
       "3        Acura          TL 4dr        Sedan                 Asia        20   \n",
       "4        Acura      3.5 RL 4dr        Sedan                 Asia        18   \n",
       "\n",
       "   MPG_Hwy   MSRP  Invoice  Weight  Wheelbase DriveTrain  EngineSize  \\\n",
       "0       23  36945    33337    4451        106        All         3.5   \n",
       "1       31  23820    21761    2778        101      Front         2.0   \n",
       "2       29  26990    24647    3230        105      Front         2.4   \n",
       "3       28  33195    30299    3575        108      Front         3.2   \n",
       "4       24  43755    39014    3880        115      Front         3.5   \n",
       "\n",
       "   Horsepower  \n",
       "0         265  \n",
       "1         200  \n",
       "2         200  \n",
       "3         270  \n",
       "4         225  "
      ]
     },
     "execution_count": 3,
     "metadata": {},
     "output_type": "execute_result"
    }
   ],
   "source": [
    "df = pd.read_csv(\"Data/Cars_Invoice_By_Type.csv\")\n",
    "\n",
    "print(df.shape)\n",
    "df.head()"
   ]
  },
  {
   "cell_type": "markdown",
   "metadata": {},
   "source": [
    "# Adding Bar Labels  \n",
    "- **text** - Sets the variable/column to use for the value of the Bar Label  "
   ]
  },
  {
   "cell_type": "code",
   "execution_count": 4,
   "metadata": {},
   "outputs": [
    {
     "ename": "ValueError",
     "evalue": "Value of 'x' is not the name of a column in 'data_frame'. Expected one of ['Vehicle_Make', 'Vehicle_Model', 'Vehicle_Type', 'Manufacturing_Origin', 'MPG_City', 'MPG_Hwy', 'MSRP', 'Invoice', 'Weight', 'Wheelbase', 'DriveTrain', 'EngineSize', 'Horsepower'] but received: Type",
     "output_type": "error",
     "traceback": [
      "\u001b[1;31m---------------------------------------------------------------------------\u001b[0m",
      "\u001b[1;31mValueError\u001b[0m                                Traceback (most recent call last)",
      "\u001b[1;32mc:\\Users\\W10\\WCU\\Python for analytics\\3.4_Demo_Formatting_BarLabels.ipynb Celda 5\u001b[0m in \u001b[0;36m<cell line: 1>\u001b[1;34m()\u001b[0m\n\u001b[1;32m----> <a href='vscode-notebook-cell:/c%3A/Users/W10/WCU/Python%20for%20analytics/3.4_Demo_Formatting_BarLabels.ipynb#W4sZmlsZQ%3D%3D?line=0'>1</a>\u001b[0m fig \u001b[39m=\u001b[39m px\u001b[39m.\u001b[39;49mbar(df, \n\u001b[0;32m      <a href='vscode-notebook-cell:/c%3A/Users/W10/WCU/Python%20for%20analytics/3.4_Demo_Formatting_BarLabels.ipynb#W4sZmlsZQ%3D%3D?line=1'>2</a>\u001b[0m              x\u001b[39m=\u001b[39;49m\u001b[39m'\u001b[39;49m\u001b[39mType\u001b[39;49m\u001b[39m'\u001b[39;49m,            \n\u001b[0;32m      <a href='vscode-notebook-cell:/c%3A/Users/W10/WCU/Python%20for%20analytics/3.4_Demo_Formatting_BarLabels.ipynb#W4sZmlsZQ%3D%3D?line=2'>3</a>\u001b[0m              y\u001b[39m=\u001b[39;49m\u001b[39m'\u001b[39;49m\u001b[39mInvoice\u001b[39;49m\u001b[39m'\u001b[39;49m,\n\u001b[0;32m      <a href='vscode-notebook-cell:/c%3A/Users/W10/WCU/Python%20for%20analytics/3.4_Demo_Formatting_BarLabels.ipynb#W4sZmlsZQ%3D%3D?line=3'>4</a>\u001b[0m              text\u001b[39m=\u001b[39;49m\u001b[39m'\u001b[39;49m\u001b[39mInvoice\u001b[39;49m\u001b[39m'\u001b[39;49m,  \u001b[39m# Field for the Bar Labels!\u001b[39;49;00m\n\u001b[0;32m      <a href='vscode-notebook-cell:/c%3A/Users/W10/WCU/Python%20for%20analytics/3.4_Demo_Formatting_BarLabels.ipynb#W4sZmlsZQ%3D%3D?line=4'>5</a>\u001b[0m              template\u001b[39m=\u001b[39;49m\u001b[39m'\u001b[39;49m\u001b[39mpresentation\u001b[39;49m\u001b[39m'\u001b[39;49m,\n\u001b[0;32m      <a href='vscode-notebook-cell:/c%3A/Users/W10/WCU/Python%20for%20analytics/3.4_Demo_Formatting_BarLabels.ipynb#W4sZmlsZQ%3D%3D?line=5'>6</a>\u001b[0m              title\u001b[39m=\u001b[39;49m\u001b[39m'\u001b[39;49m\u001b[39mUsing the text attribute to Add Bar Labels\u001b[39;49m\u001b[39m'\u001b[39;49m)\n\u001b[0;32m      <a href='vscode-notebook-cell:/c%3A/Users/W10/WCU/Python%20for%20analytics/3.4_Demo_Formatting_BarLabels.ipynb#W4sZmlsZQ%3D%3D?line=6'>7</a>\u001b[0m fig\u001b[39m.\u001b[39mshow()\n",
      "File \u001b[1;32mc:\\Users\\W10\\anaconda3\\envs\\Cis340_Fall_2022\\lib\\site-packages\\plotly\\express\\_chart_types.py:373\u001b[0m, in \u001b[0;36mbar\u001b[1;34m(data_frame, x, y, color, pattern_shape, facet_row, facet_col, facet_col_wrap, facet_row_spacing, facet_col_spacing, hover_name, hover_data, custom_data, text, base, error_x, error_x_minus, error_y, error_y_minus, animation_frame, animation_group, category_orders, labels, color_discrete_sequence, color_discrete_map, color_continuous_scale, pattern_shape_sequence, pattern_shape_map, range_color, color_continuous_midpoint, opacity, orientation, barmode, log_x, log_y, range_x, range_y, text_auto, title, template, width, height)\u001b[0m\n\u001b[0;32m    325\u001b[0m \u001b[39mdef\u001b[39;00m \u001b[39mbar\u001b[39m(\n\u001b[0;32m    326\u001b[0m     data_frame\u001b[39m=\u001b[39m\u001b[39mNone\u001b[39;00m,\n\u001b[0;32m    327\u001b[0m     x\u001b[39m=\u001b[39m\u001b[39mNone\u001b[39;00m,\n\u001b[1;32m   (...)\u001b[0m\n\u001b[0;32m    367\u001b[0m     height\u001b[39m=\u001b[39m\u001b[39mNone\u001b[39;00m,\n\u001b[0;32m    368\u001b[0m ) \u001b[39m-\u001b[39m\u001b[39m>\u001b[39m go\u001b[39m.\u001b[39mFigure:\n\u001b[0;32m    369\u001b[0m     \u001b[39m\"\"\"\u001b[39;00m\n\u001b[0;32m    370\u001b[0m \u001b[39m    In a bar plot, each row of `data_frame` is represented as a rectangular\u001b[39;00m\n\u001b[0;32m    371\u001b[0m \u001b[39m    mark.\u001b[39;00m\n\u001b[0;32m    372\u001b[0m \u001b[39m    \"\"\"\u001b[39;00m\n\u001b[1;32m--> 373\u001b[0m     \u001b[39mreturn\u001b[39;00m make_figure(\n\u001b[0;32m    374\u001b[0m         args\u001b[39m=\u001b[39;49m\u001b[39mlocals\u001b[39;49m(),\n\u001b[0;32m    375\u001b[0m         constructor\u001b[39m=\u001b[39;49mgo\u001b[39m.\u001b[39;49mBar,\n\u001b[0;32m    376\u001b[0m         trace_patch\u001b[39m=\u001b[39;49m\u001b[39mdict\u001b[39;49m(textposition\u001b[39m=\u001b[39;49m\u001b[39m\"\u001b[39;49m\u001b[39mauto\u001b[39;49m\u001b[39m\"\u001b[39;49m),\n\u001b[0;32m    377\u001b[0m         layout_patch\u001b[39m=\u001b[39;49m\u001b[39mdict\u001b[39;49m(barmode\u001b[39m=\u001b[39;49mbarmode),\n\u001b[0;32m    378\u001b[0m     )\n",
      "File \u001b[1;32mc:\\Users\\W10\\anaconda3\\envs\\Cis340_Fall_2022\\lib\\site-packages\\plotly\\express\\_core.py:1990\u001b[0m, in \u001b[0;36mmake_figure\u001b[1;34m(args, constructor, trace_patch, layout_patch)\u001b[0m\n\u001b[0;32m   1987\u001b[0m layout_patch \u001b[39m=\u001b[39m layout_patch \u001b[39mor\u001b[39;00m {}\n\u001b[0;32m   1988\u001b[0m apply_default_cascade(args)\n\u001b[1;32m-> 1990\u001b[0m args \u001b[39m=\u001b[39m build_dataframe(args, constructor)\n\u001b[0;32m   1991\u001b[0m \u001b[39mif\u001b[39;00m constructor \u001b[39min\u001b[39;00m [go\u001b[39m.\u001b[39mTreemap, go\u001b[39m.\u001b[39mSunburst, go\u001b[39m.\u001b[39mIcicle] \u001b[39mand\u001b[39;00m args[\u001b[39m\"\u001b[39m\u001b[39mpath\u001b[39m\u001b[39m\"\u001b[39m] \u001b[39mis\u001b[39;00m \u001b[39mnot\u001b[39;00m \u001b[39mNone\u001b[39;00m:\n\u001b[0;32m   1992\u001b[0m     args \u001b[39m=\u001b[39m process_dataframe_hierarchy(args)\n",
      "File \u001b[1;32mc:\\Users\\W10\\anaconda3\\envs\\Cis340_Fall_2022\\lib\\site-packages\\plotly\\express\\_core.py:1405\u001b[0m, in \u001b[0;36mbuild_dataframe\u001b[1;34m(args, constructor)\u001b[0m\n\u001b[0;32m   1402\u001b[0m     args[\u001b[39m\"\u001b[39m\u001b[39mcolor\u001b[39m\u001b[39m\"\u001b[39m] \u001b[39m=\u001b[39m \u001b[39mNone\u001b[39;00m\n\u001b[0;32m   1403\u001b[0m \u001b[39m# now that things have been prepped, we do the systematic rewriting of `args`\u001b[39;00m\n\u001b[1;32m-> 1405\u001b[0m df_output, wide_id_vars \u001b[39m=\u001b[39m process_args_into_dataframe(\n\u001b[0;32m   1406\u001b[0m     args, wide_mode, var_name, value_name\n\u001b[0;32m   1407\u001b[0m )\n\u001b[0;32m   1409\u001b[0m \u001b[39m# now that `df_output` exists and `args` contains only references, we complete\u001b[39;00m\n\u001b[0;32m   1410\u001b[0m \u001b[39m# the special-case and wide-mode handling by further rewriting args and/or mutating\u001b[39;00m\n\u001b[0;32m   1411\u001b[0m \u001b[39m# df_output\u001b[39;00m\n\u001b[0;32m   1413\u001b[0m count_name \u001b[39m=\u001b[39m _escape_col_name(df_output, \u001b[39m\"\u001b[39m\u001b[39mcount\u001b[39m\u001b[39m\"\u001b[39m, [var_name, value_name])\n",
      "File \u001b[1;32mc:\\Users\\W10\\anaconda3\\envs\\Cis340_Fall_2022\\lib\\site-packages\\plotly\\express\\_core.py:1207\u001b[0m, in \u001b[0;36mprocess_args_into_dataframe\u001b[1;34m(args, wide_mode, var_name, value_name)\u001b[0m\n\u001b[0;32m   1205\u001b[0m         \u001b[39mif\u001b[39;00m argument \u001b[39m==\u001b[39m \u001b[39m\"\u001b[39m\u001b[39mindex\u001b[39m\u001b[39m\"\u001b[39m:\n\u001b[0;32m   1206\u001b[0m             err_msg \u001b[39m+\u001b[39m\u001b[39m=\u001b[39m \u001b[39m\"\u001b[39m\u001b[39m\\n\u001b[39;00m\u001b[39m To use the index, pass it in directly as `df.index`.\u001b[39m\u001b[39m\"\u001b[39m\n\u001b[1;32m-> 1207\u001b[0m         \u001b[39mraise\u001b[39;00m \u001b[39mValueError\u001b[39;00m(err_msg)\n\u001b[0;32m   1208\u001b[0m \u001b[39melif\u001b[39;00m length \u001b[39mand\u001b[39;00m \u001b[39mlen\u001b[39m(df_input[argument]) \u001b[39m!=\u001b[39m length:\n\u001b[0;32m   1209\u001b[0m     \u001b[39mraise\u001b[39;00m \u001b[39mValueError\u001b[39;00m(\n\u001b[0;32m   1210\u001b[0m         \u001b[39m\"\u001b[39m\u001b[39mAll arguments should have the same length. \u001b[39m\u001b[39m\"\u001b[39m\n\u001b[0;32m   1211\u001b[0m         \u001b[39m\"\u001b[39m\u001b[39mThe length of column argument `df[\u001b[39m\u001b[39m%s\u001b[39;00m\u001b[39m]` is \u001b[39m\u001b[39m%d\u001b[39;00m\u001b[39m, whereas the \u001b[39m\u001b[39m\"\u001b[39m\n\u001b[1;32m   (...)\u001b[0m\n\u001b[0;32m   1218\u001b[0m         )\n\u001b[0;32m   1219\u001b[0m     )\n",
      "\u001b[1;31mValueError\u001b[0m: Value of 'x' is not the name of a column in 'data_frame'. Expected one of ['Vehicle_Make', 'Vehicle_Model', 'Vehicle_Type', 'Manufacturing_Origin', 'MPG_City', 'MPG_Hwy', 'MSRP', 'Invoice', 'Weight', 'Wheelbase', 'DriveTrain', 'EngineSize', 'Horsepower'] but received: Type"
     ]
    }
   ],
   "source": [
    "fig = px.bar(df, \n",
    "             x='Type',            \n",
    "             y='Invoice',\n",
    "             text='Invoice',  # Field for the Bar Labels!\n",
    "             template='presentation',\n",
    "             title='Using the text attribute to Add Bar Labels')\n",
    "fig.show()"
   ]
  },
  {
   "cell_type": "markdown",
   "metadata": {},
   "source": [
    "# Formatting Bar Labels  "
   ]
  },
  {
   "cell_type": "markdown",
   "metadata": {},
   "source": [
    "### Exact Numbers with *f* formats      \n",
    "- **Commas**  \n",
    "- **Number of Decimal Places**    \n",
    "- **Dollar Signs**  \n"
   ]
  },
  {
   "cell_type": "code",
   "execution_count": null,
   "metadata": {},
   "outputs": [],
   "source": [
    "# Plot\n",
    "fig = px.bar(df, \n",
    "             x='Type',            \n",
    "             y='Invoice',\n",
    "             text='Invoice',  # This is the column used to set the variable/column used for the Bar Label value\n",
    "             template='presentation',\n",
    "             title='Exact Numbers with f formats')\n",
    "\n",
    "# -----------------------------------------\n",
    "# Formatting Bar Labels: Exact Numbers (f)\n",
    "# -----------------------------------------\n",
    "fig.update_traces(textposition='auto', \n",
    "                  #texttemplate='%{text:,}'       # This adds commas\n",
    "                  #texttemplate='%{text:,.0f}'   # This adds commas and formats to zero decimal places\n",
    "                  #texttemplate='%{text:,.1f}'   # This adds commas and formats to one decimal places\n",
    "                  #texttemplate='%{text:,.2f}'   # This adds commas and formats to two decimal places\n",
    "                  texttemplate='%{text:$,.2f}'  # This adds $, commas, and formats to two decimal places\n",
    "                  #texttemplate='%{text:.0%}'    # This give a Percent format with zero decimal places\n",
    "                  #texttemplate='%{text:.1%}'    # This give a Percent format with one decimal place\n",
    "                  #texttemplate='%{text:.2%}'    # This give a Percent format with two decimal place\n",
    "                 )\n",
    "    \n",
    "fig.show()"
   ]
  },
  {
   "cell_type": "markdown",
   "metadata": {},
   "source": [
    "### Rounded Numbers (k or m) with *s* formats  \n",
    "- **s formats** display the number to the specified number of significant digits \n",
    "- Automatically adds k or m for thousands or millions  "
   ]
  },
  {
   "cell_type": "code",
   "execution_count": null,
   "metadata": {},
   "outputs": [],
   "source": [
    "# Plot\n",
    "fig = px.bar(df, \n",
    "             x='Type',            \n",
    "             y='Invoice',\n",
    "             text='Invoice',  # This is the column used to set the variable/column used for the Bar Label value\n",
    "             template='presentation',\n",
    "             title='Rounded Numbers (k or m) with s formats')\n",
    "\n",
    "# ----------------------------------------------------------\n",
    "# Formatting the Bar Labels: Rounded Numbers with k or m (s)\n",
    "# ----------------------------------------------------------\n",
    "fig.update_traces(textposition='auto', \n",
    "                  texttemplate='%{text:$.2s}'      # This displays two significant digits with $ \n",
    "                  #texttemplate='%{text:$.3s}'      # This displays three significant digits with $  \n",
    "                 )\n",
    "    \n",
    "fig.show()"
   ]
  }
 ],
 "metadata": {
  "kernelspec": {
   "display_name": "Python 3.9.12",
   "language": "python",
   "name": "python3"
  },
  "language_info": {
   "codemirror_mode": {
    "name": "ipython",
    "version": 3
   },
   "file_extension": ".py",
   "mimetype": "text/x-python",
   "name": "python",
   "nbconvert_exporter": "python",
   "pygments_lexer": "ipython3",
   "version": "3.9.12"
  },
  "vscode": {
   "interpreter": {
    "hash": "0ccba871b46202fe891a5da8f1fa45061240964d317113191dbecc63a04b0fa2"
   }
  }
 },
 "nbformat": 4,
 "nbformat_minor": 4
}
