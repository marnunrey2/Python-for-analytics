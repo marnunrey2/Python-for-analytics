{
 "cells": [
  {
   "cell_type": "markdown",
   "metadata": {},
   "source": [
    "# Demo 1.1 Jupyter Notebooks with VSCode\n",
    "- Learn how to:\n",
    "    - Use VSCode with Jupyter Notebooks"
   ]
  },
  {
   "cell_type": "markdown",
   "metadata": {},
   "source": [
    "# Part 1: *Hello World* in Python"
   ]
  },
  {
   "cell_type": "code",
   "execution_count": 1,
   "metadata": {},
   "outputs": [
    {
     "name": "stdout",
     "output_type": "stream",
     "text": [
      "Hello World\n"
     ]
    }
   ],
   "source": [
    "print(\"Hello World\")"
   ]
  },
  {
   "cell_type": "markdown",
   "metadata": {},
   "source": [
    "# Part 2: Time of Day\n",
    "- Declare a variable named time_24 and assign it to a value of 11\n",
    "- Cretae an If Statement that use the following logic:\n",
    "    - If time is less than 12, display **Good Morning!**\n",
    "    - If the time is less than 18, display **Good Afternoon!**\n",
    "    - If the time is less than or equal to 24, display **Good Evening!**\n",
    "    - Otherwise, display **Time must be between 0 and 24!**"
   ]
  },
  {
   "cell_type": "code",
   "execution_count": 6,
   "metadata": {},
   "outputs": [
    {
     "name": "stdout",
     "output_type": "stream",
     "text": [
      "Good Morning!\n"
     ]
    }
   ],
   "source": [
    "time_24 = 11\n",
    "if time_24 < 12:\n",
    "    print(\"Good Morning!\")\n",
    "elif time_24 < 18:\n",
    "    print(\"Good Afternoon!\")\n",
    "elif time_24 <= 24:\n",
    "    print(\"Good evening!\")\n",
    "else:\n",
    "    print(\"Time must be between 0 and 24\")\n"
   ]
  }
 ],
 "metadata": {
  "kernelspec": {
   "display_name": "Python 3.9.12",
   "language": "python",
   "name": "python3"
  },
  "language_info": {
   "codemirror_mode": {
    "name": "ipython",
    "version": 3
   },
   "file_extension": ".py",
   "mimetype": "text/x-python",
   "name": "python",
   "nbconvert_exporter": "python",
   "pygments_lexer": "ipython3",
   "version": "3.9.12"
  },
  "orig_nbformat": 4,
  "vscode": {
   "interpreter": {
    "hash": "0ccba871b46202fe891a5da8f1fa45061240964d317113191dbecc63a04b0fa2"
   }
  }
 },
 "nbformat": 4,
 "nbformat_minor": 2
}
