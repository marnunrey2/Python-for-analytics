{
 "cells": [
  {
   "cell_type": "markdown",
   "metadata": {},
   "source": [
    "# 1.1 Intro to Jupyter Notebooks and Python"
   ]
  },
  {
   "cell_type": "markdown",
   "metadata": {},
   "source": [
    "## Part 1: *Hello Galaxy* and *Hello Universe!*\n",
    "Add the code to display what is indicated in the comment at the top of the cells below:"
   ]
  },
  {
   "cell_type": "markdown",
   "metadata": {},
   "source": [
    "#### Hello Galaxy!"
   ]
  },
  {
   "cell_type": "code",
   "execution_count": 6,
   "metadata": {},
   "outputs": [
    {
     "name": "stdout",
     "output_type": "stream",
     "text": [
      "Hello Galaxy!\n"
     ]
    }
   ],
   "source": [
    "print(\"Hello Galaxy!\")"
   ]
  },
  {
   "cell_type": "markdown",
   "metadata": {},
   "source": [
    "#### Hello Universe!"
   ]
  },
  {
   "cell_type": "code",
   "execution_count": 5,
   "metadata": {},
   "outputs": [
    {
     "name": "stdout",
     "output_type": "stream",
     "text": [
      "Hello Universe!\n"
     ]
    }
   ],
   "source": [
    "print(\"Hello Universe!\")"
   ]
  },
  {
   "cell_type": "markdown",
   "metadata": {},
   "source": [
    "## Part 2: Fahrenheit to Celsius Converter\n",
    "- Declare a variable named **temp_fahr** and assign it a value of 212\n",
    "- Write the code to calculate the equivalent Celsius temperature and stores that value in a variable named **temp_cels**\n",
    "    - Do a gooogle search to get that formula!\n",
    "- Display both values to the user with info about which is which"
   ]
  },
  {
   "cell_type": "code",
   "execution_count": 2,
   "metadata": {},
   "outputs": [
    {
     "name": "stdout",
     "output_type": "stream",
     "text": [
      "Fahrenheit: 212\n",
      "Celsius: 100.0\n"
     ]
    }
   ],
   "source": [
    "temp_fahr = 212\n",
    "temp_cels = (temp_fahr - 32) * (5/9)\n",
    "print(\"Fahrenheit:\", temp_fahr)\n",
    "print(\"Celsius:\", temp_cels)"
   ]
  },
  {
   "cell_type": "markdown",
   "metadata": {},
   "source": [
    "## Ex 1.1 (*In Class*): Markdown Reference\n",
    "This is the Markdown we use a lot!\n",
    "# Headers\n",
    "# Header 1\n",
    "## Header 2\n",
    "### Header 3\n",
    "#### Header 4\n",
    "##### Header 5\n"
   ]
  },
  {
   "cell_type": "markdown",
   "metadata": {},
   "source": [
    "# Bold\n",
    "**This is a bold text**"
   ]
  },
  {
   "cell_type": "markdown",
   "metadata": {},
   "source": [
    "# Italics\n",
    "*This is a italicized text*"
   ]
  },
  {
   "cell_type": "markdown",
   "metadata": {},
   "source": [
    "# Lists\n",
    "- Two types of lists\n",
    "    - Numbered Lists\n",
    "    - Un-Numbered Lists\n",
    "\n",
    "### Numbered Lists\n",
    "1. First item\n",
    "2. Second item\n",
    "3. Third item\n",
    "\n",
    "### Un-Numbered Lists\n",
    "- First item\n",
    "- Second item\n",
    "- Third item"
   ]
  },
  {
   "cell_type": "markdown",
   "metadata": {},
   "source": [
    "# (*Outside Class*)"
   ]
  },
  {
   "cell_type": "markdown",
   "metadata": {},
   "source": [
    "# Part 3: Celsius to Fahrenheit Converter\n",
    "- Hard code a Celsius temperature value of 100\n",
    "- Calculate the equivalent Fahrenheit temperature value\n",
    "- Display both values with clear descriptions of what they are\n",
    "- Test: 100 degrees Celsius"
   ]
  },
  {
   "cell_type": "code",
   "execution_count": 3,
   "metadata": {},
   "outputs": [
    {
     "name": "stdout",
     "output_type": "stream",
     "text": [
      "Celsius: 100\n",
      "Fahrenheit: 212.0\n"
     ]
    }
   ],
   "source": [
    "temp_cels = 100\n",
    "temp_fahr = (temp_cels * 9/5) + 32\n",
    "print(\"Celsius:\", temp_cels)\n",
    "print(\"Fahrenheit:\", temp_fahr)"
   ]
  },
  {
   "cell_type": "markdown",
   "metadata": {},
   "source": [
    "# Part 4: Kelvin to Fahrenheit Converter\n",
    "- Hard code a Kelvin temperature value of 0\n",
    "- Calculate the equivalent Fahrenheit temperature value\n",
    "- Display both values with clear descriptions of what they are\n",
    "- Test: 0 degrees Kelvin"
   ]
  },
  {
   "cell_type": "code",
   "execution_count": 4,
   "metadata": {},
   "outputs": [
    {
     "name": "stdout",
     "output_type": "stream",
     "text": [
      "Kelvin: 0\n",
      "Fahrenheit: -459.66999999999996\n"
     ]
    }
   ],
   "source": [
    "temp_kel = 0\n",
    "temp_fahr = (temp_kel - 273.15) * 9/5 + 32\n",
    "print(\"Kelvin:\", temp_kel)\n",
    "print(\"Fahrenheit:\", temp_fahr)"
   ]
  }
 ],
 "metadata": {
  "kernelspec": {
   "display_name": "Python 3.9.12",
   "language": "python",
   "name": "python3"
  },
  "language_info": {
   "codemirror_mode": {
    "name": "ipython",
    "version": 3
   },
   "file_extension": ".py",
   "mimetype": "text/x-python",
   "name": "python",
   "nbconvert_exporter": "python",
   "pygments_lexer": "ipython3",
   "version": "3.9.12"
  },
  "orig_nbformat": 4,
  "vscode": {
   "interpreter": {
    "hash": "0ccba871b46202fe891a5da8f1fa45061240964d317113191dbecc63a04b0fa2"
   }
  }
 },
 "nbformat": 4,
 "nbformat_minor": 2
}
