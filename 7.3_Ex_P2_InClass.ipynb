{
 "cells": [
  {
   "cell_type": "markdown",
   "id": "8d02ad20",
   "metadata": {},
   "source": [
    "# Ex 7.3: Part II (In Class)"
   ]
  },
  {
   "cell_type": "markdown",
   "id": "5d5a92ec",
   "metadata": {},
   "source": [
    "### Part 2: What are the Top 15 NC Counties for Percent of the Population 25 and over that have a Graduate or Professional Degree (2020)? "
   ]
  },
  {
   "cell_type": "code",
   "execution_count": 1,
   "id": "1f7ea856-0600-452b-b2ae-1572e6a679b4",
   "metadata": {},
   "outputs": [],
   "source": [
    "import pandas as pd\n",
    "import json\n",
    "import requests\n",
    "import pprint\n",
    "\n",
    "import plotly.express as px"
   ]
  },
  {
   "cell_type": "markdown",
   "id": "484de62a-4773-4958-a08d-5c486e9b23bb",
   "metadata": {},
   "source": [
    "# 1. Build the API Request URL"
   ]
  },
  {
   "cell_type": "markdown",
   "id": "4b14d038-60bb-4cc0-a6dd-94004f9bd803",
   "metadata": {},
   "source": [
    "### 1. How to Start your Data Request  \n",
    "- Requests always begin with: https://api.census.gov/data  "
   ]
  },
  {
   "cell_type": "code",
   "execution_count": 2,
   "id": "ca765e9e-fd1c-4ce0-97d1-bc41525131ee",
   "metadata": {},
   "outputs": [],
   "source": [
    "base_url = \"https://api.census.gov/data\""
   ]
  },
  {
   "cell_type": "markdown",
   "id": "afebe9e0-98a7-432d-b211-73db3dfbafef",
   "metadata": {},
   "source": [
    "### 2. Add the Dataset Name\n"
   ]
  },
  {
   "cell_type": "code",
   "execution_count": 3,
   "id": "38c9a86f-d581-43d5-8459-d205fa25a10b",
   "metadata": {},
   "outputs": [],
   "source": [
    "dataset_name = \"/2020/acs/acs5/profile\""
   ]
  },
  {
   "cell_type": "markdown",
   "id": "1d8ac627-cfa4-44de-8e69-6276ab0fd473",
   "metadata": {},
   "source": [
    "### 3. Start your Variable Request\n"
   ]
  },
  {
   "cell_type": "code",
   "execution_count": 4,
   "id": "daf2c356-61db-4fac-9461-d1f763d91d15",
   "metadata": {},
   "outputs": [],
   "source": [
    "get_start = \"?get=\""
   ]
  },
  {
   "cell_type": "markdown",
   "id": "2b620f7c-213d-4d63-aa61-49d97929dd9b",
   "metadata": {},
   "source": [
    "### 4. Add your Variables  \n",
    "- **DP02_0066PE**: Percent of Population 25 years and over with Graduate or professional degree\n"
   ]
  },
  {
   "cell_type": "code",
   "execution_count": 5,
   "id": "3112b5bc-43cb-4222-a1f0-f2c1225fc826",
   "metadata": {},
   "outputs": [],
   "source": [
    "get_variables = \"NAME,DP02_0066PE\""
   ]
  },
  {
   "cell_type": "markdown",
   "id": "cdadd63b-d9d5-4912-b19a-f2ad7894cf39",
   "metadata": {},
   "source": [
    "###   5. Add your Geography  \n"
   ]
  },
  {
   "cell_type": "code",
   "execution_count": 6,
   "id": "2ecb8924-df52-49f4-8c71-07fa99e9201d",
   "metadata": {},
   "outputs": [],
   "source": [
    "geography = \"&for=county:*&in=state:37\""
   ]
  },
  {
   "cell_type": "markdown",
   "id": "d9165204-24a1-43f4-8f3d-068aaf9920dc",
   "metadata": {},
   "source": [
    "###   6. Put it all Together "
   ]
  },
  {
   "cell_type": "code",
   "execution_count": 7,
   "id": "3901e745-60dd-4938-90a1-c56d1b86892c",
   "metadata": {},
   "outputs": [
    {
     "name": "stdout",
     "output_type": "stream",
     "text": [
      "request_url =  https://api.census.gov/data/2020/acs/acs5/profile?get=NAME,DP02_0066PE&for=county:*&in=state:37\n"
     ]
    }
   ],
   "source": [
    "request_url = base_url + dataset_name + get_start + get_variables + geography\n",
    "print(\"request_url = \", request_url)"
   ]
  },
  {
   "cell_type": "markdown",
   "id": "a3df3db3-7861-4302-83ed-5d7f27c781ed",
   "metadata": {},
   "source": [
    "# 2. Use *requests* library to make the API call"
   ]
  },
  {
   "cell_type": "code",
   "execution_count": 8,
   "id": "9903734f-1da9-47a6-9563-1d7bc7cfc6ab",
   "metadata": {},
   "outputs": [],
   "source": [
    "# Make API Call\n",
    "r = requests.get(request_url)\n",
    "\n",
    "api_results = r.json()"
   ]
  },
  {
   "cell_type": "code",
   "execution_count": 9,
   "id": "f5c36728-947f-48f9-bfd8-5b658b5f2d89",
   "metadata": {},
   "outputs": [],
   "source": [
    "#print(api_results)"
   ]
  },
  {
   "cell_type": "code",
   "execution_count": 10,
   "id": "fb5d2f24-c45a-4d00-9d4d-54c12cea72c2",
   "metadata": {},
   "outputs": [],
   "source": [
    "# pprint makes it possible to see the structure of the returned data -- but it can be very, very long!\n",
    "#pprint.pprint(api_results)"
   ]
  },
  {
   "cell_type": "code",
   "execution_count": 11,
   "id": "6ff76336-4831-451b-a4d7-c8674e90a8e1",
   "metadata": {},
   "outputs": [
    {
     "data": {
      "text/plain": [
       "list"
      ]
     },
     "execution_count": 11,
     "metadata": {},
     "output_type": "execute_result"
    }
   ],
   "source": [
    "type(api_results)"
   ]
  },
  {
   "cell_type": "markdown",
   "id": "f98cddaf-65c6-4b0c-bb5b-ce812e770f4a",
   "metadata": {},
   "source": [
    "# 3. Get the data into a Dataframe  \n",
    "- These Census Data results are in a list and have a specific form:  \n",
    "  - The first element is a list of column names  \n",
    "  - The remaining list elements are data  \n",
    "  \n",
    "  "
   ]
  },
  {
   "cell_type": "code",
   "execution_count": 12,
   "id": "7db78496-f09e-4308-9818-6668c3105b77",
   "metadata": {},
   "outputs": [
    {
     "name": "stdout",
     "output_type": "stream",
     "text": [
      "(101, 4)\n"
     ]
    },
    {
     "data": {
      "text/html": [
       "<div>\n",
       "<style scoped>\n",
       "    .dataframe tbody tr th:only-of-type {\n",
       "        vertical-align: middle;\n",
       "    }\n",
       "\n",
       "    .dataframe tbody tr th {\n",
       "        vertical-align: top;\n",
       "    }\n",
       "\n",
       "    .dataframe thead th {\n",
       "        text-align: right;\n",
       "    }\n",
       "</style>\n",
       "<table border=\"1\" class=\"dataframe\">\n",
       "  <thead>\n",
       "    <tr style=\"text-align: right;\">\n",
       "      <th></th>\n",
       "      <th>0</th>\n",
       "      <th>1</th>\n",
       "      <th>2</th>\n",
       "      <th>3</th>\n",
       "    </tr>\n",
       "  </thead>\n",
       "  <tbody>\n",
       "    <tr>\n",
       "      <th>0</th>\n",
       "      <td>NAME</td>\n",
       "      <td>DP02_0066PE</td>\n",
       "      <td>state</td>\n",
       "      <td>county</td>\n",
       "    </tr>\n",
       "    <tr>\n",
       "      <th>1</th>\n",
       "      <td>Anson County, North Carolina</td>\n",
       "      <td>3.2</td>\n",
       "      <td>37</td>\n",
       "      <td>007</td>\n",
       "    </tr>\n",
       "    <tr>\n",
       "      <th>2</th>\n",
       "      <td>Beaufort County, North Carolina</td>\n",
       "      <td>8.2</td>\n",
       "      <td>37</td>\n",
       "      <td>013</td>\n",
       "    </tr>\n",
       "    <tr>\n",
       "      <th>3</th>\n",
       "      <td>Brunswick County, North Carolina</td>\n",
       "      <td>10.5</td>\n",
       "      <td>37</td>\n",
       "      <td>019</td>\n",
       "    </tr>\n",
       "    <tr>\n",
       "      <th>4</th>\n",
       "      <td>Cabarrus County, North Carolina</td>\n",
       "      <td>12.3</td>\n",
       "      <td>37</td>\n",
       "      <td>025</td>\n",
       "    </tr>\n",
       "  </tbody>\n",
       "</table>\n",
       "</div>"
      ],
      "text/plain": [
       "                                  0            1      2       3\n",
       "0                              NAME  DP02_0066PE  state  county\n",
       "1      Anson County, North Carolina          3.2     37     007\n",
       "2   Beaufort County, North Carolina          8.2     37     013\n",
       "3  Brunswick County, North Carolina         10.5     37     019\n",
       "4   Cabarrus County, North Carolina         12.3     37     025"
      ]
     },
     "execution_count": 12,
     "metadata": {},
     "output_type": "execute_result"
    }
   ],
   "source": [
    "df = pd.DataFrame(api_results)\n",
    "\n",
    "print(df.shape)\n",
    "df.head()"
   ]
  },
  {
   "cell_type": "markdown",
   "id": "d6c648fb-8264-407c-8041-b3afeda10fe8",
   "metadata": {},
   "source": [
    "# 4. Get the first Row into columns and then get rid of it  "
   ]
  },
  {
   "cell_type": "code",
   "execution_count": 13,
   "id": "da717937-b9df-4443-a18e-8c3fe66e7381",
   "metadata": {},
   "outputs": [
    {
     "name": "stdout",
     "output_type": "stream",
     "text": [
      "(100, 4)\n"
     ]
    },
    {
     "data": {
      "text/html": [
       "<div>\n",
       "<style scoped>\n",
       "    .dataframe tbody tr th:only-of-type {\n",
       "        vertical-align: middle;\n",
       "    }\n",
       "\n",
       "    .dataframe tbody tr th {\n",
       "        vertical-align: top;\n",
       "    }\n",
       "\n",
       "    .dataframe thead th {\n",
       "        text-align: right;\n",
       "    }\n",
       "</style>\n",
       "<table border=\"1\" class=\"dataframe\">\n",
       "  <thead>\n",
       "    <tr style=\"text-align: right;\">\n",
       "      <th></th>\n",
       "      <th>NAME</th>\n",
       "      <th>DP02_0066PE</th>\n",
       "      <th>state</th>\n",
       "      <th>county</th>\n",
       "    </tr>\n",
       "  </thead>\n",
       "  <tbody>\n",
       "    <tr>\n",
       "      <th>1</th>\n",
       "      <td>Anson County, North Carolina</td>\n",
       "      <td>3.2</td>\n",
       "      <td>37</td>\n",
       "      <td>007</td>\n",
       "    </tr>\n",
       "    <tr>\n",
       "      <th>2</th>\n",
       "      <td>Beaufort County, North Carolina</td>\n",
       "      <td>8.2</td>\n",
       "      <td>37</td>\n",
       "      <td>013</td>\n",
       "    </tr>\n",
       "    <tr>\n",
       "      <th>3</th>\n",
       "      <td>Brunswick County, North Carolina</td>\n",
       "      <td>10.5</td>\n",
       "      <td>37</td>\n",
       "      <td>019</td>\n",
       "    </tr>\n",
       "    <tr>\n",
       "      <th>4</th>\n",
       "      <td>Cabarrus County, North Carolina</td>\n",
       "      <td>12.3</td>\n",
       "      <td>37</td>\n",
       "      <td>025</td>\n",
       "    </tr>\n",
       "    <tr>\n",
       "      <th>5</th>\n",
       "      <td>Carteret County, North Carolina</td>\n",
       "      <td>11.5</td>\n",
       "      <td>37</td>\n",
       "      <td>031</td>\n",
       "    </tr>\n",
       "  </tbody>\n",
       "</table>\n",
       "</div>"
      ],
      "text/plain": [
       "0                              NAME DP02_0066PE state county\n",
       "1      Anson County, North Carolina         3.2    37    007\n",
       "2   Beaufort County, North Carolina         8.2    37    013\n",
       "3  Brunswick County, North Carolina        10.5    37    019\n",
       "4   Cabarrus County, North Carolina        12.3    37    025\n",
       "5   Carteret County, North Carolina        11.5    37    031"
      ]
     },
     "execution_count": 13,
     "metadata": {},
     "output_type": "execute_result"
    }
   ],
   "source": [
    "df.columns = df.iloc[0]\n",
    "\n",
    "df =df.iloc[1:]\n",
    "\n",
    "print(df.shape)\n",
    "df.head()"
   ]
  },
  {
   "cell_type": "markdown",
   "id": "a0ec6925",
   "metadata": {},
   "source": [
    "# 5. Cleaning Data"
   ]
  },
  {
   "cell_type": "code",
   "execution_count": 14,
   "id": "ca18427b",
   "metadata": {},
   "outputs": [
    {
     "name": "stdout",
     "output_type": "stream",
     "text": [
      "(100, 6)\n"
     ]
    },
    {
     "data": {
      "text/html": [
       "<div>\n",
       "<style scoped>\n",
       "    .dataframe tbody tr th:only-of-type {\n",
       "        vertical-align: middle;\n",
       "    }\n",
       "\n",
       "    .dataframe tbody tr th {\n",
       "        vertical-align: top;\n",
       "    }\n",
       "\n",
       "    .dataframe thead th {\n",
       "        text-align: right;\n",
       "    }\n",
       "</style>\n",
       "<table border=\"1\" class=\"dataframe\">\n",
       "  <thead>\n",
       "    <tr style=\"text-align: right;\">\n",
       "      <th></th>\n",
       "      <th>NAME</th>\n",
       "      <th>DP02_0066PE</th>\n",
       "      <th>state</th>\n",
       "      <th>county</th>\n",
       "      <th>County Name</th>\n",
       "      <th>State_Name</th>\n",
       "    </tr>\n",
       "  </thead>\n",
       "  <tbody>\n",
       "    <tr>\n",
       "      <th>1</th>\n",
       "      <td>Anson County, North Carolina</td>\n",
       "      <td>3.2</td>\n",
       "      <td>37</td>\n",
       "      <td>007</td>\n",
       "      <td>Anson County</td>\n",
       "      <td>North Carolina</td>\n",
       "    </tr>\n",
       "    <tr>\n",
       "      <th>2</th>\n",
       "      <td>Beaufort County, North Carolina</td>\n",
       "      <td>8.2</td>\n",
       "      <td>37</td>\n",
       "      <td>013</td>\n",
       "      <td>Beaufort County</td>\n",
       "      <td>North Carolina</td>\n",
       "    </tr>\n",
       "    <tr>\n",
       "      <th>3</th>\n",
       "      <td>Brunswick County, North Carolina</td>\n",
       "      <td>10.5</td>\n",
       "      <td>37</td>\n",
       "      <td>019</td>\n",
       "      <td>Brunswick County</td>\n",
       "      <td>North Carolina</td>\n",
       "    </tr>\n",
       "    <tr>\n",
       "      <th>4</th>\n",
       "      <td>Cabarrus County, North Carolina</td>\n",
       "      <td>12.3</td>\n",
       "      <td>37</td>\n",
       "      <td>025</td>\n",
       "      <td>Cabarrus County</td>\n",
       "      <td>North Carolina</td>\n",
       "    </tr>\n",
       "    <tr>\n",
       "      <th>5</th>\n",
       "      <td>Carteret County, North Carolina</td>\n",
       "      <td>11.5</td>\n",
       "      <td>37</td>\n",
       "      <td>031</td>\n",
       "      <td>Carteret County</td>\n",
       "      <td>North Carolina</td>\n",
       "    </tr>\n",
       "  </tbody>\n",
       "</table>\n",
       "</div>"
      ],
      "text/plain": [
       "0                              NAME DP02_0066PE state county  \\\n",
       "1      Anson County, North Carolina         3.2    37    007   \n",
       "2   Beaufort County, North Carolina         8.2    37    013   \n",
       "3  Brunswick County, North Carolina        10.5    37    019   \n",
       "4   Cabarrus County, North Carolina        12.3    37    025   \n",
       "5   Carteret County, North Carolina        11.5    37    031   \n",
       "\n",
       "0       County Name       State_Name  \n",
       "1      Anson County   North Carolina  \n",
       "2   Beaufort County   North Carolina  \n",
       "3  Brunswick County   North Carolina  \n",
       "4   Cabarrus County   North Carolina  \n",
       "5   Carteret County   North Carolina  "
      ]
     },
     "execution_count": 14,
     "metadata": {},
     "output_type": "execute_result"
    }
   ],
   "source": [
    "two_new_cols = ['County Name', 'State_Name']\n",
    "\n",
    "df[two_new_cols] = df['NAME'].str.split(',',1, expand=True)\n",
    "\n",
    "print(df.shape)\n",
    "df.head()"
   ]
  },
  {
   "cell_type": "code",
   "execution_count": 15,
   "id": "ee1e0920",
   "metadata": {},
   "outputs": [],
   "source": [
    "df[\"DP02_0066PE\"] = pd.to_numeric(df['DP02_0066PE'])"
   ]
  },
  {
   "cell_type": "code",
   "execution_count": 16,
   "id": "bcccc63d",
   "metadata": {},
   "outputs": [
    {
     "data": {
      "text/plain": [
       "0\n",
       "NAME            object\n",
       "DP02_0066PE    float64\n",
       "state           object\n",
       "county          object\n",
       "County Name     object\n",
       "State_Name      object\n",
       "dtype: object"
      ]
     },
     "execution_count": 16,
     "metadata": {},
     "output_type": "execute_result"
    }
   ],
   "source": [
    "df.dtypes"
   ]
  },
  {
   "cell_type": "code",
   "execution_count": 17,
   "id": "74904292",
   "metadata": {},
   "outputs": [
    {
     "data": {
      "text/html": [
       "<div>\n",
       "<style scoped>\n",
       "    .dataframe tbody tr th:only-of-type {\n",
       "        vertical-align: middle;\n",
       "    }\n",
       "\n",
       "    .dataframe tbody tr th {\n",
       "        vertical-align: top;\n",
       "    }\n",
       "\n",
       "    .dataframe thead th {\n",
       "        text-align: right;\n",
       "    }\n",
       "</style>\n",
       "<table border=\"1\" class=\"dataframe\">\n",
       "  <thead>\n",
       "    <tr style=\"text-align: right;\">\n",
       "      <th></th>\n",
       "      <th>NAME</th>\n",
       "      <th>DP02_0066PE</th>\n",
       "      <th>state</th>\n",
       "      <th>county</th>\n",
       "      <th>County Name</th>\n",
       "      <th>State_Name</th>\n",
       "    </tr>\n",
       "  </thead>\n",
       "  <tbody>\n",
       "    <tr>\n",
       "      <th>74</th>\n",
       "      <td>Orange County, North Carolina</td>\n",
       "      <td>34.8</td>\n",
       "      <td>37</td>\n",
       "      <td>135</td>\n",
       "      <td>Orange County</td>\n",
       "      <td>North Carolina</td>\n",
       "    </tr>\n",
       "    <tr>\n",
       "      <th>10</th>\n",
       "      <td>Durham County, North Carolina</td>\n",
       "      <td>23.7</td>\n",
       "      <td>37</td>\n",
       "      <td>063</td>\n",
       "      <td>Durham County</td>\n",
       "      <td>North Carolina</td>\n",
       "    </tr>\n",
       "    <tr>\n",
       "      <th>95</th>\n",
       "      <td>Wake County, North Carolina</td>\n",
       "      <td>20.5</td>\n",
       "      <td>37</td>\n",
       "      <td>183</td>\n",
       "      <td>Wake County</td>\n",
       "      <td>North Carolina</td>\n",
       "    </tr>\n",
       "    <tr>\n",
       "      <th>6</th>\n",
       "      <td>Chatham County, North Carolina</td>\n",
       "      <td>20.1</td>\n",
       "      <td>37</td>\n",
       "      <td>037</td>\n",
       "      <td>Chatham County</td>\n",
       "      <td>North Carolina</td>\n",
       "    </tr>\n",
       "    <tr>\n",
       "      <th>97</th>\n",
       "      <td>Watauga County, North Carolina</td>\n",
       "      <td>19.4</td>\n",
       "      <td>37</td>\n",
       "      <td>189</td>\n",
       "      <td>Watauga County</td>\n",
       "      <td>North Carolina</td>\n",
       "    </tr>\n",
       "    <tr>\n",
       "      <th>33</th>\n",
       "      <td>Buncombe County, North Carolina</td>\n",
       "      <td>16.3</td>\n",
       "      <td>37</td>\n",
       "      <td>021</td>\n",
       "      <td>Buncombe County</td>\n",
       "      <td>North Carolina</td>\n",
       "    </tr>\n",
       "    <tr>\n",
       "      <th>19</th>\n",
       "      <td>Mecklenburg County, North Carolina</td>\n",
       "      <td>15.6</td>\n",
       "      <td>37</td>\n",
       "      <td>119</td>\n",
       "      <td>Mecklenburg County</td>\n",
       "      <td>North Carolina</td>\n",
       "    </tr>\n",
       "    <tr>\n",
       "      <th>69</th>\n",
       "      <td>Moore County, North Carolina</td>\n",
       "      <td>14.6</td>\n",
       "      <td>37</td>\n",
       "      <td>125</td>\n",
       "      <td>Moore County</td>\n",
       "      <td>North Carolina</td>\n",
       "    </tr>\n",
       "    <tr>\n",
       "      <th>71</th>\n",
       "      <td>New Hanover County, North Carolina</td>\n",
       "      <td>14.5</td>\n",
       "      <td>37</td>\n",
       "      <td>129</td>\n",
       "      <td>New Hanover County</td>\n",
       "      <td>North Carolina</td>\n",
       "    </tr>\n",
       "    <tr>\n",
       "      <th>13</th>\n",
       "      <td>Guilford County, North Carolina</td>\n",
       "      <td>13.2</td>\n",
       "      <td>37</td>\n",
       "      <td>081</td>\n",
       "      <td>Guilford County</td>\n",
       "      <td>North Carolina</td>\n",
       "    </tr>\n",
       "    <tr>\n",
       "      <th>49</th>\n",
       "      <td>Forsyth County, North Carolina</td>\n",
       "      <td>12.9</td>\n",
       "      <td>37</td>\n",
       "      <td>067</td>\n",
       "      <td>Forsyth County</td>\n",
       "      <td>North Carolina</td>\n",
       "    </tr>\n",
       "    <tr>\n",
       "      <th>92</th>\n",
       "      <td>Transylvania County, North Carolina</td>\n",
       "      <td>12.8</td>\n",
       "      <td>37</td>\n",
       "      <td>175</td>\n",
       "      <td>Transylvania County</td>\n",
       "      <td>North Carolina</td>\n",
       "    </tr>\n",
       "    <tr>\n",
       "      <th>45</th>\n",
       "      <td>Dare County, North Carolina</td>\n",
       "      <td>12.7</td>\n",
       "      <td>37</td>\n",
       "      <td>055</td>\n",
       "      <td>Dare County</td>\n",
       "      <td>North Carolina</td>\n",
       "    </tr>\n",
       "    <tr>\n",
       "      <th>60</th>\n",
       "      <td>Jackson County, North Carolina</td>\n",
       "      <td>12.7</td>\n",
       "      <td>37</td>\n",
       "      <td>099</td>\n",
       "      <td>Jackson County</td>\n",
       "      <td>North Carolina</td>\n",
       "    </tr>\n",
       "    <tr>\n",
       "      <th>4</th>\n",
       "      <td>Cabarrus County, North Carolina</td>\n",
       "      <td>12.3</td>\n",
       "      <td>37</td>\n",
       "      <td>025</td>\n",
       "      <td>Cabarrus County</td>\n",
       "      <td>North Carolina</td>\n",
       "    </tr>\n",
       "  </tbody>\n",
       "</table>\n",
       "</div>"
      ],
      "text/plain": [
       "0                                  NAME  DP02_0066PE state county  \\\n",
       "74        Orange County, North Carolina         34.8    37    135   \n",
       "10        Durham County, North Carolina         23.7    37    063   \n",
       "95          Wake County, North Carolina         20.5    37    183   \n",
       "6        Chatham County, North Carolina         20.1    37    037   \n",
       "97       Watauga County, North Carolina         19.4    37    189   \n",
       "33      Buncombe County, North Carolina         16.3    37    021   \n",
       "19   Mecklenburg County, North Carolina         15.6    37    119   \n",
       "69         Moore County, North Carolina         14.6    37    125   \n",
       "71   New Hanover County, North Carolina         14.5    37    129   \n",
       "13      Guilford County, North Carolina         13.2    37    081   \n",
       "49       Forsyth County, North Carolina         12.9    37    067   \n",
       "92  Transylvania County, North Carolina         12.8    37    175   \n",
       "45          Dare County, North Carolina         12.7    37    055   \n",
       "60       Jackson County, North Carolina         12.7    37    099   \n",
       "4       Cabarrus County, North Carolina         12.3    37    025   \n",
       "\n",
       "0           County Name       State_Name  \n",
       "74        Orange County   North Carolina  \n",
       "10        Durham County   North Carolina  \n",
       "95          Wake County   North Carolina  \n",
       "6        Chatham County   North Carolina  \n",
       "97       Watauga County   North Carolina  \n",
       "33      Buncombe County   North Carolina  \n",
       "19   Mecklenburg County   North Carolina  \n",
       "69         Moore County   North Carolina  \n",
       "71   New Hanover County   North Carolina  \n",
       "13      Guilford County   North Carolina  \n",
       "49       Forsyth County   North Carolina  \n",
       "92  Transylvania County   North Carolina  \n",
       "45          Dare County   North Carolina  \n",
       "60       Jackson County   North Carolina  \n",
       "4       Cabarrus County   North Carolina  "
      ]
     },
     "execution_count": 17,
     "metadata": {},
     "output_type": "execute_result"
    }
   ],
   "source": [
    "df.sort_values(by=\"DP02_0066PE\", ascending=False, inplace=True)\n",
    "df = df.iloc[ : 15]\n",
    "df"
   ]
  },
  {
   "cell_type": "code",
   "execution_count": 18,
   "id": "2a9302d3",
   "metadata": {},
   "outputs": [
    {
     "name": "stdout",
     "output_type": "stream",
     "text": [
      "(15, 6)\n"
     ]
    },
    {
     "data": {
      "text/html": [
       "<div>\n",
       "<style scoped>\n",
       "    .dataframe tbody tr th:only-of-type {\n",
       "        vertical-align: middle;\n",
       "    }\n",
       "\n",
       "    .dataframe tbody tr th {\n",
       "        vertical-align: top;\n",
       "    }\n",
       "\n",
       "    .dataframe thead th {\n",
       "        text-align: right;\n",
       "    }\n",
       "</style>\n",
       "<table border=\"1\" class=\"dataframe\">\n",
       "  <thead>\n",
       "    <tr style=\"text-align: right;\">\n",
       "      <th></th>\n",
       "      <th>NAME</th>\n",
       "      <th>% 25 or Older with Grad Degree (DP02_0066PE)</th>\n",
       "      <th>FIPS_State</th>\n",
       "      <th>FIPS_County</th>\n",
       "      <th>County Name</th>\n",
       "      <th>State_Name</th>\n",
       "    </tr>\n",
       "  </thead>\n",
       "  <tbody>\n",
       "    <tr>\n",
       "      <th>74</th>\n",
       "      <td>Orange County, North Carolina</td>\n",
       "      <td>34.8</td>\n",
       "      <td>37</td>\n",
       "      <td>135</td>\n",
       "      <td>Orange County</td>\n",
       "      <td>North Carolina</td>\n",
       "    </tr>\n",
       "    <tr>\n",
       "      <th>10</th>\n",
       "      <td>Durham County, North Carolina</td>\n",
       "      <td>23.7</td>\n",
       "      <td>37</td>\n",
       "      <td>063</td>\n",
       "      <td>Durham County</td>\n",
       "      <td>North Carolina</td>\n",
       "    </tr>\n",
       "    <tr>\n",
       "      <th>95</th>\n",
       "      <td>Wake County, North Carolina</td>\n",
       "      <td>20.5</td>\n",
       "      <td>37</td>\n",
       "      <td>183</td>\n",
       "      <td>Wake County</td>\n",
       "      <td>North Carolina</td>\n",
       "    </tr>\n",
       "    <tr>\n",
       "      <th>6</th>\n",
       "      <td>Chatham County, North Carolina</td>\n",
       "      <td>20.1</td>\n",
       "      <td>37</td>\n",
       "      <td>037</td>\n",
       "      <td>Chatham County</td>\n",
       "      <td>North Carolina</td>\n",
       "    </tr>\n",
       "    <tr>\n",
       "      <th>97</th>\n",
       "      <td>Watauga County, North Carolina</td>\n",
       "      <td>19.4</td>\n",
       "      <td>37</td>\n",
       "      <td>189</td>\n",
       "      <td>Watauga County</td>\n",
       "      <td>North Carolina</td>\n",
       "    </tr>\n",
       "  </tbody>\n",
       "</table>\n",
       "</div>"
      ],
      "text/plain": [
       "0                             NAME  \\\n",
       "74   Orange County, North Carolina   \n",
       "10   Durham County, North Carolina   \n",
       "95     Wake County, North Carolina   \n",
       "6   Chatham County, North Carolina   \n",
       "97  Watauga County, North Carolina   \n",
       "\n",
       "0   % 25 or Older with Grad Degree (DP02_0066PE) FIPS_State FIPS_County  \\\n",
       "74                                          34.8         37         135   \n",
       "10                                          23.7         37         063   \n",
       "95                                          20.5         37         183   \n",
       "6                                           20.1         37         037   \n",
       "97                                          19.4         37         189   \n",
       "\n",
       "0      County Name       State_Name  \n",
       "74   Orange County   North Carolina  \n",
       "10   Durham County   North Carolina  \n",
       "95     Wake County   North Carolina  \n",
       "6   Chatham County   North Carolina  \n",
       "97  Watauga County   North Carolina  "
      ]
     },
     "execution_count": 18,
     "metadata": {},
     "output_type": "execute_result"
    }
   ],
   "source": [
    "cols_to_rename = {\n",
    "                   'DP02_0066PE':'% 25 or Older with Grad Degree (DP02_0066PE)', \n",
    "                   'state' :'FIPS_State',\n",
    "                   'county' :'FIPS_County'\n",
    "                 }\n",
    "df.rename(columns = cols_to_rename, inplace=True)\n",
    "\n",
    "print(df.shape)\n",
    "df.head()"
   ]
  },
  {
   "cell_type": "code",
   "execution_count": 19,
   "id": "733c1e75",
   "metadata": {},
   "outputs": [
    {
     "name": "stdout",
     "output_type": "stream",
     "text": [
      "Part 2: What are the Top 15 NC Counties for Percent of the Population 25 and over that have a Graduate or Professional Degree (2020)? \n",
      "(15, 4)\n"
     ]
    },
    {
     "data": {
      "text/html": [
       "<div>\n",
       "<style scoped>\n",
       "    .dataframe tbody tr th:only-of-type {\n",
       "        vertical-align: middle;\n",
       "    }\n",
       "\n",
       "    .dataframe tbody tr th {\n",
       "        vertical-align: top;\n",
       "    }\n",
       "\n",
       "    .dataframe thead th {\n",
       "        text-align: right;\n",
       "    }\n",
       "</style>\n",
       "<table border=\"1\" class=\"dataframe\">\n",
       "  <thead>\n",
       "    <tr style=\"text-align: right;\">\n",
       "      <th></th>\n",
       "      <th>County Name</th>\n",
       "      <th>% 25 or Older with Grad Degree (DP02_0066PE)</th>\n",
       "      <th>FIPS_County</th>\n",
       "      <th>FIPS_State</th>\n",
       "    </tr>\n",
       "  </thead>\n",
       "  <tbody>\n",
       "    <tr>\n",
       "      <th>74</th>\n",
       "      <td>Orange County</td>\n",
       "      <td>34.8</td>\n",
       "      <td>135</td>\n",
       "      <td>37</td>\n",
       "    </tr>\n",
       "    <tr>\n",
       "      <th>10</th>\n",
       "      <td>Durham County</td>\n",
       "      <td>23.7</td>\n",
       "      <td>063</td>\n",
       "      <td>37</td>\n",
       "    </tr>\n",
       "    <tr>\n",
       "      <th>95</th>\n",
       "      <td>Wake County</td>\n",
       "      <td>20.5</td>\n",
       "      <td>183</td>\n",
       "      <td>37</td>\n",
       "    </tr>\n",
       "    <tr>\n",
       "      <th>6</th>\n",
       "      <td>Chatham County</td>\n",
       "      <td>20.1</td>\n",
       "      <td>037</td>\n",
       "      <td>37</td>\n",
       "    </tr>\n",
       "    <tr>\n",
       "      <th>97</th>\n",
       "      <td>Watauga County</td>\n",
       "      <td>19.4</td>\n",
       "      <td>189</td>\n",
       "      <td>37</td>\n",
       "    </tr>\n",
       "    <tr>\n",
       "      <th>33</th>\n",
       "      <td>Buncombe County</td>\n",
       "      <td>16.3</td>\n",
       "      <td>021</td>\n",
       "      <td>37</td>\n",
       "    </tr>\n",
       "    <tr>\n",
       "      <th>19</th>\n",
       "      <td>Mecklenburg County</td>\n",
       "      <td>15.6</td>\n",
       "      <td>119</td>\n",
       "      <td>37</td>\n",
       "    </tr>\n",
       "    <tr>\n",
       "      <th>69</th>\n",
       "      <td>Moore County</td>\n",
       "      <td>14.6</td>\n",
       "      <td>125</td>\n",
       "      <td>37</td>\n",
       "    </tr>\n",
       "    <tr>\n",
       "      <th>71</th>\n",
       "      <td>New Hanover County</td>\n",
       "      <td>14.5</td>\n",
       "      <td>129</td>\n",
       "      <td>37</td>\n",
       "    </tr>\n",
       "    <tr>\n",
       "      <th>13</th>\n",
       "      <td>Guilford County</td>\n",
       "      <td>13.2</td>\n",
       "      <td>081</td>\n",
       "      <td>37</td>\n",
       "    </tr>\n",
       "    <tr>\n",
       "      <th>49</th>\n",
       "      <td>Forsyth County</td>\n",
       "      <td>12.9</td>\n",
       "      <td>067</td>\n",
       "      <td>37</td>\n",
       "    </tr>\n",
       "    <tr>\n",
       "      <th>92</th>\n",
       "      <td>Transylvania County</td>\n",
       "      <td>12.8</td>\n",
       "      <td>175</td>\n",
       "      <td>37</td>\n",
       "    </tr>\n",
       "    <tr>\n",
       "      <th>45</th>\n",
       "      <td>Dare County</td>\n",
       "      <td>12.7</td>\n",
       "      <td>055</td>\n",
       "      <td>37</td>\n",
       "    </tr>\n",
       "    <tr>\n",
       "      <th>60</th>\n",
       "      <td>Jackson County</td>\n",
       "      <td>12.7</td>\n",
       "      <td>099</td>\n",
       "      <td>37</td>\n",
       "    </tr>\n",
       "    <tr>\n",
       "      <th>4</th>\n",
       "      <td>Cabarrus County</td>\n",
       "      <td>12.3</td>\n",
       "      <td>025</td>\n",
       "      <td>37</td>\n",
       "    </tr>\n",
       "  </tbody>\n",
       "</table>\n",
       "</div>"
      ],
      "text/plain": [
       "0           County Name  % 25 or Older with Grad Degree (DP02_0066PE)  \\\n",
       "74        Orange County                                          34.8   \n",
       "10        Durham County                                          23.7   \n",
       "95          Wake County                                          20.5   \n",
       "6        Chatham County                                          20.1   \n",
       "97       Watauga County                                          19.4   \n",
       "33      Buncombe County                                          16.3   \n",
       "19   Mecklenburg County                                          15.6   \n",
       "69         Moore County                                          14.6   \n",
       "71   New Hanover County                                          14.5   \n",
       "13      Guilford County                                          13.2   \n",
       "49       Forsyth County                                          12.9   \n",
       "92  Transylvania County                                          12.8   \n",
       "45          Dare County                                          12.7   \n",
       "60       Jackson County                                          12.7   \n",
       "4       Cabarrus County                                          12.3   \n",
       "\n",
       "0  FIPS_County FIPS_State  \n",
       "74         135         37  \n",
       "10         063         37  \n",
       "95         183         37  \n",
       "6          037         37  \n",
       "97         189         37  \n",
       "33         021         37  \n",
       "19         119         37  \n",
       "69         125         37  \n",
       "71         129         37  \n",
       "13         081         37  \n",
       "49         067         37  \n",
       "92         175         37  \n",
       "45         055         37  \n",
       "60         099         37  \n",
       "4          025         37  "
      ]
     },
     "execution_count": 19,
     "metadata": {},
     "output_type": "execute_result"
    }
   ],
   "source": [
    "cols_to_keep = ['County Name', '% 25 or Older with Grad Degree (DP02_0066PE)', 'FIPS_County', 'FIPS_State']\n",
    "df = df[cols_to_keep]\n",
    "\n",
    "print(\"Part 2: What are the Top 15 NC Counties for Percent of the Population 25 and over that have a Graduate or Professional Degree (2020)? \")\n",
    "print(df.shape)\n",
    "df"
   ]
  }
 ],
 "metadata": {
  "kernelspec": {
   "display_name": "Python 3.9.12",
   "language": "python",
   "name": "python3"
  },
  "language_info": {
   "codemirror_mode": {
    "name": "ipython",
    "version": 3
   },
   "file_extension": ".py",
   "mimetype": "text/x-python",
   "name": "python",
   "nbconvert_exporter": "python",
   "pygments_lexer": "ipython3",
   "version": "3.9.12"
  },
  "vscode": {
   "interpreter": {
    "hash": "0ccba871b46202fe891a5da8f1fa45061240964d317113191dbecc63a04b0fa2"
   }
  }
 },
 "nbformat": 4,
 "nbformat_minor": 5
}
