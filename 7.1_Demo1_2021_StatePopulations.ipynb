{
 "cells": [
  {
   "cell_type": "markdown",
   "id": "469e933d-39d1-47db-a948-c8961b496dfc",
   "metadata": {},
   "source": [
    "# Demo 7.1 *2021* State Populations (*/2021/pep/population*)     \n",
    "- Vintage:  **2021**     \n"
   ]
  },
  {
   "cell_type": "code",
   "execution_count": 1,
   "id": "1f7ea856-0600-452b-b2ae-1572e6a679b4",
   "metadata": {},
   "outputs": [],
   "source": [
    "import pandas as pd\n",
    "import json\n",
    "import requests\n",
    "import pprint\n",
    "\n",
    "import plotly.express as px"
   ]
  },
  {
   "cell_type": "markdown",
   "id": "484de62a-4773-4958-a08d-5c486e9b23bb",
   "metadata": {},
   "source": [
    "# 1. Build the API Request URL"
   ]
  },
  {
   "cell_type": "markdown",
   "id": "4b14d038-60bb-4cc0-a6dd-94004f9bd803",
   "metadata": {},
   "source": [
    "### 1. Start your API Data Request  \n",
    "- Requests always begin with: https://api.census.gov/data  "
   ]
  },
  {
   "cell_type": "code",
   "execution_count": 2,
   "id": "ca765e9e-fd1c-4ce0-97d1-bc41525131ee",
   "metadata": {},
   "outputs": [],
   "source": [
    "base_url = \"https://api.census.gov/data\""
   ]
  },
  {
   "cell_type": "markdown",
   "id": "afebe9e0-98a7-432d-b211-73db3dfbafef",
   "metadata": {},
   "source": [
    "### 2. Add the Dataset Vintage Year and Name  "
   ]
  },
  {
   "cell_type": "code",
   "execution_count": 3,
   "id": "38c9a86f-d581-43d5-8459-d205fa25a10b",
   "metadata": {},
   "outputs": [],
   "source": [
    "dataset_name = \"/2021/pep/population\""
   ]
  },
  {
   "cell_type": "markdown",
   "id": "1d8ac627-cfa4-44de-8e69-6276ab0fd473",
   "metadata": {},
   "source": [
    "### 3. Start your Variable Request\n"
   ]
  },
  {
   "cell_type": "code",
   "execution_count": 4,
   "id": "daf2c356-61db-4fac-9461-d1f763d91d15",
   "metadata": {},
   "outputs": [],
   "source": [
    "get_start = \"?get=\""
   ]
  },
  {
   "cell_type": "markdown",
   "id": "2b620f7c-213d-4d63-aa61-49d97929dd9b",
   "metadata": {},
   "source": [
    "### 4. Add your Variables  \n",
    "- Available Variables for Dataset: https://api.census.gov/data/2021/pep/population/variables.html    \n"
   ]
  },
  {
   "cell_type": "code",
   "execution_count": 5,
   "id": "3112b5bc-43cb-4222-a1f0-f2c1225fc826",
   "metadata": {},
   "outputs": [],
   "source": [
    "get_variables = \"NAME,POP_2021\""
   ]
  },
  {
   "cell_type": "markdown",
   "id": "cdadd63b-d9d5-4912-b19a-f2ad7894cf39",
   "metadata": {},
   "source": [
    "###   5. Add your Geography  \n",
    "- Available Geographies for Dataset:  https://api.census.gov/data/2021/pep/population/geography.html  \n",
    "\n"
   ]
  },
  {
   "cell_type": "code",
   "execution_count": 6,
   "id": "2ecb8924-df52-49f4-8c71-07fa99e9201d",
   "metadata": {},
   "outputs": [],
   "source": [
    "geography = \"&for=state:*\""
   ]
  },
  {
   "cell_type": "markdown",
   "id": "d9165204-24a1-43f4-8f3d-068aaf9920dc",
   "metadata": {},
   "source": [
    "###   6. Put it all Together and Test  \n",
    "- Click the Link below to see if you formed the API correctly and if the data coming back is what you want."
   ]
  },
  {
   "cell_type": "code",
   "execution_count": 7,
   "id": "3901e745-60dd-4938-90a1-c56d1b86892c",
   "metadata": {},
   "outputs": [
    {
     "name": "stdout",
     "output_type": "stream",
     "text": [
      "request_url =  https://api.census.gov/data/2021/pep/population?get=NAME,POP_2021&for=state:*\n"
     ]
    }
   ],
   "source": [
    "request_url = base_url + dataset_name + get_start + get_variables + geography\n",
    "print(\"request_url = \", request_url)"
   ]
  },
  {
   "cell_type": "markdown",
   "id": "a3df3db3-7861-4302-83ed-5d7f27c781ed",
   "metadata": {},
   "source": [
    "# 2. Use *requests* library to make the API call"
   ]
  },
  {
   "cell_type": "code",
   "execution_count": 8,
   "id": "9903734f-1da9-47a6-9563-1d7bc7cfc6ab",
   "metadata": {},
   "outputs": [],
   "source": [
    "# Make API Call\n",
    "r = requests.get(request_url)\n",
    "\n",
    "api_results = r.json()"
   ]
  },
  {
   "cell_type": "code",
   "execution_count": 9,
   "id": "f5c36728-947f-48f9-bfd8-5b658b5f2d89",
   "metadata": {},
   "outputs": [
    {
     "name": "stdout",
     "output_type": "stream",
     "text": [
      "[['NAME', 'POP_2021', 'state'], ['Oklahoma', '3986639', '40'], ['Nebraska', '1963692', '31'], ['Hawaii', '1441553', '15'], ['South Dakota', '895376', '46'], ['Tennessee', '6975218', '47'], ['Nevada', '3143991', '32'], ['New Mexico', '2115877', '35'], ['Iowa', '3193079', '19'], ['Kansas', '2934582', '20'], ['District of Columbia', '670050', '11'], ['Texas', '29527941', '48'], ['Missouri', '6168187', '29'], ['Arkansas', '3025891', '05'], ['Michigan', '10050811', '26'], ['New Hampshire', '1388992', '33'], ['North Carolina', '10551162', '37'], ['Ohio', '11780017', '39'], ['South Carolina', '5190705', '45'], ['Wyoming', '578803', '56'], ['California', '39237836', '06'], ['North Dakota', '774948', '38'], ['Louisiana', '4624047', '22'], ['Maryland', '6165129', '24'], ['Delaware', '1003384', '10'], ['Pennsylvania', '12964056', '42'], ['Georgia', '10799566', '13'], ['Oregon', '4246155', '41'], ['Minnesota', '5707390', '27'], ['Colorado', '5812069', '08'], ['New Jersey', '9267130', '34'], ['Kentucky', '4509394', '21'], ['Washington', '7738692', '53'], ['Maine', '1372247', '23'], ['Vermont', '645570', '50'], ['Idaho', '1900923', '16'], ['Indiana', '6805985', '18'], ['Montana', '1104271', '30'], ['New York', '19835913', '36'], ['Puerto Rico', '3263584', '72'], ['Connecticut', '3605597', '09'], ['Florida', '21781128', '12'], ['Virginia', '8642274', '51'], ['Massachusetts', '6984723', '25'], ['Illinois', '12671469', '17'], ['Mississippi', '2949965', '28'], ['Arizona', '7276316', '04'], ['Utah', '3337975', '49'], ['Wisconsin', '5895908', '55'], ['Alabama', '5039877', '01'], ['West Virginia', '1782959', '54'], ['Rhode Island', '1095610', '44'], ['Alaska', '732673', '02']]\n"
     ]
    }
   ],
   "source": [
    "print(api_results)"
   ]
  },
  {
   "cell_type": "code",
   "execution_count": 11,
   "id": "fb5d2f24-c45a-4d00-9d4d-54c12cea72c2",
   "metadata": {},
   "outputs": [],
   "source": [
    "# pprint makes it possible to see the structure of the returned data -- but it can be very, very long!\n",
    "# pprint.pprint(api_results)"
   ]
  },
  {
   "cell_type": "markdown",
   "id": "ddb20002-445a-44d9-af2d-ca97634ce913",
   "metadata": {},
   "source": [
    "# 3. Get the data into a Dataframe  \n",
    "- These Census Data results are in a list and have a specific form:  \n",
    "  - The first element is a list of column names  \n",
    "  - The remaining list elements are data  \n",
    "  \n",
    "  "
   ]
  },
  {
   "cell_type": "code",
   "execution_count": 12,
   "id": "95187ba2-409d-494d-9d5b-db31eaa00f4c",
   "metadata": {},
   "outputs": [
    {
     "name": "stdout",
     "output_type": "stream",
     "text": [
      "(53, 3)\n"
     ]
    },
    {
     "data": {
      "text/html": [
       "<div>\n",
       "<style scoped>\n",
       "    .dataframe tbody tr th:only-of-type {\n",
       "        vertical-align: middle;\n",
       "    }\n",
       "\n",
       "    .dataframe tbody tr th {\n",
       "        vertical-align: top;\n",
       "    }\n",
       "\n",
       "    .dataframe thead th {\n",
       "        text-align: right;\n",
       "    }\n",
       "</style>\n",
       "<table border=\"1\" class=\"dataframe\">\n",
       "  <thead>\n",
       "    <tr style=\"text-align: right;\">\n",
       "      <th></th>\n",
       "      <th>0</th>\n",
       "      <th>1</th>\n",
       "      <th>2</th>\n",
       "    </tr>\n",
       "  </thead>\n",
       "  <tbody>\n",
       "    <tr>\n",
       "      <th>0</th>\n",
       "      <td>NAME</td>\n",
       "      <td>POP_2021</td>\n",
       "      <td>state</td>\n",
       "    </tr>\n",
       "    <tr>\n",
       "      <th>1</th>\n",
       "      <td>Oklahoma</td>\n",
       "      <td>3986639</td>\n",
       "      <td>40</td>\n",
       "    </tr>\n",
       "    <tr>\n",
       "      <th>2</th>\n",
       "      <td>Nebraska</td>\n",
       "      <td>1963692</td>\n",
       "      <td>31</td>\n",
       "    </tr>\n",
       "    <tr>\n",
       "      <th>3</th>\n",
       "      <td>Hawaii</td>\n",
       "      <td>1441553</td>\n",
       "      <td>15</td>\n",
       "    </tr>\n",
       "    <tr>\n",
       "      <th>4</th>\n",
       "      <td>South Dakota</td>\n",
       "      <td>895376</td>\n",
       "      <td>46</td>\n",
       "    </tr>\n",
       "  </tbody>\n",
       "</table>\n",
       "</div>"
      ],
      "text/plain": [
       "              0         1      2\n",
       "0          NAME  POP_2021  state\n",
       "1      Oklahoma   3986639     40\n",
       "2      Nebraska   1963692     31\n",
       "3        Hawaii   1441553     15\n",
       "4  South Dakota    895376     46"
      ]
     },
     "execution_count": 12,
     "metadata": {},
     "output_type": "execute_result"
    }
   ],
   "source": [
    "df = pd.DataFrame(api_results)\n",
    "\n",
    "print(df.shape)\n",
    "df.head()"
   ]
  },
  {
   "cell_type": "markdown",
   "id": "16b4b769-3112-4283-b8f8-ec3d3360796d",
   "metadata": {},
   "source": [
    "# 4. Get the first Row into columns and then get rid of it"
   ]
  },
  {
   "cell_type": "markdown",
   "id": "53fe3015-91ef-4ce9-b0af-a56f3944b604",
   "metadata": {},
   "source": [
    "### a. Grab the Column Names out of the First Row of the Dataframe\n",
    "- Use iloc to point to the first row of the dataframe "
   ]
  },
  {
   "cell_type": "code",
   "execution_count": 14,
   "id": "bbd9e96e-35f6-49aa-bdaa-74ae513a61bc",
   "metadata": {},
   "outputs": [
    {
     "name": "stdout",
     "output_type": "stream",
     "text": [
      "0        NAME\n",
      "1    POP_2021\n",
      "2       state\n",
      "Name: 0, dtype: object\n"
     ]
    }
   ],
   "source": [
    "column_names = df.iloc[0]\n",
    "\n",
    "print(column_names)"
   ]
  },
  {
   "cell_type": "markdown",
   "id": "26839566-eaf0-425a-a93d-9a0375e46bb3",
   "metadata": {},
   "source": [
    "### b. Set the columns property of the Dataframe equal to the column names we grabbed  "
   ]
  },
  {
   "cell_type": "code",
   "execution_count": 15,
   "id": "36f85968-0771-4dd3-99ea-0aa8787c6a68",
   "metadata": {},
   "outputs": [
    {
     "name": "stdout",
     "output_type": "stream",
     "text": [
      "(53, 3)\n"
     ]
    },
    {
     "data": {
      "text/html": [
       "<div>\n",
       "<style scoped>\n",
       "    .dataframe tbody tr th:only-of-type {\n",
       "        vertical-align: middle;\n",
       "    }\n",
       "\n",
       "    .dataframe tbody tr th {\n",
       "        vertical-align: top;\n",
       "    }\n",
       "\n",
       "    .dataframe thead th {\n",
       "        text-align: right;\n",
       "    }\n",
       "</style>\n",
       "<table border=\"1\" class=\"dataframe\">\n",
       "  <thead>\n",
       "    <tr style=\"text-align: right;\">\n",
       "      <th></th>\n",
       "      <th>NAME</th>\n",
       "      <th>POP_2021</th>\n",
       "      <th>state</th>\n",
       "    </tr>\n",
       "  </thead>\n",
       "  <tbody>\n",
       "    <tr>\n",
       "      <th>0</th>\n",
       "      <td>NAME</td>\n",
       "      <td>POP_2021</td>\n",
       "      <td>state</td>\n",
       "    </tr>\n",
       "    <tr>\n",
       "      <th>1</th>\n",
       "      <td>Oklahoma</td>\n",
       "      <td>3986639</td>\n",
       "      <td>40</td>\n",
       "    </tr>\n",
       "    <tr>\n",
       "      <th>2</th>\n",
       "      <td>Nebraska</td>\n",
       "      <td>1963692</td>\n",
       "      <td>31</td>\n",
       "    </tr>\n",
       "    <tr>\n",
       "      <th>3</th>\n",
       "      <td>Hawaii</td>\n",
       "      <td>1441553</td>\n",
       "      <td>15</td>\n",
       "    </tr>\n",
       "    <tr>\n",
       "      <th>4</th>\n",
       "      <td>South Dakota</td>\n",
       "      <td>895376</td>\n",
       "      <td>46</td>\n",
       "    </tr>\n",
       "  </tbody>\n",
       "</table>\n",
       "</div>"
      ],
      "text/plain": [
       "0          NAME  POP_2021  state\n",
       "0          NAME  POP_2021  state\n",
       "1      Oklahoma   3986639     40\n",
       "2      Nebraska   1963692     31\n",
       "3        Hawaii   1441553     15\n",
       "4  South Dakota    895376     46"
      ]
     },
     "execution_count": 15,
     "metadata": {},
     "output_type": "execute_result"
    }
   ],
   "source": [
    "df.columns = column_names\n",
    "\n",
    "print(df.shape)\n",
    "df.head()"
   ]
  },
  {
   "cell_type": "markdown",
   "id": "46a781ee-92ed-4210-ab1c-2e639b8e1a8a",
   "metadata": {},
   "source": [
    "### c. Now Get Rid of the First Row of the Dataframe"
   ]
  },
  {
   "cell_type": "code",
   "execution_count": 16,
   "id": "4d9877a4-1841-450b-a9d7-3d67c4d13e02",
   "metadata": {},
   "outputs": [
    {
     "name": "stdout",
     "output_type": "stream",
     "text": [
      "7.1 Demo:  2021 State Populations\n",
      "(52, 3)\n"
     ]
    },
    {
     "data": {
      "text/html": [
       "<div>\n",
       "<style scoped>\n",
       "    .dataframe tbody tr th:only-of-type {\n",
       "        vertical-align: middle;\n",
       "    }\n",
       "\n",
       "    .dataframe tbody tr th {\n",
       "        vertical-align: top;\n",
       "    }\n",
       "\n",
       "    .dataframe thead th {\n",
       "        text-align: right;\n",
       "    }\n",
       "</style>\n",
       "<table border=\"1\" class=\"dataframe\">\n",
       "  <thead>\n",
       "    <tr style=\"text-align: right;\">\n",
       "      <th></th>\n",
       "      <th>NAME</th>\n",
       "      <th>POP_2021</th>\n",
       "      <th>state</th>\n",
       "    </tr>\n",
       "  </thead>\n",
       "  <tbody>\n",
       "    <tr>\n",
       "      <th>1</th>\n",
       "      <td>Oklahoma</td>\n",
       "      <td>3986639</td>\n",
       "      <td>40</td>\n",
       "    </tr>\n",
       "    <tr>\n",
       "      <th>2</th>\n",
       "      <td>Nebraska</td>\n",
       "      <td>1963692</td>\n",
       "      <td>31</td>\n",
       "    </tr>\n",
       "    <tr>\n",
       "      <th>3</th>\n",
       "      <td>Hawaii</td>\n",
       "      <td>1441553</td>\n",
       "      <td>15</td>\n",
       "    </tr>\n",
       "    <tr>\n",
       "      <th>4</th>\n",
       "      <td>South Dakota</td>\n",
       "      <td>895376</td>\n",
       "      <td>46</td>\n",
       "    </tr>\n",
       "    <tr>\n",
       "      <th>5</th>\n",
       "      <td>Tennessee</td>\n",
       "      <td>6975218</td>\n",
       "      <td>47</td>\n",
       "    </tr>\n",
       "    <tr>\n",
       "      <th>6</th>\n",
       "      <td>Nevada</td>\n",
       "      <td>3143991</td>\n",
       "      <td>32</td>\n",
       "    </tr>\n",
       "    <tr>\n",
       "      <th>7</th>\n",
       "      <td>New Mexico</td>\n",
       "      <td>2115877</td>\n",
       "      <td>35</td>\n",
       "    </tr>\n",
       "    <tr>\n",
       "      <th>8</th>\n",
       "      <td>Iowa</td>\n",
       "      <td>3193079</td>\n",
       "      <td>19</td>\n",
       "    </tr>\n",
       "    <tr>\n",
       "      <th>9</th>\n",
       "      <td>Kansas</td>\n",
       "      <td>2934582</td>\n",
       "      <td>20</td>\n",
       "    </tr>\n",
       "    <tr>\n",
       "      <th>10</th>\n",
       "      <td>District of Columbia</td>\n",
       "      <td>670050</td>\n",
       "      <td>11</td>\n",
       "    </tr>\n",
       "    <tr>\n",
       "      <th>11</th>\n",
       "      <td>Texas</td>\n",
       "      <td>29527941</td>\n",
       "      <td>48</td>\n",
       "    </tr>\n",
       "    <tr>\n",
       "      <th>12</th>\n",
       "      <td>Missouri</td>\n",
       "      <td>6168187</td>\n",
       "      <td>29</td>\n",
       "    </tr>\n",
       "    <tr>\n",
       "      <th>13</th>\n",
       "      <td>Arkansas</td>\n",
       "      <td>3025891</td>\n",
       "      <td>05</td>\n",
       "    </tr>\n",
       "    <tr>\n",
       "      <th>14</th>\n",
       "      <td>Michigan</td>\n",
       "      <td>10050811</td>\n",
       "      <td>26</td>\n",
       "    </tr>\n",
       "    <tr>\n",
       "      <th>15</th>\n",
       "      <td>New Hampshire</td>\n",
       "      <td>1388992</td>\n",
       "      <td>33</td>\n",
       "    </tr>\n",
       "    <tr>\n",
       "      <th>16</th>\n",
       "      <td>North Carolina</td>\n",
       "      <td>10551162</td>\n",
       "      <td>37</td>\n",
       "    </tr>\n",
       "    <tr>\n",
       "      <th>17</th>\n",
       "      <td>Ohio</td>\n",
       "      <td>11780017</td>\n",
       "      <td>39</td>\n",
       "    </tr>\n",
       "    <tr>\n",
       "      <th>18</th>\n",
       "      <td>South Carolina</td>\n",
       "      <td>5190705</td>\n",
       "      <td>45</td>\n",
       "    </tr>\n",
       "    <tr>\n",
       "      <th>19</th>\n",
       "      <td>Wyoming</td>\n",
       "      <td>578803</td>\n",
       "      <td>56</td>\n",
       "    </tr>\n",
       "    <tr>\n",
       "      <th>20</th>\n",
       "      <td>California</td>\n",
       "      <td>39237836</td>\n",
       "      <td>06</td>\n",
       "    </tr>\n",
       "    <tr>\n",
       "      <th>21</th>\n",
       "      <td>North Dakota</td>\n",
       "      <td>774948</td>\n",
       "      <td>38</td>\n",
       "    </tr>\n",
       "    <tr>\n",
       "      <th>22</th>\n",
       "      <td>Louisiana</td>\n",
       "      <td>4624047</td>\n",
       "      <td>22</td>\n",
       "    </tr>\n",
       "    <tr>\n",
       "      <th>23</th>\n",
       "      <td>Maryland</td>\n",
       "      <td>6165129</td>\n",
       "      <td>24</td>\n",
       "    </tr>\n",
       "    <tr>\n",
       "      <th>24</th>\n",
       "      <td>Delaware</td>\n",
       "      <td>1003384</td>\n",
       "      <td>10</td>\n",
       "    </tr>\n",
       "    <tr>\n",
       "      <th>25</th>\n",
       "      <td>Pennsylvania</td>\n",
       "      <td>12964056</td>\n",
       "      <td>42</td>\n",
       "    </tr>\n",
       "    <tr>\n",
       "      <th>26</th>\n",
       "      <td>Georgia</td>\n",
       "      <td>10799566</td>\n",
       "      <td>13</td>\n",
       "    </tr>\n",
       "    <tr>\n",
       "      <th>27</th>\n",
       "      <td>Oregon</td>\n",
       "      <td>4246155</td>\n",
       "      <td>41</td>\n",
       "    </tr>\n",
       "    <tr>\n",
       "      <th>28</th>\n",
       "      <td>Minnesota</td>\n",
       "      <td>5707390</td>\n",
       "      <td>27</td>\n",
       "    </tr>\n",
       "    <tr>\n",
       "      <th>29</th>\n",
       "      <td>Colorado</td>\n",
       "      <td>5812069</td>\n",
       "      <td>08</td>\n",
       "    </tr>\n",
       "    <tr>\n",
       "      <th>30</th>\n",
       "      <td>New Jersey</td>\n",
       "      <td>9267130</td>\n",
       "      <td>34</td>\n",
       "    </tr>\n",
       "    <tr>\n",
       "      <th>31</th>\n",
       "      <td>Kentucky</td>\n",
       "      <td>4509394</td>\n",
       "      <td>21</td>\n",
       "    </tr>\n",
       "    <tr>\n",
       "      <th>32</th>\n",
       "      <td>Washington</td>\n",
       "      <td>7738692</td>\n",
       "      <td>53</td>\n",
       "    </tr>\n",
       "    <tr>\n",
       "      <th>33</th>\n",
       "      <td>Maine</td>\n",
       "      <td>1372247</td>\n",
       "      <td>23</td>\n",
       "    </tr>\n",
       "    <tr>\n",
       "      <th>34</th>\n",
       "      <td>Vermont</td>\n",
       "      <td>645570</td>\n",
       "      <td>50</td>\n",
       "    </tr>\n",
       "    <tr>\n",
       "      <th>35</th>\n",
       "      <td>Idaho</td>\n",
       "      <td>1900923</td>\n",
       "      <td>16</td>\n",
       "    </tr>\n",
       "    <tr>\n",
       "      <th>36</th>\n",
       "      <td>Indiana</td>\n",
       "      <td>6805985</td>\n",
       "      <td>18</td>\n",
       "    </tr>\n",
       "    <tr>\n",
       "      <th>37</th>\n",
       "      <td>Montana</td>\n",
       "      <td>1104271</td>\n",
       "      <td>30</td>\n",
       "    </tr>\n",
       "    <tr>\n",
       "      <th>38</th>\n",
       "      <td>New York</td>\n",
       "      <td>19835913</td>\n",
       "      <td>36</td>\n",
       "    </tr>\n",
       "    <tr>\n",
       "      <th>39</th>\n",
       "      <td>Puerto Rico</td>\n",
       "      <td>3263584</td>\n",
       "      <td>72</td>\n",
       "    </tr>\n",
       "    <tr>\n",
       "      <th>40</th>\n",
       "      <td>Connecticut</td>\n",
       "      <td>3605597</td>\n",
       "      <td>09</td>\n",
       "    </tr>\n",
       "    <tr>\n",
       "      <th>41</th>\n",
       "      <td>Florida</td>\n",
       "      <td>21781128</td>\n",
       "      <td>12</td>\n",
       "    </tr>\n",
       "    <tr>\n",
       "      <th>42</th>\n",
       "      <td>Virginia</td>\n",
       "      <td>8642274</td>\n",
       "      <td>51</td>\n",
       "    </tr>\n",
       "    <tr>\n",
       "      <th>43</th>\n",
       "      <td>Massachusetts</td>\n",
       "      <td>6984723</td>\n",
       "      <td>25</td>\n",
       "    </tr>\n",
       "    <tr>\n",
       "      <th>44</th>\n",
       "      <td>Illinois</td>\n",
       "      <td>12671469</td>\n",
       "      <td>17</td>\n",
       "    </tr>\n",
       "    <tr>\n",
       "      <th>45</th>\n",
       "      <td>Mississippi</td>\n",
       "      <td>2949965</td>\n",
       "      <td>28</td>\n",
       "    </tr>\n",
       "    <tr>\n",
       "      <th>46</th>\n",
       "      <td>Arizona</td>\n",
       "      <td>7276316</td>\n",
       "      <td>04</td>\n",
       "    </tr>\n",
       "    <tr>\n",
       "      <th>47</th>\n",
       "      <td>Utah</td>\n",
       "      <td>3337975</td>\n",
       "      <td>49</td>\n",
       "    </tr>\n",
       "    <tr>\n",
       "      <th>48</th>\n",
       "      <td>Wisconsin</td>\n",
       "      <td>5895908</td>\n",
       "      <td>55</td>\n",
       "    </tr>\n",
       "    <tr>\n",
       "      <th>49</th>\n",
       "      <td>Alabama</td>\n",
       "      <td>5039877</td>\n",
       "      <td>01</td>\n",
       "    </tr>\n",
       "    <tr>\n",
       "      <th>50</th>\n",
       "      <td>West Virginia</td>\n",
       "      <td>1782959</td>\n",
       "      <td>54</td>\n",
       "    </tr>\n",
       "    <tr>\n",
       "      <th>51</th>\n",
       "      <td>Rhode Island</td>\n",
       "      <td>1095610</td>\n",
       "      <td>44</td>\n",
       "    </tr>\n",
       "    <tr>\n",
       "      <th>52</th>\n",
       "      <td>Alaska</td>\n",
       "      <td>732673</td>\n",
       "      <td>02</td>\n",
       "    </tr>\n",
       "  </tbody>\n",
       "</table>\n",
       "</div>"
      ],
      "text/plain": [
       "0                   NAME  POP_2021 state\n",
       "1               Oklahoma   3986639    40\n",
       "2               Nebraska   1963692    31\n",
       "3                 Hawaii   1441553    15\n",
       "4           South Dakota    895376    46\n",
       "5              Tennessee   6975218    47\n",
       "6                 Nevada   3143991    32\n",
       "7             New Mexico   2115877    35\n",
       "8                   Iowa   3193079    19\n",
       "9                 Kansas   2934582    20\n",
       "10  District of Columbia    670050    11\n",
       "11                 Texas  29527941    48\n",
       "12              Missouri   6168187    29\n",
       "13              Arkansas   3025891    05\n",
       "14              Michigan  10050811    26\n",
       "15         New Hampshire   1388992    33\n",
       "16        North Carolina  10551162    37\n",
       "17                  Ohio  11780017    39\n",
       "18        South Carolina   5190705    45\n",
       "19               Wyoming    578803    56\n",
       "20            California  39237836    06\n",
       "21          North Dakota    774948    38\n",
       "22             Louisiana   4624047    22\n",
       "23              Maryland   6165129    24\n",
       "24              Delaware   1003384    10\n",
       "25          Pennsylvania  12964056    42\n",
       "26               Georgia  10799566    13\n",
       "27                Oregon   4246155    41\n",
       "28             Minnesota   5707390    27\n",
       "29              Colorado   5812069    08\n",
       "30            New Jersey   9267130    34\n",
       "31              Kentucky   4509394    21\n",
       "32            Washington   7738692    53\n",
       "33                 Maine   1372247    23\n",
       "34               Vermont    645570    50\n",
       "35                 Idaho   1900923    16\n",
       "36               Indiana   6805985    18\n",
       "37               Montana   1104271    30\n",
       "38              New York  19835913    36\n",
       "39           Puerto Rico   3263584    72\n",
       "40           Connecticut   3605597    09\n",
       "41               Florida  21781128    12\n",
       "42              Virginia   8642274    51\n",
       "43         Massachusetts   6984723    25\n",
       "44              Illinois  12671469    17\n",
       "45           Mississippi   2949965    28\n",
       "46               Arizona   7276316    04\n",
       "47                  Utah   3337975    49\n",
       "48             Wisconsin   5895908    55\n",
       "49               Alabama   5039877    01\n",
       "50         West Virginia   1782959    54\n",
       "51          Rhode Island   1095610    44\n",
       "52                Alaska    732673    02"
      ]
     },
     "execution_count": 16,
     "metadata": {},
     "output_type": "execute_result"
    }
   ],
   "source": [
    "df = df.iloc[1:]\n",
    "\n",
    "print(\"7.1 Demo:  2021 State Populations\")\n",
    "print(df.shape)\n",
    "df"
   ]
  },
  {
   "cell_type": "markdown",
   "id": "73503627-799a-4464-afa2-f1130105ce72",
   "metadata": {},
   "source": [
    "# Optional:  Save the Joined Dataframe as a CSV file"
   ]
  },
  {
   "cell_type": "code",
   "execution_count": 15,
   "id": "a6d0202a-64e4-4e6a-a2ab-b1549c0594fe",
   "metadata": {},
   "outputs": [],
   "source": [
    "#csv_file_to_create = \"6.1_Demo_Output_Data.csv\"\n",
    "\n",
    "#filename_with_path = \"Data/\" + csv_file_to_create\n",
    "#df.to_csv(filename_with_path, index=False)"
   ]
  }
 ],
 "metadata": {
  "kernelspec": {
   "display_name": "Python 3.9.12",
   "language": "python",
   "name": "python3"
  },
  "language_info": {
   "codemirror_mode": {
    "name": "ipython",
    "version": 3
   },
   "file_extension": ".py",
   "mimetype": "text/x-python",
   "name": "python",
   "nbconvert_exporter": "python",
   "pygments_lexer": "ipython3",
   "version": "3.9.12"
  },
  "vscode": {
   "interpreter": {
    "hash": "0ccba871b46202fe891a5da8f1fa45061240964d317113191dbecc63a04b0fa2"
   }
  }
 },
 "nbformat": 4,
 "nbformat_minor": 5
}
