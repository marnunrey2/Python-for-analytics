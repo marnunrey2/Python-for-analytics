{
 "cells": [
  {
   "cell_type": "markdown",
   "id": "469e933d-39d1-47db-a948-c8961b496dfc",
   "metadata": {},
   "source": [
    "# Ex 7.1: Part II (Outside Class)"
   ]
  },
  {
   "cell_type": "code",
   "execution_count": 1,
   "id": "1f7ea856-0600-452b-b2ae-1572e6a679b4",
   "metadata": {},
   "outputs": [],
   "source": [
    "import pandas as pd\n",
    "import json\n",
    "import requests\n",
    "import pprint\n",
    "\n",
    "import plotly.express as px"
   ]
  },
  {
   "cell_type": "markdown",
   "id": "484de62a-4773-4958-a08d-5c486e9b23bb",
   "metadata": {},
   "source": [
    "# 1. Build the API Request URL"
   ]
  },
  {
   "cell_type": "markdown",
   "id": "4b14d038-60bb-4cc0-a6dd-94004f9bd803",
   "metadata": {},
   "source": [
    "### 1. Start your API Data Request  \n",
    "- Requests always begin with: https://api.census.gov/data  "
   ]
  },
  {
   "cell_type": "code",
   "execution_count": 2,
   "id": "ca765e9e-fd1c-4ce0-97d1-bc41525131ee",
   "metadata": {},
   "outputs": [],
   "source": [
    "base_url = \"https://api.census.gov/data\""
   ]
  },
  {
   "cell_type": "markdown",
   "id": "afebe9e0-98a7-432d-b211-73db3dfbafef",
   "metadata": {},
   "source": [
    "### 2. Add the Dataset Vintage Year and Name  "
   ]
  },
  {
   "cell_type": "code",
   "execution_count": 3,
   "id": "38c9a86f-d581-43d5-8459-d205fa25a10b",
   "metadata": {},
   "outputs": [],
   "source": [
    "dataset_name = \"/2019/pep/population\""
   ]
  },
  {
   "cell_type": "markdown",
   "id": "1d8ac627-cfa4-44de-8e69-6276ab0fd473",
   "metadata": {},
   "source": [
    "### 3. Start your Variable Request\n"
   ]
  },
  {
   "cell_type": "code",
   "execution_count": 4,
   "id": "daf2c356-61db-4fac-9461-d1f763d91d15",
   "metadata": {},
   "outputs": [],
   "source": [
    "get_start = \"?get=\""
   ]
  },
  {
   "cell_type": "markdown",
   "id": "2b620f7c-213d-4d63-aa61-49d97929dd9b",
   "metadata": {},
   "source": [
    "### 4. Add your Variables  \n",
    "- Available Variables for Dataset: https://api.census.gov/data/2019/pep/population/variables.html\n"
   ]
  },
  {
   "cell_type": "code",
   "execution_count": 5,
   "id": "3112b5bc-43cb-4222-a1f0-f2c1225fc826",
   "metadata": {},
   "outputs": [],
   "source": [
    "get_variables = \"NAME,POP\""
   ]
  },
  {
   "cell_type": "markdown",
   "id": "cdadd63b-d9d5-4912-b19a-f2ad7894cf39",
   "metadata": {},
   "source": [
    "###   5. Add your Geography  \n",
    "- Available Geographies for Dataset:  https://api.census.gov/data/2021/pep/population/geography.html  \n",
    "\n"
   ]
  },
  {
   "cell_type": "code",
   "execution_count": 6,
   "id": "2ecb8924-df52-49f4-8c71-07fa99e9201d",
   "metadata": {},
   "outputs": [],
   "source": [
    "geography = \"&for=county:*\""
   ]
  },
  {
   "cell_type": "markdown",
   "id": "d9165204-24a1-43f4-8f3d-068aaf9920dc",
   "metadata": {},
   "source": [
    "###   6. Put it all Together and Test  \n",
    "- Click the Link below to see if you formed the API correctly and if the data coming back is what you want."
   ]
  },
  {
   "cell_type": "code",
   "execution_count": 7,
   "id": "3901e745-60dd-4938-90a1-c56d1b86892c",
   "metadata": {},
   "outputs": [
    {
     "name": "stdout",
     "output_type": "stream",
     "text": [
      "request_url =  https://api.census.gov/data/2019/pep/population?get=NAME,POP&for=county:*\n"
     ]
    }
   ],
   "source": [
    "request_url = base_url + dataset_name + get_start + get_variables + geography\n",
    "print(\"request_url = \", request_url)"
   ]
  },
  {
   "cell_type": "markdown",
   "id": "a3df3db3-7861-4302-83ed-5d7f27c781ed",
   "metadata": {},
   "source": [
    "# 2. Use *requests* library to make the API call"
   ]
  },
  {
   "cell_type": "code",
   "execution_count": 8,
   "id": "9903734f-1da9-47a6-9563-1d7bc7cfc6ab",
   "metadata": {},
   "outputs": [],
   "source": [
    "# Make API Call\n",
    "r = requests.get(request_url)\n",
    "\n",
    "api_results = r.json()"
   ]
  },
  {
   "cell_type": "code",
   "execution_count": 9,
   "id": "f5c36728-947f-48f9-bfd8-5b658b5f2d89",
   "metadata": {},
   "outputs": [],
   "source": [
    "#print(api_results)"
   ]
  },
  {
   "cell_type": "code",
   "execution_count": 10,
   "id": "fb5d2f24-c45a-4d00-9d4d-54c12cea72c2",
   "metadata": {},
   "outputs": [],
   "source": [
    "# pprint makes it possible to see the structure of the returned data -- but it can be very, very long!\n",
    "# pprint.pprint(api_results)"
   ]
  },
  {
   "cell_type": "markdown",
   "id": "ddb20002-445a-44d9-af2d-ca97634ce913",
   "metadata": {},
   "source": [
    "# 3. Get the data into a Dataframe  \n",
    "- These Census Data results are in a list and have a specific form:  \n",
    "  - The first element is a list of column names  \n",
    "  - The remaining list elements are data  \n",
    "  \n",
    "  "
   ]
  },
  {
   "cell_type": "code",
   "execution_count": 11,
   "id": "95187ba2-409d-494d-9d5b-db31eaa00f4c",
   "metadata": {},
   "outputs": [
    {
     "name": "stdout",
     "output_type": "stream",
     "text": [
      "(3221, 4)\n"
     ]
    },
    {
     "data": {
      "text/html": [
       "<div>\n",
       "<style scoped>\n",
       "    .dataframe tbody tr th:only-of-type {\n",
       "        vertical-align: middle;\n",
       "    }\n",
       "\n",
       "    .dataframe tbody tr th {\n",
       "        vertical-align: top;\n",
       "    }\n",
       "\n",
       "    .dataframe thead th {\n",
       "        text-align: right;\n",
       "    }\n",
       "</style>\n",
       "<table border=\"1\" class=\"dataframe\">\n",
       "  <thead>\n",
       "    <tr style=\"text-align: right;\">\n",
       "      <th></th>\n",
       "      <th>0</th>\n",
       "      <th>1</th>\n",
       "      <th>2</th>\n",
       "      <th>3</th>\n",
       "    </tr>\n",
       "  </thead>\n",
       "  <tbody>\n",
       "    <tr>\n",
       "      <th>0</th>\n",
       "      <td>NAME</td>\n",
       "      <td>POP</td>\n",
       "      <td>state</td>\n",
       "      <td>county</td>\n",
       "    </tr>\n",
       "    <tr>\n",
       "      <th>1</th>\n",
       "      <td>Fayette County, Illinois</td>\n",
       "      <td>21336</td>\n",
       "      <td>17</td>\n",
       "      <td>051</td>\n",
       "    </tr>\n",
       "    <tr>\n",
       "      <th>2</th>\n",
       "      <td>Logan County, Illinois</td>\n",
       "      <td>28618</td>\n",
       "      <td>17</td>\n",
       "      <td>107</td>\n",
       "    </tr>\n",
       "    <tr>\n",
       "      <th>3</th>\n",
       "      <td>Saline County, Illinois</td>\n",
       "      <td>23491</td>\n",
       "      <td>17</td>\n",
       "      <td>165</td>\n",
       "    </tr>\n",
       "    <tr>\n",
       "      <th>4</th>\n",
       "      <td>Lake County, Illinois</td>\n",
       "      <td>696535</td>\n",
       "      <td>17</td>\n",
       "      <td>097</td>\n",
       "    </tr>\n",
       "  </tbody>\n",
       "</table>\n",
       "</div>"
      ],
      "text/plain": [
       "                          0       1      2       3\n",
       "0                      NAME     POP  state  county\n",
       "1  Fayette County, Illinois   21336     17     051\n",
       "2    Logan County, Illinois   28618     17     107\n",
       "3   Saline County, Illinois   23491     17     165\n",
       "4     Lake County, Illinois  696535     17     097"
      ]
     },
     "execution_count": 11,
     "metadata": {},
     "output_type": "execute_result"
    }
   ],
   "source": [
    "df = pd.DataFrame(api_results)\n",
    "\n",
    "print(df.shape)\n",
    "df.head()"
   ]
  },
  {
   "cell_type": "markdown",
   "id": "16b4b769-3112-4283-b8f8-ec3d3360796d",
   "metadata": {},
   "source": [
    "# 4. Get the first Row into columns and then get rid of it"
   ]
  },
  {
   "cell_type": "markdown",
   "id": "53fe3015-91ef-4ce9-b0af-a56f3944b604",
   "metadata": {},
   "source": [
    "### a. Grab the Column Names out of the First Row of the Dataframe\n",
    "- Use iloc to point to the first row of the dataframe "
   ]
  },
  {
   "cell_type": "code",
   "execution_count": 12,
   "id": "bbd9e96e-35f6-49aa-bdaa-74ae513a61bc",
   "metadata": {},
   "outputs": [
    {
     "name": "stdout",
     "output_type": "stream",
     "text": [
      "0      NAME\n",
      "1       POP\n",
      "2     state\n",
      "3    county\n",
      "Name: 0, dtype: object\n"
     ]
    }
   ],
   "source": [
    "column_names = df.iloc[0]\n",
    "\n",
    "print(column_names)"
   ]
  },
  {
   "cell_type": "markdown",
   "id": "26839566-eaf0-425a-a93d-9a0375e46bb3",
   "metadata": {},
   "source": [
    "### b. Set the columns property of the Dataframe equal to the column names we grabbed  "
   ]
  },
  {
   "cell_type": "code",
   "execution_count": 13,
   "id": "36f85968-0771-4dd3-99ea-0aa8787c6a68",
   "metadata": {},
   "outputs": [
    {
     "name": "stdout",
     "output_type": "stream",
     "text": [
      "(3221, 4)\n"
     ]
    },
    {
     "data": {
      "text/html": [
       "<div>\n",
       "<style scoped>\n",
       "    .dataframe tbody tr th:only-of-type {\n",
       "        vertical-align: middle;\n",
       "    }\n",
       "\n",
       "    .dataframe tbody tr th {\n",
       "        vertical-align: top;\n",
       "    }\n",
       "\n",
       "    .dataframe thead th {\n",
       "        text-align: right;\n",
       "    }\n",
       "</style>\n",
       "<table border=\"1\" class=\"dataframe\">\n",
       "  <thead>\n",
       "    <tr style=\"text-align: right;\">\n",
       "      <th></th>\n",
       "      <th>NAME</th>\n",
       "      <th>POP</th>\n",
       "      <th>state</th>\n",
       "      <th>county</th>\n",
       "    </tr>\n",
       "  </thead>\n",
       "  <tbody>\n",
       "    <tr>\n",
       "      <th>0</th>\n",
       "      <td>NAME</td>\n",
       "      <td>POP</td>\n",
       "      <td>state</td>\n",
       "      <td>county</td>\n",
       "    </tr>\n",
       "    <tr>\n",
       "      <th>1</th>\n",
       "      <td>Fayette County, Illinois</td>\n",
       "      <td>21336</td>\n",
       "      <td>17</td>\n",
       "      <td>051</td>\n",
       "    </tr>\n",
       "    <tr>\n",
       "      <th>2</th>\n",
       "      <td>Logan County, Illinois</td>\n",
       "      <td>28618</td>\n",
       "      <td>17</td>\n",
       "      <td>107</td>\n",
       "    </tr>\n",
       "    <tr>\n",
       "      <th>3</th>\n",
       "      <td>Saline County, Illinois</td>\n",
       "      <td>23491</td>\n",
       "      <td>17</td>\n",
       "      <td>165</td>\n",
       "    </tr>\n",
       "    <tr>\n",
       "      <th>4</th>\n",
       "      <td>Lake County, Illinois</td>\n",
       "      <td>696535</td>\n",
       "      <td>17</td>\n",
       "      <td>097</td>\n",
       "    </tr>\n",
       "  </tbody>\n",
       "</table>\n",
       "</div>"
      ],
      "text/plain": [
       "0                      NAME     POP  state  county\n",
       "0                      NAME     POP  state  county\n",
       "1  Fayette County, Illinois   21336     17     051\n",
       "2    Logan County, Illinois   28618     17     107\n",
       "3   Saline County, Illinois   23491     17     165\n",
       "4     Lake County, Illinois  696535     17     097"
      ]
     },
     "execution_count": 13,
     "metadata": {},
     "output_type": "execute_result"
    }
   ],
   "source": [
    "df.columns = column_names\n",
    "\n",
    "print(df.shape)\n",
    "df.head()"
   ]
  },
  {
   "cell_type": "markdown",
   "id": "46a781ee-92ed-4210-ab1c-2e639b8e1a8a",
   "metadata": {},
   "source": [
    "### c. Now Get Rid of the First Row of the Dataframe"
   ]
  },
  {
   "cell_type": "code",
   "execution_count": 14,
   "id": "4d9877a4-1841-450b-a9d7-3d67c4d13e02",
   "metadata": {},
   "outputs": [
    {
     "name": "stdout",
     "output_type": "stream",
     "text": [
      "7.1 Demo:  2021 State Populations\n",
      "(3220, 4)\n"
     ]
    },
    {
     "data": {
      "text/html": [
       "<div>\n",
       "<style scoped>\n",
       "    .dataframe tbody tr th:only-of-type {\n",
       "        vertical-align: middle;\n",
       "    }\n",
       "\n",
       "    .dataframe tbody tr th {\n",
       "        vertical-align: top;\n",
       "    }\n",
       "\n",
       "    .dataframe thead th {\n",
       "        text-align: right;\n",
       "    }\n",
       "</style>\n",
       "<table border=\"1\" class=\"dataframe\">\n",
       "  <thead>\n",
       "    <tr style=\"text-align: right;\">\n",
       "      <th></th>\n",
       "      <th>NAME</th>\n",
       "      <th>POP</th>\n",
       "      <th>state</th>\n",
       "      <th>county</th>\n",
       "    </tr>\n",
       "  </thead>\n",
       "  <tbody>\n",
       "    <tr>\n",
       "      <th>1</th>\n",
       "      <td>Fayette County, Illinois</td>\n",
       "      <td>21336</td>\n",
       "      <td>17</td>\n",
       "      <td>051</td>\n",
       "    </tr>\n",
       "    <tr>\n",
       "      <th>2</th>\n",
       "      <td>Logan County, Illinois</td>\n",
       "      <td>28618</td>\n",
       "      <td>17</td>\n",
       "      <td>107</td>\n",
       "    </tr>\n",
       "    <tr>\n",
       "      <th>3</th>\n",
       "      <td>Saline County, Illinois</td>\n",
       "      <td>23491</td>\n",
       "      <td>17</td>\n",
       "      <td>165</td>\n",
       "    </tr>\n",
       "    <tr>\n",
       "      <th>4</th>\n",
       "      <td>Lake County, Illinois</td>\n",
       "      <td>696535</td>\n",
       "      <td>17</td>\n",
       "      <td>097</td>\n",
       "    </tr>\n",
       "    <tr>\n",
       "      <th>5</th>\n",
       "      <td>Massac County, Illinois</td>\n",
       "      <td>13772</td>\n",
       "      <td>17</td>\n",
       "      <td>127</td>\n",
       "    </tr>\n",
       "    <tr>\n",
       "      <th>...</th>\n",
       "      <td>...</td>\n",
       "      <td>...</td>\n",
       "      <td>...</td>\n",
       "      <td>...</td>\n",
       "    </tr>\n",
       "    <tr>\n",
       "      <th>3216</th>\n",
       "      <td>Crockett County, Tennessee</td>\n",
       "      <td>14230</td>\n",
       "      <td>47</td>\n",
       "      <td>033</td>\n",
       "    </tr>\n",
       "    <tr>\n",
       "      <th>3217</th>\n",
       "      <td>Lake County, Tennessee</td>\n",
       "      <td>7016</td>\n",
       "      <td>47</td>\n",
       "      <td>095</td>\n",
       "    </tr>\n",
       "    <tr>\n",
       "      <th>3218</th>\n",
       "      <td>Knox County, Tennessee</td>\n",
       "      <td>470313</td>\n",
       "      <td>47</td>\n",
       "      <td>093</td>\n",
       "    </tr>\n",
       "    <tr>\n",
       "      <th>3219</th>\n",
       "      <td>Benton County, Washington</td>\n",
       "      <td>204390</td>\n",
       "      <td>53</td>\n",
       "      <td>005</td>\n",
       "    </tr>\n",
       "    <tr>\n",
       "      <th>3220</th>\n",
       "      <td>Clark County, Washington</td>\n",
       "      <td>488241</td>\n",
       "      <td>53</td>\n",
       "      <td>011</td>\n",
       "    </tr>\n",
       "  </tbody>\n",
       "</table>\n",
       "<p>3220 rows × 4 columns</p>\n",
       "</div>"
      ],
      "text/plain": [
       "0                           NAME     POP state county\n",
       "1       Fayette County, Illinois   21336    17    051\n",
       "2         Logan County, Illinois   28618    17    107\n",
       "3        Saline County, Illinois   23491    17    165\n",
       "4          Lake County, Illinois  696535    17    097\n",
       "5        Massac County, Illinois   13772    17    127\n",
       "...                          ...     ...   ...    ...\n",
       "3216  Crockett County, Tennessee   14230    47    033\n",
       "3217      Lake County, Tennessee    7016    47    095\n",
       "3218      Knox County, Tennessee  470313    47    093\n",
       "3219   Benton County, Washington  204390    53    005\n",
       "3220    Clark County, Washington  488241    53    011\n",
       "\n",
       "[3220 rows x 4 columns]"
      ]
     },
     "execution_count": 14,
     "metadata": {},
     "output_type": "execute_result"
    }
   ],
   "source": [
    "df = df.iloc[1:]\n",
    "\n",
    "print(\"7.1 Demo:  2021 State Populations\")\n",
    "print(df.shape)\n",
    "df"
   ]
  },
  {
   "cell_type": "code",
   "execution_count": 15,
   "id": "bb5c093b",
   "metadata": {},
   "outputs": [
    {
     "name": "stdout",
     "output_type": "stream",
     "text": [
      "(100, 4)\n"
     ]
    },
    {
     "data": {
      "text/html": [
       "<div>\n",
       "<style scoped>\n",
       "    .dataframe tbody tr th:only-of-type {\n",
       "        vertical-align: middle;\n",
       "    }\n",
       "\n",
       "    .dataframe tbody tr th {\n",
       "        vertical-align: top;\n",
       "    }\n",
       "\n",
       "    .dataframe thead th {\n",
       "        text-align: right;\n",
       "    }\n",
       "</style>\n",
       "<table border=\"1\" class=\"dataframe\">\n",
       "  <thead>\n",
       "    <tr style=\"text-align: right;\">\n",
       "      <th></th>\n",
       "      <th>NAME</th>\n",
       "      <th>POP</th>\n",
       "      <th>state</th>\n",
       "      <th>county</th>\n",
       "    </tr>\n",
       "  </thead>\n",
       "  <tbody>\n",
       "    <tr>\n",
       "      <th>2098</th>\n",
       "      <td>Alamance County, North Carolina</td>\n",
       "      <td>169509</td>\n",
       "      <td>37</td>\n",
       "      <td>001</td>\n",
       "    </tr>\n",
       "    <tr>\n",
       "      <th>2047</th>\n",
       "      <td>Alexander County, North Carolina</td>\n",
       "      <td>37497</td>\n",
       "      <td>37</td>\n",
       "      <td>003</td>\n",
       "    </tr>\n",
       "    <tr>\n",
       "      <th>2025</th>\n",
       "      <td>Alleghany County, North Carolina</td>\n",
       "      <td>11137</td>\n",
       "      <td>37</td>\n",
       "      <td>005</td>\n",
       "    </tr>\n",
       "    <tr>\n",
       "      <th>2067</th>\n",
       "      <td>Anson County, North Carolina</td>\n",
       "      <td>24446</td>\n",
       "      <td>37</td>\n",
       "      <td>007</td>\n",
       "    </tr>\n",
       "    <tr>\n",
       "      <th>654</th>\n",
       "      <td>Ashe County, North Carolina</td>\n",
       "      <td>27203</td>\n",
       "      <td>37</td>\n",
       "      <td>009</td>\n",
       "    </tr>\n",
       "  </tbody>\n",
       "</table>\n",
       "</div>"
      ],
      "text/plain": [
       "0                                 NAME     POP state county\n",
       "2098   Alamance County, North Carolina  169509    37    001\n",
       "2047  Alexander County, North Carolina   37497    37    003\n",
       "2025  Alleghany County, North Carolina   11137    37    005\n",
       "2067      Anson County, North Carolina   24446    37    007\n",
       "654        Ashe County, North Carolina   27203    37    009"
      ]
     },
     "execution_count": 15,
     "metadata": {},
     "output_type": "execute_result"
    }
   ],
   "source": [
    "df.query(\"state == '37'\", inplace=True)\n",
    "df.sort_values(by=\"county\", ascending=True, inplace=True)\n",
    "\n",
    "print(df.shape)\n",
    "df.head()"
   ]
  },
  {
   "cell_type": "markdown",
   "id": "630eca9b",
   "metadata": {},
   "source": [
    "## Cleaning data"
   ]
  },
  {
   "cell_type": "code",
   "execution_count": 16,
   "id": "cec77fe2",
   "metadata": {},
   "outputs": [
    {
     "data": {
      "text/plain": [
       "0\n",
       "NAME      object\n",
       "POP       object\n",
       "state     object\n",
       "county    object\n",
       "dtype: object"
      ]
     },
     "execution_count": 16,
     "metadata": {},
     "output_type": "execute_result"
    }
   ],
   "source": [
    "df.dtypes"
   ]
  },
  {
   "cell_type": "code",
   "execution_count": 17,
   "id": "c3595ce4",
   "metadata": {},
   "outputs": [
    {
     "name": "stdout",
     "output_type": "stream",
     "text": [
      "(100, 6)\n"
     ]
    },
    {
     "data": {
      "text/html": [
       "<div>\n",
       "<style scoped>\n",
       "    .dataframe tbody tr th:only-of-type {\n",
       "        vertical-align: middle;\n",
       "    }\n",
       "\n",
       "    .dataframe tbody tr th {\n",
       "        vertical-align: top;\n",
       "    }\n",
       "\n",
       "    .dataframe thead th {\n",
       "        text-align: right;\n",
       "    }\n",
       "</style>\n",
       "<table border=\"1\" class=\"dataframe\">\n",
       "  <thead>\n",
       "    <tr style=\"text-align: right;\">\n",
       "      <th></th>\n",
       "      <th>NAME</th>\n",
       "      <th>POP</th>\n",
       "      <th>state</th>\n",
       "      <th>county</th>\n",
       "      <th>County_Name</th>\n",
       "      <th>State_Name</th>\n",
       "    </tr>\n",
       "  </thead>\n",
       "  <tbody>\n",
       "    <tr>\n",
       "      <th>2098</th>\n",
       "      <td>Alamance County, North Carolina</td>\n",
       "      <td>169509</td>\n",
       "      <td>37</td>\n",
       "      <td>001</td>\n",
       "      <td>Alamance</td>\n",
       "      <td>North Carolina</td>\n",
       "    </tr>\n",
       "    <tr>\n",
       "      <th>2047</th>\n",
       "      <td>Alexander County, North Carolina</td>\n",
       "      <td>37497</td>\n",
       "      <td>37</td>\n",
       "      <td>003</td>\n",
       "      <td>Alexander</td>\n",
       "      <td>North Carolina</td>\n",
       "    </tr>\n",
       "    <tr>\n",
       "      <th>2025</th>\n",
       "      <td>Alleghany County, North Carolina</td>\n",
       "      <td>11137</td>\n",
       "      <td>37</td>\n",
       "      <td>005</td>\n",
       "      <td>Alleghany</td>\n",
       "      <td>North Carolina</td>\n",
       "    </tr>\n",
       "    <tr>\n",
       "      <th>2067</th>\n",
       "      <td>Anson County, North Carolina</td>\n",
       "      <td>24446</td>\n",
       "      <td>37</td>\n",
       "      <td>007</td>\n",
       "      <td>Anson</td>\n",
       "      <td>North Carolina</td>\n",
       "    </tr>\n",
       "    <tr>\n",
       "      <th>654</th>\n",
       "      <td>Ashe County, North Carolina</td>\n",
       "      <td>27203</td>\n",
       "      <td>37</td>\n",
       "      <td>009</td>\n",
       "      <td>Ashe</td>\n",
       "      <td>North Carolina</td>\n",
       "    </tr>\n",
       "  </tbody>\n",
       "</table>\n",
       "</div>"
      ],
      "text/plain": [
       "0                                 NAME     POP state county County_Name  \\\n",
       "2098   Alamance County, North Carolina  169509    37    001    Alamance   \n",
       "2047  Alexander County, North Carolina   37497    37    003   Alexander   \n",
       "2025  Alleghany County, North Carolina   11137    37    005   Alleghany   \n",
       "2067      Anson County, North Carolina   24446    37    007       Anson   \n",
       "654        Ashe County, North Carolina   27203    37    009        Ashe   \n",
       "\n",
       "0          State_Name  \n",
       "2098   North Carolina  \n",
       "2047   North Carolina  \n",
       "2025   North Carolina  \n",
       "2067   North Carolina  \n",
       "654    North Carolina  "
      ]
     },
     "execution_count": 17,
     "metadata": {},
     "output_type": "execute_result"
    }
   ],
   "source": [
    "two_new_cols = ['County_Name', 'State_Name']\n",
    "\n",
    "df[two_new_cols] = df['NAME'].str.split(' County,',1, expand=True)\n",
    "\n",
    "print(df.shape)\n",
    "df.head()"
   ]
  },
  {
   "cell_type": "code",
   "execution_count": 18,
   "id": "dc33b412",
   "metadata": {},
   "outputs": [
    {
     "name": "stdout",
     "output_type": "stream",
     "text": [
      "(100, 6)\n"
     ]
    },
    {
     "data": {
      "text/html": [
       "<div>\n",
       "<style scoped>\n",
       "    .dataframe tbody tr th:only-of-type {\n",
       "        vertical-align: middle;\n",
       "    }\n",
       "\n",
       "    .dataframe tbody tr th {\n",
       "        vertical-align: top;\n",
       "    }\n",
       "\n",
       "    .dataframe thead th {\n",
       "        text-align: right;\n",
       "    }\n",
       "</style>\n",
       "<table border=\"1\" class=\"dataframe\">\n",
       "  <thead>\n",
       "    <tr style=\"text-align: right;\">\n",
       "      <th></th>\n",
       "      <th>NAME</th>\n",
       "      <th>Population</th>\n",
       "      <th>FIPS_State</th>\n",
       "      <th>FIPS_County</th>\n",
       "      <th>County_Name</th>\n",
       "      <th>State_Name</th>\n",
       "    </tr>\n",
       "  </thead>\n",
       "  <tbody>\n",
       "    <tr>\n",
       "      <th>2098</th>\n",
       "      <td>Alamance County, North Carolina</td>\n",
       "      <td>169509</td>\n",
       "      <td>37</td>\n",
       "      <td>001</td>\n",
       "      <td>Alamance</td>\n",
       "      <td>North Carolina</td>\n",
       "    </tr>\n",
       "    <tr>\n",
       "      <th>2047</th>\n",
       "      <td>Alexander County, North Carolina</td>\n",
       "      <td>37497</td>\n",
       "      <td>37</td>\n",
       "      <td>003</td>\n",
       "      <td>Alexander</td>\n",
       "      <td>North Carolina</td>\n",
       "    </tr>\n",
       "    <tr>\n",
       "      <th>2025</th>\n",
       "      <td>Alleghany County, North Carolina</td>\n",
       "      <td>11137</td>\n",
       "      <td>37</td>\n",
       "      <td>005</td>\n",
       "      <td>Alleghany</td>\n",
       "      <td>North Carolina</td>\n",
       "    </tr>\n",
       "    <tr>\n",
       "      <th>2067</th>\n",
       "      <td>Anson County, North Carolina</td>\n",
       "      <td>24446</td>\n",
       "      <td>37</td>\n",
       "      <td>007</td>\n",
       "      <td>Anson</td>\n",
       "      <td>North Carolina</td>\n",
       "    </tr>\n",
       "    <tr>\n",
       "      <th>654</th>\n",
       "      <td>Ashe County, North Carolina</td>\n",
       "      <td>27203</td>\n",
       "      <td>37</td>\n",
       "      <td>009</td>\n",
       "      <td>Ashe</td>\n",
       "      <td>North Carolina</td>\n",
       "    </tr>\n",
       "  </tbody>\n",
       "</table>\n",
       "</div>"
      ],
      "text/plain": [
       "0                                 NAME Population FIPS_State FIPS_County  \\\n",
       "2098   Alamance County, North Carolina     169509         37         001   \n",
       "2047  Alexander County, North Carolina      37497         37         003   \n",
       "2025  Alleghany County, North Carolina      11137         37         005   \n",
       "2067      Anson County, North Carolina      24446         37         007   \n",
       "654        Ashe County, North Carolina      27203         37         009   \n",
       "\n",
       "0    County_Name       State_Name  \n",
       "2098    Alamance   North Carolina  \n",
       "2047   Alexander   North Carolina  \n",
       "2025   Alleghany   North Carolina  \n",
       "2067       Anson   North Carolina  \n",
       "654         Ashe   North Carolina  "
      ]
     },
     "execution_count": 18,
     "metadata": {},
     "output_type": "execute_result"
    }
   ],
   "source": [
    "cols_to_rename = {\n",
    "                   'POP':'Population', \n",
    "                   'state' : 'FIPS_State',\n",
    "                   'county' : 'FIPS_County'\n",
    "                 }\n",
    "df.rename(columns = cols_to_rename, inplace=True)\n",
    "\n",
    "print(df.shape)\n",
    "df.head()"
   ]
  },
  {
   "cell_type": "code",
   "execution_count": 19,
   "id": "046f23a2",
   "metadata": {},
   "outputs": [
    {
     "name": "stdout",
     "output_type": "stream",
     "text": [
      "7.1 Part 2: Populations for 2019 NC Counties\n",
      "(100, 5)\n"
     ]
    },
    {
     "data": {
      "text/html": [
       "<div>\n",
       "<style scoped>\n",
       "    .dataframe tbody tr th:only-of-type {\n",
       "        vertical-align: middle;\n",
       "    }\n",
       "\n",
       "    .dataframe tbody tr th {\n",
       "        vertical-align: top;\n",
       "    }\n",
       "\n",
       "    .dataframe thead th {\n",
       "        text-align: right;\n",
       "    }\n",
       "</style>\n",
       "<table border=\"1\" class=\"dataframe\">\n",
       "  <thead>\n",
       "    <tr style=\"text-align: right;\">\n",
       "      <th></th>\n",
       "      <th>County_Name</th>\n",
       "      <th>Population</th>\n",
       "      <th>FIPS_State</th>\n",
       "      <th>FIPS_County</th>\n",
       "      <th>State_Name</th>\n",
       "    </tr>\n",
       "  </thead>\n",
       "  <tbody>\n",
       "    <tr>\n",
       "      <th>2098</th>\n",
       "      <td>Alamance</td>\n",
       "      <td>169509</td>\n",
       "      <td>37</td>\n",
       "      <td>001</td>\n",
       "      <td>North Carolina</td>\n",
       "    </tr>\n",
       "    <tr>\n",
       "      <th>2047</th>\n",
       "      <td>Alexander</td>\n",
       "      <td>37497</td>\n",
       "      <td>37</td>\n",
       "      <td>003</td>\n",
       "      <td>North Carolina</td>\n",
       "    </tr>\n",
       "    <tr>\n",
       "      <th>2025</th>\n",
       "      <td>Alleghany</td>\n",
       "      <td>11137</td>\n",
       "      <td>37</td>\n",
       "      <td>005</td>\n",
       "      <td>North Carolina</td>\n",
       "    </tr>\n",
       "    <tr>\n",
       "      <th>2067</th>\n",
       "      <td>Anson</td>\n",
       "      <td>24446</td>\n",
       "      <td>37</td>\n",
       "      <td>007</td>\n",
       "      <td>North Carolina</td>\n",
       "    </tr>\n",
       "    <tr>\n",
       "      <th>654</th>\n",
       "      <td>Ashe</td>\n",
       "      <td>27203</td>\n",
       "      <td>37</td>\n",
       "      <td>009</td>\n",
       "      <td>North Carolina</td>\n",
       "    </tr>\n",
       "  </tbody>\n",
       "</table>\n",
       "</div>"
      ],
      "text/plain": [
       "0    County_Name Population FIPS_State FIPS_County       State_Name\n",
       "2098    Alamance     169509         37         001   North Carolina\n",
       "2047   Alexander      37497         37         003   North Carolina\n",
       "2025   Alleghany      11137         37         005   North Carolina\n",
       "2067       Anson      24446         37         007   North Carolina\n",
       "654         Ashe      27203         37         009   North Carolina"
      ]
     },
     "execution_count": 19,
     "metadata": {},
     "output_type": "execute_result"
    }
   ],
   "source": [
    "cols_to_keep = ['County_Name', 'Population', 'FIPS_State', 'FIPS_County', 'State_Name']\n",
    "df = df[cols_to_keep]\n",
    "\n",
    "print(\"7.1 Part 2: Populations for 2019 NC Counties\")\n",
    "print(df.shape)\n",
    "df.head()"
   ]
  },
  {
   "cell_type": "markdown",
   "id": "73503627-799a-4464-afa2-f1130105ce72",
   "metadata": {},
   "source": [
    "# Optional:  Save the Joined Dataframe as a CSV file"
   ]
  },
  {
   "cell_type": "code",
   "execution_count": 20,
   "id": "a6d0202a-64e4-4e6a-a2ab-b1549c0594fe",
   "metadata": {},
   "outputs": [],
   "source": [
    "#csv_file_to_create = \"6.1_Demo_Output_Data.csv\"\n",
    "\n",
    "#filename_with_path = \"Data/\" + csv_file_to_create\n",
    "#df.to_csv(filename_with_path, index=False)"
   ]
  }
 ],
 "metadata": {
  "kernelspec": {
   "display_name": "Python 3.9.12",
   "language": "python",
   "name": "python3"
  },
  "language_info": {
   "codemirror_mode": {
    "name": "ipython",
    "version": 3
   },
   "file_extension": ".py",
   "mimetype": "text/x-python",
   "name": "python",
   "nbconvert_exporter": "python",
   "pygments_lexer": "ipython3",
   "version": "3.9.12"
  },
  "vscode": {
   "interpreter": {
    "hash": "0ccba871b46202fe891a5da8f1fa45061240964d317113191dbecc63a04b0fa2"
   }
  }
 },
 "nbformat": 4,
 "nbformat_minor": 5
}
