{
 "cells": [
  {
   "cell_type": "markdown",
   "metadata": {},
   "source": [
    "# Ex 4.2: Part 2 (Outside Class)"
   ]
  },
  {
   "cell_type": "markdown",
   "metadata": {},
   "source": [
    "## 1. Get Data"
   ]
  },
  {
   "cell_type": "code",
   "execution_count": 1,
   "metadata": {},
   "outputs": [],
   "source": [
    "import pandas as pd \n",
    "import plotly.express as px"
   ]
  },
  {
   "cell_type": "code",
   "execution_count": 2,
   "metadata": {},
   "outputs": [
    {
     "data": {
      "text/plain": [
       "[     Unnamed: 0                              Rank & Title  IMDb Rating  \\\n",
       " 0           NaN               1.  Planet Earth II  (2016)          9.4   \n",
       " 1           NaN                  2.  Breaking Bad  (2008)          9.4   \n",
       " 2           NaN                  3.  Planet Earth  (2006)          9.4   \n",
       " 3           NaN              4.  Band of Brothers  (2001)          9.4   \n",
       " 4           NaN                     5.  Chernobyl  (2019)          9.3   \n",
       " ..          ...                                       ...          ...   \n",
       " 245         NaN  246.  Garth Marenghi's Darkplace  (2004)          8.4   \n",
       " 246         NaN                247.  The Punisher  (2017)          8.4   \n",
       " 247         NaN                 248.  Foyle's War  (2002)          8.4   \n",
       " 248         NaN            249.  Mare of Easttown  (2021)          8.4   \n",
       " 249         NaN                 250.  Kardes Payi  (2014)          8.4   \n",
       " \n",
       "                             Your Rating  Unnamed: 4  \n",
       " 0    12345678910 NOT YET RELEASED  Seen         NaN  \n",
       " 1    12345678910 NOT YET RELEASED  Seen         NaN  \n",
       " 2    12345678910 NOT YET RELEASED  Seen         NaN  \n",
       " 3    12345678910 NOT YET RELEASED  Seen         NaN  \n",
       " 4    12345678910 NOT YET RELEASED  Seen         NaN  \n",
       " ..                                  ...         ...  \n",
       " 245  12345678910 NOT YET RELEASED  Seen         NaN  \n",
       " 246  12345678910 NOT YET RELEASED  Seen         NaN  \n",
       " 247  12345678910 NOT YET RELEASED  Seen         NaN  \n",
       " 248  12345678910 NOT YET RELEASED  Seen         NaN  \n",
       " 249  12345678910 NOT YET RELEASED  Seen         NaN  \n",
       " \n",
       " [250 rows x 5 columns]]"
      ]
     },
     "execution_count": 2,
     "metadata": {},
     "output_type": "execute_result"
    }
   ],
   "source": [
    "tables = pd.read_html('https://www.imdb.com/chart/toptv/?ref_=nv_tvv_250/')\n",
    "\n",
    "tables"
   ]
  },
  {
   "cell_type": "code",
   "execution_count": 3,
   "metadata": {},
   "outputs": [
    {
     "data": {
      "text/plain": [
       "list"
      ]
     },
     "execution_count": 3,
     "metadata": {},
     "output_type": "execute_result"
    }
   ],
   "source": [
    "type(tables)"
   ]
  },
  {
   "cell_type": "code",
   "execution_count": 4,
   "metadata": {},
   "outputs": [
    {
     "name": "stdout",
     "output_type": "stream",
     "text": [
      "Number of Tables of Data in tables List:   1\n"
     ]
    }
   ],
   "source": [
    "print(\"Number of Tables of Data in tables List:  \", len(tables))"
   ]
  },
  {
   "cell_type": "code",
   "execution_count": 5,
   "metadata": {},
   "outputs": [
    {
     "data": {
      "text/html": [
       "<div>\n",
       "<style scoped>\n",
       "    .dataframe tbody tr th:only-of-type {\n",
       "        vertical-align: middle;\n",
       "    }\n",
       "\n",
       "    .dataframe tbody tr th {\n",
       "        vertical-align: top;\n",
       "    }\n",
       "\n",
       "    .dataframe thead th {\n",
       "        text-align: right;\n",
       "    }\n",
       "</style>\n",
       "<table border=\"1\" class=\"dataframe\">\n",
       "  <thead>\n",
       "    <tr style=\"text-align: right;\">\n",
       "      <th></th>\n",
       "      <th>Unnamed: 0</th>\n",
       "      <th>Rank &amp; Title</th>\n",
       "      <th>IMDb Rating</th>\n",
       "      <th>Your Rating</th>\n",
       "      <th>Unnamed: 4</th>\n",
       "    </tr>\n",
       "  </thead>\n",
       "  <tbody>\n",
       "    <tr>\n",
       "      <th>0</th>\n",
       "      <td>NaN</td>\n",
       "      <td>1.  Planet Earth II  (2016)</td>\n",
       "      <td>9.4</td>\n",
       "      <td>12345678910 NOT YET RELEASED  Seen</td>\n",
       "      <td>NaN</td>\n",
       "    </tr>\n",
       "    <tr>\n",
       "      <th>1</th>\n",
       "      <td>NaN</td>\n",
       "      <td>2.  Breaking Bad  (2008)</td>\n",
       "      <td>9.4</td>\n",
       "      <td>12345678910 NOT YET RELEASED  Seen</td>\n",
       "      <td>NaN</td>\n",
       "    </tr>\n",
       "    <tr>\n",
       "      <th>2</th>\n",
       "      <td>NaN</td>\n",
       "      <td>3.  Planet Earth  (2006)</td>\n",
       "      <td>9.4</td>\n",
       "      <td>12345678910 NOT YET RELEASED  Seen</td>\n",
       "      <td>NaN</td>\n",
       "    </tr>\n",
       "    <tr>\n",
       "      <th>3</th>\n",
       "      <td>NaN</td>\n",
       "      <td>4.  Band of Brothers  (2001)</td>\n",
       "      <td>9.4</td>\n",
       "      <td>12345678910 NOT YET RELEASED  Seen</td>\n",
       "      <td>NaN</td>\n",
       "    </tr>\n",
       "    <tr>\n",
       "      <th>4</th>\n",
       "      <td>NaN</td>\n",
       "      <td>5.  Chernobyl  (2019)</td>\n",
       "      <td>9.3</td>\n",
       "      <td>12345678910 NOT YET RELEASED  Seen</td>\n",
       "      <td>NaN</td>\n",
       "    </tr>\n",
       "    <tr>\n",
       "      <th>...</th>\n",
       "      <td>...</td>\n",
       "      <td>...</td>\n",
       "      <td>...</td>\n",
       "      <td>...</td>\n",
       "      <td>...</td>\n",
       "    </tr>\n",
       "    <tr>\n",
       "      <th>245</th>\n",
       "      <td>NaN</td>\n",
       "      <td>246.  Garth Marenghi's Darkplace  (2004)</td>\n",
       "      <td>8.4</td>\n",
       "      <td>12345678910 NOT YET RELEASED  Seen</td>\n",
       "      <td>NaN</td>\n",
       "    </tr>\n",
       "    <tr>\n",
       "      <th>246</th>\n",
       "      <td>NaN</td>\n",
       "      <td>247.  The Punisher  (2017)</td>\n",
       "      <td>8.4</td>\n",
       "      <td>12345678910 NOT YET RELEASED  Seen</td>\n",
       "      <td>NaN</td>\n",
       "    </tr>\n",
       "    <tr>\n",
       "      <th>247</th>\n",
       "      <td>NaN</td>\n",
       "      <td>248.  Foyle's War  (2002)</td>\n",
       "      <td>8.4</td>\n",
       "      <td>12345678910 NOT YET RELEASED  Seen</td>\n",
       "      <td>NaN</td>\n",
       "    </tr>\n",
       "    <tr>\n",
       "      <th>248</th>\n",
       "      <td>NaN</td>\n",
       "      <td>249.  Mare of Easttown  (2021)</td>\n",
       "      <td>8.4</td>\n",
       "      <td>12345678910 NOT YET RELEASED  Seen</td>\n",
       "      <td>NaN</td>\n",
       "    </tr>\n",
       "    <tr>\n",
       "      <th>249</th>\n",
       "      <td>NaN</td>\n",
       "      <td>250.  Kardes Payi  (2014)</td>\n",
       "      <td>8.4</td>\n",
       "      <td>12345678910 NOT YET RELEASED  Seen</td>\n",
       "      <td>NaN</td>\n",
       "    </tr>\n",
       "  </tbody>\n",
       "</table>\n",
       "<p>250 rows × 5 columns</p>\n",
       "</div>"
      ],
      "text/plain": [
       "     Unnamed: 0                              Rank & Title  IMDb Rating  \\\n",
       "0           NaN               1.  Planet Earth II  (2016)          9.4   \n",
       "1           NaN                  2.  Breaking Bad  (2008)          9.4   \n",
       "2           NaN                  3.  Planet Earth  (2006)          9.4   \n",
       "3           NaN              4.  Band of Brothers  (2001)          9.4   \n",
       "4           NaN                     5.  Chernobyl  (2019)          9.3   \n",
       "..          ...                                       ...          ...   \n",
       "245         NaN  246.  Garth Marenghi's Darkplace  (2004)          8.4   \n",
       "246         NaN                247.  The Punisher  (2017)          8.4   \n",
       "247         NaN                 248.  Foyle's War  (2002)          8.4   \n",
       "248         NaN            249.  Mare of Easttown  (2021)          8.4   \n",
       "249         NaN                 250.  Kardes Payi  (2014)          8.4   \n",
       "\n",
       "                            Your Rating  Unnamed: 4  \n",
       "0    12345678910 NOT YET RELEASED  Seen         NaN  \n",
       "1    12345678910 NOT YET RELEASED  Seen         NaN  \n",
       "2    12345678910 NOT YET RELEASED  Seen         NaN  \n",
       "3    12345678910 NOT YET RELEASED  Seen         NaN  \n",
       "4    12345678910 NOT YET RELEASED  Seen         NaN  \n",
       "..                                  ...         ...  \n",
       "245  12345678910 NOT YET RELEASED  Seen         NaN  \n",
       "246  12345678910 NOT YET RELEASED  Seen         NaN  \n",
       "247  12345678910 NOT YET RELEASED  Seen         NaN  \n",
       "248  12345678910 NOT YET RELEASED  Seen         NaN  \n",
       "249  12345678910 NOT YET RELEASED  Seen         NaN  \n",
       "\n",
       "[250 rows x 5 columns]"
      ]
     },
     "execution_count": 5,
     "metadata": {},
     "output_type": "execute_result"
    }
   ],
   "source": [
    "tables[0]\n",
    "#tables[1]\n",
    "#tables[2]"
   ]
  },
  {
   "cell_type": "code",
   "execution_count": 6,
   "metadata": {},
   "outputs": [
    {
     "name": "stdout",
     "output_type": "stream",
     "text": [
      "Ex 4.2 Part 2\n",
      "(250, 5)\n"
     ]
    },
    {
     "data": {
      "text/html": [
       "<div>\n",
       "<style scoped>\n",
       "    .dataframe tbody tr th:only-of-type {\n",
       "        vertical-align: middle;\n",
       "    }\n",
       "\n",
       "    .dataframe tbody tr th {\n",
       "        vertical-align: top;\n",
       "    }\n",
       "\n",
       "    .dataframe thead th {\n",
       "        text-align: right;\n",
       "    }\n",
       "</style>\n",
       "<table border=\"1\" class=\"dataframe\">\n",
       "  <thead>\n",
       "    <tr style=\"text-align: right;\">\n",
       "      <th></th>\n",
       "      <th>Unnamed: 0</th>\n",
       "      <th>Rank &amp; Title</th>\n",
       "      <th>IMDb Rating</th>\n",
       "      <th>Your Rating</th>\n",
       "      <th>Unnamed: 4</th>\n",
       "    </tr>\n",
       "  </thead>\n",
       "  <tbody>\n",
       "    <tr>\n",
       "      <th>0</th>\n",
       "      <td>NaN</td>\n",
       "      <td>1.  Planet Earth II  (2016)</td>\n",
       "      <td>9.4</td>\n",
       "      <td>12345678910 NOT YET RELEASED  Seen</td>\n",
       "      <td>NaN</td>\n",
       "    </tr>\n",
       "    <tr>\n",
       "      <th>1</th>\n",
       "      <td>NaN</td>\n",
       "      <td>2.  Breaking Bad  (2008)</td>\n",
       "      <td>9.4</td>\n",
       "      <td>12345678910 NOT YET RELEASED  Seen</td>\n",
       "      <td>NaN</td>\n",
       "    </tr>\n",
       "    <tr>\n",
       "      <th>2</th>\n",
       "      <td>NaN</td>\n",
       "      <td>3.  Planet Earth  (2006)</td>\n",
       "      <td>9.4</td>\n",
       "      <td>12345678910 NOT YET RELEASED  Seen</td>\n",
       "      <td>NaN</td>\n",
       "    </tr>\n",
       "    <tr>\n",
       "      <th>3</th>\n",
       "      <td>NaN</td>\n",
       "      <td>4.  Band of Brothers  (2001)</td>\n",
       "      <td>9.4</td>\n",
       "      <td>12345678910 NOT YET RELEASED  Seen</td>\n",
       "      <td>NaN</td>\n",
       "    </tr>\n",
       "    <tr>\n",
       "      <th>4</th>\n",
       "      <td>NaN</td>\n",
       "      <td>5.  Chernobyl  (2019)</td>\n",
       "      <td>9.3</td>\n",
       "      <td>12345678910 NOT YET RELEASED  Seen</td>\n",
       "      <td>NaN</td>\n",
       "    </tr>\n",
       "  </tbody>\n",
       "</table>\n",
       "</div>"
      ],
      "text/plain": [
       "   Unnamed: 0                  Rank & Title  IMDb Rating  \\\n",
       "0         NaN   1.  Planet Earth II  (2016)          9.4   \n",
       "1         NaN      2.  Breaking Bad  (2008)          9.4   \n",
       "2         NaN      3.  Planet Earth  (2006)          9.4   \n",
       "3         NaN  4.  Band of Brothers  (2001)          9.4   \n",
       "4         NaN         5.  Chernobyl  (2019)          9.3   \n",
       "\n",
       "                          Your Rating  Unnamed: 4  \n",
       "0  12345678910 NOT YET RELEASED  Seen         NaN  \n",
       "1  12345678910 NOT YET RELEASED  Seen         NaN  \n",
       "2  12345678910 NOT YET RELEASED  Seen         NaN  \n",
       "3  12345678910 NOT YET RELEASED  Seen         NaN  \n",
       "4  12345678910 NOT YET RELEASED  Seen         NaN  "
      ]
     },
     "execution_count": 6,
     "metadata": {},
     "output_type": "execute_result"
    }
   ],
   "source": [
    "df = pd.DataFrame(tables[0])  \n",
    "\n",
    "print(\"Ex 4.2 Part 2\")\n",
    "print(df.shape)\n",
    "df.head()"
   ]
  },
  {
   "cell_type": "code",
   "execution_count": 7,
   "metadata": {},
   "outputs": [
    {
     "data": {
      "text/plain": [
       "Unnamed: 0      float64\n",
       "Rank & Title     object\n",
       "IMDb Rating     float64\n",
       "Your Rating      object\n",
       "Unnamed: 4      float64\n",
       "dtype: object"
      ]
     },
     "execution_count": 7,
     "metadata": {},
     "output_type": "execute_result"
    }
   ],
   "source": [
    "df.dtypes"
   ]
  },
  {
   "cell_type": "markdown",
   "metadata": {},
   "source": [
    "## 2. Drop columns not used"
   ]
  },
  {
   "cell_type": "code",
   "execution_count": 8,
   "metadata": {},
   "outputs": [
    {
     "data": {
      "text/plain": [
       "Index(['Unnamed: 0', 'Rank & Title', 'IMDb Rating', 'Your Rating',\n",
       "       'Unnamed: 4'],\n",
       "      dtype='object')"
      ]
     },
     "execution_count": 8,
     "metadata": {},
     "output_type": "execute_result"
    }
   ],
   "source": [
    "df.columns"
   ]
  },
  {
   "cell_type": "code",
   "execution_count": 9,
   "metadata": {},
   "outputs": [
    {
     "data": {
      "text/html": [
       "<div>\n",
       "<style scoped>\n",
       "    .dataframe tbody tr th:only-of-type {\n",
       "        vertical-align: middle;\n",
       "    }\n",
       "\n",
       "    .dataframe tbody tr th {\n",
       "        vertical-align: top;\n",
       "    }\n",
       "\n",
       "    .dataframe thead th {\n",
       "        text-align: right;\n",
       "    }\n",
       "</style>\n",
       "<table border=\"1\" class=\"dataframe\">\n",
       "  <thead>\n",
       "    <tr style=\"text-align: right;\">\n",
       "      <th></th>\n",
       "      <th>Rank &amp; Title</th>\n",
       "      <th>IMDb Rating</th>\n",
       "    </tr>\n",
       "  </thead>\n",
       "  <tbody>\n",
       "    <tr>\n",
       "      <th>0</th>\n",
       "      <td>1.  Planet Earth II  (2016)</td>\n",
       "      <td>9.4</td>\n",
       "    </tr>\n",
       "    <tr>\n",
       "      <th>1</th>\n",
       "      <td>2.  Breaking Bad  (2008)</td>\n",
       "      <td>9.4</td>\n",
       "    </tr>\n",
       "    <tr>\n",
       "      <th>2</th>\n",
       "      <td>3.  Planet Earth  (2006)</td>\n",
       "      <td>9.4</td>\n",
       "    </tr>\n",
       "    <tr>\n",
       "      <th>3</th>\n",
       "      <td>4.  Band of Brothers  (2001)</td>\n",
       "      <td>9.4</td>\n",
       "    </tr>\n",
       "    <tr>\n",
       "      <th>4</th>\n",
       "      <td>5.  Chernobyl  (2019)</td>\n",
       "      <td>9.3</td>\n",
       "    </tr>\n",
       "  </tbody>\n",
       "</table>\n",
       "</div>"
      ],
      "text/plain": [
       "                   Rank & Title  IMDb Rating\n",
       "0   1.  Planet Earth II  (2016)          9.4\n",
       "1      2.  Breaking Bad  (2008)          9.4\n",
       "2      3.  Planet Earth  (2006)          9.4\n",
       "3  4.  Band of Brothers  (2001)          9.4\n",
       "4         5.  Chernobyl  (2019)          9.3"
      ]
     },
     "execution_count": 9,
     "metadata": {},
     "output_type": "execute_result"
    }
   ],
   "source": [
    "df.drop([\"Unnamed: 0\", \"Unnamed: 4\", \"Your Rating\"], axis='columns', inplace=True)\n",
    "df.head()"
   ]
  },
  {
   "cell_type": "markdown",
   "metadata": {
    "tags": []
   },
   "source": [
    "## 3. Split Column"
   ]
  },
  {
   "cell_type": "code",
   "execution_count": 10,
   "metadata": {},
   "outputs": [
    {
     "data": {
      "text/plain": [
       "Index(['Rank & Title', 'IMDb Rating'], dtype='object')"
      ]
     },
     "execution_count": 10,
     "metadata": {},
     "output_type": "execute_result"
    }
   ],
   "source": [
    "df.columns"
   ]
  },
  {
   "cell_type": "code",
   "execution_count": 11,
   "metadata": {},
   "outputs": [
    {
     "name": "stdout",
     "output_type": "stream",
     "text": [
      "(250, 4)\n"
     ]
    },
    {
     "data": {
      "text/html": [
       "<div>\n",
       "<style scoped>\n",
       "    .dataframe tbody tr th:only-of-type {\n",
       "        vertical-align: middle;\n",
       "    }\n",
       "\n",
       "    .dataframe tbody tr th {\n",
       "        vertical-align: top;\n",
       "    }\n",
       "\n",
       "    .dataframe thead th {\n",
       "        text-align: right;\n",
       "    }\n",
       "</style>\n",
       "<table border=\"1\" class=\"dataframe\">\n",
       "  <thead>\n",
       "    <tr style=\"text-align: right;\">\n",
       "      <th></th>\n",
       "      <th>Rank &amp; Title</th>\n",
       "      <th>IMDb Rating</th>\n",
       "      <th>Rank</th>\n",
       "      <th>ReDo</th>\n",
       "    </tr>\n",
       "  </thead>\n",
       "  <tbody>\n",
       "    <tr>\n",
       "      <th>0</th>\n",
       "      <td>1.  Planet Earth II  (2016)</td>\n",
       "      <td>9.4</td>\n",
       "      <td>1</td>\n",
       "      <td>Planet Earth II  (2016)</td>\n",
       "    </tr>\n",
       "    <tr>\n",
       "      <th>1</th>\n",
       "      <td>2.  Breaking Bad  (2008)</td>\n",
       "      <td>9.4</td>\n",
       "      <td>2</td>\n",
       "      <td>Breaking Bad  (2008)</td>\n",
       "    </tr>\n",
       "    <tr>\n",
       "      <th>2</th>\n",
       "      <td>3.  Planet Earth  (2006)</td>\n",
       "      <td>9.4</td>\n",
       "      <td>3</td>\n",
       "      <td>Planet Earth  (2006)</td>\n",
       "    </tr>\n",
       "    <tr>\n",
       "      <th>3</th>\n",
       "      <td>4.  Band of Brothers  (2001)</td>\n",
       "      <td>9.4</td>\n",
       "      <td>4</td>\n",
       "      <td>Band of Brothers  (2001)</td>\n",
       "    </tr>\n",
       "    <tr>\n",
       "      <th>4</th>\n",
       "      <td>5.  Chernobyl  (2019)</td>\n",
       "      <td>9.3</td>\n",
       "      <td>5</td>\n",
       "      <td>Chernobyl  (2019)</td>\n",
       "    </tr>\n",
       "  </tbody>\n",
       "</table>\n",
       "</div>"
      ],
      "text/plain": [
       "                   Rank & Title  IMDb Rating Rank                        ReDo\n",
       "0   1.  Planet Earth II  (2016)          9.4    1     Planet Earth II  (2016)\n",
       "1      2.  Breaking Bad  (2008)          9.4    2        Breaking Bad  (2008)\n",
       "2      3.  Planet Earth  (2006)          9.4    3        Planet Earth  (2006)\n",
       "3  4.  Band of Brothers  (2001)          9.4    4    Band of Brothers  (2001)\n",
       "4         5.  Chernobyl  (2019)          9.3    5           Chernobyl  (2019)"
      ]
     },
     "execution_count": 11,
     "metadata": {},
     "output_type": "execute_result"
    }
   ],
   "source": [
    "two_new_cols = ['Rank', 'ReDo']\n",
    "\n",
    "df[two_new_cols] = df['Rank & Title'].str.split('.',1, expand=True)\n",
    "\n",
    "print(df.shape)\n",
    "df.head()"
   ]
  },
  {
   "cell_type": "code",
   "execution_count": 12,
   "metadata": {},
   "outputs": [
    {
     "data": {
      "text/html": [
       "<div>\n",
       "<style scoped>\n",
       "    .dataframe tbody tr th:only-of-type {\n",
       "        vertical-align: middle;\n",
       "    }\n",
       "\n",
       "    .dataframe tbody tr th {\n",
       "        vertical-align: top;\n",
       "    }\n",
       "\n",
       "    .dataframe thead th {\n",
       "        text-align: right;\n",
       "    }\n",
       "</style>\n",
       "<table border=\"1\" class=\"dataframe\">\n",
       "  <thead>\n",
       "    <tr style=\"text-align: right;\">\n",
       "      <th></th>\n",
       "      <th>IMDb Rating</th>\n",
       "      <th>Rank</th>\n",
       "      <th>ReDo</th>\n",
       "    </tr>\n",
       "  </thead>\n",
       "  <tbody>\n",
       "    <tr>\n",
       "      <th>0</th>\n",
       "      <td>9.4</td>\n",
       "      <td>1</td>\n",
       "      <td>Planet Earth II  (2016)</td>\n",
       "    </tr>\n",
       "    <tr>\n",
       "      <th>1</th>\n",
       "      <td>9.4</td>\n",
       "      <td>2</td>\n",
       "      <td>Breaking Bad  (2008)</td>\n",
       "    </tr>\n",
       "    <tr>\n",
       "      <th>2</th>\n",
       "      <td>9.4</td>\n",
       "      <td>3</td>\n",
       "      <td>Planet Earth  (2006)</td>\n",
       "    </tr>\n",
       "    <tr>\n",
       "      <th>3</th>\n",
       "      <td>9.4</td>\n",
       "      <td>4</td>\n",
       "      <td>Band of Brothers  (2001)</td>\n",
       "    </tr>\n",
       "    <tr>\n",
       "      <th>4</th>\n",
       "      <td>9.3</td>\n",
       "      <td>5</td>\n",
       "      <td>Chernobyl  (2019)</td>\n",
       "    </tr>\n",
       "  </tbody>\n",
       "</table>\n",
       "</div>"
      ],
      "text/plain": [
       "   IMDb Rating Rank                        ReDo\n",
       "0          9.4    1     Planet Earth II  (2016)\n",
       "1          9.4    2        Breaking Bad  (2008)\n",
       "2          9.4    3        Planet Earth  (2006)\n",
       "3          9.4    4    Band of Brothers  (2001)\n",
       "4          9.3    5           Chernobyl  (2019)"
      ]
     },
     "execution_count": 12,
     "metadata": {},
     "output_type": "execute_result"
    }
   ],
   "source": [
    "df.drop(\"Rank & Title\", axis='columns', inplace=True)\n",
    "df.head()"
   ]
  },
  {
   "cell_type": "code",
   "execution_count": 13,
   "metadata": {},
   "outputs": [
    {
     "name": "stdout",
     "output_type": "stream",
     "text": [
      "(250, 5)\n"
     ]
    },
    {
     "data": {
      "text/html": [
       "<div>\n",
       "<style scoped>\n",
       "    .dataframe tbody tr th:only-of-type {\n",
       "        vertical-align: middle;\n",
       "    }\n",
       "\n",
       "    .dataframe tbody tr th {\n",
       "        vertical-align: top;\n",
       "    }\n",
       "\n",
       "    .dataframe thead th {\n",
       "        text-align: right;\n",
       "    }\n",
       "</style>\n",
       "<table border=\"1\" class=\"dataframe\">\n",
       "  <thead>\n",
       "    <tr style=\"text-align: right;\">\n",
       "      <th></th>\n",
       "      <th>IMDb Rating</th>\n",
       "      <th>Rank</th>\n",
       "      <th>ReDo</th>\n",
       "      <th>TV Show</th>\n",
       "      <th>Year_ReDo</th>\n",
       "    </tr>\n",
       "  </thead>\n",
       "  <tbody>\n",
       "    <tr>\n",
       "      <th>0</th>\n",
       "      <td>9.4</td>\n",
       "      <td>1</td>\n",
       "      <td>Planet Earth II  (2016)</td>\n",
       "      <td>Planet Earth II</td>\n",
       "      <td>2016)</td>\n",
       "    </tr>\n",
       "    <tr>\n",
       "      <th>1</th>\n",
       "      <td>9.4</td>\n",
       "      <td>2</td>\n",
       "      <td>Breaking Bad  (2008)</td>\n",
       "      <td>Breaking Bad</td>\n",
       "      <td>2008)</td>\n",
       "    </tr>\n",
       "    <tr>\n",
       "      <th>2</th>\n",
       "      <td>9.4</td>\n",
       "      <td>3</td>\n",
       "      <td>Planet Earth  (2006)</td>\n",
       "      <td>Planet Earth</td>\n",
       "      <td>2006)</td>\n",
       "    </tr>\n",
       "    <tr>\n",
       "      <th>3</th>\n",
       "      <td>9.4</td>\n",
       "      <td>4</td>\n",
       "      <td>Band of Brothers  (2001)</td>\n",
       "      <td>Band of Brothers</td>\n",
       "      <td>2001)</td>\n",
       "    </tr>\n",
       "    <tr>\n",
       "      <th>4</th>\n",
       "      <td>9.3</td>\n",
       "      <td>5</td>\n",
       "      <td>Chernobyl  (2019)</td>\n",
       "      <td>Chernobyl</td>\n",
       "      <td>2019)</td>\n",
       "    </tr>\n",
       "  </tbody>\n",
       "</table>\n",
       "</div>"
      ],
      "text/plain": [
       "   IMDb Rating Rank                        ReDo               TV Show  \\\n",
       "0          9.4    1     Planet Earth II  (2016)     Planet Earth II     \n",
       "1          9.4    2        Breaking Bad  (2008)        Breaking Bad     \n",
       "2          9.4    3        Planet Earth  (2006)        Planet Earth     \n",
       "3          9.4    4    Band of Brothers  (2001)    Band of Brothers     \n",
       "4          9.3    5           Chernobyl  (2019)           Chernobyl     \n",
       "\n",
       "  Year_ReDo  \n",
       "0     2016)  \n",
       "1     2008)  \n",
       "2     2006)  \n",
       "3     2001)  \n",
       "4     2019)  "
      ]
     },
     "execution_count": 13,
     "metadata": {},
     "output_type": "execute_result"
    }
   ],
   "source": [
    "two_new_cols = ['TV Show', 'Year_ReDo']\n",
    "\n",
    "df[two_new_cols] = df['ReDo'].str.split('(',1, expand=True)\n",
    "\n",
    "print(df.shape)\n",
    "df.head()"
   ]
  },
  {
   "cell_type": "code",
   "execution_count": 14,
   "metadata": {},
   "outputs": [
    {
     "data": {
      "text/html": [
       "<div>\n",
       "<style scoped>\n",
       "    .dataframe tbody tr th:only-of-type {\n",
       "        vertical-align: middle;\n",
       "    }\n",
       "\n",
       "    .dataframe tbody tr th {\n",
       "        vertical-align: top;\n",
       "    }\n",
       "\n",
       "    .dataframe thead th {\n",
       "        text-align: right;\n",
       "    }\n",
       "</style>\n",
       "<table border=\"1\" class=\"dataframe\">\n",
       "  <thead>\n",
       "    <tr style=\"text-align: right;\">\n",
       "      <th></th>\n",
       "      <th>IMDb Rating</th>\n",
       "      <th>Rank</th>\n",
       "      <th>TV Show</th>\n",
       "      <th>Year_ReDo</th>\n",
       "    </tr>\n",
       "  </thead>\n",
       "  <tbody>\n",
       "    <tr>\n",
       "      <th>0</th>\n",
       "      <td>9.4</td>\n",
       "      <td>1</td>\n",
       "      <td>Planet Earth II</td>\n",
       "      <td>2016)</td>\n",
       "    </tr>\n",
       "    <tr>\n",
       "      <th>1</th>\n",
       "      <td>9.4</td>\n",
       "      <td>2</td>\n",
       "      <td>Breaking Bad</td>\n",
       "      <td>2008)</td>\n",
       "    </tr>\n",
       "    <tr>\n",
       "      <th>2</th>\n",
       "      <td>9.4</td>\n",
       "      <td>3</td>\n",
       "      <td>Planet Earth</td>\n",
       "      <td>2006)</td>\n",
       "    </tr>\n",
       "    <tr>\n",
       "      <th>3</th>\n",
       "      <td>9.4</td>\n",
       "      <td>4</td>\n",
       "      <td>Band of Brothers</td>\n",
       "      <td>2001)</td>\n",
       "    </tr>\n",
       "    <tr>\n",
       "      <th>4</th>\n",
       "      <td>9.3</td>\n",
       "      <td>5</td>\n",
       "      <td>Chernobyl</td>\n",
       "      <td>2019)</td>\n",
       "    </tr>\n",
       "  </tbody>\n",
       "</table>\n",
       "</div>"
      ],
      "text/plain": [
       "   IMDb Rating Rank               TV Show Year_ReDo\n",
       "0          9.4    1     Planet Earth II       2016)\n",
       "1          9.4    2        Breaking Bad       2008)\n",
       "2          9.4    3        Planet Earth       2006)\n",
       "3          9.4    4    Band of Brothers       2001)\n",
       "4          9.3    5           Chernobyl       2019)"
      ]
     },
     "execution_count": 14,
     "metadata": {},
     "output_type": "execute_result"
    }
   ],
   "source": [
    "df.drop(\"ReDo\", axis='columns', inplace=True)\n",
    "df.head()"
   ]
  },
  {
   "cell_type": "markdown",
   "metadata": {},
   "source": [
    "## 4. Rename columns"
   ]
  },
  {
   "cell_type": "code",
   "execution_count": 15,
   "metadata": {},
   "outputs": [
    {
     "data": {
      "text/plain": [
       "Index(['IMDb Rating', 'Rank', 'TV Show', 'Year_ReDo'], dtype='object')"
      ]
     },
     "execution_count": 15,
     "metadata": {},
     "output_type": "execute_result"
    }
   ],
   "source": [
    "df.columns"
   ]
  },
  {
   "cell_type": "code",
   "execution_count": 16,
   "metadata": {},
   "outputs": [
    {
     "data": {
      "text/html": [
       "<div>\n",
       "<style scoped>\n",
       "    .dataframe tbody tr th:only-of-type {\n",
       "        vertical-align: middle;\n",
       "    }\n",
       "\n",
       "    .dataframe tbody tr th {\n",
       "        vertical-align: top;\n",
       "    }\n",
       "\n",
       "    .dataframe thead th {\n",
       "        text-align: right;\n",
       "    }\n",
       "</style>\n",
       "<table border=\"1\" class=\"dataframe\">\n",
       "  <thead>\n",
       "    <tr style=\"text-align: right;\">\n",
       "      <th></th>\n",
       "      <th>IMDB Score</th>\n",
       "      <th>Rank</th>\n",
       "      <th>TV Show</th>\n",
       "      <th>Year_ReDo</th>\n",
       "    </tr>\n",
       "  </thead>\n",
       "  <tbody>\n",
       "    <tr>\n",
       "      <th>0</th>\n",
       "      <td>9.4</td>\n",
       "      <td>1</td>\n",
       "      <td>Planet Earth II</td>\n",
       "      <td>2016)</td>\n",
       "    </tr>\n",
       "    <tr>\n",
       "      <th>1</th>\n",
       "      <td>9.4</td>\n",
       "      <td>2</td>\n",
       "      <td>Breaking Bad</td>\n",
       "      <td>2008)</td>\n",
       "    </tr>\n",
       "    <tr>\n",
       "      <th>2</th>\n",
       "      <td>9.4</td>\n",
       "      <td>3</td>\n",
       "      <td>Planet Earth</td>\n",
       "      <td>2006)</td>\n",
       "    </tr>\n",
       "    <tr>\n",
       "      <th>3</th>\n",
       "      <td>9.4</td>\n",
       "      <td>4</td>\n",
       "      <td>Band of Brothers</td>\n",
       "      <td>2001)</td>\n",
       "    </tr>\n",
       "    <tr>\n",
       "      <th>4</th>\n",
       "      <td>9.3</td>\n",
       "      <td>5</td>\n",
       "      <td>Chernobyl</td>\n",
       "      <td>2019)</td>\n",
       "    </tr>\n",
       "  </tbody>\n",
       "</table>\n",
       "</div>"
      ],
      "text/plain": [
       "   IMDB Score Rank               TV Show Year_ReDo\n",
       "0         9.4    1     Planet Earth II       2016)\n",
       "1         9.4    2        Breaking Bad       2008)\n",
       "2         9.4    3        Planet Earth       2006)\n",
       "3         9.4    4    Band of Brothers       2001)\n",
       "4         9.3    5           Chernobyl       2019)"
      ]
     },
     "execution_count": 16,
     "metadata": {},
     "output_type": "execute_result"
    }
   ],
   "source": [
    "cols_to_rename = {\n",
    "                   'IMDb Rating':'IMDB Score'\n",
    "                 }\n",
    "df.rename(columns = cols_to_rename, inplace=True)\n",
    "df.head()"
   ]
  },
  {
   "cell_type": "markdown",
   "metadata": {},
   "source": [
    "## 5. Changing data types"
   ]
  },
  {
   "cell_type": "code",
   "execution_count": 17,
   "metadata": {},
   "outputs": [
    {
     "data": {
      "text/plain": [
       "IMDB Score    float64\n",
       "Rank           object\n",
       "TV Show        object\n",
       "Year_ReDo      object\n",
       "dtype: object"
      ]
     },
     "execution_count": 17,
     "metadata": {},
     "output_type": "execute_result"
    }
   ],
   "source": [
    "df.dtypes"
   ]
  },
  {
   "cell_type": "code",
   "execution_count": 18,
   "metadata": {},
   "outputs": [
    {
     "name": "stdout",
     "output_type": "stream",
     "text": [
      "(250, 6)\n"
     ]
    },
    {
     "data": {
      "text/html": [
       "<div>\n",
       "<style scoped>\n",
       "    .dataframe tbody tr th:only-of-type {\n",
       "        vertical-align: middle;\n",
       "    }\n",
       "\n",
       "    .dataframe tbody tr th {\n",
       "        vertical-align: top;\n",
       "    }\n",
       "\n",
       "    .dataframe thead th {\n",
       "        text-align: right;\n",
       "    }\n",
       "</style>\n",
       "<table border=\"1\" class=\"dataframe\">\n",
       "  <thead>\n",
       "    <tr style=\"text-align: right;\">\n",
       "      <th></th>\n",
       "      <th>IMDB Score</th>\n",
       "      <th>Rank</th>\n",
       "      <th>TV Show</th>\n",
       "      <th>Year_ReDo</th>\n",
       "      <th>Year</th>\n",
       "      <th>Delete</th>\n",
       "    </tr>\n",
       "  </thead>\n",
       "  <tbody>\n",
       "    <tr>\n",
       "      <th>0</th>\n",
       "      <td>9.4</td>\n",
       "      <td>1</td>\n",
       "      <td>Planet Earth II</td>\n",
       "      <td>2016)</td>\n",
       "      <td>2016</td>\n",
       "      <td></td>\n",
       "    </tr>\n",
       "    <tr>\n",
       "      <th>1</th>\n",
       "      <td>9.4</td>\n",
       "      <td>2</td>\n",
       "      <td>Breaking Bad</td>\n",
       "      <td>2008)</td>\n",
       "      <td>2008</td>\n",
       "      <td></td>\n",
       "    </tr>\n",
       "    <tr>\n",
       "      <th>2</th>\n",
       "      <td>9.4</td>\n",
       "      <td>3</td>\n",
       "      <td>Planet Earth</td>\n",
       "      <td>2006)</td>\n",
       "      <td>2006</td>\n",
       "      <td></td>\n",
       "    </tr>\n",
       "    <tr>\n",
       "      <th>3</th>\n",
       "      <td>9.4</td>\n",
       "      <td>4</td>\n",
       "      <td>Band of Brothers</td>\n",
       "      <td>2001)</td>\n",
       "      <td>2001</td>\n",
       "      <td></td>\n",
       "    </tr>\n",
       "    <tr>\n",
       "      <th>4</th>\n",
       "      <td>9.3</td>\n",
       "      <td>5</td>\n",
       "      <td>Chernobyl</td>\n",
       "      <td>2019)</td>\n",
       "      <td>2019</td>\n",
       "      <td></td>\n",
       "    </tr>\n",
       "  </tbody>\n",
       "</table>\n",
       "</div>"
      ],
      "text/plain": [
       "   IMDB Score Rank               TV Show Year_ReDo  Year Delete\n",
       "0         9.4    1     Planet Earth II       2016)  2016       \n",
       "1         9.4    2        Breaking Bad       2008)  2008       \n",
       "2         9.4    3        Planet Earth       2006)  2006       \n",
       "3         9.4    4    Band of Brothers       2001)  2001       \n",
       "4         9.3    5           Chernobyl       2019)  2019       "
      ]
     },
     "execution_count": 18,
     "metadata": {},
     "output_type": "execute_result"
    }
   ],
   "source": [
    "two_new_cols = ['Year', 'Delete']\n",
    "\n",
    "df[two_new_cols] = df['Year_ReDo'].str.split(')',1, expand=True)\n",
    "\n",
    "print(df.shape)\n",
    "df.head()"
   ]
  },
  {
   "cell_type": "code",
   "execution_count": 19,
   "metadata": {},
   "outputs": [
    {
     "data": {
      "text/html": [
       "<div>\n",
       "<style scoped>\n",
       "    .dataframe tbody tr th:only-of-type {\n",
       "        vertical-align: middle;\n",
       "    }\n",
       "\n",
       "    .dataframe tbody tr th {\n",
       "        vertical-align: top;\n",
       "    }\n",
       "\n",
       "    .dataframe thead th {\n",
       "        text-align: right;\n",
       "    }\n",
       "</style>\n",
       "<table border=\"1\" class=\"dataframe\">\n",
       "  <thead>\n",
       "    <tr style=\"text-align: right;\">\n",
       "      <th></th>\n",
       "      <th>IMDB Score</th>\n",
       "      <th>Rank</th>\n",
       "      <th>TV Show</th>\n",
       "      <th>Year</th>\n",
       "    </tr>\n",
       "  </thead>\n",
       "  <tbody>\n",
       "    <tr>\n",
       "      <th>0</th>\n",
       "      <td>9.4</td>\n",
       "      <td>1</td>\n",
       "      <td>Planet Earth II</td>\n",
       "      <td>2016</td>\n",
       "    </tr>\n",
       "    <tr>\n",
       "      <th>1</th>\n",
       "      <td>9.4</td>\n",
       "      <td>2</td>\n",
       "      <td>Breaking Bad</td>\n",
       "      <td>2008</td>\n",
       "    </tr>\n",
       "    <tr>\n",
       "      <th>2</th>\n",
       "      <td>9.4</td>\n",
       "      <td>3</td>\n",
       "      <td>Planet Earth</td>\n",
       "      <td>2006</td>\n",
       "    </tr>\n",
       "    <tr>\n",
       "      <th>3</th>\n",
       "      <td>9.4</td>\n",
       "      <td>4</td>\n",
       "      <td>Band of Brothers</td>\n",
       "      <td>2001</td>\n",
       "    </tr>\n",
       "    <tr>\n",
       "      <th>4</th>\n",
       "      <td>9.3</td>\n",
       "      <td>5</td>\n",
       "      <td>Chernobyl</td>\n",
       "      <td>2019</td>\n",
       "    </tr>\n",
       "  </tbody>\n",
       "</table>\n",
       "</div>"
      ],
      "text/plain": [
       "   IMDB Score Rank               TV Show  Year\n",
       "0         9.4    1     Planet Earth II    2016\n",
       "1         9.4    2        Breaking Bad    2008\n",
       "2         9.4    3        Planet Earth    2006\n",
       "3         9.4    4    Band of Brothers    2001\n",
       "4         9.3    5           Chernobyl    2019"
      ]
     },
     "execution_count": 19,
     "metadata": {},
     "output_type": "execute_result"
    }
   ],
   "source": [
    "df.drop([\"Year_ReDo\", \"Delete\"], axis='columns', inplace=True)\n",
    "df.head()"
   ]
  },
  {
   "cell_type": "code",
   "execution_count": 20,
   "metadata": {},
   "outputs": [],
   "source": [
    "df['Rank'] = df['Rank'].astype(int)\n",
    "df['Year'] = df['Year'].astype(int)"
   ]
  },
  {
   "cell_type": "code",
   "execution_count": 21,
   "metadata": {},
   "outputs": [
    {
     "data": {
      "text/plain": [
       "IMDB Score    float64\n",
       "Rank            int32\n",
       "TV Show        object\n",
       "Year            int32\n",
       "dtype: object"
      ]
     },
     "execution_count": 21,
     "metadata": {},
     "output_type": "execute_result"
    }
   ],
   "source": [
    "df.dtypes"
   ]
  },
  {
   "cell_type": "code",
   "execution_count": 22,
   "metadata": {},
   "outputs": [
    {
     "data": {
      "text/html": [
       "<div>\n",
       "<style scoped>\n",
       "    .dataframe tbody tr th:only-of-type {\n",
       "        vertical-align: middle;\n",
       "    }\n",
       "\n",
       "    .dataframe tbody tr th {\n",
       "        vertical-align: top;\n",
       "    }\n",
       "\n",
       "    .dataframe thead th {\n",
       "        text-align: right;\n",
       "    }\n",
       "</style>\n",
       "<table border=\"1\" class=\"dataframe\">\n",
       "  <thead>\n",
       "    <tr style=\"text-align: right;\">\n",
       "      <th></th>\n",
       "      <th>IMDB Score</th>\n",
       "      <th>Rank</th>\n",
       "      <th>TV Show</th>\n",
       "      <th>Year</th>\n",
       "    </tr>\n",
       "  </thead>\n",
       "  <tbody>\n",
       "    <tr>\n",
       "      <th>0</th>\n",
       "      <td>9.4</td>\n",
       "      <td>1</td>\n",
       "      <td>Planet Earth II</td>\n",
       "      <td>2016</td>\n",
       "    </tr>\n",
       "    <tr>\n",
       "      <th>1</th>\n",
       "      <td>9.4</td>\n",
       "      <td>2</td>\n",
       "      <td>Breaking Bad</td>\n",
       "      <td>2008</td>\n",
       "    </tr>\n",
       "    <tr>\n",
       "      <th>2</th>\n",
       "      <td>9.4</td>\n",
       "      <td>3</td>\n",
       "      <td>Planet Earth</td>\n",
       "      <td>2006</td>\n",
       "    </tr>\n",
       "    <tr>\n",
       "      <th>3</th>\n",
       "      <td>9.4</td>\n",
       "      <td>4</td>\n",
       "      <td>Band of Brothers</td>\n",
       "      <td>2001</td>\n",
       "    </tr>\n",
       "    <tr>\n",
       "      <th>4</th>\n",
       "      <td>9.3</td>\n",
       "      <td>5</td>\n",
       "      <td>Chernobyl</td>\n",
       "      <td>2019</td>\n",
       "    </tr>\n",
       "  </tbody>\n",
       "</table>\n",
       "</div>"
      ],
      "text/plain": [
       "   IMDB Score  Rank               TV Show  Year\n",
       "0         9.4     1     Planet Earth II    2016\n",
       "1         9.4     2        Breaking Bad    2008\n",
       "2         9.4     3        Planet Earth    2006\n",
       "3         9.4     4    Band of Brothers    2001\n",
       "4         9.3     5           Chernobyl    2019"
      ]
     },
     "execution_count": 22,
     "metadata": {},
     "output_type": "execute_result"
    }
   ],
   "source": [
    "df.head()"
   ]
  },
  {
   "cell_type": "markdown",
   "metadata": {},
   "source": [
    "## 6. Keeping and Reordering Columns"
   ]
  },
  {
   "cell_type": "code",
   "execution_count": 23,
   "metadata": {},
   "outputs": [
    {
     "data": {
      "text/plain": [
       "Index(['IMDB Score', 'Rank', 'TV Show', 'Year'], dtype='object')"
      ]
     },
     "execution_count": 23,
     "metadata": {},
     "output_type": "execute_result"
    }
   ],
   "source": [
    "df.columns"
   ]
  },
  {
   "cell_type": "code",
   "execution_count": 26,
   "metadata": {},
   "outputs": [
    {
     "name": "stdout",
     "output_type": "stream",
     "text": [
      "Part 2 (250, 4)\n"
     ]
    },
    {
     "data": {
      "text/html": [
       "<div>\n",
       "<style scoped>\n",
       "    .dataframe tbody tr th:only-of-type {\n",
       "        vertical-align: middle;\n",
       "    }\n",
       "\n",
       "    .dataframe tbody tr th {\n",
       "        vertical-align: top;\n",
       "    }\n",
       "\n",
       "    .dataframe thead th {\n",
       "        text-align: right;\n",
       "    }\n",
       "</style>\n",
       "<table border=\"1\" class=\"dataframe\">\n",
       "  <thead>\n",
       "    <tr style=\"text-align: right;\">\n",
       "      <th></th>\n",
       "      <th>TV Show</th>\n",
       "      <th>Rank</th>\n",
       "      <th>IMDB Score</th>\n",
       "      <th>Year</th>\n",
       "    </tr>\n",
       "  </thead>\n",
       "  <tbody>\n",
       "    <tr>\n",
       "      <th>0</th>\n",
       "      <td>Planet Earth II</td>\n",
       "      <td>1</td>\n",
       "      <td>9.4</td>\n",
       "      <td>2016</td>\n",
       "    </tr>\n",
       "    <tr>\n",
       "      <th>1</th>\n",
       "      <td>Breaking Bad</td>\n",
       "      <td>2</td>\n",
       "      <td>9.4</td>\n",
       "      <td>2008</td>\n",
       "    </tr>\n",
       "    <tr>\n",
       "      <th>2</th>\n",
       "      <td>Planet Earth</td>\n",
       "      <td>3</td>\n",
       "      <td>9.4</td>\n",
       "      <td>2006</td>\n",
       "    </tr>\n",
       "    <tr>\n",
       "      <th>3</th>\n",
       "      <td>Band of Brothers</td>\n",
       "      <td>4</td>\n",
       "      <td>9.4</td>\n",
       "      <td>2001</td>\n",
       "    </tr>\n",
       "    <tr>\n",
       "      <th>4</th>\n",
       "      <td>Chernobyl</td>\n",
       "      <td>5</td>\n",
       "      <td>9.3</td>\n",
       "      <td>2019</td>\n",
       "    </tr>\n",
       "    <tr>\n",
       "      <th>5</th>\n",
       "      <td>The Wire</td>\n",
       "      <td>6</td>\n",
       "      <td>9.3</td>\n",
       "      <td>2002</td>\n",
       "    </tr>\n",
       "    <tr>\n",
       "      <th>6</th>\n",
       "      <td>Blue Planet II</td>\n",
       "      <td>7</td>\n",
       "      <td>9.2</td>\n",
       "      <td>2017</td>\n",
       "    </tr>\n",
       "    <tr>\n",
       "      <th>7</th>\n",
       "      <td>Avatar: The Last Airbender</td>\n",
       "      <td>8</td>\n",
       "      <td>9.2</td>\n",
       "      <td>2005</td>\n",
       "    </tr>\n",
       "    <tr>\n",
       "      <th>8</th>\n",
       "      <td>Cosmos: A Spacetime Odyssey</td>\n",
       "      <td>9</td>\n",
       "      <td>9.2</td>\n",
       "      <td>2014</td>\n",
       "    </tr>\n",
       "    <tr>\n",
       "      <th>9</th>\n",
       "      <td>The Sopranos</td>\n",
       "      <td>10</td>\n",
       "      <td>9.2</td>\n",
       "      <td>1999</td>\n",
       "    </tr>\n",
       "  </tbody>\n",
       "</table>\n",
       "</div>"
      ],
      "text/plain": [
       "                           TV Show  Rank  IMDB Score  Year\n",
       "0                Planet Earth II       1         9.4  2016\n",
       "1                   Breaking Bad       2         9.4  2008\n",
       "2                   Planet Earth       3         9.4  2006\n",
       "3               Band of Brothers       4         9.4  2001\n",
       "4                      Chernobyl       5         9.3  2019\n",
       "5                       The Wire       6         9.3  2002\n",
       "6                 Blue Planet II       7         9.2  2017\n",
       "7     Avatar: The Last Airbender       8         9.2  2005\n",
       "8    Cosmos: A Spacetime Odyssey       9         9.2  2014\n",
       "9                   The Sopranos      10         9.2  1999"
      ]
     },
     "execution_count": 26,
     "metadata": {},
     "output_type": "execute_result"
    }
   ],
   "source": [
    "cols_to_keep = ['TV Show', 'Rank', 'IMDB Score', 'Year']\n",
    "df = df[cols_to_keep]\n",
    "\n",
    "print(\"Part 2\", df.shape)\n",
    "df.head(10)"
   ]
  },
  {
   "cell_type": "code",
   "execution_count": 25,
   "metadata": {},
   "outputs": [
    {
     "data": {
      "text/plain": [
       "TV Show        object\n",
       "Rank            int32\n",
       "IMDB Score    float64\n",
       "Year            int32\n",
       "dtype: object"
      ]
     },
     "execution_count": 25,
     "metadata": {},
     "output_type": "execute_result"
    }
   ],
   "source": [
    "df.dtypes"
   ]
  }
 ],
 "metadata": {
  "kernelspec": {
   "display_name": "Python 3.9.12",
   "language": "python",
   "name": "python3"
  },
  "language_info": {
   "codemirror_mode": {
    "name": "ipython",
    "version": 3
   },
   "file_extension": ".py",
   "mimetype": "text/x-python",
   "name": "python",
   "nbconvert_exporter": "python",
   "pygments_lexer": "ipython3",
   "version": "3.9.12"
  },
  "vscode": {
   "interpreter": {
    "hash": "0ccba871b46202fe891a5da8f1fa45061240964d317113191dbecc63a04b0fa2"
   }
  }
 },
 "nbformat": 4,
 "nbformat_minor": 4
}
