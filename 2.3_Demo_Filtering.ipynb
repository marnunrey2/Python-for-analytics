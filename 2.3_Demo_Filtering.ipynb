{
 "cells": [
  {
   "cell_type": "markdown",
   "metadata": {},
   "source": [
    "# Demo 2.3  ***query()***:  Filtering a *pandas* Dataframe         \n",
    "\n",
    " \n",
    "- **Demonstrates**:  \n",
    "  - Filtering with  ***query()*** \n",
    "    - Using  ***in*** \n",
    "  - Checking Data Types with ***dtypes***  \n",
    "  \n",
    "\n",
    "- Create and Fill dataframes to answer the following questions:  \n",
    "  - Q1: How many medals did the US win?  \n",
    "    - ***query(\"Country == 'United States (USA)'\")***    \n",
    "    - Other Possibilities:  !=   \n",
    "  - Q2: How many countries won more than 10 Gold medals? \n",
    "    - ***query(\"Gold > 10\")***  \n",
    "    - Other Possibilities:  >=, <, <=  \n",
    "  - Q3: How did the US, Canada and Mexico compare in medals?    \n",
    "    - ***query(\"Country in @selected_countries\")***  \n",
    "\n",
    "- Data file:  **Olympics.csv**  "
   ]
  },
  {
   "cell_type": "code",
   "execution_count": 1,
   "metadata": {},
   "outputs": [],
   "source": [
    "import pandas as pd"
   ]
  },
  {
   "cell_type": "markdown",
   "metadata": {},
   "source": [
    "### Read the datafile File into a *pandas* Dataframe  "
   ]
  },
  {
   "cell_type": "code",
   "execution_count": 2,
   "metadata": {},
   "outputs": [
    {
     "name": "stdout",
     "output_type": "stream",
     "text": [
      "(87, 6)\n"
     ]
    },
    {
     "data": {
      "text/html": [
       "<div>\n",
       "<style scoped>\n",
       "    .dataframe tbody tr th:only-of-type {\n",
       "        vertical-align: middle;\n",
       "    }\n",
       "\n",
       "    .dataframe tbody tr th {\n",
       "        vertical-align: top;\n",
       "    }\n",
       "\n",
       "    .dataframe thead th {\n",
       "        text-align: right;\n",
       "    }\n",
       "</style>\n",
       "<table border=\"1\" class=\"dataframe\">\n",
       "  <thead>\n",
       "    <tr style=\"text-align: right;\">\n",
       "      <th></th>\n",
       "      <th>Rank</th>\n",
       "      <th>Country</th>\n",
       "      <th>Gold</th>\n",
       "      <th>Silver</th>\n",
       "      <th>Bronze</th>\n",
       "      <th>Total</th>\n",
       "    </tr>\n",
       "  </thead>\n",
       "  <tbody>\n",
       "    <tr>\n",
       "      <th>0</th>\n",
       "      <td>1</td>\n",
       "      <td>United States (USA)</td>\n",
       "      <td>46</td>\n",
       "      <td>37</td>\n",
       "      <td>38</td>\n",
       "      <td>121</td>\n",
       "    </tr>\n",
       "    <tr>\n",
       "      <th>1</th>\n",
       "      <td>2</td>\n",
       "      <td>Great Britain (GBR)</td>\n",
       "      <td>27</td>\n",
       "      <td>23</td>\n",
       "      <td>17</td>\n",
       "      <td>67</td>\n",
       "    </tr>\n",
       "    <tr>\n",
       "      <th>2</th>\n",
       "      <td>3</td>\n",
       "      <td>China (CHN)</td>\n",
       "      <td>26</td>\n",
       "      <td>18</td>\n",
       "      <td>26</td>\n",
       "      <td>70</td>\n",
       "    </tr>\n",
       "    <tr>\n",
       "      <th>3</th>\n",
       "      <td>4</td>\n",
       "      <td>Russia (RUS)</td>\n",
       "      <td>19</td>\n",
       "      <td>17</td>\n",
       "      <td>19</td>\n",
       "      <td>55</td>\n",
       "    </tr>\n",
       "    <tr>\n",
       "      <th>4</th>\n",
       "      <td>5</td>\n",
       "      <td>Germany (GER)</td>\n",
       "      <td>17</td>\n",
       "      <td>10</td>\n",
       "      <td>15</td>\n",
       "      <td>42</td>\n",
       "    </tr>\n",
       "  </tbody>\n",
       "</table>\n",
       "</div>"
      ],
      "text/plain": [
       "   Rank              Country  Gold  Silver  Bronze  Total\n",
       "0     1  United States (USA)    46      37      38    121\n",
       "1     2  Great Britain (GBR)    27      23      17     67\n",
       "2     3          China (CHN)    26      18      26     70\n",
       "3     4         Russia (RUS)    19      17      19     55\n",
       "4     5        Germany (GER)    17      10      15     42"
      ]
     },
     "execution_count": 2,
     "metadata": {},
     "output_type": "execute_result"
    }
   ],
   "source": [
    "df = pd.read_csv(\"Data/Olympics.csv\")\n",
    "\n",
    "print(df.shape)\n",
    "df.head()"
   ]
  },
  {
   "cell_type": "markdown",
   "metadata": {},
   "source": [
    "# Q1: How many medals did the US win? \n",
    "- When you're doing a query on a string, *unique()* is very handy to get the exact spelling of the string!  "
   ]
  },
  {
   "cell_type": "code",
   "execution_count": 3,
   "metadata": {},
   "outputs": [
    {
     "data": {
      "text/plain": [
       "array(['United States (USA)', 'Great Britain (GBR)', 'China (CHN)',\n",
       "       'Russia (RUS)', 'Germany (GER)', 'Japan (JPN)', 'France (FRA)',\n",
       "       'South Korea (KOR)', 'Italy (ITA)', 'Australia (AUS)',\n",
       "       'Netherlands (NED)', 'Hungary (HUN)', 'Brazil (BRA)*',\n",
       "       'Spain (ESP)', 'Kenya (KEN)', 'Jamaica (JAM)', 'Croatia (CRO)',\n",
       "       'Cuba (CUB)', 'New Zealand (NZL)', 'Canada (CAN)',\n",
       "       'Uzbekistan (UZB)', 'Kazakhstan (KAZ)', 'Colombia (COL)',\n",
       "       'Switzerland (SUI)', 'Iran (IRI)', 'Greece (GRE)',\n",
       "       'Argentina (ARG)', 'Denmark (DEN)', 'Sweden (SWE)',\n",
       "       'South Africa (RSA)', 'Ukraine (UKR)', 'Serbia (SRB)',\n",
       "       'Poland (POL)', 'North Korea (PRK)', 'Belgium (BEL)',\n",
       "       'Thailand (THA)', 'Slovakia (SVK)', 'Georgia (GEO)',\n",
       "       'Azerbaijan (AZE)', 'Belarus (BLR)', 'Turkey (TUR)',\n",
       "       'Armenia (ARM)', 'Czech Republic (CZE)', 'Ethiopia (ETH)',\n",
       "       'Slovenia (SLO)', 'Indonesia (INA)', 'Romania (ROU)',\n",
       "       'Bahrain (BRN)', 'Vietnam (VIE)', 'Chinese Taipei (TPE)',\n",
       "       'Bahamas (BAH)', \"CÃ´te d'Ivoire (CIV)\",\n",
       "       'Independent Olympic Athletes (IOA)', 'Fiji (FIJ)', 'Jordan (JOR)',\n",
       "       'Kosovo (KOS)', 'Puerto Rico (PUR)', 'Singapore (SIN)',\n",
       "       'Tajikistan (TJK)', 'Malaysia (MAS)', 'Mexico (MEX)',\n",
       "       'Algeria (ALG)', 'Ireland (IRL)', 'Lithuania (LTU)',\n",
       "       'Bulgaria (BUL)', 'Venezuela (VEN)', 'India (IND)',\n",
       "       'Mongolia (MGL)', 'Burundi (BDI)', 'Grenada (GRN)', 'Niger (NIG)',\n",
       "       'Philippines (PHI)', 'Qatar (QAT)', 'Norway (NOR)', 'Egypt (EGY)',\n",
       "       'Tunisia (TUN)', 'Israel (ISR)', 'Austria (AUT)',\n",
       "       'Dominican Republic (DOM)', 'Estonia (EST)', 'Finland (FIN)',\n",
       "       'Morocco (MAR)', 'Moldova (MDA)', 'Nigeria (NGR)',\n",
       "       'Portugal (POR)', 'Trinidad and Tobago (TTO)',\n",
       "       'United Arab Emirates (UAE)'], dtype=object)"
      ]
     },
     "execution_count": 3,
     "metadata": {},
     "output_type": "execute_result"
    }
   ],
   "source": [
    "df['Country'].unique()"
   ]
  },
  {
   "cell_type": "code",
   "execution_count": 4,
   "metadata": {},
   "outputs": [
    {
     "name": "stdout",
     "output_type": "stream",
     "text": [
      "(1, 6)\n"
     ]
    },
    {
     "data": {
      "text/html": [
       "<div>\n",
       "<style scoped>\n",
       "    .dataframe tbody tr th:only-of-type {\n",
       "        vertical-align: middle;\n",
       "    }\n",
       "\n",
       "    .dataframe tbody tr th {\n",
       "        vertical-align: top;\n",
       "    }\n",
       "\n",
       "    .dataframe thead th {\n",
       "        text-align: right;\n",
       "    }\n",
       "</style>\n",
       "<table border=\"1\" class=\"dataframe\">\n",
       "  <thead>\n",
       "    <tr style=\"text-align: right;\">\n",
       "      <th></th>\n",
       "      <th>Rank</th>\n",
       "      <th>Country</th>\n",
       "      <th>Gold</th>\n",
       "      <th>Silver</th>\n",
       "      <th>Bronze</th>\n",
       "      <th>Total</th>\n",
       "    </tr>\n",
       "  </thead>\n",
       "  <tbody>\n",
       "    <tr>\n",
       "      <th>0</th>\n",
       "      <td>1</td>\n",
       "      <td>United States (USA)</td>\n",
       "      <td>46</td>\n",
       "      <td>37</td>\n",
       "      <td>38</td>\n",
       "      <td>121</td>\n",
       "    </tr>\n",
       "  </tbody>\n",
       "</table>\n",
       "</div>"
      ],
      "text/plain": [
       "   Rank              Country  Gold  Silver  Bronze  Total\n",
       "0     1  United States (USA)    46      37      38    121"
      ]
     },
     "execution_count": 4,
     "metadata": {},
     "output_type": "execute_result"
    }
   ],
   "source": [
    "df_Q1 = df.query(\"Country == 'United States (USA)'\")\n",
    "\n",
    "print(df_Q1.shape)\n",
    "df_Q1.head()"
   ]
  },
  {
   "cell_type": "markdown",
   "metadata": {},
   "source": [
    "# Q2: How many countries won more than 10 Gold medals?"
   ]
  },
  {
   "cell_type": "code",
   "execution_count": 5,
   "metadata": {},
   "outputs": [
    {
     "data": {
      "text/plain": [
       "Rank        int64\n",
       "Country    object\n",
       "Gold        int64\n",
       "Silver      int64\n",
       "Bronze      int64\n",
       "Total       int64\n",
       "dtype: object"
      ]
     },
     "execution_count": 5,
     "metadata": {},
     "output_type": "execute_result"
    }
   ],
   "source": [
    "# Check data type for Gold to make sure it's numeric\n",
    "df.dtypes"
   ]
  },
  {
   "cell_type": "code",
   "execution_count": 6,
   "metadata": {},
   "outputs": [
    {
     "name": "stdout",
     "output_type": "stream",
     "text": [
      "(6, 6)\n"
     ]
    },
    {
     "data": {
      "text/html": [
       "<div>\n",
       "<style scoped>\n",
       "    .dataframe tbody tr th:only-of-type {\n",
       "        vertical-align: middle;\n",
       "    }\n",
       "\n",
       "    .dataframe tbody tr th {\n",
       "        vertical-align: top;\n",
       "    }\n",
       "\n",
       "    .dataframe thead th {\n",
       "        text-align: right;\n",
       "    }\n",
       "</style>\n",
       "<table border=\"1\" class=\"dataframe\">\n",
       "  <thead>\n",
       "    <tr style=\"text-align: right;\">\n",
       "      <th></th>\n",
       "      <th>Rank</th>\n",
       "      <th>Country</th>\n",
       "      <th>Gold</th>\n",
       "      <th>Silver</th>\n",
       "      <th>Bronze</th>\n",
       "      <th>Total</th>\n",
       "    </tr>\n",
       "  </thead>\n",
       "  <tbody>\n",
       "    <tr>\n",
       "      <th>0</th>\n",
       "      <td>1</td>\n",
       "      <td>United States (USA)</td>\n",
       "      <td>46</td>\n",
       "      <td>37</td>\n",
       "      <td>38</td>\n",
       "      <td>121</td>\n",
       "    </tr>\n",
       "    <tr>\n",
       "      <th>1</th>\n",
       "      <td>2</td>\n",
       "      <td>Great Britain (GBR)</td>\n",
       "      <td>27</td>\n",
       "      <td>23</td>\n",
       "      <td>17</td>\n",
       "      <td>67</td>\n",
       "    </tr>\n",
       "    <tr>\n",
       "      <th>2</th>\n",
       "      <td>3</td>\n",
       "      <td>China (CHN)</td>\n",
       "      <td>26</td>\n",
       "      <td>18</td>\n",
       "      <td>26</td>\n",
       "      <td>70</td>\n",
       "    </tr>\n",
       "    <tr>\n",
       "      <th>3</th>\n",
       "      <td>4</td>\n",
       "      <td>Russia (RUS)</td>\n",
       "      <td>19</td>\n",
       "      <td>17</td>\n",
       "      <td>19</td>\n",
       "      <td>55</td>\n",
       "    </tr>\n",
       "    <tr>\n",
       "      <th>4</th>\n",
       "      <td>5</td>\n",
       "      <td>Germany (GER)</td>\n",
       "      <td>17</td>\n",
       "      <td>10</td>\n",
       "      <td>15</td>\n",
       "      <td>42</td>\n",
       "    </tr>\n",
       "    <tr>\n",
       "      <th>5</th>\n",
       "      <td>6</td>\n",
       "      <td>Japan (JPN)</td>\n",
       "      <td>12</td>\n",
       "      <td>8</td>\n",
       "      <td>21</td>\n",
       "      <td>41</td>\n",
       "    </tr>\n",
       "  </tbody>\n",
       "</table>\n",
       "</div>"
      ],
      "text/plain": [
       "   Rank              Country  Gold  Silver  Bronze  Total\n",
       "0     1  United States (USA)    46      37      38    121\n",
       "1     2  Great Britain (GBR)    27      23      17     67\n",
       "2     3          China (CHN)    26      18      26     70\n",
       "3     4         Russia (RUS)    19      17      19     55\n",
       "4     5        Germany (GER)    17      10      15     42\n",
       "5     6          Japan (JPN)    12       8      21     41"
      ]
     },
     "execution_count": 6,
     "metadata": {},
     "output_type": "execute_result"
    }
   ],
   "source": [
    "df_Q2 = df.query(\"Gold > 10\")\n",
    "\n",
    "print(df_Q2.shape)\n",
    "df_Q2"
   ]
  },
  {
   "cell_type": "markdown",
   "metadata": {},
   "source": [
    "# Q3: How did the US, Canada and Mexico compare in medals?"
   ]
  },
  {
   "cell_type": "code",
   "execution_count": 7,
   "metadata": {},
   "outputs": [
    {
     "data": {
      "text/plain": [
       "array(['United States (USA)', 'Great Britain (GBR)', 'China (CHN)',\n",
       "       'Russia (RUS)', 'Germany (GER)', 'Japan (JPN)', 'France (FRA)',\n",
       "       'South Korea (KOR)', 'Italy (ITA)', 'Australia (AUS)',\n",
       "       'Netherlands (NED)', 'Hungary (HUN)', 'Brazil (BRA)*',\n",
       "       'Spain (ESP)', 'Kenya (KEN)', 'Jamaica (JAM)', 'Croatia (CRO)',\n",
       "       'Cuba (CUB)', 'New Zealand (NZL)', 'Canada (CAN)',\n",
       "       'Uzbekistan (UZB)', 'Kazakhstan (KAZ)', 'Colombia (COL)',\n",
       "       'Switzerland (SUI)', 'Iran (IRI)', 'Greece (GRE)',\n",
       "       'Argentina (ARG)', 'Denmark (DEN)', 'Sweden (SWE)',\n",
       "       'South Africa (RSA)', 'Ukraine (UKR)', 'Serbia (SRB)',\n",
       "       'Poland (POL)', 'North Korea (PRK)', 'Belgium (BEL)',\n",
       "       'Thailand (THA)', 'Slovakia (SVK)', 'Georgia (GEO)',\n",
       "       'Azerbaijan (AZE)', 'Belarus (BLR)', 'Turkey (TUR)',\n",
       "       'Armenia (ARM)', 'Czech Republic (CZE)', 'Ethiopia (ETH)',\n",
       "       'Slovenia (SLO)', 'Indonesia (INA)', 'Romania (ROU)',\n",
       "       'Bahrain (BRN)', 'Vietnam (VIE)', 'Chinese Taipei (TPE)',\n",
       "       'Bahamas (BAH)', \"CÃ´te d'Ivoire (CIV)\",\n",
       "       'Independent Olympic Athletes (IOA)', 'Fiji (FIJ)', 'Jordan (JOR)',\n",
       "       'Kosovo (KOS)', 'Puerto Rico (PUR)', 'Singapore (SIN)',\n",
       "       'Tajikistan (TJK)', 'Malaysia (MAS)', 'Mexico (MEX)',\n",
       "       'Algeria (ALG)', 'Ireland (IRL)', 'Lithuania (LTU)',\n",
       "       'Bulgaria (BUL)', 'Venezuela (VEN)', 'India (IND)',\n",
       "       'Mongolia (MGL)', 'Burundi (BDI)', 'Grenada (GRN)', 'Niger (NIG)',\n",
       "       'Philippines (PHI)', 'Qatar (QAT)', 'Norway (NOR)', 'Egypt (EGY)',\n",
       "       'Tunisia (TUN)', 'Israel (ISR)', 'Austria (AUT)',\n",
       "       'Dominican Republic (DOM)', 'Estonia (EST)', 'Finland (FIN)',\n",
       "       'Morocco (MAR)', 'Moldova (MDA)', 'Nigeria (NGR)',\n",
       "       'Portugal (POR)', 'Trinidad and Tobago (TTO)',\n",
       "       'United Arab Emirates (UAE)'], dtype=object)"
      ]
     },
     "execution_count": 7,
     "metadata": {},
     "output_type": "execute_result"
    }
   ],
   "source": [
    "df['Country'].unique()"
   ]
  },
  {
   "cell_type": "code",
   "execution_count": 8,
   "metadata": {},
   "outputs": [],
   "source": [
    "# Create a List of the Countries we want to filter by\n",
    "selected_countries = ['United States (USA)', 'Canada (CAN)', 'Mexico (MEX)' ]"
   ]
  },
  {
   "cell_type": "code",
   "execution_count": 9,
   "metadata": {},
   "outputs": [
    {
     "name": "stdout",
     "output_type": "stream",
     "text": [
      "(3, 6)\n"
     ]
    },
    {
     "data": {
      "text/html": [
       "<div>\n",
       "<style scoped>\n",
       "    .dataframe tbody tr th:only-of-type {\n",
       "        vertical-align: middle;\n",
       "    }\n",
       "\n",
       "    .dataframe tbody tr th {\n",
       "        vertical-align: top;\n",
       "    }\n",
       "\n",
       "    .dataframe thead th {\n",
       "        text-align: right;\n",
       "    }\n",
       "</style>\n",
       "<table border=\"1\" class=\"dataframe\">\n",
       "  <thead>\n",
       "    <tr style=\"text-align: right;\">\n",
       "      <th></th>\n",
       "      <th>Rank</th>\n",
       "      <th>Country</th>\n",
       "      <th>Gold</th>\n",
       "      <th>Silver</th>\n",
       "      <th>Bronze</th>\n",
       "      <th>Total</th>\n",
       "    </tr>\n",
       "  </thead>\n",
       "  <tbody>\n",
       "    <tr>\n",
       "      <th>0</th>\n",
       "      <td>1</td>\n",
       "      <td>United States (USA)</td>\n",
       "      <td>46</td>\n",
       "      <td>37</td>\n",
       "      <td>38</td>\n",
       "      <td>121</td>\n",
       "    </tr>\n",
       "    <tr>\n",
       "      <th>19</th>\n",
       "      <td>20</td>\n",
       "      <td>Canada (CAN)</td>\n",
       "      <td>4</td>\n",
       "      <td>3</td>\n",
       "      <td>15</td>\n",
       "      <td>22</td>\n",
       "    </tr>\n",
       "    <tr>\n",
       "      <th>60</th>\n",
       "      <td>61</td>\n",
       "      <td>Mexico (MEX)</td>\n",
       "      <td>0</td>\n",
       "      <td>3</td>\n",
       "      <td>2</td>\n",
       "      <td>5</td>\n",
       "    </tr>\n",
       "  </tbody>\n",
       "</table>\n",
       "</div>"
      ],
      "text/plain": [
       "    Rank              Country  Gold  Silver  Bronze  Total\n",
       "0      1  United States (USA)    46      37      38    121\n",
       "19    20         Canada (CAN)     4       3      15     22\n",
       "60    61         Mexico (MEX)     0       3       2      5"
      ]
     },
     "execution_count": 9,
     "metadata": {},
     "output_type": "execute_result"
    }
   ],
   "source": [
    "df_Q3 = df.query(\"Country in @selected_countries\")\n",
    "\n",
    "print(df_Q3.shape)\n",
    "df_Q3"
   ]
  },
  {
   "cell_type": "code",
   "execution_count": null,
   "metadata": {},
   "outputs": [],
   "source": []
  }
 ],
 "metadata": {
  "kernelspec": {
   "display_name": "Python 3.9.12",
   "language": "python",
   "name": "python3"
  },
  "language_info": {
   "codemirror_mode": {
    "name": "ipython",
    "version": 3
   },
   "file_extension": ".py",
   "mimetype": "text/x-python",
   "name": "python",
   "nbconvert_exporter": "python",
   "pygments_lexer": "ipython3",
   "version": "3.9.12"
  },
  "vscode": {
   "interpreter": {
    "hash": "0ccba871b46202fe891a5da8f1fa45061240964d317113191dbecc63a04b0fa2"
   }
  }
 },
 "nbformat": 4,
 "nbformat_minor": 4
}
