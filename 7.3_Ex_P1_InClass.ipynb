{
 "cells": [
  {
   "cell_type": "markdown",
   "id": "8d02ad20",
   "metadata": {},
   "source": [
    "# Ex 7.3: Part I (In Class)"
   ]
  },
  {
   "cell_type": "markdown",
   "id": "5d5a92ec",
   "metadata": {},
   "source": [
    "### Part 1: What are the Top 5 NC Places for Percent of the Population 25 and over that have a Graduate or Professional Degree (2020)? "
   ]
  },
  {
   "cell_type": "code",
   "execution_count": 1,
   "id": "1f7ea856-0600-452b-b2ae-1572e6a679b4",
   "metadata": {},
   "outputs": [],
   "source": [
    "import pandas as pd\n",
    "import json\n",
    "import requests\n",
    "import pprint\n",
    "\n",
    "import plotly.express as px"
   ]
  },
  {
   "cell_type": "markdown",
   "id": "484de62a-4773-4958-a08d-5c486e9b23bb",
   "metadata": {},
   "source": [
    "# 1. Build the API Request URL"
   ]
  },
  {
   "cell_type": "markdown",
   "id": "4b14d038-60bb-4cc0-a6dd-94004f9bd803",
   "metadata": {},
   "source": [
    "### 1. How to Start your Data Request  \n",
    "- Requests always begin with: https://api.census.gov/data  "
   ]
  },
  {
   "cell_type": "code",
   "execution_count": 2,
   "id": "ca765e9e-fd1c-4ce0-97d1-bc41525131ee",
   "metadata": {},
   "outputs": [],
   "source": [
    "base_url = \"https://api.census.gov/data\""
   ]
  },
  {
   "cell_type": "markdown",
   "id": "afebe9e0-98a7-432d-b211-73db3dfbafef",
   "metadata": {},
   "source": [
    "### 2. Add the Dataset Name\n"
   ]
  },
  {
   "cell_type": "code",
   "execution_count": 3,
   "id": "38c9a86f-d581-43d5-8459-d205fa25a10b",
   "metadata": {},
   "outputs": [],
   "source": [
    "dataset_name = \"/2020/acs/acs5/profile\""
   ]
  },
  {
   "cell_type": "markdown",
   "id": "1d8ac627-cfa4-44de-8e69-6276ab0fd473",
   "metadata": {},
   "source": [
    "### 3. Start your Variable Request\n"
   ]
  },
  {
   "cell_type": "code",
   "execution_count": 4,
   "id": "daf2c356-61db-4fac-9461-d1f763d91d15",
   "metadata": {},
   "outputs": [],
   "source": [
    "get_start = \"?get=\""
   ]
  },
  {
   "cell_type": "markdown",
   "id": "2b620f7c-213d-4d63-aa61-49d97929dd9b",
   "metadata": {},
   "source": [
    "### 4. Add your Variables  \n",
    "- **DP02_0066PE**: Percent of Population 25 years and over with Graduate or professional degree\n"
   ]
  },
  {
   "cell_type": "code",
   "execution_count": 5,
   "id": "3112b5bc-43cb-4222-a1f0-f2c1225fc826",
   "metadata": {},
   "outputs": [],
   "source": [
    "get_variables = \"NAME,DP02_0066PE,DP02_0059E\""
   ]
  },
  {
   "cell_type": "markdown",
   "id": "cdadd63b-d9d5-4912-b19a-f2ad7894cf39",
   "metadata": {},
   "source": [
    "###   5. Add your Geography  \n"
   ]
  },
  {
   "cell_type": "code",
   "execution_count": 6,
   "id": "2ecb8924-df52-49f4-8c71-07fa99e9201d",
   "metadata": {},
   "outputs": [],
   "source": [
    "geography = \"&for=place:*&in=state:37\""
   ]
  },
  {
   "cell_type": "markdown",
   "id": "d9165204-24a1-43f4-8f3d-068aaf9920dc",
   "metadata": {},
   "source": [
    "###   6. Put it all Together "
   ]
  },
  {
   "cell_type": "code",
   "execution_count": 7,
   "id": "3901e745-60dd-4938-90a1-c56d1b86892c",
   "metadata": {},
   "outputs": [
    {
     "name": "stdout",
     "output_type": "stream",
     "text": [
      "request_url =  https://api.census.gov/data/2020/acs/acs5/profile?get=NAME,DP02_0066PE,DP02_0059E&for=place:*&in=state:37\n"
     ]
    }
   ],
   "source": [
    "request_url = base_url + dataset_name + get_start + get_variables + geography\n",
    "print(\"request_url = \", request_url)"
   ]
  },
  {
   "cell_type": "markdown",
   "id": "a3df3db3-7861-4302-83ed-5d7f27c781ed",
   "metadata": {},
   "source": [
    "# 2. Use *requests* library to make the API call"
   ]
  },
  {
   "cell_type": "code",
   "execution_count": 8,
   "id": "9903734f-1da9-47a6-9563-1d7bc7cfc6ab",
   "metadata": {},
   "outputs": [],
   "source": [
    "# Make API Call\n",
    "r = requests.get(request_url)\n",
    "\n",
    "api_results = r.json()"
   ]
  },
  {
   "cell_type": "code",
   "execution_count": 9,
   "id": "f5c36728-947f-48f9-bfd8-5b658b5f2d89",
   "metadata": {},
   "outputs": [],
   "source": [
    "#print(api_results)"
   ]
  },
  {
   "cell_type": "code",
   "execution_count": 10,
   "id": "fb5d2f24-c45a-4d00-9d4d-54c12cea72c2",
   "metadata": {},
   "outputs": [],
   "source": [
    "# pprint makes it possible to see the structure of the returned data -- but it can be very, very long!\n",
    "#pprint.pprint(api_results)"
   ]
  },
  {
   "cell_type": "code",
   "execution_count": 11,
   "id": "6ff76336-4831-451b-a4d7-c8674e90a8e1",
   "metadata": {},
   "outputs": [
    {
     "data": {
      "text/plain": [
       "list"
      ]
     },
     "execution_count": 11,
     "metadata": {},
     "output_type": "execute_result"
    }
   ],
   "source": [
    "type(api_results)"
   ]
  },
  {
   "cell_type": "markdown",
   "id": "f98cddaf-65c6-4b0c-bb5b-ce812e770f4a",
   "metadata": {},
   "source": [
    "# 3. Get the data into a Dataframe  \n",
    "- These Census Data results are in a list and have a specific form:  \n",
    "  - The first element is a list of column names  \n",
    "  - The remaining list elements are data  \n",
    "  \n",
    "  "
   ]
  },
  {
   "cell_type": "code",
   "execution_count": 12,
   "id": "7db78496-f09e-4308-9818-6668c3105b77",
   "metadata": {},
   "outputs": [
    {
     "name": "stdout",
     "output_type": "stream",
     "text": [
      "(777, 5)\n"
     ]
    },
    {
     "data": {
      "text/html": [
       "<div>\n",
       "<style scoped>\n",
       "    .dataframe tbody tr th:only-of-type {\n",
       "        vertical-align: middle;\n",
       "    }\n",
       "\n",
       "    .dataframe tbody tr th {\n",
       "        vertical-align: top;\n",
       "    }\n",
       "\n",
       "    .dataframe thead th {\n",
       "        text-align: right;\n",
       "    }\n",
       "</style>\n",
       "<table border=\"1\" class=\"dataframe\">\n",
       "  <thead>\n",
       "    <tr style=\"text-align: right;\">\n",
       "      <th></th>\n",
       "      <th>0</th>\n",
       "      <th>1</th>\n",
       "      <th>2</th>\n",
       "      <th>3</th>\n",
       "      <th>4</th>\n",
       "    </tr>\n",
       "  </thead>\n",
       "  <tbody>\n",
       "    <tr>\n",
       "      <th>0</th>\n",
       "      <td>NAME</td>\n",
       "      <td>DP02_0066PE</td>\n",
       "      <td>DP02_0059E</td>\n",
       "      <td>state</td>\n",
       "      <td>place</td>\n",
       "    </tr>\n",
       "    <tr>\n",
       "      <th>1</th>\n",
       "      <td>Aberdeen town, North Carolina</td>\n",
       "      <td>10.8</td>\n",
       "      <td>5463</td>\n",
       "      <td>37</td>\n",
       "      <td>00160</td>\n",
       "    </tr>\n",
       "    <tr>\n",
       "      <th>2</th>\n",
       "      <td>Advance CDP, North Carolina</td>\n",
       "      <td>3.8</td>\n",
       "      <td>758</td>\n",
       "      <td>37</td>\n",
       "      <td>00440</td>\n",
       "    </tr>\n",
       "    <tr>\n",
       "      <th>3</th>\n",
       "      <td>Ahoskie town, North Carolina</td>\n",
       "      <td>5.6</td>\n",
       "      <td>3432</td>\n",
       "      <td>37</td>\n",
       "      <td>00500</td>\n",
       "    </tr>\n",
       "    <tr>\n",
       "      <th>4</th>\n",
       "      <td>Alamance village, North Carolina</td>\n",
       "      <td>15.0</td>\n",
       "      <td>838</td>\n",
       "      <td>37</td>\n",
       "      <td>00640</td>\n",
       "    </tr>\n",
       "  </tbody>\n",
       "</table>\n",
       "</div>"
      ],
      "text/plain": [
       "                                  0            1           2      3      4\n",
       "0                              NAME  DP02_0066PE  DP02_0059E  state  place\n",
       "1     Aberdeen town, North Carolina         10.8        5463     37  00160\n",
       "2       Advance CDP, North Carolina          3.8         758     37  00440\n",
       "3      Ahoskie town, North Carolina          5.6        3432     37  00500\n",
       "4  Alamance village, North Carolina         15.0         838     37  00640"
      ]
     },
     "execution_count": 12,
     "metadata": {},
     "output_type": "execute_result"
    }
   ],
   "source": [
    "df = pd.DataFrame(api_results)\n",
    "\n",
    "print(df.shape)\n",
    "df.head()"
   ]
  },
  {
   "cell_type": "markdown",
   "id": "d6c648fb-8264-407c-8041-b3afeda10fe8",
   "metadata": {},
   "source": [
    "# 4. Get the first Row into columns and then get rid of it  "
   ]
  },
  {
   "cell_type": "code",
   "execution_count": 13,
   "id": "da717937-b9df-4443-a18e-8c3fe66e7381",
   "metadata": {},
   "outputs": [
    {
     "name": "stdout",
     "output_type": "stream",
     "text": [
      "(776, 5)\n"
     ]
    },
    {
     "data": {
      "text/html": [
       "<div>\n",
       "<style scoped>\n",
       "    .dataframe tbody tr th:only-of-type {\n",
       "        vertical-align: middle;\n",
       "    }\n",
       "\n",
       "    .dataframe tbody tr th {\n",
       "        vertical-align: top;\n",
       "    }\n",
       "\n",
       "    .dataframe thead th {\n",
       "        text-align: right;\n",
       "    }\n",
       "</style>\n",
       "<table border=\"1\" class=\"dataframe\">\n",
       "  <thead>\n",
       "    <tr style=\"text-align: right;\">\n",
       "      <th></th>\n",
       "      <th>NAME</th>\n",
       "      <th>DP02_0066PE</th>\n",
       "      <th>DP02_0059E</th>\n",
       "      <th>state</th>\n",
       "      <th>place</th>\n",
       "    </tr>\n",
       "  </thead>\n",
       "  <tbody>\n",
       "    <tr>\n",
       "      <th>1</th>\n",
       "      <td>Aberdeen town, North Carolina</td>\n",
       "      <td>10.8</td>\n",
       "      <td>5463</td>\n",
       "      <td>37</td>\n",
       "      <td>00160</td>\n",
       "    </tr>\n",
       "    <tr>\n",
       "      <th>2</th>\n",
       "      <td>Advance CDP, North Carolina</td>\n",
       "      <td>3.8</td>\n",
       "      <td>758</td>\n",
       "      <td>37</td>\n",
       "      <td>00440</td>\n",
       "    </tr>\n",
       "    <tr>\n",
       "      <th>3</th>\n",
       "      <td>Ahoskie town, North Carolina</td>\n",
       "      <td>5.6</td>\n",
       "      <td>3432</td>\n",
       "      <td>37</td>\n",
       "      <td>00500</td>\n",
       "    </tr>\n",
       "    <tr>\n",
       "      <th>4</th>\n",
       "      <td>Alamance village, North Carolina</td>\n",
       "      <td>15.0</td>\n",
       "      <td>838</td>\n",
       "      <td>37</td>\n",
       "      <td>00640</td>\n",
       "    </tr>\n",
       "    <tr>\n",
       "      <th>5</th>\n",
       "      <td>Albemarle city, North Carolina</td>\n",
       "      <td>4.5</td>\n",
       "      <td>11066</td>\n",
       "      <td>37</td>\n",
       "      <td>00680</td>\n",
       "    </tr>\n",
       "  </tbody>\n",
       "</table>\n",
       "</div>"
      ],
      "text/plain": [
       "0                              NAME DP02_0066PE DP02_0059E state  place\n",
       "1     Aberdeen town, North Carolina        10.8       5463    37  00160\n",
       "2       Advance CDP, North Carolina         3.8        758    37  00440\n",
       "3      Ahoskie town, North Carolina         5.6       3432    37  00500\n",
       "4  Alamance village, North Carolina        15.0        838    37  00640\n",
       "5    Albemarle city, North Carolina         4.5      11066    37  00680"
      ]
     },
     "execution_count": 13,
     "metadata": {},
     "output_type": "execute_result"
    }
   ],
   "source": [
    "df.columns = df.iloc[0]\n",
    "\n",
    "df =df.iloc[1:]\n",
    "\n",
    "print(df.shape)\n",
    "df.head()"
   ]
  },
  {
   "cell_type": "markdown",
   "id": "a0ec6925",
   "metadata": {},
   "source": [
    "# 5. Cleaning Data"
   ]
  },
  {
   "cell_type": "code",
   "execution_count": 14,
   "id": "ca18427b",
   "metadata": {},
   "outputs": [
    {
     "name": "stdout",
     "output_type": "stream",
     "text": [
      "(776, 7)\n"
     ]
    },
    {
     "data": {
      "text/html": [
       "<div>\n",
       "<style scoped>\n",
       "    .dataframe tbody tr th:only-of-type {\n",
       "        vertical-align: middle;\n",
       "    }\n",
       "\n",
       "    .dataframe tbody tr th {\n",
       "        vertical-align: top;\n",
       "    }\n",
       "\n",
       "    .dataframe thead th {\n",
       "        text-align: right;\n",
       "    }\n",
       "</style>\n",
       "<table border=\"1\" class=\"dataframe\">\n",
       "  <thead>\n",
       "    <tr style=\"text-align: right;\">\n",
       "      <th></th>\n",
       "      <th>NAME</th>\n",
       "      <th>DP02_0066PE</th>\n",
       "      <th>DP02_0059E</th>\n",
       "      <th>state</th>\n",
       "      <th>place</th>\n",
       "      <th>Place</th>\n",
       "      <th>State_Name</th>\n",
       "    </tr>\n",
       "  </thead>\n",
       "  <tbody>\n",
       "    <tr>\n",
       "      <th>1</th>\n",
       "      <td>Aberdeen town, North Carolina</td>\n",
       "      <td>10.8</td>\n",
       "      <td>5463</td>\n",
       "      <td>37</td>\n",
       "      <td>00160</td>\n",
       "      <td>Aberdeen town</td>\n",
       "      <td>North Carolina</td>\n",
       "    </tr>\n",
       "    <tr>\n",
       "      <th>2</th>\n",
       "      <td>Advance CDP, North Carolina</td>\n",
       "      <td>3.8</td>\n",
       "      <td>758</td>\n",
       "      <td>37</td>\n",
       "      <td>00440</td>\n",
       "      <td>Advance CDP</td>\n",
       "      <td>North Carolina</td>\n",
       "    </tr>\n",
       "    <tr>\n",
       "      <th>3</th>\n",
       "      <td>Ahoskie town, North Carolina</td>\n",
       "      <td>5.6</td>\n",
       "      <td>3432</td>\n",
       "      <td>37</td>\n",
       "      <td>00500</td>\n",
       "      <td>Ahoskie town</td>\n",
       "      <td>North Carolina</td>\n",
       "    </tr>\n",
       "    <tr>\n",
       "      <th>4</th>\n",
       "      <td>Alamance village, North Carolina</td>\n",
       "      <td>15.0</td>\n",
       "      <td>838</td>\n",
       "      <td>37</td>\n",
       "      <td>00640</td>\n",
       "      <td>Alamance village</td>\n",
       "      <td>North Carolina</td>\n",
       "    </tr>\n",
       "    <tr>\n",
       "      <th>5</th>\n",
       "      <td>Albemarle city, North Carolina</td>\n",
       "      <td>4.5</td>\n",
       "      <td>11066</td>\n",
       "      <td>37</td>\n",
       "      <td>00680</td>\n",
       "      <td>Albemarle city</td>\n",
       "      <td>North Carolina</td>\n",
       "    </tr>\n",
       "  </tbody>\n",
       "</table>\n",
       "</div>"
      ],
      "text/plain": [
       "0                              NAME DP02_0066PE DP02_0059E state  place  \\\n",
       "1     Aberdeen town, North Carolina        10.8       5463    37  00160   \n",
       "2       Advance CDP, North Carolina         3.8        758    37  00440   \n",
       "3      Ahoskie town, North Carolina         5.6       3432    37  00500   \n",
       "4  Alamance village, North Carolina        15.0        838    37  00640   \n",
       "5    Albemarle city, North Carolina         4.5      11066    37  00680   \n",
       "\n",
       "0             Place       State_Name  \n",
       "1     Aberdeen town   North Carolina  \n",
       "2       Advance CDP   North Carolina  \n",
       "3      Ahoskie town   North Carolina  \n",
       "4  Alamance village   North Carolina  \n",
       "5    Albemarle city   North Carolina  "
      ]
     },
     "execution_count": 14,
     "metadata": {},
     "output_type": "execute_result"
    }
   ],
   "source": [
    "two_new_cols = ['Place', 'State_Name']\n",
    "\n",
    "df[two_new_cols] = df['NAME'].str.split(',',1, expand=True)\n",
    "\n",
    "print(df.shape)\n",
    "df.head()"
   ]
  },
  {
   "cell_type": "code",
   "execution_count": 15,
   "id": "ee1e0920",
   "metadata": {},
   "outputs": [],
   "source": [
    "df[\"DP02_0066PE\"] = pd.to_numeric(df['DP02_0066PE'])\n",
    "df[\"DP02_0059E\"] = pd.to_numeric(df['DP02_0059E'])"
   ]
  },
  {
   "cell_type": "code",
   "execution_count": 16,
   "id": "bcccc63d",
   "metadata": {},
   "outputs": [
    {
     "data": {
      "text/plain": [
       "0\n",
       "NAME            object\n",
       "DP02_0066PE    float64\n",
       "DP02_0059E       int64\n",
       "state           object\n",
       "place           object\n",
       "Place           object\n",
       "State_Name      object\n",
       "dtype: object"
      ]
     },
     "execution_count": 16,
     "metadata": {},
     "output_type": "execute_result"
    }
   ],
   "source": [
    "df.dtypes"
   ]
  },
  {
   "cell_type": "code",
   "execution_count": 17,
   "id": "74904292",
   "metadata": {},
   "outputs": [
    {
     "data": {
      "text/html": [
       "<div>\n",
       "<style scoped>\n",
       "    .dataframe tbody tr th:only-of-type {\n",
       "        vertical-align: middle;\n",
       "    }\n",
       "\n",
       "    .dataframe tbody tr th {\n",
       "        vertical-align: top;\n",
       "    }\n",
       "\n",
       "    .dataframe thead th {\n",
       "        text-align: right;\n",
       "    }\n",
       "</style>\n",
       "<table border=\"1\" class=\"dataframe\">\n",
       "  <thead>\n",
       "    <tr style=\"text-align: right;\">\n",
       "      <th></th>\n",
       "      <th>NAME</th>\n",
       "      <th>DP02_0066PE</th>\n",
       "      <th>DP02_0059E</th>\n",
       "      <th>state</th>\n",
       "      <th>place</th>\n",
       "      <th>Place</th>\n",
       "      <th>State_Name</th>\n",
       "    </tr>\n",
       "  </thead>\n",
       "  <tbody>\n",
       "    <tr>\n",
       "      <th>305</th>\n",
       "      <td>Forest Hills village, North Carolina</td>\n",
       "      <td>55.8</td>\n",
       "      <td>233</td>\n",
       "      <td>37</td>\n",
       "      <td>24170</td>\n",
       "      <td>Forest Hills village</td>\n",
       "      <td>North Carolina</td>\n",
       "    </tr>\n",
       "    <tr>\n",
       "      <th>69</th>\n",
       "      <td>Blue Clay Farms CDP, North Carolina</td>\n",
       "      <td>53.7</td>\n",
       "      <td>41</td>\n",
       "      <td>37</td>\n",
       "      <td>06510</td>\n",
       "      <td>Blue Clay Farms CDP</td>\n",
       "      <td>North Carolina</td>\n",
       "    </tr>\n",
       "    <tr>\n",
       "      <th>222</th>\n",
       "      <td>Carolina Meadows CDP, North Carolina</td>\n",
       "      <td>53.2</td>\n",
       "      <td>611</td>\n",
       "      <td>37</td>\n",
       "      <td>10532</td>\n",
       "      <td>Carolina Meadows CDP</td>\n",
       "      <td>North Carolina</td>\n",
       "    </tr>\n",
       "    <tr>\n",
       "      <th>238</th>\n",
       "      <td>Chapel Hill town, North Carolina</td>\n",
       "      <td>48.8</td>\n",
       "      <td>31171</td>\n",
       "      <td>37</td>\n",
       "      <td>11800</td>\n",
       "      <td>Chapel Hill town</td>\n",
       "      <td>North Carolina</td>\n",
       "    </tr>\n",
       "    <tr>\n",
       "      <th>297</th>\n",
       "      <td>Fearrington Village CDP, North Carolina</td>\n",
       "      <td>48.3</td>\n",
       "      <td>2451</td>\n",
       "      <td>37</td>\n",
       "      <td>22982</td>\n",
       "      <td>Fearrington Village CDP</td>\n",
       "      <td>North Carolina</td>\n",
       "    </tr>\n",
       "  </tbody>\n",
       "</table>\n",
       "</div>"
      ],
      "text/plain": [
       "0                                       NAME  DP02_0066PE  DP02_0059E state  \\\n",
       "305     Forest Hills village, North Carolina         55.8         233    37   \n",
       "69       Blue Clay Farms CDP, North Carolina         53.7          41    37   \n",
       "222     Carolina Meadows CDP, North Carolina         53.2         611    37   \n",
       "238         Chapel Hill town, North Carolina         48.8       31171    37   \n",
       "297  Fearrington Village CDP, North Carolina         48.3        2451    37   \n",
       "\n",
       "0    place                    Place       State_Name  \n",
       "305  24170     Forest Hills village   North Carolina  \n",
       "69   06510      Blue Clay Farms CDP   North Carolina  \n",
       "222  10532     Carolina Meadows CDP   North Carolina  \n",
       "238  11800         Chapel Hill town   North Carolina  \n",
       "297  22982  Fearrington Village CDP   North Carolina  "
      ]
     },
     "execution_count": 17,
     "metadata": {},
     "output_type": "execute_result"
    }
   ],
   "source": [
    "df.sort_values(by=\"DP02_0066PE\", ascending=False, inplace=True)\n",
    "df = df.iloc[ : 5]\n",
    "df"
   ]
  },
  {
   "cell_type": "code",
   "execution_count": 18,
   "id": "2a9302d3",
   "metadata": {},
   "outputs": [
    {
     "name": "stdout",
     "output_type": "stream",
     "text": [
      "(5, 7)\n"
     ]
    },
    {
     "data": {
      "text/html": [
       "<div>\n",
       "<style scoped>\n",
       "    .dataframe tbody tr th:only-of-type {\n",
       "        vertical-align: middle;\n",
       "    }\n",
       "\n",
       "    .dataframe tbody tr th {\n",
       "        vertical-align: top;\n",
       "    }\n",
       "\n",
       "    .dataframe thead th {\n",
       "        text-align: right;\n",
       "    }\n",
       "</style>\n",
       "<table border=\"1\" class=\"dataframe\">\n",
       "  <thead>\n",
       "    <tr style=\"text-align: right;\">\n",
       "      <th></th>\n",
       "      <th>NAME</th>\n",
       "      <th>% 25 or Older with Grad Degree (DP02_0066PE)</th>\n",
       "      <th>Total Population (DP02_0059E)</th>\n",
       "      <th>state</th>\n",
       "      <th>place</th>\n",
       "      <th>Place</th>\n",
       "      <th>State_Name</th>\n",
       "    </tr>\n",
       "  </thead>\n",
       "  <tbody>\n",
       "    <tr>\n",
       "      <th>305</th>\n",
       "      <td>Forest Hills village, North Carolina</td>\n",
       "      <td>55.8</td>\n",
       "      <td>233</td>\n",
       "      <td>37</td>\n",
       "      <td>24170</td>\n",
       "      <td>Forest Hills village</td>\n",
       "      <td>North Carolina</td>\n",
       "    </tr>\n",
       "    <tr>\n",
       "      <th>69</th>\n",
       "      <td>Blue Clay Farms CDP, North Carolina</td>\n",
       "      <td>53.7</td>\n",
       "      <td>41</td>\n",
       "      <td>37</td>\n",
       "      <td>06510</td>\n",
       "      <td>Blue Clay Farms CDP</td>\n",
       "      <td>North Carolina</td>\n",
       "    </tr>\n",
       "    <tr>\n",
       "      <th>222</th>\n",
       "      <td>Carolina Meadows CDP, North Carolina</td>\n",
       "      <td>53.2</td>\n",
       "      <td>611</td>\n",
       "      <td>37</td>\n",
       "      <td>10532</td>\n",
       "      <td>Carolina Meadows CDP</td>\n",
       "      <td>North Carolina</td>\n",
       "    </tr>\n",
       "    <tr>\n",
       "      <th>238</th>\n",
       "      <td>Chapel Hill town, North Carolina</td>\n",
       "      <td>48.8</td>\n",
       "      <td>31171</td>\n",
       "      <td>37</td>\n",
       "      <td>11800</td>\n",
       "      <td>Chapel Hill town</td>\n",
       "      <td>North Carolina</td>\n",
       "    </tr>\n",
       "    <tr>\n",
       "      <th>297</th>\n",
       "      <td>Fearrington Village CDP, North Carolina</td>\n",
       "      <td>48.3</td>\n",
       "      <td>2451</td>\n",
       "      <td>37</td>\n",
       "      <td>22982</td>\n",
       "      <td>Fearrington Village CDP</td>\n",
       "      <td>North Carolina</td>\n",
       "    </tr>\n",
       "  </tbody>\n",
       "</table>\n",
       "</div>"
      ],
      "text/plain": [
       "0                                       NAME  \\\n",
       "305     Forest Hills village, North Carolina   \n",
       "69       Blue Clay Farms CDP, North Carolina   \n",
       "222     Carolina Meadows CDP, North Carolina   \n",
       "238         Chapel Hill town, North Carolina   \n",
       "297  Fearrington Village CDP, North Carolina   \n",
       "\n",
       "0    % 25 or Older with Grad Degree (DP02_0066PE)  \\\n",
       "305                                          55.8   \n",
       "69                                           53.7   \n",
       "222                                          53.2   \n",
       "238                                          48.8   \n",
       "297                                          48.3   \n",
       "\n",
       "0    Total Population (DP02_0059E) state  place                    Place  \\\n",
       "305                            233    37  24170     Forest Hills village   \n",
       "69                              41    37  06510      Blue Clay Farms CDP   \n",
       "222                            611    37  10532     Carolina Meadows CDP   \n",
       "238                          31171    37  11800         Chapel Hill town   \n",
       "297                           2451    37  22982  Fearrington Village CDP   \n",
       "\n",
       "0         State_Name  \n",
       "305   North Carolina  \n",
       "69    North Carolina  \n",
       "222   North Carolina  \n",
       "238   North Carolina  \n",
       "297   North Carolina  "
      ]
     },
     "execution_count": 18,
     "metadata": {},
     "output_type": "execute_result"
    }
   ],
   "source": [
    "cols_to_rename = {\n",
    "                   'DP02_0066PE':'% 25 or Older with Grad Degree (DP02_0066PE)', \n",
    "                   'DP02_0059E' :'Total Population (DP02_0059E)'\n",
    "                 }\n",
    "df.rename(columns = cols_to_rename, inplace=True)\n",
    "\n",
    "print(df.shape)\n",
    "df.head()"
   ]
  },
  {
   "cell_type": "code",
   "execution_count": 19,
   "id": "733c1e75",
   "metadata": {},
   "outputs": [
    {
     "name": "stdout",
     "output_type": "stream",
     "text": [
      "Part 1: What are the Top 5 NC Places for Percent of the Population 25 and over that have a Graduate or Professional Degree (2020)? \n",
      "(5, 3)\n"
     ]
    },
    {
     "data": {
      "text/html": [
       "<div>\n",
       "<style scoped>\n",
       "    .dataframe tbody tr th:only-of-type {\n",
       "        vertical-align: middle;\n",
       "    }\n",
       "\n",
       "    .dataframe tbody tr th {\n",
       "        vertical-align: top;\n",
       "    }\n",
       "\n",
       "    .dataframe thead th {\n",
       "        text-align: right;\n",
       "    }\n",
       "</style>\n",
       "<table border=\"1\" class=\"dataframe\">\n",
       "  <thead>\n",
       "    <tr style=\"text-align: right;\">\n",
       "      <th></th>\n",
       "      <th>Place</th>\n",
       "      <th>% 25 or Older with Grad Degree (DP02_0066PE)</th>\n",
       "      <th>Total Population (DP02_0059E)</th>\n",
       "    </tr>\n",
       "  </thead>\n",
       "  <tbody>\n",
       "    <tr>\n",
       "      <th>305</th>\n",
       "      <td>Forest Hills village</td>\n",
       "      <td>55.8</td>\n",
       "      <td>233</td>\n",
       "    </tr>\n",
       "    <tr>\n",
       "      <th>69</th>\n",
       "      <td>Blue Clay Farms CDP</td>\n",
       "      <td>53.7</td>\n",
       "      <td>41</td>\n",
       "    </tr>\n",
       "    <tr>\n",
       "      <th>222</th>\n",
       "      <td>Carolina Meadows CDP</td>\n",
       "      <td>53.2</td>\n",
       "      <td>611</td>\n",
       "    </tr>\n",
       "    <tr>\n",
       "      <th>238</th>\n",
       "      <td>Chapel Hill town</td>\n",
       "      <td>48.8</td>\n",
       "      <td>31171</td>\n",
       "    </tr>\n",
       "    <tr>\n",
       "      <th>297</th>\n",
       "      <td>Fearrington Village CDP</td>\n",
       "      <td>48.3</td>\n",
       "      <td>2451</td>\n",
       "    </tr>\n",
       "  </tbody>\n",
       "</table>\n",
       "</div>"
      ],
      "text/plain": [
       "0                      Place  % 25 or Older with Grad Degree (DP02_0066PE)  \\\n",
       "305     Forest Hills village                                          55.8   \n",
       "69       Blue Clay Farms CDP                                          53.7   \n",
       "222     Carolina Meadows CDP                                          53.2   \n",
       "238         Chapel Hill town                                          48.8   \n",
       "297  Fearrington Village CDP                                          48.3   \n",
       "\n",
       "0    Total Population (DP02_0059E)  \n",
       "305                            233  \n",
       "69                              41  \n",
       "222                            611  \n",
       "238                          31171  \n",
       "297                           2451  "
      ]
     },
     "execution_count": 19,
     "metadata": {},
     "output_type": "execute_result"
    }
   ],
   "source": [
    "cols_to_keep = ['Place', '% 25 or Older with Grad Degree (DP02_0066PE)', 'Total Population (DP02_0059E)']\n",
    "df = df[cols_to_keep]\n",
    "\n",
    "print(\"Part 1: What are the Top 5 NC Places for Percent of the Population 25 and over that have a Graduate or Professional Degree (2020)? \")\n",
    "print(df.shape)\n",
    "df.head()"
   ]
  }
 ],
 "metadata": {
  "kernelspec": {
   "display_name": "Python 3.9.12",
   "language": "python",
   "name": "python3"
  },
  "language_info": {
   "codemirror_mode": {
    "name": "ipython",
    "version": 3
   },
   "file_extension": ".py",
   "mimetype": "text/x-python",
   "name": "python",
   "nbconvert_exporter": "python",
   "pygments_lexer": "ipython3",
   "version": "3.9.12"
  },
  "vscode": {
   "interpreter": {
    "hash": "0ccba871b46202fe891a5da8f1fa45061240964d317113191dbecc63a04b0fa2"
   }
  }
 },
 "nbformat": 4,
 "nbformat_minor": 5
}
