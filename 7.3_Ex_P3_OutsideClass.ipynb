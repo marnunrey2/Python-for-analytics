{
 "cells": [
  {
   "cell_type": "markdown",
   "id": "8d02ad20",
   "metadata": {},
   "source": [
    "# Ex 7.3: Part III (Outside Class)"
   ]
  },
  {
   "cell_type": "code",
   "execution_count": 1,
   "id": "1f7ea856-0600-452b-b2ae-1572e6a679b4",
   "metadata": {},
   "outputs": [],
   "source": [
    "import pandas as pd\n",
    "import json\n",
    "import requests\n",
    "import pprint\n",
    "\n",
    "import plotly.express as px"
   ]
  },
  {
   "cell_type": "markdown",
   "id": "484de62a-4773-4958-a08d-5c486e9b23bb",
   "metadata": {},
   "source": [
    "# 1. Build the API Request URL"
   ]
  },
  {
   "cell_type": "markdown",
   "id": "4b14d038-60bb-4cc0-a6dd-94004f9bd803",
   "metadata": {},
   "source": [
    "### 1. How to Start your Data Request  \n",
    "- Requests always begin with: https://api.census.gov/data  "
   ]
  },
  {
   "cell_type": "code",
   "execution_count": 2,
   "id": "ca765e9e-fd1c-4ce0-97d1-bc41525131ee",
   "metadata": {},
   "outputs": [],
   "source": [
    "base_url = \"https://api.census.gov/data\""
   ]
  },
  {
   "cell_type": "markdown",
   "id": "afebe9e0-98a7-432d-b211-73db3dfbafef",
   "metadata": {},
   "source": [
    "### 2. Add the Dataset Name\n"
   ]
  },
  {
   "cell_type": "code",
   "execution_count": 3,
   "id": "38c9a86f-d581-43d5-8459-d205fa25a10b",
   "metadata": {},
   "outputs": [],
   "source": [
    "dataset_name = \"/2020/acs/acs5/profile\""
   ]
  },
  {
   "cell_type": "markdown",
   "id": "1d8ac627-cfa4-44de-8e69-6276ab0fd473",
   "metadata": {},
   "source": [
    "### 3. Start your Variable Request\n"
   ]
  },
  {
   "cell_type": "code",
   "execution_count": 4,
   "id": "daf2c356-61db-4fac-9461-d1f763d91d15",
   "metadata": {},
   "outputs": [],
   "source": [
    "get_start = \"?get=\""
   ]
  },
  {
   "cell_type": "markdown",
   "id": "2b620f7c-213d-4d63-aa61-49d97929dd9b",
   "metadata": {},
   "source": [
    "### 4. Add your Variables  \n",
    "- **DP02_0066PE**: Percent of Population 25 years and over with Graduate or professional degree\n"
   ]
  },
  {
   "cell_type": "code",
   "execution_count": 5,
   "id": "3112b5bc-43cb-4222-a1f0-f2c1225fc826",
   "metadata": {},
   "outputs": [],
   "source": [
    "get_variables = \"NAME,DP04_0057E,DP04_0057PE,DP04_0058E,DP04_0058PE\""
   ]
  },
  {
   "cell_type": "markdown",
   "id": "cdadd63b-d9d5-4912-b19a-f2ad7894cf39",
   "metadata": {},
   "source": [
    "###   5. Add your Geography  \n"
   ]
  },
  {
   "cell_type": "code",
   "execution_count": 6,
   "id": "2ecb8924-df52-49f4-8c71-07fa99e9201d",
   "metadata": {},
   "outputs": [],
   "source": [
    "geography = \"&for=county:*&in=state:37\""
   ]
  },
  {
   "cell_type": "markdown",
   "id": "d9165204-24a1-43f4-8f3d-068aaf9920dc",
   "metadata": {},
   "source": [
    "###   6. Put it all Together "
   ]
  },
  {
   "cell_type": "code",
   "execution_count": 7,
   "id": "3901e745-60dd-4938-90a1-c56d1b86892c",
   "metadata": {},
   "outputs": [
    {
     "name": "stdout",
     "output_type": "stream",
     "text": [
      "request_url =  https://api.census.gov/data/2020/acs/acs5/profile?get=NAME,DP04_0057E,DP04_0057PE,DP04_0058E,DP04_0058PE&for=county:*&in=state:37\n"
     ]
    }
   ],
   "source": [
    "request_url = base_url + dataset_name + get_start + get_variables + geography\n",
    "print(\"request_url = \", request_url)"
   ]
  },
  {
   "cell_type": "markdown",
   "id": "a3df3db3-7861-4302-83ed-5d7f27c781ed",
   "metadata": {},
   "source": [
    "# 2. Use *requests* library to make the API call"
   ]
  },
  {
   "cell_type": "code",
   "execution_count": 8,
   "id": "9903734f-1da9-47a6-9563-1d7bc7cfc6ab",
   "metadata": {},
   "outputs": [],
   "source": [
    "# Make API Call\n",
    "r = requests.get(request_url)\n",
    "\n",
    "api_results = r.json()"
   ]
  },
  {
   "cell_type": "code",
   "execution_count": 9,
   "id": "f5c36728-947f-48f9-bfd8-5b658b5f2d89",
   "metadata": {},
   "outputs": [],
   "source": [
    "#print(api_results)"
   ]
  },
  {
   "cell_type": "code",
   "execution_count": 10,
   "id": "fb5d2f24-c45a-4d00-9d4d-54c12cea72c2",
   "metadata": {},
   "outputs": [],
   "source": [
    "# pprint makes it possible to see the structure of the returned data -- but it can be very, very long!\n",
    "#pprint.pprint(api_results)"
   ]
  },
  {
   "cell_type": "code",
   "execution_count": 11,
   "id": "6ff76336-4831-451b-a4d7-c8674e90a8e1",
   "metadata": {},
   "outputs": [
    {
     "data": {
      "text/plain": [
       "list"
      ]
     },
     "execution_count": 11,
     "metadata": {},
     "output_type": "execute_result"
    }
   ],
   "source": [
    "type(api_results)"
   ]
  },
  {
   "cell_type": "markdown",
   "id": "f98cddaf-65c6-4b0c-bb5b-ce812e770f4a",
   "metadata": {},
   "source": [
    "# 3. Get the data into a Dataframe  \n",
    "- These Census Data results are in a list and have a specific form:  \n",
    "  - The first element is a list of column names  \n",
    "  - The remaining list elements are data  \n",
    "  \n",
    "  "
   ]
  },
  {
   "cell_type": "code",
   "execution_count": 12,
   "id": "7db78496-f09e-4308-9818-6668c3105b77",
   "metadata": {},
   "outputs": [
    {
     "name": "stdout",
     "output_type": "stream",
     "text": [
      "(101, 7)\n"
     ]
    },
    {
     "data": {
      "text/html": [
       "<div>\n",
       "<style scoped>\n",
       "    .dataframe tbody tr th:only-of-type {\n",
       "        vertical-align: middle;\n",
       "    }\n",
       "\n",
       "    .dataframe tbody tr th {\n",
       "        vertical-align: top;\n",
       "    }\n",
       "\n",
       "    .dataframe thead th {\n",
       "        text-align: right;\n",
       "    }\n",
       "</style>\n",
       "<table border=\"1\" class=\"dataframe\">\n",
       "  <thead>\n",
       "    <tr style=\"text-align: right;\">\n",
       "      <th></th>\n",
       "      <th>0</th>\n",
       "      <th>1</th>\n",
       "      <th>2</th>\n",
       "      <th>3</th>\n",
       "      <th>4</th>\n",
       "      <th>5</th>\n",
       "      <th>6</th>\n",
       "    </tr>\n",
       "  </thead>\n",
       "  <tbody>\n",
       "    <tr>\n",
       "      <th>0</th>\n",
       "      <td>NAME</td>\n",
       "      <td>DP04_0057E</td>\n",
       "      <td>DP04_0057PE</td>\n",
       "      <td>DP04_0058E</td>\n",
       "      <td>DP04_0058PE</td>\n",
       "      <td>state</td>\n",
       "      <td>county</td>\n",
       "    </tr>\n",
       "    <tr>\n",
       "      <th>1</th>\n",
       "      <td>Anson County, North Carolina</td>\n",
       "      <td>9803</td>\n",
       "      <td>9803</td>\n",
       "      <td>689</td>\n",
       "      <td>7.0</td>\n",
       "      <td>37</td>\n",
       "      <td>007</td>\n",
       "    </tr>\n",
       "    <tr>\n",
       "      <th>2</th>\n",
       "      <td>Beaufort County, North Carolina</td>\n",
       "      <td>20219</td>\n",
       "      <td>20219</td>\n",
       "      <td>1282</td>\n",
       "      <td>6.3</td>\n",
       "      <td>37</td>\n",
       "      <td>013</td>\n",
       "    </tr>\n",
       "    <tr>\n",
       "      <th>3</th>\n",
       "      <td>Brunswick County, North Carolina</td>\n",
       "      <td>59416</td>\n",
       "      <td>59416</td>\n",
       "      <td>1821</td>\n",
       "      <td>3.1</td>\n",
       "      <td>37</td>\n",
       "      <td>019</td>\n",
       "    </tr>\n",
       "    <tr>\n",
       "      <th>4</th>\n",
       "      <td>Cabarrus County, North Carolina</td>\n",
       "      <td>72843</td>\n",
       "      <td>72843</td>\n",
       "      <td>2952</td>\n",
       "      <td>4.1</td>\n",
       "      <td>37</td>\n",
       "      <td>025</td>\n",
       "    </tr>\n",
       "  </tbody>\n",
       "</table>\n",
       "</div>"
      ],
      "text/plain": [
       "                                  0           1            2           3  \\\n",
       "0                              NAME  DP04_0057E  DP04_0057PE  DP04_0058E   \n",
       "1      Anson County, North Carolina        9803         9803         689   \n",
       "2   Beaufort County, North Carolina       20219        20219        1282   \n",
       "3  Brunswick County, North Carolina       59416        59416        1821   \n",
       "4   Cabarrus County, North Carolina       72843        72843        2952   \n",
       "\n",
       "             4      5       6  \n",
       "0  DP04_0058PE  state  county  \n",
       "1          7.0     37     007  \n",
       "2          6.3     37     013  \n",
       "3          3.1     37     019  \n",
       "4          4.1     37     025  "
      ]
     },
     "execution_count": 12,
     "metadata": {},
     "output_type": "execute_result"
    }
   ],
   "source": [
    "df = pd.DataFrame(api_results)\n",
    "\n",
    "print(df.shape)\n",
    "df.head()"
   ]
  },
  {
   "cell_type": "markdown",
   "id": "d6c648fb-8264-407c-8041-b3afeda10fe8",
   "metadata": {},
   "source": [
    "# 4. Get the first Row into columns and then get rid of it  "
   ]
  },
  {
   "cell_type": "code",
   "execution_count": 13,
   "id": "da717937-b9df-4443-a18e-8c3fe66e7381",
   "metadata": {},
   "outputs": [
    {
     "name": "stdout",
     "output_type": "stream",
     "text": [
      "(100, 7)\n"
     ]
    },
    {
     "data": {
      "text/html": [
       "<div>\n",
       "<style scoped>\n",
       "    .dataframe tbody tr th:only-of-type {\n",
       "        vertical-align: middle;\n",
       "    }\n",
       "\n",
       "    .dataframe tbody tr th {\n",
       "        vertical-align: top;\n",
       "    }\n",
       "\n",
       "    .dataframe thead th {\n",
       "        text-align: right;\n",
       "    }\n",
       "</style>\n",
       "<table border=\"1\" class=\"dataframe\">\n",
       "  <thead>\n",
       "    <tr style=\"text-align: right;\">\n",
       "      <th></th>\n",
       "      <th>NAME</th>\n",
       "      <th>DP04_0057E</th>\n",
       "      <th>DP04_0057PE</th>\n",
       "      <th>DP04_0058E</th>\n",
       "      <th>DP04_0058PE</th>\n",
       "      <th>state</th>\n",
       "      <th>county</th>\n",
       "    </tr>\n",
       "  </thead>\n",
       "  <tbody>\n",
       "    <tr>\n",
       "      <th>1</th>\n",
       "      <td>Anson County, North Carolina</td>\n",
       "      <td>9803</td>\n",
       "      <td>9803</td>\n",
       "      <td>689</td>\n",
       "      <td>7.0</td>\n",
       "      <td>37</td>\n",
       "      <td>007</td>\n",
       "    </tr>\n",
       "    <tr>\n",
       "      <th>2</th>\n",
       "      <td>Beaufort County, North Carolina</td>\n",
       "      <td>20219</td>\n",
       "      <td>20219</td>\n",
       "      <td>1282</td>\n",
       "      <td>6.3</td>\n",
       "      <td>37</td>\n",
       "      <td>013</td>\n",
       "    </tr>\n",
       "    <tr>\n",
       "      <th>3</th>\n",
       "      <td>Brunswick County, North Carolina</td>\n",
       "      <td>59416</td>\n",
       "      <td>59416</td>\n",
       "      <td>1821</td>\n",
       "      <td>3.1</td>\n",
       "      <td>37</td>\n",
       "      <td>019</td>\n",
       "    </tr>\n",
       "    <tr>\n",
       "      <th>4</th>\n",
       "      <td>Cabarrus County, North Carolina</td>\n",
       "      <td>72843</td>\n",
       "      <td>72843</td>\n",
       "      <td>2952</td>\n",
       "      <td>4.1</td>\n",
       "      <td>37</td>\n",
       "      <td>025</td>\n",
       "    </tr>\n",
       "    <tr>\n",
       "      <th>5</th>\n",
       "      <td>Carteret County, North Carolina</td>\n",
       "      <td>30060</td>\n",
       "      <td>30060</td>\n",
       "      <td>1265</td>\n",
       "      <td>4.2</td>\n",
       "      <td>37</td>\n",
       "      <td>031</td>\n",
       "    </tr>\n",
       "  </tbody>\n",
       "</table>\n",
       "</div>"
      ],
      "text/plain": [
       "0                              NAME DP04_0057E DP04_0057PE DP04_0058E  \\\n",
       "1      Anson County, North Carolina       9803        9803        689   \n",
       "2   Beaufort County, North Carolina      20219       20219       1282   \n",
       "3  Brunswick County, North Carolina      59416       59416       1821   \n",
       "4   Cabarrus County, North Carolina      72843       72843       2952   \n",
       "5   Carteret County, North Carolina      30060       30060       1265   \n",
       "\n",
       "0 DP04_0058PE state county  \n",
       "1         7.0    37    007  \n",
       "2         6.3    37    013  \n",
       "3         3.1    37    019  \n",
       "4         4.1    37    025  \n",
       "5         4.2    37    031  "
      ]
     },
     "execution_count": 13,
     "metadata": {},
     "output_type": "execute_result"
    }
   ],
   "source": [
    "df.columns = df.iloc[0]\n",
    "\n",
    "df =df.iloc[1:]\n",
    "\n",
    "print(df.shape)\n",
    "df.head()"
   ]
  },
  {
   "cell_type": "markdown",
   "id": "a0ec6925",
   "metadata": {},
   "source": [
    "# Part 3.1: Cleaning Data"
   ]
  },
  {
   "cell_type": "code",
   "execution_count": 14,
   "id": "ca18427b",
   "metadata": {},
   "outputs": [
    {
     "name": "stdout",
     "output_type": "stream",
     "text": [
      "(100, 9)\n"
     ]
    },
    {
     "data": {
      "text/html": [
       "<div>\n",
       "<style scoped>\n",
       "    .dataframe tbody tr th:only-of-type {\n",
       "        vertical-align: middle;\n",
       "    }\n",
       "\n",
       "    .dataframe tbody tr th {\n",
       "        vertical-align: top;\n",
       "    }\n",
       "\n",
       "    .dataframe thead th {\n",
       "        text-align: right;\n",
       "    }\n",
       "</style>\n",
       "<table border=\"1\" class=\"dataframe\">\n",
       "  <thead>\n",
       "    <tr style=\"text-align: right;\">\n",
       "      <th></th>\n",
       "      <th>NAME</th>\n",
       "      <th>DP04_0057E</th>\n",
       "      <th>DP04_0057PE</th>\n",
       "      <th>DP04_0058E</th>\n",
       "      <th>DP04_0058PE</th>\n",
       "      <th>state</th>\n",
       "      <th>county</th>\n",
       "      <th>County Name</th>\n",
       "      <th>State_Name</th>\n",
       "    </tr>\n",
       "  </thead>\n",
       "  <tbody>\n",
       "    <tr>\n",
       "      <th>1</th>\n",
       "      <td>Anson County, North Carolina</td>\n",
       "      <td>9803</td>\n",
       "      <td>9803</td>\n",
       "      <td>689</td>\n",
       "      <td>7.0</td>\n",
       "      <td>37</td>\n",
       "      <td>007</td>\n",
       "      <td>Anson</td>\n",
       "      <td>, North Carolina</td>\n",
       "    </tr>\n",
       "    <tr>\n",
       "      <th>2</th>\n",
       "      <td>Beaufort County, North Carolina</td>\n",
       "      <td>20219</td>\n",
       "      <td>20219</td>\n",
       "      <td>1282</td>\n",
       "      <td>6.3</td>\n",
       "      <td>37</td>\n",
       "      <td>013</td>\n",
       "      <td>Beaufort</td>\n",
       "      <td>, North Carolina</td>\n",
       "    </tr>\n",
       "    <tr>\n",
       "      <th>3</th>\n",
       "      <td>Brunswick County, North Carolina</td>\n",
       "      <td>59416</td>\n",
       "      <td>59416</td>\n",
       "      <td>1821</td>\n",
       "      <td>3.1</td>\n",
       "      <td>37</td>\n",
       "      <td>019</td>\n",
       "      <td>Brunswick</td>\n",
       "      <td>, North Carolina</td>\n",
       "    </tr>\n",
       "    <tr>\n",
       "      <th>4</th>\n",
       "      <td>Cabarrus County, North Carolina</td>\n",
       "      <td>72843</td>\n",
       "      <td>72843</td>\n",
       "      <td>2952</td>\n",
       "      <td>4.1</td>\n",
       "      <td>37</td>\n",
       "      <td>025</td>\n",
       "      <td>Cabarrus</td>\n",
       "      <td>, North Carolina</td>\n",
       "    </tr>\n",
       "    <tr>\n",
       "      <th>5</th>\n",
       "      <td>Carteret County, North Carolina</td>\n",
       "      <td>30060</td>\n",
       "      <td>30060</td>\n",
       "      <td>1265</td>\n",
       "      <td>4.2</td>\n",
       "      <td>37</td>\n",
       "      <td>031</td>\n",
       "      <td>Carteret</td>\n",
       "      <td>, North Carolina</td>\n",
       "    </tr>\n",
       "  </tbody>\n",
       "</table>\n",
       "</div>"
      ],
      "text/plain": [
       "0                              NAME DP04_0057E DP04_0057PE DP04_0058E  \\\n",
       "1      Anson County, North Carolina       9803        9803        689   \n",
       "2   Beaufort County, North Carolina      20219       20219       1282   \n",
       "3  Brunswick County, North Carolina      59416       59416       1821   \n",
       "4   Cabarrus County, North Carolina      72843       72843       2952   \n",
       "5   Carteret County, North Carolina      30060       30060       1265   \n",
       "\n",
       "0 DP04_0058PE state county County Name        State_Name  \n",
       "1         7.0    37    007       Anson  , North Carolina  \n",
       "2         6.3    37    013    Beaufort  , North Carolina  \n",
       "3         3.1    37    019   Brunswick  , North Carolina  \n",
       "4         4.1    37    025    Cabarrus  , North Carolina  \n",
       "5         4.2    37    031    Carteret  , North Carolina  "
      ]
     },
     "execution_count": 14,
     "metadata": {},
     "output_type": "execute_result"
    }
   ],
   "source": [
    "two_new_cols = ['County Name', 'State_Name']\n",
    "\n",
    "df[two_new_cols] = df['NAME'].str.split(' County',1, expand=True)\n",
    "\n",
    "print(df.shape)\n",
    "df.head()"
   ]
  },
  {
   "cell_type": "code",
   "execution_count": 15,
   "id": "ee1e0920",
   "metadata": {},
   "outputs": [],
   "source": [
    "df[\"DP04_0057E\"] = pd.to_numeric(df['DP04_0057E'])\n",
    "df[\"DP04_0057PE\"] = pd.to_numeric(df['DP04_0057PE']).astype(float)\n",
    "df[\"DP04_0058E\"] = pd.to_numeric(df['DP04_0058E'])\n",
    "df[\"DP04_0058PE\"] = pd.to_numeric(df['DP04_0058PE'])"
   ]
  },
  {
   "cell_type": "code",
   "execution_count": 16,
   "id": "bcccc63d",
   "metadata": {},
   "outputs": [
    {
     "data": {
      "text/plain": [
       "0\n",
       "NAME            object\n",
       "DP04_0057E       int64\n",
       "DP04_0057PE    float64\n",
       "DP04_0058E       int64\n",
       "DP04_0058PE    float64\n",
       "state           object\n",
       "county          object\n",
       "County Name     object\n",
       "State_Name      object\n",
       "dtype: object"
      ]
     },
     "execution_count": 16,
     "metadata": {},
     "output_type": "execute_result"
    }
   ],
   "source": [
    "df.dtypes"
   ]
  },
  {
   "cell_type": "code",
   "execution_count": 17,
   "id": "2a9302d3",
   "metadata": {},
   "outputs": [
    {
     "name": "stdout",
     "output_type": "stream",
     "text": [
      "(100, 9)\n"
     ]
    },
    {
     "data": {
      "text/html": [
       "<div>\n",
       "<style scoped>\n",
       "    .dataframe tbody tr th:only-of-type {\n",
       "        vertical-align: middle;\n",
       "    }\n",
       "\n",
       "    .dataframe tbody tr th {\n",
       "        vertical-align: top;\n",
       "    }\n",
       "\n",
       "    .dataframe thead th {\n",
       "        text-align: right;\n",
       "    }\n",
       "</style>\n",
       "<table border=\"1\" class=\"dataframe\">\n",
       "  <thead>\n",
       "    <tr style=\"text-align: right;\">\n",
       "      <th></th>\n",
       "      <th>NAME</th>\n",
       "      <th>Vehicles Available (DP04_0057E)</th>\n",
       "      <th>Vehicles Available - Percent (DP04_0057PE)</th>\n",
       "      <th>No Vehicles Available (DP04_0058E)</th>\n",
       "      <th>No Vehicles Available - Percent (DP04_0058PE)</th>\n",
       "      <th>FIPS_State</th>\n",
       "      <th>FIPS_County</th>\n",
       "      <th>County Name</th>\n",
       "      <th>State_Name</th>\n",
       "    </tr>\n",
       "  </thead>\n",
       "  <tbody>\n",
       "    <tr>\n",
       "      <th>1</th>\n",
       "      <td>Anson County, North Carolina</td>\n",
       "      <td>9803</td>\n",
       "      <td>9803.0</td>\n",
       "      <td>689</td>\n",
       "      <td>7.0</td>\n",
       "      <td>37</td>\n",
       "      <td>007</td>\n",
       "      <td>Anson</td>\n",
       "      <td>, North Carolina</td>\n",
       "    </tr>\n",
       "    <tr>\n",
       "      <th>2</th>\n",
       "      <td>Beaufort County, North Carolina</td>\n",
       "      <td>20219</td>\n",
       "      <td>20219.0</td>\n",
       "      <td>1282</td>\n",
       "      <td>6.3</td>\n",
       "      <td>37</td>\n",
       "      <td>013</td>\n",
       "      <td>Beaufort</td>\n",
       "      <td>, North Carolina</td>\n",
       "    </tr>\n",
       "    <tr>\n",
       "      <th>3</th>\n",
       "      <td>Brunswick County, North Carolina</td>\n",
       "      <td>59416</td>\n",
       "      <td>59416.0</td>\n",
       "      <td>1821</td>\n",
       "      <td>3.1</td>\n",
       "      <td>37</td>\n",
       "      <td>019</td>\n",
       "      <td>Brunswick</td>\n",
       "      <td>, North Carolina</td>\n",
       "    </tr>\n",
       "    <tr>\n",
       "      <th>4</th>\n",
       "      <td>Cabarrus County, North Carolina</td>\n",
       "      <td>72843</td>\n",
       "      <td>72843.0</td>\n",
       "      <td>2952</td>\n",
       "      <td>4.1</td>\n",
       "      <td>37</td>\n",
       "      <td>025</td>\n",
       "      <td>Cabarrus</td>\n",
       "      <td>, North Carolina</td>\n",
       "    </tr>\n",
       "    <tr>\n",
       "      <th>5</th>\n",
       "      <td>Carteret County, North Carolina</td>\n",
       "      <td>30060</td>\n",
       "      <td>30060.0</td>\n",
       "      <td>1265</td>\n",
       "      <td>4.2</td>\n",
       "      <td>37</td>\n",
       "      <td>031</td>\n",
       "      <td>Carteret</td>\n",
       "      <td>, North Carolina</td>\n",
       "    </tr>\n",
       "  </tbody>\n",
       "</table>\n",
       "</div>"
      ],
      "text/plain": [
       "0                              NAME  Vehicles Available (DP04_0057E)  \\\n",
       "1      Anson County, North Carolina                             9803   \n",
       "2   Beaufort County, North Carolina                            20219   \n",
       "3  Brunswick County, North Carolina                            59416   \n",
       "4   Cabarrus County, North Carolina                            72843   \n",
       "5   Carteret County, North Carolina                            30060   \n",
       "\n",
       "0  Vehicles Available - Percent (DP04_0057PE)  \\\n",
       "1                                      9803.0   \n",
       "2                                     20219.0   \n",
       "3                                     59416.0   \n",
       "4                                     72843.0   \n",
       "5                                     30060.0   \n",
       "\n",
       "0  No Vehicles Available (DP04_0058E)  \\\n",
       "1                                 689   \n",
       "2                                1282   \n",
       "3                                1821   \n",
       "4                                2952   \n",
       "5                                1265   \n",
       "\n",
       "0  No Vehicles Available - Percent (DP04_0058PE) FIPS_State FIPS_County  \\\n",
       "1                                            7.0         37         007   \n",
       "2                                            6.3         37         013   \n",
       "3                                            3.1         37         019   \n",
       "4                                            4.1         37         025   \n",
       "5                                            4.2         37         031   \n",
       "\n",
       "0 County Name        State_Name  \n",
       "1       Anson  , North Carolina  \n",
       "2    Beaufort  , North Carolina  \n",
       "3   Brunswick  , North Carolina  \n",
       "4    Cabarrus  , North Carolina  \n",
       "5    Carteret  , North Carolina  "
      ]
     },
     "execution_count": 17,
     "metadata": {},
     "output_type": "execute_result"
    }
   ],
   "source": [
    "cols_to_rename = {\n",
    "                   'DP04_0057E':'Vehicles Available (DP04_0057E)', \n",
    "                   'DP04_0057PE':'Vehicles Available - Percent (DP04_0057PE)', \n",
    "                   'DP04_0058E':'No Vehicles Available (DP04_0058E)', \n",
    "                   'DP04_0058PE':'No Vehicles Available - Percent (DP04_0058PE)', \n",
    "                   'state' :'FIPS_State',\n",
    "                   'county' :'FIPS_County'\n",
    "                 }\n",
    "df.rename(columns = cols_to_rename, inplace=True)\n",
    "\n",
    "print(df.shape)\n",
    "df.head()"
   ]
  },
  {
   "cell_type": "code",
   "execution_count": 18,
   "id": "733c1e75",
   "metadata": {},
   "outputs": [
    {
     "name": "stdout",
     "output_type": "stream",
     "text": [
      "Part 3.1: Cleaned, Renamed and Reordered results from API call:\n",
      "(100, 7)\n"
     ]
    },
    {
     "data": {
      "text/html": [
       "<div>\n",
       "<style scoped>\n",
       "    .dataframe tbody tr th:only-of-type {\n",
       "        vertical-align: middle;\n",
       "    }\n",
       "\n",
       "    .dataframe tbody tr th {\n",
       "        vertical-align: top;\n",
       "    }\n",
       "\n",
       "    .dataframe thead th {\n",
       "        text-align: right;\n",
       "    }\n",
       "</style>\n",
       "<table border=\"1\" class=\"dataframe\">\n",
       "  <thead>\n",
       "    <tr style=\"text-align: right;\">\n",
       "      <th></th>\n",
       "      <th>County Name</th>\n",
       "      <th>Vehicles Available (DP04_0057E)</th>\n",
       "      <th>Vehicles Available - Percent (DP04_0057PE)</th>\n",
       "      <th>No Vehicles Available (DP04_0058E)</th>\n",
       "      <th>No Vehicles Available - Percent (DP04_0058PE)</th>\n",
       "      <th>FIPS_State</th>\n",
       "      <th>FIPS_County</th>\n",
       "    </tr>\n",
       "  </thead>\n",
       "  <tbody>\n",
       "    <tr>\n",
       "      <th>1</th>\n",
       "      <td>Anson</td>\n",
       "      <td>9803</td>\n",
       "      <td>9803.0</td>\n",
       "      <td>689</td>\n",
       "      <td>7.0</td>\n",
       "      <td>37</td>\n",
       "      <td>007</td>\n",
       "    </tr>\n",
       "    <tr>\n",
       "      <th>2</th>\n",
       "      <td>Beaufort</td>\n",
       "      <td>20219</td>\n",
       "      <td>20219.0</td>\n",
       "      <td>1282</td>\n",
       "      <td>6.3</td>\n",
       "      <td>37</td>\n",
       "      <td>013</td>\n",
       "    </tr>\n",
       "    <tr>\n",
       "      <th>3</th>\n",
       "      <td>Brunswick</td>\n",
       "      <td>59416</td>\n",
       "      <td>59416.0</td>\n",
       "      <td>1821</td>\n",
       "      <td>3.1</td>\n",
       "      <td>37</td>\n",
       "      <td>019</td>\n",
       "    </tr>\n",
       "    <tr>\n",
       "      <th>4</th>\n",
       "      <td>Cabarrus</td>\n",
       "      <td>72843</td>\n",
       "      <td>72843.0</td>\n",
       "      <td>2952</td>\n",
       "      <td>4.1</td>\n",
       "      <td>37</td>\n",
       "      <td>025</td>\n",
       "    </tr>\n",
       "    <tr>\n",
       "      <th>5</th>\n",
       "      <td>Carteret</td>\n",
       "      <td>30060</td>\n",
       "      <td>30060.0</td>\n",
       "      <td>1265</td>\n",
       "      <td>4.2</td>\n",
       "      <td>37</td>\n",
       "      <td>031</td>\n",
       "    </tr>\n",
       "  </tbody>\n",
       "</table>\n",
       "</div>"
      ],
      "text/plain": [
       "0 County Name  Vehicles Available (DP04_0057E)  \\\n",
       "1       Anson                             9803   \n",
       "2    Beaufort                            20219   \n",
       "3   Brunswick                            59416   \n",
       "4    Cabarrus                            72843   \n",
       "5    Carteret                            30060   \n",
       "\n",
       "0  Vehicles Available - Percent (DP04_0057PE)  \\\n",
       "1                                      9803.0   \n",
       "2                                     20219.0   \n",
       "3                                     59416.0   \n",
       "4                                     72843.0   \n",
       "5                                     30060.0   \n",
       "\n",
       "0  No Vehicles Available (DP04_0058E)  \\\n",
       "1                                 689   \n",
       "2                                1282   \n",
       "3                                1821   \n",
       "4                                2952   \n",
       "5                                1265   \n",
       "\n",
       "0  No Vehicles Available - Percent (DP04_0058PE) FIPS_State FIPS_County  \n",
       "1                                            7.0         37         007  \n",
       "2                                            6.3         37         013  \n",
       "3                                            3.1         37         019  \n",
       "4                                            4.1         37         025  \n",
       "5                                            4.2         37         031  "
      ]
     },
     "execution_count": 18,
     "metadata": {},
     "output_type": "execute_result"
    }
   ],
   "source": [
    "cols_to_keep = ['County Name', 'Vehicles Available (DP04_0057E)', 'Vehicles Available - Percent (DP04_0057PE)', 'No Vehicles Available (DP04_0058E)', 'No Vehicles Available - Percent (DP04_0058PE)', 'FIPS_State', 'FIPS_County']\n",
    "df = df[cols_to_keep]\n",
    "\n",
    "print(\"Part 3.1: Cleaned, Renamed and Reordered results from API call:\")\n",
    "print(df.shape)\n",
    "df.head()"
   ]
  },
  {
   "cell_type": "markdown",
   "id": "d2c2377f",
   "metadata": {},
   "source": [
    "# Part 3.2: Top 10 NC Counties for Housing Units with No Vehicle Available (DP04_0058E)"
   ]
  },
  {
   "cell_type": "code",
   "execution_count": 19,
   "id": "74904292",
   "metadata": {},
   "outputs": [
    {
     "data": {
      "text/html": [
       "<div>\n",
       "<style scoped>\n",
       "    .dataframe tbody tr th:only-of-type {\n",
       "        vertical-align: middle;\n",
       "    }\n",
       "\n",
       "    .dataframe tbody tr th {\n",
       "        vertical-align: top;\n",
       "    }\n",
       "\n",
       "    .dataframe thead th {\n",
       "        text-align: right;\n",
       "    }\n",
       "</style>\n",
       "<table border=\"1\" class=\"dataframe\">\n",
       "  <thead>\n",
       "    <tr style=\"text-align: right;\">\n",
       "      <th></th>\n",
       "      <th>County Name</th>\n",
       "      <th>Vehicles Available (DP04_0057E)</th>\n",
       "      <th>Vehicles Available - Percent (DP04_0057PE)</th>\n",
       "      <th>No Vehicles Available (DP04_0058E)</th>\n",
       "      <th>No Vehicles Available - Percent (DP04_0058PE)</th>\n",
       "      <th>FIPS_State</th>\n",
       "      <th>FIPS_County</th>\n",
       "    </tr>\n",
       "  </thead>\n",
       "  <tbody>\n",
       "    <tr>\n",
       "      <th>19</th>\n",
       "      <td>Mecklenburg</td>\n",
       "      <td>421950</td>\n",
       "      <td>421950.0</td>\n",
       "      <td>23730</td>\n",
       "      <td>5.6</td>\n",
       "      <td>37</td>\n",
       "      <td>119</td>\n",
       "    </tr>\n",
       "    <tr>\n",
       "      <th>95</th>\n",
       "      <td>Wake</td>\n",
       "      <td>410552</td>\n",
       "      <td>410552.0</td>\n",
       "      <td>15217</td>\n",
       "      <td>3.7</td>\n",
       "      <td>37</td>\n",
       "      <td>183</td>\n",
       "    </tr>\n",
       "    <tr>\n",
       "      <th>13</th>\n",
       "      <td>Guilford</td>\n",
       "      <td>208234</td>\n",
       "      <td>208234.0</td>\n",
       "      <td>13328</td>\n",
       "      <td>6.4</td>\n",
       "      <td>37</td>\n",
       "      <td>081</td>\n",
       "    </tr>\n",
       "    <tr>\n",
       "      <th>49</th>\n",
       "      <td>Forsyth</td>\n",
       "      <td>148890</td>\n",
       "      <td>148890.0</td>\n",
       "      <td>10304</td>\n",
       "      <td>6.9</td>\n",
       "      <td>37</td>\n",
       "      <td>067</td>\n",
       "    </tr>\n",
       "    <tr>\n",
       "      <th>10</th>\n",
       "      <td>Durham</td>\n",
       "      <td>130128</td>\n",
       "      <td>130128.0</td>\n",
       "      <td>9128</td>\n",
       "      <td>7.0</td>\n",
       "      <td>37</td>\n",
       "      <td>063</td>\n",
       "    </tr>\n",
       "    <tr>\n",
       "      <th>8</th>\n",
       "      <td>Cumberland</td>\n",
       "      <td>127532</td>\n",
       "      <td>127532.0</td>\n",
       "      <td>8802</td>\n",
       "      <td>6.9</td>\n",
       "      <td>37</td>\n",
       "      <td>051</td>\n",
       "    </tr>\n",
       "    <tr>\n",
       "      <th>71</th>\n",
       "      <td>New Hanover</td>\n",
       "      <td>97998</td>\n",
       "      <td>97998.0</td>\n",
       "      <td>6219</td>\n",
       "      <td>6.3</td>\n",
       "      <td>37</td>\n",
       "      <td>129</td>\n",
       "    </tr>\n",
       "    <tr>\n",
       "      <th>80</th>\n",
       "      <td>Pitt</td>\n",
       "      <td>70683</td>\n",
       "      <td>70683.0</td>\n",
       "      <td>6137</td>\n",
       "      <td>8.7</td>\n",
       "      <td>37</td>\n",
       "      <td>147</td>\n",
       "    </tr>\n",
       "    <tr>\n",
       "      <th>33</th>\n",
       "      <td>Buncombe</td>\n",
       "      <td>105177</td>\n",
       "      <td>105177.0</td>\n",
       "      <td>5920</td>\n",
       "      <td>5.6</td>\n",
       "      <td>37</td>\n",
       "      <td>021</td>\n",
       "    </tr>\n",
       "    <tr>\n",
       "      <th>50</th>\n",
       "      <td>Gaston</td>\n",
       "      <td>85286</td>\n",
       "      <td>85286.0</td>\n",
       "      <td>5003</td>\n",
       "      <td>5.9</td>\n",
       "      <td>37</td>\n",
       "      <td>071</td>\n",
       "    </tr>\n",
       "  </tbody>\n",
       "</table>\n",
       "</div>"
      ],
      "text/plain": [
       "0   County Name  Vehicles Available (DP04_0057E)  \\\n",
       "19  Mecklenburg                           421950   \n",
       "95         Wake                           410552   \n",
       "13     Guilford                           208234   \n",
       "49      Forsyth                           148890   \n",
       "10       Durham                           130128   \n",
       "8    Cumberland                           127532   \n",
       "71  New Hanover                            97998   \n",
       "80         Pitt                            70683   \n",
       "33     Buncombe                           105177   \n",
       "50       Gaston                            85286   \n",
       "\n",
       "0   Vehicles Available - Percent (DP04_0057PE)  \\\n",
       "19                                    421950.0   \n",
       "95                                    410552.0   \n",
       "13                                    208234.0   \n",
       "49                                    148890.0   \n",
       "10                                    130128.0   \n",
       "8                                     127532.0   \n",
       "71                                     97998.0   \n",
       "80                                     70683.0   \n",
       "33                                    105177.0   \n",
       "50                                     85286.0   \n",
       "\n",
       "0   No Vehicles Available (DP04_0058E)  \\\n",
       "19                               23730   \n",
       "95                               15217   \n",
       "13                               13328   \n",
       "49                               10304   \n",
       "10                                9128   \n",
       "8                                 8802   \n",
       "71                                6219   \n",
       "80                                6137   \n",
       "33                                5920   \n",
       "50                                5003   \n",
       "\n",
       "0   No Vehicles Available - Percent (DP04_0058PE) FIPS_State FIPS_County  \n",
       "19                                            5.6         37         119  \n",
       "95                                            3.7         37         183  \n",
       "13                                            6.4         37         081  \n",
       "49                                            6.9         37         067  \n",
       "10                                            7.0         37         063  \n",
       "8                                             6.9         37         051  \n",
       "71                                            6.3         37         129  \n",
       "80                                            8.7         37         147  \n",
       "33                                            5.6         37         021  \n",
       "50                                            5.9         37         071  "
      ]
     },
     "execution_count": 19,
     "metadata": {},
     "output_type": "execute_result"
    }
   ],
   "source": [
    "df.sort_values(by=\"No Vehicles Available (DP04_0058E)\", ascending=False, inplace=True)\n",
    "df_Q2 = df.iloc[ : 10]\n",
    "df_Q2"
   ]
  },
  {
   "cell_type": "code",
   "execution_count": 20,
   "id": "8adeac83",
   "metadata": {},
   "outputs": [
    {
     "name": "stderr",
     "output_type": "stream",
     "text": [
      "C:\\Users\\W10\\AppData\\Local\\Temp\\ipykernel_12620\\835370900.py:1: SettingWithCopyWarning: \n",
      "A value is trying to be set on a copy of a slice from a DataFrame\n",
      "\n",
      "See the caveats in the documentation: https://pandas.pydata.org/pandas-docs/stable/user_guide/indexing.html#returning-a-view-versus-a-copy\n",
      "  df_Q2.sort_values(by=\"No Vehicles Available (DP04_0058E)\", ascending=True, inplace=True)\n"
     ]
    }
   ],
   "source": [
    "df_Q2.sort_values(by=\"No Vehicles Available (DP04_0058E)\", ascending=True, inplace=True)"
   ]
  },
  {
   "cell_type": "code",
   "execution_count": 21,
   "id": "a609795a",
   "metadata": {},
   "outputs": [
    {
     "data": {
      "application/vnd.plotly.v1+json": {
       "config": {
        "plotlyServerURL": "https://plot.ly"
       },
       "data": [
        {
         "alignmentgroup": "True",
         "hovertemplate": "No Vehicles Available (DP04_0058E)=%{text}<br>County Name=%{y}<extra></extra>",
         "legendgroup": "",
         "marker": {
          "color": "#636efa",
          "pattern": {
           "shape": ""
          }
         },
         "name": "",
         "offsetgroup": "",
         "orientation": "h",
         "showlegend": false,
         "text": [
          5003,
          5920,
          6137,
          6219,
          8802,
          9128,
          10304,
          13328,
          15217,
          23730
         ],
         "textposition": "auto",
         "texttemplate": "%{text:,.0f}",
         "type": "bar",
         "x": [
          5003,
          5920,
          6137,
          6219,
          8802,
          9128,
          10304,
          13328,
          15217,
          23730
         ],
         "xaxis": "x",
         "y": [
          "Gaston",
          "Buncombe",
          "Pitt",
          "New Hanover",
          "Cumberland",
          "Durham",
          "Forsyth",
          "Guilford",
          "Wake",
          "Mecklenburg"
         ],
         "yaxis": "y"
        }
       ],
       "layout": {
        "barmode": "relative",
        "legend": {
         "tracegroupgap": 0
        },
        "template": {
         "data": {
          "bar": [
           {
            "error_x": {
             "color": "#f2f5fa"
            },
            "error_y": {
             "color": "#f2f5fa"
            },
            "marker": {
             "line": {
              "color": "rgb(17,17,17)",
              "width": 0.5
             },
             "pattern": {
              "fillmode": "overlay",
              "size": 10,
              "solidity": 0.2
             }
            },
            "type": "bar"
           }
          ],
          "barpolar": [
           {
            "marker": {
             "line": {
              "color": "rgb(17,17,17)",
              "width": 0.5
             },
             "pattern": {
              "fillmode": "overlay",
              "size": 10,
              "solidity": 0.2
             }
            },
            "type": "barpolar"
           }
          ],
          "carpet": [
           {
            "aaxis": {
             "endlinecolor": "#A2B1C6",
             "gridcolor": "#506784",
             "linecolor": "#506784",
             "minorgridcolor": "#506784",
             "startlinecolor": "#A2B1C6"
            },
            "baxis": {
             "endlinecolor": "#A2B1C6",
             "gridcolor": "#506784",
             "linecolor": "#506784",
             "minorgridcolor": "#506784",
             "startlinecolor": "#A2B1C6"
            },
            "type": "carpet"
           }
          ],
          "choropleth": [
           {
            "colorbar": {
             "outlinewidth": 0,
             "ticks": ""
            },
            "type": "choropleth"
           }
          ],
          "contour": [
           {
            "colorbar": {
             "outlinewidth": 0,
             "ticks": ""
            },
            "colorscale": [
             [
              0,
              "#0d0887"
             ],
             [
              0.1111111111111111,
              "#46039f"
             ],
             [
              0.2222222222222222,
              "#7201a8"
             ],
             [
              0.3333333333333333,
              "#9c179e"
             ],
             [
              0.4444444444444444,
              "#bd3786"
             ],
             [
              0.5555555555555556,
              "#d8576b"
             ],
             [
              0.6666666666666666,
              "#ed7953"
             ],
             [
              0.7777777777777778,
              "#fb9f3a"
             ],
             [
              0.8888888888888888,
              "#fdca26"
             ],
             [
              1,
              "#f0f921"
             ]
            ],
            "type": "contour"
           }
          ],
          "contourcarpet": [
           {
            "colorbar": {
             "outlinewidth": 0,
             "ticks": ""
            },
            "type": "contourcarpet"
           }
          ],
          "heatmap": [
           {
            "colorbar": {
             "outlinewidth": 0,
             "ticks": ""
            },
            "colorscale": [
             [
              0,
              "#0d0887"
             ],
             [
              0.1111111111111111,
              "#46039f"
             ],
             [
              0.2222222222222222,
              "#7201a8"
             ],
             [
              0.3333333333333333,
              "#9c179e"
             ],
             [
              0.4444444444444444,
              "#bd3786"
             ],
             [
              0.5555555555555556,
              "#d8576b"
             ],
             [
              0.6666666666666666,
              "#ed7953"
             ],
             [
              0.7777777777777778,
              "#fb9f3a"
             ],
             [
              0.8888888888888888,
              "#fdca26"
             ],
             [
              1,
              "#f0f921"
             ]
            ],
            "type": "heatmap"
           }
          ],
          "heatmapgl": [
           {
            "colorbar": {
             "outlinewidth": 0,
             "ticks": ""
            },
            "colorscale": [
             [
              0,
              "#0d0887"
             ],
             [
              0.1111111111111111,
              "#46039f"
             ],
             [
              0.2222222222222222,
              "#7201a8"
             ],
             [
              0.3333333333333333,
              "#9c179e"
             ],
             [
              0.4444444444444444,
              "#bd3786"
             ],
             [
              0.5555555555555556,
              "#d8576b"
             ],
             [
              0.6666666666666666,
              "#ed7953"
             ],
             [
              0.7777777777777778,
              "#fb9f3a"
             ],
             [
              0.8888888888888888,
              "#fdca26"
             ],
             [
              1,
              "#f0f921"
             ]
            ],
            "type": "heatmapgl"
           }
          ],
          "histogram": [
           {
            "marker": {
             "pattern": {
              "fillmode": "overlay",
              "size": 10,
              "solidity": 0.2
             }
            },
            "type": "histogram"
           }
          ],
          "histogram2d": [
           {
            "colorbar": {
             "outlinewidth": 0,
             "ticks": ""
            },
            "colorscale": [
             [
              0,
              "#0d0887"
             ],
             [
              0.1111111111111111,
              "#46039f"
             ],
             [
              0.2222222222222222,
              "#7201a8"
             ],
             [
              0.3333333333333333,
              "#9c179e"
             ],
             [
              0.4444444444444444,
              "#bd3786"
             ],
             [
              0.5555555555555556,
              "#d8576b"
             ],
             [
              0.6666666666666666,
              "#ed7953"
             ],
             [
              0.7777777777777778,
              "#fb9f3a"
             ],
             [
              0.8888888888888888,
              "#fdca26"
             ],
             [
              1,
              "#f0f921"
             ]
            ],
            "type": "histogram2d"
           }
          ],
          "histogram2dcontour": [
           {
            "colorbar": {
             "outlinewidth": 0,
             "ticks": ""
            },
            "colorscale": [
             [
              0,
              "#0d0887"
             ],
             [
              0.1111111111111111,
              "#46039f"
             ],
             [
              0.2222222222222222,
              "#7201a8"
             ],
             [
              0.3333333333333333,
              "#9c179e"
             ],
             [
              0.4444444444444444,
              "#bd3786"
             ],
             [
              0.5555555555555556,
              "#d8576b"
             ],
             [
              0.6666666666666666,
              "#ed7953"
             ],
             [
              0.7777777777777778,
              "#fb9f3a"
             ],
             [
              0.8888888888888888,
              "#fdca26"
             ],
             [
              1,
              "#f0f921"
             ]
            ],
            "type": "histogram2dcontour"
           }
          ],
          "mesh3d": [
           {
            "colorbar": {
             "outlinewidth": 0,
             "ticks": ""
            },
            "type": "mesh3d"
           }
          ],
          "parcoords": [
           {
            "line": {
             "colorbar": {
              "outlinewidth": 0,
              "ticks": ""
             }
            },
            "type": "parcoords"
           }
          ],
          "pie": [
           {
            "automargin": true,
            "type": "pie"
           }
          ],
          "scatter": [
           {
            "marker": {
             "line": {
              "color": "#283442"
             }
            },
            "type": "scatter"
           }
          ],
          "scatter3d": [
           {
            "line": {
             "colorbar": {
              "outlinewidth": 0,
              "ticks": ""
             }
            },
            "marker": {
             "colorbar": {
              "outlinewidth": 0,
              "ticks": ""
             }
            },
            "type": "scatter3d"
           }
          ],
          "scattercarpet": [
           {
            "marker": {
             "colorbar": {
              "outlinewidth": 0,
              "ticks": ""
             }
            },
            "type": "scattercarpet"
           }
          ],
          "scattergeo": [
           {
            "marker": {
             "colorbar": {
              "outlinewidth": 0,
              "ticks": ""
             }
            },
            "type": "scattergeo"
           }
          ],
          "scattergl": [
           {
            "marker": {
             "line": {
              "color": "#283442"
             }
            },
            "type": "scattergl"
           }
          ],
          "scattermapbox": [
           {
            "marker": {
             "colorbar": {
              "outlinewidth": 0,
              "ticks": ""
             }
            },
            "type": "scattermapbox"
           }
          ],
          "scatterpolar": [
           {
            "marker": {
             "colorbar": {
              "outlinewidth": 0,
              "ticks": ""
             }
            },
            "type": "scatterpolar"
           }
          ],
          "scatterpolargl": [
           {
            "marker": {
             "colorbar": {
              "outlinewidth": 0,
              "ticks": ""
             }
            },
            "type": "scatterpolargl"
           }
          ],
          "scatterternary": [
           {
            "marker": {
             "colorbar": {
              "outlinewidth": 0,
              "ticks": ""
             }
            },
            "type": "scatterternary"
           }
          ],
          "surface": [
           {
            "colorbar": {
             "outlinewidth": 0,
             "ticks": ""
            },
            "colorscale": [
             [
              0,
              "#0d0887"
             ],
             [
              0.1111111111111111,
              "#46039f"
             ],
             [
              0.2222222222222222,
              "#7201a8"
             ],
             [
              0.3333333333333333,
              "#9c179e"
             ],
             [
              0.4444444444444444,
              "#bd3786"
             ],
             [
              0.5555555555555556,
              "#d8576b"
             ],
             [
              0.6666666666666666,
              "#ed7953"
             ],
             [
              0.7777777777777778,
              "#fb9f3a"
             ],
             [
              0.8888888888888888,
              "#fdca26"
             ],
             [
              1,
              "#f0f921"
             ]
            ],
            "type": "surface"
           }
          ],
          "table": [
           {
            "cells": {
             "fill": {
              "color": "#506784"
             },
             "line": {
              "color": "rgb(17,17,17)"
             }
            },
            "header": {
             "fill": {
              "color": "#2a3f5f"
             },
             "line": {
              "color": "rgb(17,17,17)"
             }
            },
            "type": "table"
           }
          ]
         },
         "layout": {
          "annotationdefaults": {
           "arrowcolor": "#f2f5fa",
           "arrowhead": 0,
           "arrowwidth": 1
          },
          "autotypenumbers": "strict",
          "coloraxis": {
           "colorbar": {
            "outlinewidth": 0,
            "ticks": ""
           }
          },
          "colorscale": {
           "diverging": [
            [
             0,
             "#8e0152"
            ],
            [
             0.1,
             "#c51b7d"
            ],
            [
             0.2,
             "#de77ae"
            ],
            [
             0.3,
             "#f1b6da"
            ],
            [
             0.4,
             "#fde0ef"
            ],
            [
             0.5,
             "#f7f7f7"
            ],
            [
             0.6,
             "#e6f5d0"
            ],
            [
             0.7,
             "#b8e186"
            ],
            [
             0.8,
             "#7fbc41"
            ],
            [
             0.9,
             "#4d9221"
            ],
            [
             1,
             "#276419"
            ]
           ],
           "sequential": [
            [
             0,
             "#0d0887"
            ],
            [
             0.1111111111111111,
             "#46039f"
            ],
            [
             0.2222222222222222,
             "#7201a8"
            ],
            [
             0.3333333333333333,
             "#9c179e"
            ],
            [
             0.4444444444444444,
             "#bd3786"
            ],
            [
             0.5555555555555556,
             "#d8576b"
            ],
            [
             0.6666666666666666,
             "#ed7953"
            ],
            [
             0.7777777777777778,
             "#fb9f3a"
            ],
            [
             0.8888888888888888,
             "#fdca26"
            ],
            [
             1,
             "#f0f921"
            ]
           ],
           "sequentialminus": [
            [
             0,
             "#0d0887"
            ],
            [
             0.1111111111111111,
             "#46039f"
            ],
            [
             0.2222222222222222,
             "#7201a8"
            ],
            [
             0.3333333333333333,
             "#9c179e"
            ],
            [
             0.4444444444444444,
             "#bd3786"
            ],
            [
             0.5555555555555556,
             "#d8576b"
            ],
            [
             0.6666666666666666,
             "#ed7953"
            ],
            [
             0.7777777777777778,
             "#fb9f3a"
            ],
            [
             0.8888888888888888,
             "#fdca26"
            ],
            [
             1,
             "#f0f921"
            ]
           ]
          },
          "colorway": [
           "#636efa",
           "#EF553B",
           "#00cc96",
           "#ab63fa",
           "#FFA15A",
           "#19d3f3",
           "#FF6692",
           "#B6E880",
           "#FF97FF",
           "#FECB52"
          ],
          "font": {
           "color": "#f2f5fa"
          },
          "geo": {
           "bgcolor": "rgb(17,17,17)",
           "lakecolor": "rgb(17,17,17)",
           "landcolor": "rgb(17,17,17)",
           "showlakes": true,
           "showland": true,
           "subunitcolor": "#506784"
          },
          "hoverlabel": {
           "align": "left"
          },
          "hovermode": "closest",
          "mapbox": {
           "style": "dark"
          },
          "paper_bgcolor": "rgb(17,17,17)",
          "plot_bgcolor": "rgb(17,17,17)",
          "polar": {
           "angularaxis": {
            "gridcolor": "#506784",
            "linecolor": "#506784",
            "ticks": ""
           },
           "bgcolor": "rgb(17,17,17)",
           "radialaxis": {
            "gridcolor": "#506784",
            "linecolor": "#506784",
            "ticks": ""
           }
          },
          "scene": {
           "xaxis": {
            "backgroundcolor": "rgb(17,17,17)",
            "gridcolor": "#506784",
            "gridwidth": 2,
            "linecolor": "#506784",
            "showbackground": true,
            "ticks": "",
            "zerolinecolor": "#C8D4E3"
           },
           "yaxis": {
            "backgroundcolor": "rgb(17,17,17)",
            "gridcolor": "#506784",
            "gridwidth": 2,
            "linecolor": "#506784",
            "showbackground": true,
            "ticks": "",
            "zerolinecolor": "#C8D4E3"
           },
           "zaxis": {
            "backgroundcolor": "rgb(17,17,17)",
            "gridcolor": "#506784",
            "gridwidth": 2,
            "linecolor": "#506784",
            "showbackground": true,
            "ticks": "",
            "zerolinecolor": "#C8D4E3"
           }
          },
          "shapedefaults": {
           "line": {
            "color": "#f2f5fa"
           }
          },
          "sliderdefaults": {
           "bgcolor": "#C8D4E3",
           "bordercolor": "rgb(17,17,17)",
           "borderwidth": 1,
           "tickwidth": 0
          },
          "ternary": {
           "aaxis": {
            "gridcolor": "#506784",
            "linecolor": "#506784",
            "ticks": ""
           },
           "baxis": {
            "gridcolor": "#506784",
            "linecolor": "#506784",
            "ticks": ""
           },
           "bgcolor": "rgb(17,17,17)",
           "caxis": {
            "gridcolor": "#506784",
            "linecolor": "#506784",
            "ticks": ""
           }
          },
          "title": {
           "x": 0.05
          },
          "updatemenudefaults": {
           "bgcolor": "#506784",
           "borderwidth": 0
          },
          "xaxis": {
           "automargin": true,
           "gridcolor": "#283442",
           "linecolor": "#506784",
           "ticks": "",
           "title": {
            "standoff": 15
           },
           "zerolinecolor": "#283442",
           "zerolinewidth": 2
          },
          "yaxis": {
           "automargin": true,
           "gridcolor": "#283442",
           "linecolor": "#506784",
           "ticks": "",
           "title": {
            "standoff": 15
           },
           "zerolinecolor": "#283442",
           "zerolinewidth": 2
          }
         }
        },
        "title": {
         "text": "Q3.2: Top 10 NC Counties for Housing Units with No Vehicle Available (DP04_0058E)"
        },
        "xaxis": {
         "anchor": "y",
         "domain": [
          0,
          1
         ],
         "title": {
          "text": "No Vehicles Available (DP04_0058E)"
         }
        },
        "yaxis": {
         "anchor": "x",
         "domain": [
          0,
          1
         ],
         "title": {
          "text": "County Name"
         }
        }
       }
      }
     },
     "metadata": {},
     "output_type": "display_data"
    }
   ],
   "source": [
    "fig = px.bar(df_Q2,              \n",
    "             x='No Vehicles Available (DP04_0058E)', \n",
    "             y='County Name',\n",
    "             text='No Vehicles Available (DP04_0058E)',\n",
    "             orientation='h',   \n",
    "             template='plotly_dark',\n",
    "             title='Q3.2: Top 10 NC Counties for Housing Units with No Vehicle Available (DP04_0058E)')\n",
    "\n",
    "fig.update_traces(textposition='auto', \n",
    "                  texttemplate='%{text:,.0f}'   # This adds commas and formats to zero decimal places\n",
    "                 )\n",
    "\n",
    "fig.show()"
   ]
  },
  {
   "cell_type": "markdown",
   "id": "f84ae35d",
   "metadata": {},
   "source": [
    "# Part 3.3: Top 10 NC Counties for % Housing Units with No Vehicle Available (DP04_0058PE)"
   ]
  },
  {
   "cell_type": "code",
   "execution_count": 22,
   "id": "f2bedca6",
   "metadata": {},
   "outputs": [
    {
     "data": {
      "text/html": [
       "<div>\n",
       "<style scoped>\n",
       "    .dataframe tbody tr th:only-of-type {\n",
       "        vertical-align: middle;\n",
       "    }\n",
       "\n",
       "    .dataframe tbody tr th {\n",
       "        vertical-align: top;\n",
       "    }\n",
       "\n",
       "    .dataframe thead th {\n",
       "        text-align: right;\n",
       "    }\n",
       "</style>\n",
       "<table border=\"1\" class=\"dataframe\">\n",
       "  <thead>\n",
       "    <tr style=\"text-align: right;\">\n",
       "      <th></th>\n",
       "      <th>County Name</th>\n",
       "      <th>Vehicles Available (DP04_0057E)</th>\n",
       "      <th>Vehicles Available - Percent (DP04_0057PE)</th>\n",
       "      <th>No Vehicles Available (DP04_0058E)</th>\n",
       "      <th>No Vehicles Available - Percent (DP04_0058PE)</th>\n",
       "      <th>FIPS_State</th>\n",
       "      <th>FIPS_County</th>\n",
       "    </tr>\n",
       "  </thead>\n",
       "  <tbody>\n",
       "    <tr>\n",
       "      <th>96</th>\n",
       "      <td>Washington</td>\n",
       "      <td>5237</td>\n",
       "      <td>5237.0</td>\n",
       "      <td>780</td>\n",
       "      <td>14.9</td>\n",
       "      <td>37</td>\n",
       "      <td>187</td>\n",
       "    </tr>\n",
       "    <tr>\n",
       "      <th>89</th>\n",
       "      <td>Scotland</td>\n",
       "      <td>12951</td>\n",
       "      <td>12951.0</td>\n",
       "      <td>1473</td>\n",
       "      <td>11.4</td>\n",
       "      <td>37</td>\n",
       "      <td>165</td>\n",
       "    </tr>\n",
       "    <tr>\n",
       "      <th>31</th>\n",
       "      <td>Bertie</td>\n",
       "      <td>8008</td>\n",
       "      <td>8008.0</td>\n",
       "      <td>905</td>\n",
       "      <td>11.3</td>\n",
       "      <td>37</td>\n",
       "      <td>015</td>\n",
       "    </tr>\n",
       "    <tr>\n",
       "      <th>54</th>\n",
       "      <td>Halifax</td>\n",
       "      <td>21061</td>\n",
       "      <td>21061.0</td>\n",
       "      <td>2207</td>\n",
       "      <td>10.5</td>\n",
       "      <td>37</td>\n",
       "      <td>083</td>\n",
       "    </tr>\n",
       "    <tr>\n",
       "      <th>41</th>\n",
       "      <td>Clay</td>\n",
       "      <td>5300</td>\n",
       "      <td>5300.0</td>\n",
       "      <td>554</td>\n",
       "      <td>10.5</td>\n",
       "      <td>37</td>\n",
       "      <td>043</td>\n",
       "    </tr>\n",
       "    <tr>\n",
       "      <th>17</th>\n",
       "      <td>Lenoir</td>\n",
       "      <td>23494</td>\n",
       "      <td>23494.0</td>\n",
       "      <td>2320</td>\n",
       "      <td>9.9</td>\n",
       "      <td>37</td>\n",
       "      <td>107</td>\n",
       "    </tr>\n",
       "    <tr>\n",
       "      <th>48</th>\n",
       "      <td>Edgecombe</td>\n",
       "      <td>20800</td>\n",
       "      <td>20800.0</td>\n",
       "      <td>2043</td>\n",
       "      <td>9.8</td>\n",
       "      <td>37</td>\n",
       "      <td>065</td>\n",
       "    </tr>\n",
       "    <tr>\n",
       "      <th>83</th>\n",
       "      <td>Richmond</td>\n",
       "      <td>18201</td>\n",
       "      <td>18201.0</td>\n",
       "      <td>1779</td>\n",
       "      <td>9.8</td>\n",
       "      <td>37</td>\n",
       "      <td>153</td>\n",
       "    </tr>\n",
       "    <tr>\n",
       "      <th>94</th>\n",
       "      <td>Vance</td>\n",
       "      <td>16895</td>\n",
       "      <td>16895.0</td>\n",
       "      <td>1636</td>\n",
       "      <td>9.7</td>\n",
       "      <td>37</td>\n",
       "      <td>181</td>\n",
       "    </tr>\n",
       "    <tr>\n",
       "      <th>99</th>\n",
       "      <td>Wilson</td>\n",
       "      <td>31968</td>\n",
       "      <td>31968.0</td>\n",
       "      <td>2962</td>\n",
       "      <td>9.3</td>\n",
       "      <td>37</td>\n",
       "      <td>195</td>\n",
       "    </tr>\n",
       "  </tbody>\n",
       "</table>\n",
       "</div>"
      ],
      "text/plain": [
       "0  County Name  Vehicles Available (DP04_0057E)  \\\n",
       "96  Washington                             5237   \n",
       "89    Scotland                            12951   \n",
       "31      Bertie                             8008   \n",
       "54     Halifax                            21061   \n",
       "41        Clay                             5300   \n",
       "17      Lenoir                            23494   \n",
       "48   Edgecombe                            20800   \n",
       "83    Richmond                            18201   \n",
       "94       Vance                            16895   \n",
       "99      Wilson                            31968   \n",
       "\n",
       "0   Vehicles Available - Percent (DP04_0057PE)  \\\n",
       "96                                      5237.0   \n",
       "89                                     12951.0   \n",
       "31                                      8008.0   \n",
       "54                                     21061.0   \n",
       "41                                      5300.0   \n",
       "17                                     23494.0   \n",
       "48                                     20800.0   \n",
       "83                                     18201.0   \n",
       "94                                     16895.0   \n",
       "99                                     31968.0   \n",
       "\n",
       "0   No Vehicles Available (DP04_0058E)  \\\n",
       "96                                 780   \n",
       "89                                1473   \n",
       "31                                 905   \n",
       "54                                2207   \n",
       "41                                 554   \n",
       "17                                2320   \n",
       "48                                2043   \n",
       "83                                1779   \n",
       "94                                1636   \n",
       "99                                2962   \n",
       "\n",
       "0   No Vehicles Available - Percent (DP04_0058PE) FIPS_State FIPS_County  \n",
       "96                                           14.9         37         187  \n",
       "89                                           11.4         37         165  \n",
       "31                                           11.3         37         015  \n",
       "54                                           10.5         37         083  \n",
       "41                                           10.5         37         043  \n",
       "17                                            9.9         37         107  \n",
       "48                                            9.8         37         065  \n",
       "83                                            9.8         37         153  \n",
       "94                                            9.7         37         181  \n",
       "99                                            9.3         37         195  "
      ]
     },
     "execution_count": 22,
     "metadata": {},
     "output_type": "execute_result"
    }
   ],
   "source": [
    "df.sort_values(by=\"No Vehicles Available - Percent (DP04_0058PE)\", ascending=False, inplace=True)\n",
    "df_Q3 = df.iloc[ : 10]\n",
    "df_Q3"
   ]
  },
  {
   "cell_type": "code",
   "execution_count": 23,
   "id": "f79c0e98",
   "metadata": {},
   "outputs": [
    {
     "name": "stderr",
     "output_type": "stream",
     "text": [
      "C:\\Users\\W10\\AppData\\Local\\Temp\\ipykernel_12620\\1513602896.py:1: SettingWithCopyWarning:\n",
      "\n",
      "\n",
      "A value is trying to be set on a copy of a slice from a DataFrame\n",
      "\n",
      "See the caveats in the documentation: https://pandas.pydata.org/pandas-docs/stable/user_guide/indexing.html#returning-a-view-versus-a-copy\n",
      "\n"
     ]
    }
   ],
   "source": [
    "df_Q3.sort_values(by=\"No Vehicles Available - Percent (DP04_0058PE)\", ascending=True, inplace=True)"
   ]
  },
  {
   "cell_type": "code",
   "execution_count": 24,
   "id": "011ac204",
   "metadata": {},
   "outputs": [
    {
     "data": {
      "application/vnd.plotly.v1+json": {
       "config": {
        "plotlyServerURL": "https://plot.ly"
       },
       "data": [
        {
         "alignmentgroup": "True",
         "hovertemplate": "No Vehicles Available - Percent (DP04_0058PE)=%{text}<br>County Name=%{y}<extra></extra>",
         "legendgroup": "",
         "marker": {
          "color": "#636efa",
          "pattern": {
           "shape": ""
          }
         },
         "name": "",
         "offsetgroup": "",
         "orientation": "h",
         "showlegend": false,
         "text": [
          9.3,
          9.7,
          9.8,
          9.8,
          9.9,
          10.5,
          10.5,
          11.3,
          11.4,
          14.9
         ],
         "textposition": "auto",
         "texttemplate": "%{text:,.1f}",
         "type": "bar",
         "x": [
          9.3,
          9.7,
          9.8,
          9.8,
          9.9,
          10.5,
          10.5,
          11.3,
          11.4,
          14.9
         ],
         "xaxis": "x",
         "y": [
          "Wilson",
          "Vance",
          "Edgecombe",
          "Richmond",
          "Lenoir",
          "Halifax",
          "Clay",
          "Bertie",
          "Scotland",
          "Washington"
         ],
         "yaxis": "y"
        }
       ],
       "layout": {
        "barmode": "relative",
        "legend": {
         "tracegroupgap": 0
        },
        "template": {
         "data": {
          "bar": [
           {
            "error_x": {
             "color": "#2a3f5f"
            },
            "error_y": {
             "color": "#2a3f5f"
            },
            "marker": {
             "line": {
              "color": "white",
              "width": 0.5
             },
             "pattern": {
              "fillmode": "overlay",
              "size": 10,
              "solidity": 0.2
             }
            },
            "type": "bar"
           }
          ],
          "barpolar": [
           {
            "marker": {
             "line": {
              "color": "white",
              "width": 0.5
             },
             "pattern": {
              "fillmode": "overlay",
              "size": 10,
              "solidity": 0.2
             }
            },
            "type": "barpolar"
           }
          ],
          "carpet": [
           {
            "aaxis": {
             "endlinecolor": "#2a3f5f",
             "gridcolor": "#C8D4E3",
             "linecolor": "#C8D4E3",
             "minorgridcolor": "#C8D4E3",
             "startlinecolor": "#2a3f5f"
            },
            "baxis": {
             "endlinecolor": "#2a3f5f",
             "gridcolor": "#C8D4E3",
             "linecolor": "#C8D4E3",
             "minorgridcolor": "#C8D4E3",
             "startlinecolor": "#2a3f5f"
            },
            "type": "carpet"
           }
          ],
          "choropleth": [
           {
            "colorbar": {
             "outlinewidth": 0,
             "ticks": ""
            },
            "type": "choropleth"
           }
          ],
          "contour": [
           {
            "colorbar": {
             "outlinewidth": 0,
             "ticks": ""
            },
            "colorscale": [
             [
              0,
              "#0d0887"
             ],
             [
              0.1111111111111111,
              "#46039f"
             ],
             [
              0.2222222222222222,
              "#7201a8"
             ],
             [
              0.3333333333333333,
              "#9c179e"
             ],
             [
              0.4444444444444444,
              "#bd3786"
             ],
             [
              0.5555555555555556,
              "#d8576b"
             ],
             [
              0.6666666666666666,
              "#ed7953"
             ],
             [
              0.7777777777777778,
              "#fb9f3a"
             ],
             [
              0.8888888888888888,
              "#fdca26"
             ],
             [
              1,
              "#f0f921"
             ]
            ],
            "type": "contour"
           }
          ],
          "contourcarpet": [
           {
            "colorbar": {
             "outlinewidth": 0,
             "ticks": ""
            },
            "type": "contourcarpet"
           }
          ],
          "heatmap": [
           {
            "colorbar": {
             "outlinewidth": 0,
             "ticks": ""
            },
            "colorscale": [
             [
              0,
              "#0d0887"
             ],
             [
              0.1111111111111111,
              "#46039f"
             ],
             [
              0.2222222222222222,
              "#7201a8"
             ],
             [
              0.3333333333333333,
              "#9c179e"
             ],
             [
              0.4444444444444444,
              "#bd3786"
             ],
             [
              0.5555555555555556,
              "#d8576b"
             ],
             [
              0.6666666666666666,
              "#ed7953"
             ],
             [
              0.7777777777777778,
              "#fb9f3a"
             ],
             [
              0.8888888888888888,
              "#fdca26"
             ],
             [
              1,
              "#f0f921"
             ]
            ],
            "type": "heatmap"
           }
          ],
          "heatmapgl": [
           {
            "colorbar": {
             "outlinewidth": 0,
             "ticks": ""
            },
            "colorscale": [
             [
              0,
              "#0d0887"
             ],
             [
              0.1111111111111111,
              "#46039f"
             ],
             [
              0.2222222222222222,
              "#7201a8"
             ],
             [
              0.3333333333333333,
              "#9c179e"
             ],
             [
              0.4444444444444444,
              "#bd3786"
             ],
             [
              0.5555555555555556,
              "#d8576b"
             ],
             [
              0.6666666666666666,
              "#ed7953"
             ],
             [
              0.7777777777777778,
              "#fb9f3a"
             ],
             [
              0.8888888888888888,
              "#fdca26"
             ],
             [
              1,
              "#f0f921"
             ]
            ],
            "type": "heatmapgl"
           }
          ],
          "histogram": [
           {
            "marker": {
             "pattern": {
              "fillmode": "overlay",
              "size": 10,
              "solidity": 0.2
             }
            },
            "type": "histogram"
           }
          ],
          "histogram2d": [
           {
            "colorbar": {
             "outlinewidth": 0,
             "ticks": ""
            },
            "colorscale": [
             [
              0,
              "#0d0887"
             ],
             [
              0.1111111111111111,
              "#46039f"
             ],
             [
              0.2222222222222222,
              "#7201a8"
             ],
             [
              0.3333333333333333,
              "#9c179e"
             ],
             [
              0.4444444444444444,
              "#bd3786"
             ],
             [
              0.5555555555555556,
              "#d8576b"
             ],
             [
              0.6666666666666666,
              "#ed7953"
             ],
             [
              0.7777777777777778,
              "#fb9f3a"
             ],
             [
              0.8888888888888888,
              "#fdca26"
             ],
             [
              1,
              "#f0f921"
             ]
            ],
            "type": "histogram2d"
           }
          ],
          "histogram2dcontour": [
           {
            "colorbar": {
             "outlinewidth": 0,
             "ticks": ""
            },
            "colorscale": [
             [
              0,
              "#0d0887"
             ],
             [
              0.1111111111111111,
              "#46039f"
             ],
             [
              0.2222222222222222,
              "#7201a8"
             ],
             [
              0.3333333333333333,
              "#9c179e"
             ],
             [
              0.4444444444444444,
              "#bd3786"
             ],
             [
              0.5555555555555556,
              "#d8576b"
             ],
             [
              0.6666666666666666,
              "#ed7953"
             ],
             [
              0.7777777777777778,
              "#fb9f3a"
             ],
             [
              0.8888888888888888,
              "#fdca26"
             ],
             [
              1,
              "#f0f921"
             ]
            ],
            "type": "histogram2dcontour"
           }
          ],
          "mesh3d": [
           {
            "colorbar": {
             "outlinewidth": 0,
             "ticks": ""
            },
            "type": "mesh3d"
           }
          ],
          "parcoords": [
           {
            "line": {
             "colorbar": {
              "outlinewidth": 0,
              "ticks": ""
             }
            },
            "type": "parcoords"
           }
          ],
          "pie": [
           {
            "automargin": true,
            "type": "pie"
           }
          ],
          "scatter": [
           {
            "fillpattern": {
             "fillmode": "overlay",
             "size": 10,
             "solidity": 0.2
            },
            "type": "scatter"
           }
          ],
          "scatter3d": [
           {
            "line": {
             "colorbar": {
              "outlinewidth": 0,
              "ticks": ""
             }
            },
            "marker": {
             "colorbar": {
              "outlinewidth": 0,
              "ticks": ""
             }
            },
            "type": "scatter3d"
           }
          ],
          "scattercarpet": [
           {
            "marker": {
             "colorbar": {
              "outlinewidth": 0,
              "ticks": ""
             }
            },
            "type": "scattercarpet"
           }
          ],
          "scattergeo": [
           {
            "marker": {
             "colorbar": {
              "outlinewidth": 0,
              "ticks": ""
             }
            },
            "type": "scattergeo"
           }
          ],
          "scattergl": [
           {
            "marker": {
             "colorbar": {
              "outlinewidth": 0,
              "ticks": ""
             }
            },
            "type": "scattergl"
           }
          ],
          "scattermapbox": [
           {
            "marker": {
             "colorbar": {
              "outlinewidth": 0,
              "ticks": ""
             }
            },
            "type": "scattermapbox"
           }
          ],
          "scatterpolar": [
           {
            "marker": {
             "colorbar": {
              "outlinewidth": 0,
              "ticks": ""
             }
            },
            "type": "scatterpolar"
           }
          ],
          "scatterpolargl": [
           {
            "marker": {
             "colorbar": {
              "outlinewidth": 0,
              "ticks": ""
             }
            },
            "type": "scatterpolargl"
           }
          ],
          "scatterternary": [
           {
            "marker": {
             "colorbar": {
              "outlinewidth": 0,
              "ticks": ""
             }
            },
            "type": "scatterternary"
           }
          ],
          "surface": [
           {
            "colorbar": {
             "outlinewidth": 0,
             "ticks": ""
            },
            "colorscale": [
             [
              0,
              "#0d0887"
             ],
             [
              0.1111111111111111,
              "#46039f"
             ],
             [
              0.2222222222222222,
              "#7201a8"
             ],
             [
              0.3333333333333333,
              "#9c179e"
             ],
             [
              0.4444444444444444,
              "#bd3786"
             ],
             [
              0.5555555555555556,
              "#d8576b"
             ],
             [
              0.6666666666666666,
              "#ed7953"
             ],
             [
              0.7777777777777778,
              "#fb9f3a"
             ],
             [
              0.8888888888888888,
              "#fdca26"
             ],
             [
              1,
              "#f0f921"
             ]
            ],
            "type": "surface"
           }
          ],
          "table": [
           {
            "cells": {
             "fill": {
              "color": "#EBF0F8"
             },
             "line": {
              "color": "white"
             }
            },
            "header": {
             "fill": {
              "color": "#C8D4E3"
             },
             "line": {
              "color": "white"
             }
            },
            "type": "table"
           }
          ]
         },
         "layout": {
          "annotationdefaults": {
           "arrowcolor": "#2a3f5f",
           "arrowhead": 0,
           "arrowwidth": 1
          },
          "autotypenumbers": "strict",
          "coloraxis": {
           "colorbar": {
            "outlinewidth": 0,
            "ticks": ""
           }
          },
          "colorscale": {
           "diverging": [
            [
             0,
             "#8e0152"
            ],
            [
             0.1,
             "#c51b7d"
            ],
            [
             0.2,
             "#de77ae"
            ],
            [
             0.3,
             "#f1b6da"
            ],
            [
             0.4,
             "#fde0ef"
            ],
            [
             0.5,
             "#f7f7f7"
            ],
            [
             0.6,
             "#e6f5d0"
            ],
            [
             0.7,
             "#b8e186"
            ],
            [
             0.8,
             "#7fbc41"
            ],
            [
             0.9,
             "#4d9221"
            ],
            [
             1,
             "#276419"
            ]
           ],
           "sequential": [
            [
             0,
             "#0d0887"
            ],
            [
             0.1111111111111111,
             "#46039f"
            ],
            [
             0.2222222222222222,
             "#7201a8"
            ],
            [
             0.3333333333333333,
             "#9c179e"
            ],
            [
             0.4444444444444444,
             "#bd3786"
            ],
            [
             0.5555555555555556,
             "#d8576b"
            ],
            [
             0.6666666666666666,
             "#ed7953"
            ],
            [
             0.7777777777777778,
             "#fb9f3a"
            ],
            [
             0.8888888888888888,
             "#fdca26"
            ],
            [
             1,
             "#f0f921"
            ]
           ],
           "sequentialminus": [
            [
             0,
             "#0d0887"
            ],
            [
             0.1111111111111111,
             "#46039f"
            ],
            [
             0.2222222222222222,
             "#7201a8"
            ],
            [
             0.3333333333333333,
             "#9c179e"
            ],
            [
             0.4444444444444444,
             "#bd3786"
            ],
            [
             0.5555555555555556,
             "#d8576b"
            ],
            [
             0.6666666666666666,
             "#ed7953"
            ],
            [
             0.7777777777777778,
             "#fb9f3a"
            ],
            [
             0.8888888888888888,
             "#fdca26"
            ],
            [
             1,
             "#f0f921"
            ]
           ]
          },
          "colorway": [
           "#636efa",
           "#EF553B",
           "#00cc96",
           "#ab63fa",
           "#FFA15A",
           "#19d3f3",
           "#FF6692",
           "#B6E880",
           "#FF97FF",
           "#FECB52"
          ],
          "font": {
           "color": "#2a3f5f"
          },
          "geo": {
           "bgcolor": "white",
           "lakecolor": "white",
           "landcolor": "white",
           "showlakes": true,
           "showland": true,
           "subunitcolor": "#C8D4E3"
          },
          "hoverlabel": {
           "align": "left"
          },
          "hovermode": "closest",
          "mapbox": {
           "style": "light"
          },
          "paper_bgcolor": "white",
          "plot_bgcolor": "white",
          "polar": {
           "angularaxis": {
            "gridcolor": "#EBF0F8",
            "linecolor": "#EBF0F8",
            "ticks": ""
           },
           "bgcolor": "white",
           "radialaxis": {
            "gridcolor": "#EBF0F8",
            "linecolor": "#EBF0F8",
            "ticks": ""
           }
          },
          "scene": {
           "xaxis": {
            "backgroundcolor": "white",
            "gridcolor": "#DFE8F3",
            "gridwidth": 2,
            "linecolor": "#EBF0F8",
            "showbackground": true,
            "ticks": "",
            "zerolinecolor": "#EBF0F8"
           },
           "yaxis": {
            "backgroundcolor": "white",
            "gridcolor": "#DFE8F3",
            "gridwidth": 2,
            "linecolor": "#EBF0F8",
            "showbackground": true,
            "ticks": "",
            "zerolinecolor": "#EBF0F8"
           },
           "zaxis": {
            "backgroundcolor": "white",
            "gridcolor": "#DFE8F3",
            "gridwidth": 2,
            "linecolor": "#EBF0F8",
            "showbackground": true,
            "ticks": "",
            "zerolinecolor": "#EBF0F8"
           }
          },
          "shapedefaults": {
           "line": {
            "color": "#2a3f5f"
           }
          },
          "ternary": {
           "aaxis": {
            "gridcolor": "#DFE8F3",
            "linecolor": "#A2B1C6",
            "ticks": ""
           },
           "baxis": {
            "gridcolor": "#DFE8F3",
            "linecolor": "#A2B1C6",
            "ticks": ""
           },
           "bgcolor": "white",
           "caxis": {
            "gridcolor": "#DFE8F3",
            "linecolor": "#A2B1C6",
            "ticks": ""
           }
          },
          "title": {
           "x": 0.05
          },
          "xaxis": {
           "automargin": true,
           "gridcolor": "#EBF0F8",
           "linecolor": "#EBF0F8",
           "ticks": "",
           "title": {
            "standoff": 15
           },
           "zerolinecolor": "#EBF0F8",
           "zerolinewidth": 2
          },
          "yaxis": {
           "automargin": true,
           "gridcolor": "#EBF0F8",
           "linecolor": "#EBF0F8",
           "ticks": "",
           "title": {
            "standoff": 15
           },
           "zerolinecolor": "#EBF0F8",
           "zerolinewidth": 2
          }
         }
        },
        "title": {
         "text": "Q3.3: Top 10 NC Counties for % Housing Units with No Vehicle Available (DP04_0058PE)"
        },
        "xaxis": {
         "anchor": "y",
         "domain": [
          0,
          1
         ],
         "title": {
          "text": "No Vehicles Available - Percent (DP04_0058PE)"
         }
        },
        "yaxis": {
         "anchor": "x",
         "domain": [
          0,
          1
         ],
         "title": {
          "text": "County Name"
         }
        }
       }
      }
     },
     "metadata": {},
     "output_type": "display_data"
    }
   ],
   "source": [
    "fig = px.bar(df_Q3,              \n",
    "             x='No Vehicles Available - Percent (DP04_0058PE)', \n",
    "             y='County Name',\n",
    "             text='No Vehicles Available - Percent (DP04_0058PE)',\n",
    "             orientation='h',   \n",
    "             template='plotly_white',\n",
    "             title='Q3.3: Top 10 NC Counties for % Housing Units with No Vehicle Available (DP04_0058PE)')\n",
    "\n",
    "fig.update_traces(textposition='auto', \n",
    "                  texttemplate='%{text:,.1f}'   # This adds commas and formats to zero decimal places\n",
    "                 )\n",
    "\n",
    "fig.show()"
   ]
  },
  {
   "cell_type": "markdown",
   "id": "7aa83ee7",
   "metadata": {},
   "source": [
    "# Save in a csv"
   ]
  },
  {
   "cell_type": "code",
   "execution_count": 25,
   "id": "2fb5be82",
   "metadata": {},
   "outputs": [],
   "source": [
    "csv_file_to_create = \"7_3_P3.csv\"\n",
    "\n",
    "filename_with_path = \"Data/\" + csv_file_to_create\n",
    "df.to_csv(filename_with_path, index=False)"
   ]
  }
 ],
 "metadata": {
  "kernelspec": {
   "display_name": "Python 3.9.12",
   "language": "python",
   "name": "python3"
  },
  "language_info": {
   "codemirror_mode": {
    "name": "ipython",
    "version": 3
   },
   "file_extension": ".py",
   "mimetype": "text/x-python",
   "name": "python",
   "nbconvert_exporter": "python",
   "pygments_lexer": "ipython3",
   "version": "3.9.12"
  },
  "vscode": {
   "interpreter": {
    "hash": "0ccba871b46202fe891a5da8f1fa45061240964d317113191dbecc63a04b0fa2"
   }
  }
 },
 "nbformat": 4,
 "nbformat_minor": 5
}
