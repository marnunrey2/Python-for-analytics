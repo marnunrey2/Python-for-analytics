{
 "cells": [
  {
   "cell_type": "markdown",
   "metadata": {},
   "source": [
    "# Demo 2.5 *groupby()*: Aggregating On a *Single* Column \n",
    "\n",
    "\n",
    "- **Demonstrates:**   \n",
    "  - Changing Data Type: ***to_numeric()***    \n",
    "  - Aggregating on a Single Column:  ***groupby()***  \n",
    "  - Converting a pandas Series to a Dataframe  \n",
    "  - Moving the Index Column into the Dataframe  \n",
    "\n",
    "\n",
    " \n",
    "- Data file:  **Cars.csv** \n"
   ]
  },
  {
   "cell_type": "code",
   "execution_count": 1,
   "metadata": {},
   "outputs": [],
   "source": [
    "import pandas as pd"
   ]
  },
  {
   "cell_type": "markdown",
   "metadata": {},
   "source": [
    "### Read the datafile File into a *pandas* Dataframe  "
   ]
  },
  {
   "cell_type": "code",
   "execution_count": 2,
   "metadata": {},
   "outputs": [
    {
     "name": "stdout",
     "output_type": "stream",
     "text": [
      "(428, 13)\n"
     ]
    },
    {
     "data": {
      "text/html": [
       "<div>\n",
       "<style scoped>\n",
       "    .dataframe tbody tr th:only-of-type {\n",
       "        vertical-align: middle;\n",
       "    }\n",
       "\n",
       "    .dataframe tbody tr th {\n",
       "        vertical-align: top;\n",
       "    }\n",
       "\n",
       "    .dataframe thead th {\n",
       "        text-align: right;\n",
       "    }\n",
       "</style>\n",
       "<table border=\"1\" class=\"dataframe\">\n",
       "  <thead>\n",
       "    <tr style=\"text-align: right;\">\n",
       "      <th></th>\n",
       "      <th>Vehicle_Make</th>\n",
       "      <th>Vehicle_Model</th>\n",
       "      <th>Vehicle_Type</th>\n",
       "      <th>Manufacturing_Origin</th>\n",
       "      <th>MPG_City</th>\n",
       "      <th>MPG_Hwy</th>\n",
       "      <th>MSRP</th>\n",
       "      <th>Invoice</th>\n",
       "      <th>Weight</th>\n",
       "      <th>Wheelbase</th>\n",
       "      <th>DriveTrain</th>\n",
       "      <th>EngineSize</th>\n",
       "      <th>Horsepower</th>\n",
       "    </tr>\n",
       "  </thead>\n",
       "  <tbody>\n",
       "    <tr>\n",
       "      <th>0</th>\n",
       "      <td>Acura</td>\n",
       "      <td>MDX</td>\n",
       "      <td>SUV</td>\n",
       "      <td>Asia</td>\n",
       "      <td>17</td>\n",
       "      <td>23</td>\n",
       "      <td>36945</td>\n",
       "      <td>33337</td>\n",
       "      <td>4451</td>\n",
       "      <td>106</td>\n",
       "      <td>All</td>\n",
       "      <td>3.5</td>\n",
       "      <td>265</td>\n",
       "    </tr>\n",
       "    <tr>\n",
       "      <th>1</th>\n",
       "      <td>Acura</td>\n",
       "      <td>RSX Type S 2dr</td>\n",
       "      <td>Sedan</td>\n",
       "      <td>Asia</td>\n",
       "      <td>24</td>\n",
       "      <td>31</td>\n",
       "      <td>23820</td>\n",
       "      <td>21761</td>\n",
       "      <td>2778</td>\n",
       "      <td>101</td>\n",
       "      <td>Front</td>\n",
       "      <td>2.0</td>\n",
       "      <td>200</td>\n",
       "    </tr>\n",
       "  </tbody>\n",
       "</table>\n",
       "</div>"
      ],
      "text/plain": [
       "  Vehicle_Make   Vehicle_Model Vehicle_Type Manufacturing_Origin  MPG_City  \\\n",
       "0        Acura             MDX          SUV                 Asia        17   \n",
       "1        Acura  RSX Type S 2dr        Sedan                 Asia        24   \n",
       "\n",
       "   MPG_Hwy   MSRP  Invoice  Weight  Wheelbase DriveTrain  EngineSize  \\\n",
       "0       23  36945    33337    4451        106        All         3.5   \n",
       "1       31  23820    21761    2778        101      Front         2.0   \n",
       "\n",
       "   Horsepower  \n",
       "0         265  \n",
       "1         200  "
      ]
     },
     "execution_count": 2,
     "metadata": {},
     "output_type": "execute_result"
    }
   ],
   "source": [
    "df = pd.read_csv('Data/Cars.csv')\n",
    "\n",
    "print(df.shape)\n",
    "df.head(2)"
   ]
  },
  {
   "cell_type": "markdown",
   "metadata": {},
   "source": [
    "# Change Data Types as Needed  \n",
    "- If we want to do numeric calculations on a column it is important that pandas recognizes it as numeric. \n",
    "- We also want to make sure a column is a float (rather than integer) if it could contain decimal values.\n",
    "- Otherwise either errors or weird results are going to happen!  \n"
   ]
  },
  {
   "cell_type": "code",
   "execution_count": 3,
   "metadata": {},
   "outputs": [
    {
     "data": {
      "text/plain": [
       "Vehicle_Make             object\n",
       "Vehicle_Model            object\n",
       "Vehicle_Type             object\n",
       "Manufacturing_Origin     object\n",
       "MPG_City                  int64\n",
       "MPG_Hwy                   int64\n",
       "MSRP                      int64\n",
       "Invoice                   int64\n",
       "Weight                    int64\n",
       "Wheelbase                 int64\n",
       "DriveTrain               object\n",
       "EngineSize              float64\n",
       "Horsepower                int64\n",
       "dtype: object"
      ]
     },
     "execution_count": 3,
     "metadata": {},
     "output_type": "execute_result"
    }
   ],
   "source": [
    "# data Vehicle_Types 'Before' \n",
    "df.dtypes"
   ]
  },
  {
   "cell_type": "code",
   "execution_count": 4,
   "metadata": {},
   "outputs": [],
   "source": [
    "# Convert MSRP, Invoice, MPG_City, MPG_Hwy to floats\n",
    "df['MSRP'] = df['MSRP'].astype(float)\n",
    "df['Invoice'] = df['Invoice'].astype(float)\n",
    "\n",
    "df['MPG_City'] = df['MPG_City'].astype(float)\n",
    "df['MPG_Hwy'] = df['MPG_Hwy'].astype(float)"
   ]
  },
  {
   "cell_type": "code",
   "execution_count": 5,
   "metadata": {},
   "outputs": [
    {
     "data": {
      "text/plain": [
       "Vehicle_Make             object\n",
       "Vehicle_Model            object\n",
       "Vehicle_Type             object\n",
       "Manufacturing_Origin     object\n",
       "MPG_City                float64\n",
       "MPG_Hwy                 float64\n",
       "MSRP                    float64\n",
       "Invoice                 float64\n",
       "Weight                    int64\n",
       "Wheelbase                 int64\n",
       "DriveTrain               object\n",
       "EngineSize              float64\n",
       "Horsepower                int64\n",
       "dtype: object"
      ]
     },
     "execution_count": 5,
     "metadata": {},
     "output_type": "execute_result"
    }
   ],
   "source": [
    "# data Vehicle_Types 'After' \n",
    "df.dtypes"
   ]
  },
  {
   "cell_type": "markdown",
   "metadata": {},
   "source": [
    "# Question:  What is the Average City MPG By Vehicle Type?  \n",
    "- Categorical Variable to Group On:  **Vehicle_Type**  \n",
    "- Continuous Variable We're Interested In:  **MPG_City** \n",
    "- Aggregation Function:  **mean** \n",
    "\n",
    "\n",
    "- **Gotcha:**  \n",
    "  - If we only select a single continuous variable/column we're interested in, groupby() will creat a pandas Data **Series** rather than a Dataframe  \n",
    "  - Data Series are similar to Dataframes, but I think Dataframes are easier to work with and more familiar to you, so we're going to convert the Data Series to a Dataframe.\n"
   ]
  },
  {
   "cell_type": "code",
   "execution_count": 6,
   "metadata": {},
   "outputs": [
    {
     "data": {
      "text/plain": [
       "array(['SUV', 'Sedan', 'Sports', 'Wagon', 'Truck', 'Hybrid'], dtype=object)"
      ]
     },
     "execution_count": 6,
     "metadata": {},
     "output_type": "execute_result"
    }
   ],
   "source": [
    "# Optional:  Display the unique values of the column we want to Group on\n",
    "df['Vehicle_Type'].unique()"
   ]
  },
  {
   "cell_type": "code",
   "execution_count": 7,
   "metadata": {},
   "outputs": [
    {
     "data": {
      "text/html": [
       "<div>\n",
       "<style scoped>\n",
       "    .dataframe tbody tr th:only-of-type {\n",
       "        vertical-align: middle;\n",
       "    }\n",
       "\n",
       "    .dataframe tbody tr th {\n",
       "        vertical-align: top;\n",
       "    }\n",
       "\n",
       "    .dataframe thead th {\n",
       "        text-align: right;\n",
       "    }\n",
       "</style>\n",
       "<table border=\"1\" class=\"dataframe\">\n",
       "  <thead>\n",
       "    <tr style=\"text-align: right;\">\n",
       "      <th></th>\n",
       "      <th>Vehicle_Make</th>\n",
       "      <th>Vehicle_Model</th>\n",
       "      <th>Vehicle_Type</th>\n",
       "      <th>Manufacturing_Origin</th>\n",
       "      <th>MPG_City</th>\n",
       "      <th>MPG_Hwy</th>\n",
       "      <th>MSRP</th>\n",
       "      <th>Invoice</th>\n",
       "      <th>Weight</th>\n",
       "      <th>Wheelbase</th>\n",
       "      <th>DriveTrain</th>\n",
       "      <th>EngineSize</th>\n",
       "      <th>Horsepower</th>\n",
       "    </tr>\n",
       "  </thead>\n",
       "  <tbody>\n",
       "    <tr>\n",
       "      <th>0</th>\n",
       "      <td>Acura</td>\n",
       "      <td>MDX</td>\n",
       "      <td>SUV</td>\n",
       "      <td>Asia</td>\n",
       "      <td>17.0</td>\n",
       "      <td>23.0</td>\n",
       "      <td>36945.0</td>\n",
       "      <td>33337.0</td>\n",
       "      <td>4451</td>\n",
       "      <td>106</td>\n",
       "      <td>All</td>\n",
       "      <td>3.5</td>\n",
       "      <td>265</td>\n",
       "    </tr>\n",
       "    <tr>\n",
       "      <th>1</th>\n",
       "      <td>Acura</td>\n",
       "      <td>RSX Type S 2dr</td>\n",
       "      <td>Sedan</td>\n",
       "      <td>Asia</td>\n",
       "      <td>24.0</td>\n",
       "      <td>31.0</td>\n",
       "      <td>23820.0</td>\n",
       "      <td>21761.0</td>\n",
       "      <td>2778</td>\n",
       "      <td>101</td>\n",
       "      <td>Front</td>\n",
       "      <td>2.0</td>\n",
       "      <td>200</td>\n",
       "    </tr>\n",
       "  </tbody>\n",
       "</table>\n",
       "</div>"
      ],
      "text/plain": [
       "  Vehicle_Make   Vehicle_Model Vehicle_Type Manufacturing_Origin  MPG_City  \\\n",
       "0        Acura             MDX          SUV                 Asia      17.0   \n",
       "1        Acura  RSX Type S 2dr        Sedan                 Asia      24.0   \n",
       "\n",
       "   MPG_Hwy     MSRP  Invoice  Weight  Wheelbase DriveTrain  EngineSize  \\\n",
       "0     23.0  36945.0  33337.0    4451        106        All         3.5   \n",
       "1     31.0  23820.0  21761.0    2778        101      Front         2.0   \n",
       "\n",
       "   Horsepower  \n",
       "0         265  \n",
       "1         200  "
      ]
     },
     "execution_count": 7,
     "metadata": {},
     "output_type": "execute_result"
    }
   ],
   "source": [
    "df.head(2)"
   ]
  },
  {
   "cell_type": "markdown",
   "metadata": {},
   "source": [
    "# Aggregate on a *Single* Column:  *Vehicle_Type*    \n"
   ]
  },
  {
   "cell_type": "code",
   "execution_count": 8,
   "metadata": {},
   "outputs": [
    {
     "data": {
      "text/plain": [
       "Vehicle_Type\n",
       "Hybrid    55.000000\n",
       "SUV       16.100000\n",
       "Sedan     21.083969\n",
       "Sports    18.408163\n",
       "Truck     16.500000\n",
       "Wagon     21.100000\n",
       "Name: MPG_City, dtype: float64"
      ]
     },
     "execution_count": 8,
     "metadata": {},
     "output_type": "execute_result"
    }
   ],
   "source": [
    "ser = df.groupby(\"Vehicle_Type\")['MPG_City'].mean()\n",
    "\n",
    "ser"
   ]
  },
  {
   "cell_type": "markdown",
   "metadata": {},
   "source": [
    "# Convert the pandas ***Series*** to a Dataframe"
   ]
  },
  {
   "cell_type": "code",
   "execution_count": 9,
   "metadata": {
    "tags": []
   },
   "outputs": [
    {
     "data": {
      "text/plain": [
       "pandas.core.series.Series"
      ]
     },
     "execution_count": 9,
     "metadata": {},
     "output_type": "execute_result"
    }
   ],
   "source": [
    "# First, check that it is a pandas Series\n",
    "type(ser)"
   ]
  },
  {
   "cell_type": "code",
   "execution_count": 10,
   "metadata": {},
   "outputs": [
    {
     "name": "stdout",
     "output_type": "stream",
     "text": [
      "(6, 1)\n"
     ]
    },
    {
     "data": {
      "text/html": [
       "<div>\n",
       "<style scoped>\n",
       "    .dataframe tbody tr th:only-of-type {\n",
       "        vertical-align: middle;\n",
       "    }\n",
       "\n",
       "    .dataframe tbody tr th {\n",
       "        vertical-align: top;\n",
       "    }\n",
       "\n",
       "    .dataframe thead th {\n",
       "        text-align: right;\n",
       "    }\n",
       "</style>\n",
       "<table border=\"1\" class=\"dataframe\">\n",
       "  <thead>\n",
       "    <tr style=\"text-align: right;\">\n",
       "      <th></th>\n",
       "      <th>MPG_City</th>\n",
       "    </tr>\n",
       "    <tr>\n",
       "      <th>Vehicle_Type</th>\n",
       "      <th></th>\n",
       "    </tr>\n",
       "  </thead>\n",
       "  <tbody>\n",
       "    <tr>\n",
       "      <th>Hybrid</th>\n",
       "      <td>55.000000</td>\n",
       "    </tr>\n",
       "    <tr>\n",
       "      <th>SUV</th>\n",
       "      <td>16.100000</td>\n",
       "    </tr>\n",
       "    <tr>\n",
       "      <th>Sedan</th>\n",
       "      <td>21.083969</td>\n",
       "    </tr>\n",
       "    <tr>\n",
       "      <th>Sports</th>\n",
       "      <td>18.408163</td>\n",
       "    </tr>\n",
       "    <tr>\n",
       "      <th>Truck</th>\n",
       "      <td>16.500000</td>\n",
       "    </tr>\n",
       "  </tbody>\n",
       "</table>\n",
       "</div>"
      ],
      "text/plain": [
       "               MPG_City\n",
       "Vehicle_Type           \n",
       "Hybrid        55.000000\n",
       "SUV           16.100000\n",
       "Sedan         21.083969\n",
       "Sports        18.408163\n",
       "Truck         16.500000"
      ]
     },
     "execution_count": 10,
     "metadata": {},
     "output_type": "execute_result"
    }
   ],
   "source": [
    "# If it is, convert it  to a Dataframe\n",
    "df = ser.to_frame()\n",
    "\n",
    "print(df.shape)\n",
    "df.head()"
   ]
  },
  {
   "cell_type": "markdown",
   "metadata": {},
   "source": [
    "# Move the Index Column into the Dataframe  \n",
    "- Since it is no longer the Index, pandas will create a new default index column with values 0, 1, 2, etc...  "
   ]
  },
  {
   "cell_type": "code",
   "execution_count": 11,
   "metadata": {},
   "outputs": [
    {
     "name": "stdout",
     "output_type": "stream",
     "text": [
      "(6, 2)\n"
     ]
    },
    {
     "data": {
      "text/html": [
       "<div>\n",
       "<style scoped>\n",
       "    .dataframe tbody tr th:only-of-type {\n",
       "        vertical-align: middle;\n",
       "    }\n",
       "\n",
       "    .dataframe tbody tr th {\n",
       "        vertical-align: top;\n",
       "    }\n",
       "\n",
       "    .dataframe thead th {\n",
       "        text-align: right;\n",
       "    }\n",
       "</style>\n",
       "<table border=\"1\" class=\"dataframe\">\n",
       "  <thead>\n",
       "    <tr style=\"text-align: right;\">\n",
       "      <th></th>\n",
       "      <th>Vehicle_Type</th>\n",
       "      <th>MPG_City</th>\n",
       "    </tr>\n",
       "  </thead>\n",
       "  <tbody>\n",
       "    <tr>\n",
       "      <th>0</th>\n",
       "      <td>Hybrid</td>\n",
       "      <td>55.000000</td>\n",
       "    </tr>\n",
       "    <tr>\n",
       "      <th>1</th>\n",
       "      <td>SUV</td>\n",
       "      <td>16.100000</td>\n",
       "    </tr>\n",
       "    <tr>\n",
       "      <th>2</th>\n",
       "      <td>Sedan</td>\n",
       "      <td>21.083969</td>\n",
       "    </tr>\n",
       "    <tr>\n",
       "      <th>3</th>\n",
       "      <td>Sports</td>\n",
       "      <td>18.408163</td>\n",
       "    </tr>\n",
       "    <tr>\n",
       "      <th>4</th>\n",
       "      <td>Truck</td>\n",
       "      <td>16.500000</td>\n",
       "    </tr>\n",
       "  </tbody>\n",
       "</table>\n",
       "</div>"
      ],
      "text/plain": [
       "  Vehicle_Type   MPG_City\n",
       "0       Hybrid  55.000000\n",
       "1          SUV  16.100000\n",
       "2        Sedan  21.083969\n",
       "3       Sports  18.408163\n",
       "4        Truck  16.500000"
      ]
     },
     "execution_count": 11,
     "metadata": {},
     "output_type": "execute_result"
    }
   ],
   "source": [
    "df.reset_index(inplace=True)\n",
    "\n",
    "print(df.shape)\n",
    "df.head()"
   ]
  },
  {
   "cell_type": "code",
   "execution_count": null,
   "metadata": {},
   "outputs": [],
   "source": []
  }
 ],
 "metadata": {
  "kernelspec": {
   "display_name": "Python 3.9.12",
   "language": "python",
   "name": "python3"
  },
  "language_info": {
   "codemirror_mode": {
    "name": "ipython",
    "version": 3
   },
   "file_extension": ".py",
   "mimetype": "text/x-python",
   "name": "python",
   "nbconvert_exporter": "python",
   "pygments_lexer": "ipython3",
   "version": "3.9.12"
  },
  "vscode": {
   "interpreter": {
    "hash": "0ccba871b46202fe891a5da8f1fa45061240964d317113191dbecc63a04b0fa2"
   }
  }
 },
 "nbformat": 4,
 "nbformat_minor": 4
}
