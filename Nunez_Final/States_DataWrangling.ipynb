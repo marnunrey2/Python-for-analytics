{
 "cells": [
  {
   "attachments": {},
   "cell_type": "markdown",
   "id": "469e933d-39d1-47db-a948-c8961b496dfc",
   "metadata": {},
   "source": [
    "# Final Project: States Data Wrangling\n",
    "\n",
    "- **Vintage**:  2020\n",
    "- **Geography Level**: State\n",
    "- **Variables**:\n",
    "    - **DP02_0116E**: Estimate of population (5 years and over) who speaks Spanish at home\n",
    "    - **DP02_0116PE**: Percent of population (5 years and over) who speaks Spanish at home\n",
    "#\n",
    "- **Variables List**:  https://api.census.gov/data/2020/acs/acs5/profile/variables.html \n",
    "- **Supported Geographies**: https://api.census.gov/data/2020/acs/acs5/profile/geography.html\n",
    "\n",
    "### ***Question***:  \n",
    "- Get number and percentage of people who speak Spanish at home in each US state"
   ]
  },
  {
   "attachments": {},
   "cell_type": "markdown",
   "id": "2f3924b9",
   "metadata": {},
   "source": [
    "## 1. Import necessary packages"
   ]
  },
  {
   "cell_type": "code",
   "execution_count": 1,
   "id": "1f7ea856-0600-452b-b2ae-1572e6a679b4",
   "metadata": {},
   "outputs": [],
   "source": [
    "import pandas as pd\n",
    "import json\n",
    "import requests"
   ]
  },
  {
   "attachments": {},
   "cell_type": "markdown",
   "id": "484de62a-4773-4958-a08d-5c486e9b23bb",
   "metadata": {},
   "source": [
    "## 2. Build the API Request URL"
   ]
  },
  {
   "attachments": {},
   "cell_type": "markdown",
   "id": "4b14d038-60bb-4cc0-a6dd-94004f9bd803",
   "metadata": {},
   "source": [
    "- Base URL"
   ]
  },
  {
   "cell_type": "code",
   "execution_count": 2,
   "id": "ca765e9e-fd1c-4ce0-97d1-bc41525131ee",
   "metadata": {},
   "outputs": [],
   "source": [
    "base_url = \"https://api.census.gov/data\""
   ]
  },
  {
   "attachments": {},
   "cell_type": "markdown",
   "id": "afebe9e0-98a7-432d-b211-73db3dfbafef",
   "metadata": {},
   "source": [
    "- Dataset Name"
   ]
  },
  {
   "cell_type": "code",
   "execution_count": 3,
   "id": "38c9a86f-d581-43d5-8459-d205fa25a10b",
   "metadata": {},
   "outputs": [],
   "source": [
    "dataset_name = \"/2020/acs/acs5/profile\""
   ]
  },
  {
   "attachments": {},
   "cell_type": "markdown",
   "id": "1d8ac627-cfa4-44de-8e69-6276ab0fd473",
   "metadata": {},
   "source": [
    "- Get Variables\n",
    "\n",
    "    - **DP02_0116E**: Estimate of population (5 years and over) who speaks Spanish at home\n",
    "    - **DP02_0116PE**: Percent of population (5 years and over) who speaks Spanish at home"
   ]
  },
  {
   "cell_type": "code",
   "execution_count": 4,
   "id": "daf2c356-61db-4fac-9461-d1f763d91d15",
   "metadata": {},
   "outputs": [],
   "source": [
    "get_variables = \"?get=NAME,DP02_0116E,DP02_0116PE\""
   ]
  },
  {
   "attachments": {},
   "cell_type": "markdown",
   "id": "cdadd63b-d9d5-4912-b19a-f2ad7894cf39",
   "metadata": {},
   "source": [
    "- Geography Levels \n",
    "\n",
    "    - Every state in the US"
   ]
  },
  {
   "cell_type": "code",
   "execution_count": 5,
   "id": "2ecb8924-df52-49f4-8c71-07fa99e9201d",
   "metadata": {},
   "outputs": [],
   "source": [
    "geography = \"&for=state:*\""
   ]
  },
  {
   "attachments": {},
   "cell_type": "markdown",
   "id": "d9165204-24a1-43f4-8f3d-068aaf9920dc",
   "metadata": {},
   "source": [
    "- Put it all together "
   ]
  },
  {
   "cell_type": "code",
   "execution_count": 6,
   "id": "3901e745-60dd-4938-90a1-c56d1b86892c",
   "metadata": {},
   "outputs": [
    {
     "name": "stdout",
     "output_type": "stream",
     "text": [
      "request_url =  https://api.census.gov/data/2020/acs/acs5/profile?get=NAME,DP02_0116E,DP02_0116PE&for=state:*\n"
     ]
    }
   ],
   "source": [
    "request_url = base_url + dataset_name + get_variables + geography\n",
    "print(\"request_url = \", request_url)"
   ]
  },
  {
   "attachments": {},
   "cell_type": "markdown",
   "id": "a3df3db3-7861-4302-83ed-5d7f27c781ed",
   "metadata": {},
   "source": [
    "## 3. Make the API call"
   ]
  },
  {
   "cell_type": "code",
   "execution_count": 7,
   "id": "9903734f-1da9-47a6-9563-1d7bc7cfc6ab",
   "metadata": {},
   "outputs": [],
   "source": [
    "r = requests.get(request_url)\n",
    "\n",
    "api_results = r.json()"
   ]
  },
  {
   "attachments": {},
   "cell_type": "markdown",
   "id": "f98cddaf-65c6-4b0c-bb5b-ce812e770f4a",
   "metadata": {},
   "source": [
    "## 4. Get the data into a Dataframe "
   ]
  },
  {
   "cell_type": "code",
   "execution_count": 8,
   "id": "7db78496-f09e-4308-9818-6668c3105b77",
   "metadata": {},
   "outputs": [
    {
     "name": "stdout",
     "output_type": "stream",
     "text": [
      "Number of rows: 53\n",
      "Number of columns: 4\n"
     ]
    },
    {
     "data": {
      "text/html": [
       "<div>\n",
       "<style scoped>\n",
       "    .dataframe tbody tr th:only-of-type {\n",
       "        vertical-align: middle;\n",
       "    }\n",
       "\n",
       "    .dataframe tbody tr th {\n",
       "        vertical-align: top;\n",
       "    }\n",
       "\n",
       "    .dataframe thead th {\n",
       "        text-align: right;\n",
       "    }\n",
       "</style>\n",
       "<table border=\"1\" class=\"dataframe\">\n",
       "  <thead>\n",
       "    <tr style=\"text-align: right;\">\n",
       "      <th></th>\n",
       "      <th>0</th>\n",
       "      <th>1</th>\n",
       "      <th>2</th>\n",
       "      <th>3</th>\n",
       "    </tr>\n",
       "  </thead>\n",
       "  <tbody>\n",
       "    <tr>\n",
       "      <th>0</th>\n",
       "      <td>NAME</td>\n",
       "      <td>DP02_0116E</td>\n",
       "      <td>DP02_0116PE</td>\n",
       "      <td>state</td>\n",
       "    </tr>\n",
       "    <tr>\n",
       "      <th>1</th>\n",
       "      <td>Arkansas</td>\n",
       "      <td>153429</td>\n",
       "      <td>5.4</td>\n",
       "      <td>05</td>\n",
       "    </tr>\n",
       "    <tr>\n",
       "      <th>2</th>\n",
       "      <td>Washington</td>\n",
       "      <td>602058</td>\n",
       "      <td>8.5</td>\n",
       "      <td>53</td>\n",
       "    </tr>\n",
       "    <tr>\n",
       "      <th>3</th>\n",
       "      <td>Kansas</td>\n",
       "      <td>207181</td>\n",
       "      <td>7.6</td>\n",
       "      <td>20</td>\n",
       "    </tr>\n",
       "    <tr>\n",
       "      <th>4</th>\n",
       "      <td>Oklahoma</td>\n",
       "      <td>269433</td>\n",
       "      <td>7.3</td>\n",
       "      <td>40</td>\n",
       "    </tr>\n",
       "  </tbody>\n",
       "</table>\n",
       "</div>"
      ],
      "text/plain": [
       "            0           1            2      3\n",
       "0        NAME  DP02_0116E  DP02_0116PE  state\n",
       "1    Arkansas      153429          5.4     05\n",
       "2  Washington      602058          8.5     53\n",
       "3      Kansas      207181          7.6     20\n",
       "4    Oklahoma      269433          7.3     40"
      ]
     },
     "execution_count": 8,
     "metadata": {},
     "output_type": "execute_result"
    }
   ],
   "source": [
    "data = pd.DataFrame(api_results)\n",
    "\n",
    "print(\"Number of rows:\", data.shape[0])\n",
    "print(\"Number of columns:\", data.shape[1])\n",
    "data.head()"
   ]
  },
  {
   "cell_type": "code",
   "execution_count": 9,
   "id": "da717937-b9df-4443-a18e-8c3fe66e7381",
   "metadata": {},
   "outputs": [
    {
     "name": "stdout",
     "output_type": "stream",
     "text": [
      "Number of rows: 52\n",
      "Number of columns: 4\n"
     ]
    },
    {
     "data": {
      "text/html": [
       "<div>\n",
       "<style scoped>\n",
       "    .dataframe tbody tr th:only-of-type {\n",
       "        vertical-align: middle;\n",
       "    }\n",
       "\n",
       "    .dataframe tbody tr th {\n",
       "        vertical-align: top;\n",
       "    }\n",
       "\n",
       "    .dataframe thead th {\n",
       "        text-align: right;\n",
       "    }\n",
       "</style>\n",
       "<table border=\"1\" class=\"dataframe\">\n",
       "  <thead>\n",
       "    <tr style=\"text-align: right;\">\n",
       "      <th></th>\n",
       "      <th>NAME</th>\n",
       "      <th>DP02_0116E</th>\n",
       "      <th>DP02_0116PE</th>\n",
       "      <th>state</th>\n",
       "    </tr>\n",
       "  </thead>\n",
       "  <tbody>\n",
       "    <tr>\n",
       "      <th>1</th>\n",
       "      <td>Arkansas</td>\n",
       "      <td>153429</td>\n",
       "      <td>5.4</td>\n",
       "      <td>05</td>\n",
       "    </tr>\n",
       "    <tr>\n",
       "      <th>2</th>\n",
       "      <td>Washington</td>\n",
       "      <td>602058</td>\n",
       "      <td>8.5</td>\n",
       "      <td>53</td>\n",
       "    </tr>\n",
       "    <tr>\n",
       "      <th>3</th>\n",
       "      <td>Kansas</td>\n",
       "      <td>207181</td>\n",
       "      <td>7.6</td>\n",
       "      <td>20</td>\n",
       "    </tr>\n",
       "    <tr>\n",
       "      <th>4</th>\n",
       "      <td>Oklahoma</td>\n",
       "      <td>269433</td>\n",
       "      <td>7.3</td>\n",
       "      <td>40</td>\n",
       "    </tr>\n",
       "    <tr>\n",
       "      <th>5</th>\n",
       "      <td>Wisconsin</td>\n",
       "      <td>254258</td>\n",
       "      <td>4.6</td>\n",
       "      <td>55</td>\n",
       "    </tr>\n",
       "  </tbody>\n",
       "</table>\n",
       "</div>"
      ],
      "text/plain": [
       "0        NAME DP02_0116E DP02_0116PE state\n",
       "1    Arkansas     153429         5.4    05\n",
       "2  Washington     602058         8.5    53\n",
       "3      Kansas     207181         7.6    20\n",
       "4    Oklahoma     269433         7.3    40\n",
       "5   Wisconsin     254258         4.6    55"
      ]
     },
     "execution_count": 9,
     "metadata": {},
     "output_type": "execute_result"
    }
   ],
   "source": [
    "# Get the first Row into columns and then get rid of it\n",
    "\n",
    "data.columns = data.iloc[0]\n",
    "\n",
    "data = data.iloc[1:]\n",
    "\n",
    "print(\"Number of rows:\", data.shape[0])\n",
    "print(\"Number of columns:\", data.shape[1])\n",
    "data.head()"
   ]
  },
  {
   "cell_type": "code",
   "execution_count": 10,
   "id": "45a7ca49",
   "metadata": {},
   "outputs": [
    {
     "name": "stdout",
     "output_type": "stream",
     "text": [
      "Data types: \n"
     ]
    },
    {
     "data": {
      "text/plain": [
       "0\n",
       "NAME           object\n",
       "DP02_0116E     object\n",
       "DP02_0116PE    object\n",
       "state          object\n",
       "dtype: object"
      ]
     },
     "execution_count": 10,
     "metadata": {},
     "output_type": "execute_result"
    }
   ],
   "source": [
    "# Print data types\n",
    "print(\"Data types: \")\n",
    "data.dtypes"
   ]
  },
  {
   "attachments": {},
   "cell_type": "markdown",
   "id": "035b345b",
   "metadata": {},
   "source": [
    "## 6. Add states abbreviations"
   ]
  },
  {
   "attachments": {},
   "cell_type": "markdown",
   "id": "cff2f8d9",
   "metadata": {},
   "source": [
    "### 6.1 Import csv with states abbreviations"
   ]
  },
  {
   "cell_type": "code",
   "execution_count": 11,
   "id": "8c9bc77c",
   "metadata": {},
   "outputs": [
    {
     "name": "stdout",
     "output_type": "stream",
     "text": [
      "Number of rows: 50\n",
      "Number of columns: 2\n"
     ]
    },
    {
     "data": {
      "text/html": [
       "<div>\n",
       "<style scoped>\n",
       "    .dataframe tbody tr th:only-of-type {\n",
       "        vertical-align: middle;\n",
       "    }\n",
       "\n",
       "    .dataframe tbody tr th {\n",
       "        vertical-align: top;\n",
       "    }\n",
       "\n",
       "    .dataframe thead th {\n",
       "        text-align: right;\n",
       "    }\n",
       "</style>\n",
       "<table border=\"1\" class=\"dataframe\">\n",
       "  <thead>\n",
       "    <tr style=\"text-align: right;\">\n",
       "      <th></th>\n",
       "      <th>State_Name</th>\n",
       "      <th>State_Abbrev</th>\n",
       "    </tr>\n",
       "  </thead>\n",
       "  <tbody>\n",
       "    <tr>\n",
       "      <th>0</th>\n",
       "      <td>Alabama</td>\n",
       "      <td>AL</td>\n",
       "    </tr>\n",
       "    <tr>\n",
       "      <th>1</th>\n",
       "      <td>Alaska</td>\n",
       "      <td>AK</td>\n",
       "    </tr>\n",
       "    <tr>\n",
       "      <th>2</th>\n",
       "      <td>Arizona</td>\n",
       "      <td>AZ</td>\n",
       "    </tr>\n",
       "    <tr>\n",
       "      <th>3</th>\n",
       "      <td>Arkansas</td>\n",
       "      <td>AR</td>\n",
       "    </tr>\n",
       "    <tr>\n",
       "      <th>4</th>\n",
       "      <td>California</td>\n",
       "      <td>CA</td>\n",
       "    </tr>\n",
       "  </tbody>\n",
       "</table>\n",
       "</div>"
      ],
      "text/plain": [
       "   State_Name State_Abbrev\n",
       "0     Alabama           AL\n",
       "1      Alaska           AK\n",
       "2     Arizona           AZ\n",
       "3    Arkansas           AR\n",
       "4  California           CA"
      ]
     },
     "execution_count": 11,
     "metadata": {},
     "output_type": "execute_result"
    }
   ],
   "source": [
    "state_abb = pd.read_csv('Data/State_Abbreviations.csv')\n",
    "\n",
    "print(\"Number of rows:\", state_abb.shape[0])\n",
    "print(\"Number of columns:\", state_abb.shape[1])\n",
    "state_abb.head()"
   ]
  },
  {
   "cell_type": "code",
   "execution_count": 12,
   "id": "b8492378",
   "metadata": {},
   "outputs": [
    {
     "name": "stdout",
     "output_type": "stream",
     "text": [
      "Data types: \n"
     ]
    },
    {
     "data": {
      "text/plain": [
       "State_Name      object\n",
       "State_Abbrev    object\n",
       "dtype: object"
      ]
     },
     "execution_count": 12,
     "metadata": {},
     "output_type": "execute_result"
    }
   ],
   "source": [
    "# Print data types\n",
    "print(\"Data types: \")\n",
    "state_abb.dtypes"
   ]
  },
  {
   "attachments": {},
   "cell_type": "markdown",
   "id": "c3d9fcaa",
   "metadata": {},
   "source": [
    "### 6.2. Deleting Puerto Rico and District of Columbia of the dataframe data to match the dataframe state_abb"
   ]
  },
  {
   "cell_type": "code",
   "execution_count": 13,
   "id": "0bc0704c",
   "metadata": {},
   "outputs": [
    {
     "name": "stdout",
     "output_type": "stream",
     "text": [
      "Number of rows: 50\n",
      "Number of columns: 4\n"
     ]
    },
    {
     "data": {
      "text/html": [
       "<div>\n",
       "<style scoped>\n",
       "    .dataframe tbody tr th:only-of-type {\n",
       "        vertical-align: middle;\n",
       "    }\n",
       "\n",
       "    .dataframe tbody tr th {\n",
       "        vertical-align: top;\n",
       "    }\n",
       "\n",
       "    .dataframe thead th {\n",
       "        text-align: right;\n",
       "    }\n",
       "</style>\n",
       "<table border=\"1\" class=\"dataframe\">\n",
       "  <thead>\n",
       "    <tr style=\"text-align: right;\">\n",
       "      <th></th>\n",
       "      <th>NAME</th>\n",
       "      <th>DP02_0116E</th>\n",
       "      <th>DP02_0116PE</th>\n",
       "      <th>state</th>\n",
       "    </tr>\n",
       "  </thead>\n",
       "  <tbody>\n",
       "    <tr>\n",
       "      <th>1</th>\n",
       "      <td>Arkansas</td>\n",
       "      <td>153429</td>\n",
       "      <td>5.4</td>\n",
       "      <td>05</td>\n",
       "    </tr>\n",
       "    <tr>\n",
       "      <th>2</th>\n",
       "      <td>Washington</td>\n",
       "      <td>602058</td>\n",
       "      <td>8.5</td>\n",
       "      <td>53</td>\n",
       "    </tr>\n",
       "    <tr>\n",
       "      <th>3</th>\n",
       "      <td>Kansas</td>\n",
       "      <td>207181</td>\n",
       "      <td>7.6</td>\n",
       "      <td>20</td>\n",
       "    </tr>\n",
       "    <tr>\n",
       "      <th>4</th>\n",
       "      <td>Oklahoma</td>\n",
       "      <td>269433</td>\n",
       "      <td>7.3</td>\n",
       "      <td>40</td>\n",
       "    </tr>\n",
       "    <tr>\n",
       "      <th>5</th>\n",
       "      <td>Wisconsin</td>\n",
       "      <td>254258</td>\n",
       "      <td>4.6</td>\n",
       "      <td>55</td>\n",
       "    </tr>\n",
       "  </tbody>\n",
       "</table>\n",
       "</div>"
      ],
      "text/plain": [
       "0        NAME DP02_0116E DP02_0116PE state\n",
       "1    Arkansas     153429         5.4    05\n",
       "2  Washington     602058         8.5    53\n",
       "3      Kansas     207181         7.6    20\n",
       "4    Oklahoma     269433         7.3    40\n",
       "5   Wisconsin     254258         4.6    55"
      ]
     },
     "execution_count": 13,
     "metadata": {},
     "output_type": "execute_result"
    }
   ],
   "source": [
    "states_to_delete = ['Puerto Rico', 'District of Columbia']\n",
    "data.query(\"NAME not in @states_to_delete\", inplace=True)\n",
    "\n",
    "print(\"Number of rows:\", data.shape[0])\n",
    "print(\"Number of columns:\", data.shape[1])\n",
    "data.head()"
   ]
  },
  {
   "attachments": {},
   "cell_type": "markdown",
   "id": "5f29b1fb",
   "metadata": {},
   "source": [
    "### 6.3. Merge both dataframes (data and state_abb)"
   ]
  },
  {
   "attachments": {},
   "cell_type": "markdown",
   "id": "4a487eb5",
   "metadata": {},
   "source": [
    "- Assign left and right tables to avoid confusion"
   ]
  },
  {
   "cell_type": "code",
   "execution_count": 14,
   "id": "030b83a9",
   "metadata": {},
   "outputs": [],
   "source": [
    "left_table = data\n",
    "right_table = state_abb"
   ]
  },
  {
   "attachments": {},
   "cell_type": "markdown",
   "id": "bc6cad19",
   "metadata": {},
   "source": [
    "- Select the joining columns of the left and right tables to avoid confusion"
   ]
  },
  {
   "cell_type": "code",
   "execution_count": 15,
   "id": "11f732ed",
   "metadata": {},
   "outputs": [],
   "source": [
    "left_table_join_field = 'NAME'\n",
    "right_table_join_field = 'State_Name'"
   ]
  },
  {
   "attachments": {},
   "cell_type": "markdown",
   "id": "e986791a",
   "metadata": {},
   "source": [
    "- Merge"
   ]
  },
  {
   "cell_type": "code",
   "execution_count": 16,
   "id": "8ee4b19b",
   "metadata": {},
   "outputs": [
    {
     "name": "stdout",
     "output_type": "stream",
     "text": [
      "\n",
      "Left Table:   (50, 4)\n",
      "Right Table:  (50, 2)\n",
      "Joined Dataframe:  (50, 6)\n",
      "\n"
     ]
    },
    {
     "data": {
      "text/html": [
       "<div>\n",
       "<style scoped>\n",
       "    .dataframe tbody tr th:only-of-type {\n",
       "        vertical-align: middle;\n",
       "    }\n",
       "\n",
       "    .dataframe tbody tr th {\n",
       "        vertical-align: top;\n",
       "    }\n",
       "\n",
       "    .dataframe thead th {\n",
       "        text-align: right;\n",
       "    }\n",
       "</style>\n",
       "<table border=\"1\" class=\"dataframe\">\n",
       "  <thead>\n",
       "    <tr style=\"text-align: right;\">\n",
       "      <th></th>\n",
       "      <th>NAME</th>\n",
       "      <th>DP02_0116E</th>\n",
       "      <th>DP02_0116PE</th>\n",
       "      <th>state</th>\n",
       "      <th>State_Name</th>\n",
       "      <th>State_Abbrev</th>\n",
       "    </tr>\n",
       "  </thead>\n",
       "  <tbody>\n",
       "    <tr>\n",
       "      <th>0</th>\n",
       "      <td>Arkansas</td>\n",
       "      <td>153429</td>\n",
       "      <td>5.4</td>\n",
       "      <td>05</td>\n",
       "      <td>Arkansas</td>\n",
       "      <td>AR</td>\n",
       "    </tr>\n",
       "    <tr>\n",
       "      <th>1</th>\n",
       "      <td>Washington</td>\n",
       "      <td>602058</td>\n",
       "      <td>8.5</td>\n",
       "      <td>53</td>\n",
       "      <td>Washington</td>\n",
       "      <td>WA</td>\n",
       "    </tr>\n",
       "    <tr>\n",
       "      <th>2</th>\n",
       "      <td>Kansas</td>\n",
       "      <td>207181</td>\n",
       "      <td>7.6</td>\n",
       "      <td>20</td>\n",
       "      <td>Kansas</td>\n",
       "      <td>KS</td>\n",
       "    </tr>\n",
       "    <tr>\n",
       "      <th>3</th>\n",
       "      <td>Oklahoma</td>\n",
       "      <td>269433</td>\n",
       "      <td>7.3</td>\n",
       "      <td>40</td>\n",
       "      <td>Oklahoma</td>\n",
       "      <td>OK</td>\n",
       "    </tr>\n",
       "    <tr>\n",
       "      <th>4</th>\n",
       "      <td>Wisconsin</td>\n",
       "      <td>254258</td>\n",
       "      <td>4.6</td>\n",
       "      <td>55</td>\n",
       "      <td>Wisconsin</td>\n",
       "      <td>WI</td>\n",
       "    </tr>\n",
       "  </tbody>\n",
       "</table>\n",
       "</div>"
      ],
      "text/plain": [
       "         NAME DP02_0116E DP02_0116PE state  State_Name State_Abbrev\n",
       "0    Arkansas     153429         5.4    05    Arkansas           AR\n",
       "1  Washington     602058         8.5    53  Washington           WA\n",
       "2      Kansas     207181         7.6    20      Kansas           KS\n",
       "3    Oklahoma     269433         7.3    40    Oklahoma           OK\n",
       "4   Wisconsin     254258         4.6    55   Wisconsin           WI"
      ]
     },
     "execution_count": 16,
     "metadata": {},
     "output_type": "execute_result"
    }
   ],
   "source": [
    "df = pd.merge(left_table,       \n",
    "                right_table,     \n",
    "                left_on=left_table_join_field,\n",
    "                right_on=right_table_join_field,\n",
    "                how='left'                          # Type of Join:  Left\n",
    "            )\n",
    "\n",
    "print()\n",
    "print(\"Left Table:  \", left_table.shape)\n",
    "print(\"Right Table: \", right_table.shape)\n",
    "print(\"Joined Dataframe: \", df.shape)\n",
    "print()\n",
    "\n",
    "df.head()"
   ]
  },
  {
   "cell_type": "code",
   "execution_count": 17,
   "id": "65024fce",
   "metadata": {},
   "outputs": [
    {
     "name": "stdout",
     "output_type": "stream",
     "text": [
      "Data types: \n"
     ]
    },
    {
     "data": {
      "text/plain": [
       "NAME            object\n",
       "DP02_0116E      object\n",
       "DP02_0116PE     object\n",
       "state           object\n",
       "State_Name      object\n",
       "State_Abbrev    object\n",
       "dtype: object"
      ]
     },
     "execution_count": 17,
     "metadata": {},
     "output_type": "execute_result"
    }
   ],
   "source": [
    "# Print data types\n",
    "print(\"Data types: \")\n",
    "df.dtypes"
   ]
  },
  {
   "attachments": {},
   "cell_type": "markdown",
   "id": "b733e888",
   "metadata": {},
   "source": [
    "## 7. Cleaning"
   ]
  },
  {
   "attachments": {},
   "cell_type": "markdown",
   "id": "1a08fc46",
   "metadata": {},
   "source": [
    "### 7.1. Dropping repeated column"
   ]
  },
  {
   "cell_type": "code",
   "execution_count": 18,
   "id": "db81b1ad",
   "metadata": {},
   "outputs": [
    {
     "name": "stdout",
     "output_type": "stream",
     "text": [
      "Number of rows: 50\n",
      "Number of columns: 5\n"
     ]
    },
    {
     "data": {
      "text/html": [
       "<div>\n",
       "<style scoped>\n",
       "    .dataframe tbody tr th:only-of-type {\n",
       "        vertical-align: middle;\n",
       "    }\n",
       "\n",
       "    .dataframe tbody tr th {\n",
       "        vertical-align: top;\n",
       "    }\n",
       "\n",
       "    .dataframe thead th {\n",
       "        text-align: right;\n",
       "    }\n",
       "</style>\n",
       "<table border=\"1\" class=\"dataframe\">\n",
       "  <thead>\n",
       "    <tr style=\"text-align: right;\">\n",
       "      <th></th>\n",
       "      <th>DP02_0116E</th>\n",
       "      <th>DP02_0116PE</th>\n",
       "      <th>state</th>\n",
       "      <th>State_Name</th>\n",
       "      <th>State_Abbrev</th>\n",
       "    </tr>\n",
       "  </thead>\n",
       "  <tbody>\n",
       "    <tr>\n",
       "      <th>0</th>\n",
       "      <td>153429</td>\n",
       "      <td>5.4</td>\n",
       "      <td>05</td>\n",
       "      <td>Arkansas</td>\n",
       "      <td>AR</td>\n",
       "    </tr>\n",
       "    <tr>\n",
       "      <th>1</th>\n",
       "      <td>602058</td>\n",
       "      <td>8.5</td>\n",
       "      <td>53</td>\n",
       "      <td>Washington</td>\n",
       "      <td>WA</td>\n",
       "    </tr>\n",
       "    <tr>\n",
       "      <th>2</th>\n",
       "      <td>207181</td>\n",
       "      <td>7.6</td>\n",
       "      <td>20</td>\n",
       "      <td>Kansas</td>\n",
       "      <td>KS</td>\n",
       "    </tr>\n",
       "    <tr>\n",
       "      <th>3</th>\n",
       "      <td>269433</td>\n",
       "      <td>7.3</td>\n",
       "      <td>40</td>\n",
       "      <td>Oklahoma</td>\n",
       "      <td>OK</td>\n",
       "    </tr>\n",
       "    <tr>\n",
       "      <th>4</th>\n",
       "      <td>254258</td>\n",
       "      <td>4.6</td>\n",
       "      <td>55</td>\n",
       "      <td>Wisconsin</td>\n",
       "      <td>WI</td>\n",
       "    </tr>\n",
       "  </tbody>\n",
       "</table>\n",
       "</div>"
      ],
      "text/plain": [
       "  DP02_0116E DP02_0116PE state  State_Name State_Abbrev\n",
       "0     153429         5.4    05    Arkansas           AR\n",
       "1     602058         8.5    53  Washington           WA\n",
       "2     207181         7.6    20      Kansas           KS\n",
       "3     269433         7.3    40    Oklahoma           OK\n",
       "4     254258         4.6    55   Wisconsin           WI"
      ]
     },
     "execution_count": 18,
     "metadata": {},
     "output_type": "execute_result"
    }
   ],
   "source": [
    "df.drop(\"NAME\", axis='columns', inplace=True)\n",
    "\n",
    "print(\"Number of rows:\", df.shape[0])\n",
    "print(\"Number of columns:\", df.shape[1])\n",
    "df.head()"
   ]
  },
  {
   "attachments": {},
   "cell_type": "markdown",
   "id": "cffe9505",
   "metadata": {},
   "source": [
    "### 7.2. Renaming columns"
   ]
  },
  {
   "cell_type": "code",
   "execution_count": 19,
   "id": "bcbdd1e0",
   "metadata": {},
   "outputs": [
    {
     "name": "stdout",
     "output_type": "stream",
     "text": [
      "Number of rows: 50\n",
      "Number of columns: 5\n"
     ]
    },
    {
     "data": {
      "text/html": [
       "<div>\n",
       "<style scoped>\n",
       "    .dataframe tbody tr th:only-of-type {\n",
       "        vertical-align: middle;\n",
       "    }\n",
       "\n",
       "    .dataframe tbody tr th {\n",
       "        vertical-align: top;\n",
       "    }\n",
       "\n",
       "    .dataframe thead th {\n",
       "        text-align: right;\n",
       "    }\n",
       "</style>\n",
       "<table border=\"1\" class=\"dataframe\">\n",
       "  <thead>\n",
       "    <tr style=\"text-align: right;\">\n",
       "      <th></th>\n",
       "      <th>Language spoken at home (Spanish) (DP02_0116E)</th>\n",
       "      <th>Language spoken at home (Spanish) - Percent (DP02_0116PE)</th>\n",
       "      <th>FIPS_State</th>\n",
       "      <th>State_Name</th>\n",
       "      <th>State_Abbreviation</th>\n",
       "    </tr>\n",
       "  </thead>\n",
       "  <tbody>\n",
       "    <tr>\n",
       "      <th>0</th>\n",
       "      <td>153429</td>\n",
       "      <td>5.4</td>\n",
       "      <td>05</td>\n",
       "      <td>Arkansas</td>\n",
       "      <td>AR</td>\n",
       "    </tr>\n",
       "    <tr>\n",
       "      <th>1</th>\n",
       "      <td>602058</td>\n",
       "      <td>8.5</td>\n",
       "      <td>53</td>\n",
       "      <td>Washington</td>\n",
       "      <td>WA</td>\n",
       "    </tr>\n",
       "    <tr>\n",
       "      <th>2</th>\n",
       "      <td>207181</td>\n",
       "      <td>7.6</td>\n",
       "      <td>20</td>\n",
       "      <td>Kansas</td>\n",
       "      <td>KS</td>\n",
       "    </tr>\n",
       "    <tr>\n",
       "      <th>3</th>\n",
       "      <td>269433</td>\n",
       "      <td>7.3</td>\n",
       "      <td>40</td>\n",
       "      <td>Oklahoma</td>\n",
       "      <td>OK</td>\n",
       "    </tr>\n",
       "    <tr>\n",
       "      <th>4</th>\n",
       "      <td>254258</td>\n",
       "      <td>4.6</td>\n",
       "      <td>55</td>\n",
       "      <td>Wisconsin</td>\n",
       "      <td>WI</td>\n",
       "    </tr>\n",
       "  </tbody>\n",
       "</table>\n",
       "</div>"
      ],
      "text/plain": [
       "  Language spoken at home (Spanish) (DP02_0116E)  \\\n",
       "0                                         153429   \n",
       "1                                         602058   \n",
       "2                                         207181   \n",
       "3                                         269433   \n",
       "4                                         254258   \n",
       "\n",
       "  Language spoken at home (Spanish) - Percent (DP02_0116PE) FIPS_State  \\\n",
       "0                                                5.4                05   \n",
       "1                                                8.5                53   \n",
       "2                                                7.6                20   \n",
       "3                                                7.3                40   \n",
       "4                                                4.6                55   \n",
       "\n",
       "   State_Name State_Abbreviation  \n",
       "0    Arkansas                 AR  \n",
       "1  Washington                 WA  \n",
       "2      Kansas                 KS  \n",
       "3    Oklahoma                 OK  \n",
       "4   Wisconsin                 WI  "
      ]
     },
     "execution_count": 19,
     "metadata": {},
     "output_type": "execute_result"
    }
   ],
   "source": [
    "cols_to_rename = {\n",
    "                   'DP02_0116E' : 'Language spoken at home (Spanish) (DP02_0116E)', \n",
    "                   'DP02_0116PE' : 'Language spoken at home (Spanish) - Percent (DP02_0116PE)', \n",
    "                   'state' : 'FIPS_State', \n",
    "                   'State_Abbrev' : 'State_Abbreviation'\n",
    "                 }\n",
    "df.rename(columns = cols_to_rename, inplace=True)\n",
    "\n",
    "print(\"Number of rows:\", df.shape[0])\n",
    "print(\"Number of columns:\", df.shape[1])\n",
    "df.head()"
   ]
  },
  {
   "attachments": {},
   "cell_type": "markdown",
   "id": "2162acb6",
   "metadata": {},
   "source": [
    "### 7.3. Reordering columns"
   ]
  },
  {
   "cell_type": "code",
   "execution_count": 20,
   "id": "7b16f7c1",
   "metadata": {},
   "outputs": [
    {
     "name": "stdout",
     "output_type": "stream",
     "text": [
      "Number of rows: 50\n",
      "Number of columns: 5\n"
     ]
    },
    {
     "data": {
      "text/html": [
       "<div>\n",
       "<style scoped>\n",
       "    .dataframe tbody tr th:only-of-type {\n",
       "        vertical-align: middle;\n",
       "    }\n",
       "\n",
       "    .dataframe tbody tr th {\n",
       "        vertical-align: top;\n",
       "    }\n",
       "\n",
       "    .dataframe thead th {\n",
       "        text-align: right;\n",
       "    }\n",
       "</style>\n",
       "<table border=\"1\" class=\"dataframe\">\n",
       "  <thead>\n",
       "    <tr style=\"text-align: right;\">\n",
       "      <th></th>\n",
       "      <th>State_Name</th>\n",
       "      <th>State_Abbreviation</th>\n",
       "      <th>Language spoken at home (Spanish) (DP02_0116E)</th>\n",
       "      <th>Language spoken at home (Spanish) - Percent (DP02_0116PE)</th>\n",
       "      <th>FIPS_State</th>\n",
       "    </tr>\n",
       "  </thead>\n",
       "  <tbody>\n",
       "    <tr>\n",
       "      <th>0</th>\n",
       "      <td>Arkansas</td>\n",
       "      <td>AR</td>\n",
       "      <td>153429</td>\n",
       "      <td>5.4</td>\n",
       "      <td>05</td>\n",
       "    </tr>\n",
       "    <tr>\n",
       "      <th>1</th>\n",
       "      <td>Washington</td>\n",
       "      <td>WA</td>\n",
       "      <td>602058</td>\n",
       "      <td>8.5</td>\n",
       "      <td>53</td>\n",
       "    </tr>\n",
       "    <tr>\n",
       "      <th>2</th>\n",
       "      <td>Kansas</td>\n",
       "      <td>KS</td>\n",
       "      <td>207181</td>\n",
       "      <td>7.6</td>\n",
       "      <td>20</td>\n",
       "    </tr>\n",
       "    <tr>\n",
       "      <th>3</th>\n",
       "      <td>Oklahoma</td>\n",
       "      <td>OK</td>\n",
       "      <td>269433</td>\n",
       "      <td>7.3</td>\n",
       "      <td>40</td>\n",
       "    </tr>\n",
       "    <tr>\n",
       "      <th>4</th>\n",
       "      <td>Wisconsin</td>\n",
       "      <td>WI</td>\n",
       "      <td>254258</td>\n",
       "      <td>4.6</td>\n",
       "      <td>55</td>\n",
       "    </tr>\n",
       "  </tbody>\n",
       "</table>\n",
       "</div>"
      ],
      "text/plain": [
       "   State_Name State_Abbreviation  \\\n",
       "0    Arkansas                 AR   \n",
       "1  Washington                 WA   \n",
       "2      Kansas                 KS   \n",
       "3    Oklahoma                 OK   \n",
       "4   Wisconsin                 WI   \n",
       "\n",
       "  Language spoken at home (Spanish) (DP02_0116E)  \\\n",
       "0                                         153429   \n",
       "1                                         602058   \n",
       "2                                         207181   \n",
       "3                                         269433   \n",
       "4                                         254258   \n",
       "\n",
       "  Language spoken at home (Spanish) - Percent (DP02_0116PE) FIPS_State  \n",
       "0                                                5.4                05  \n",
       "1                                                8.5                53  \n",
       "2                                                7.6                20  \n",
       "3                                                7.3                40  \n",
       "4                                                4.6                55  "
      ]
     },
     "execution_count": 20,
     "metadata": {},
     "output_type": "execute_result"
    }
   ],
   "source": [
    "cols_to_keep = ['State_Name', 'State_Abbreviation', 'Language spoken at home (Spanish) (DP02_0116E)', 'Language spoken at home (Spanish) - Percent (DP02_0116PE)', 'FIPS_State']\n",
    "df = df[cols_to_keep]\n",
    "\n",
    "print(\"Number of rows:\", df.shape[0])\n",
    "print(\"Number of columns:\", df.shape[1])\n",
    "df.head()"
   ]
  },
  {
   "cell_type": "code",
   "execution_count": 21,
   "id": "851555d7",
   "metadata": {},
   "outputs": [
    {
     "name": "stdout",
     "output_type": "stream",
     "text": [
      "Data types: \n"
     ]
    },
    {
     "data": {
      "text/plain": [
       "State_Name                                                   object\n",
       "State_Abbreviation                                           object\n",
       "Language spoken at home (Spanish) (DP02_0116E)               object\n",
       "Language spoken at home (Spanish) - Percent (DP02_0116PE)    object\n",
       "FIPS_State                                                   object\n",
       "dtype: object"
      ]
     },
     "execution_count": 21,
     "metadata": {},
     "output_type": "execute_result"
    }
   ],
   "source": [
    "# Print data types\n",
    "print(\"Data types: \")\n",
    "df.dtypes"
   ]
  },
  {
   "attachments": {},
   "cell_type": "markdown",
   "id": "dc013c3d",
   "metadata": {},
   "source": [
    "## 8. Save the Dataframe as a CSV file"
   ]
  },
  {
   "cell_type": "code",
   "execution_count": 22,
   "id": "45fc1db7",
   "metadata": {},
   "outputs": [],
   "source": [
    "csv_file_to_create = \"States_Data.csv\"\n",
    "\n",
    "filename_with_path = \"Data/\" + csv_file_to_create\n",
    "df.to_csv(filename_with_path, index=False)"
   ]
  }
 ],
 "metadata": {
  "kernelspec": {
   "display_name": "Python 3",
   "language": "python",
   "name": "python3"
  },
  "language_info": {
   "codemirror_mode": {
    "name": "ipython",
    "version": 3
   },
   "file_extension": ".py",
   "mimetype": "text/x-python",
   "name": "python",
   "nbconvert_exporter": "python",
   "pygments_lexer": "ipython3",
   "version": "3.9.12"
  },
  "vscode": {
   "interpreter": {
    "hash": "0ccba871b46202fe891a5da8f1fa45061240964d317113191dbecc63a04b0fa2"
   }
  }
 },
 "nbformat": 4,
 "nbformat_minor": 5
}
