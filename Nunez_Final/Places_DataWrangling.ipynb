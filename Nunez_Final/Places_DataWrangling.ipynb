{
 "cells": [
  {
   "attachments": {},
   "cell_type": "markdown",
   "id": "469e933d-39d1-47db-a948-c8961b496dfc",
   "metadata": {},
   "source": [
    "# Final Project: Places Data Wrangling\n",
    "\n",
    "- **Vintage**:  2020\n",
    "- **Geography Level**: Places     \n",
    "- **Variables**:  https://api.census.gov/data/2020/acs/acs5/profile/variables.html \n",
    "- **Supported Geographies**: https://api.census.gov/data/2020/acs/acs5/profile/geography.html\n",
    "\n",
    "### ***Question***:  \n",
    "- What is the estimation and percent of population who speak Spanish at home for each place in California?  "
   ]
  },
  {
   "attachments": {},
   "cell_type": "markdown",
   "id": "2f3924b9",
   "metadata": {},
   "source": [
    "## 1. Import necessary packages"
   ]
  },
  {
   "cell_type": "code",
   "execution_count": 51,
   "id": "1f7ea856-0600-452b-b2ae-1572e6a679b4",
   "metadata": {},
   "outputs": [],
   "source": [
    "import pandas as pd\n",
    "import json\n",
    "import requests"
   ]
  },
  {
   "attachments": {},
   "cell_type": "markdown",
   "id": "484de62a-4773-4958-a08d-5c486e9b23bb",
   "metadata": {},
   "source": [
    "## 2. Build the API Request URL"
   ]
  },
  {
   "attachments": {},
   "cell_type": "markdown",
   "id": "4b14d038-60bb-4cc0-a6dd-94004f9bd803",
   "metadata": {},
   "source": [
    "### 2.1. Base URL"
   ]
  },
  {
   "cell_type": "code",
   "execution_count": 52,
   "id": "ca765e9e-fd1c-4ce0-97d1-bc41525131ee",
   "metadata": {},
   "outputs": [],
   "source": [
    "base_url = \"https://api.census.gov/data\""
   ]
  },
  {
   "attachments": {},
   "cell_type": "markdown",
   "id": "afebe9e0-98a7-432d-b211-73db3dfbafef",
   "metadata": {},
   "source": [
    "### 2.2. Dataset Name"
   ]
  },
  {
   "cell_type": "code",
   "execution_count": 53,
   "id": "38c9a86f-d581-43d5-8459-d205fa25a10b",
   "metadata": {},
   "outputs": [],
   "source": [
    "dataset_name = \"/2020/acs/acs5/profile\""
   ]
  },
  {
   "cell_type": "markdown",
   "id": "1d8ac627-cfa4-44de-8e69-6276ab0fd473",
   "metadata": {},
   "source": [
    "### 2.3. Get Variables\n",
    "\n",
    "- **DP02_0116E**: Estimate of population (5 years and over) who speaks Spanish at home\n",
    "- **DP02_0116PE**: Percent of population (5 years and over) who speaks Spanish at home"
   ]
  },
  {
   "cell_type": "code",
   "execution_count": 54,
   "id": "daf2c356-61db-4fac-9461-d1f763d91d15",
   "metadata": {},
   "outputs": [],
   "source": [
    "get_variables = \"?get=NAME,DP02_0116E,DP02_0116PE\""
   ]
  },
  {
   "attachments": {},
   "cell_type": "markdown",
   "id": "cdadd63b-d9d5-4912-b19a-f2ad7894cf39",
   "metadata": {},
   "source": [
    "### 2.4. Geography Levels \n",
    "\n",
    "- Every state in the US"
   ]
  },
  {
   "cell_type": "code",
   "execution_count": 55,
   "id": "2ecb8924-df52-49f4-8c71-07fa99e9201d",
   "metadata": {},
   "outputs": [],
   "source": [
    "geography = \"&for=place:*&in=state:06\""
   ]
  },
  {
   "attachments": {},
   "cell_type": "markdown",
   "id": "d9165204-24a1-43f4-8f3d-068aaf9920dc",
   "metadata": {},
   "source": [
    "### 2.5. Put it all together "
   ]
  },
  {
   "cell_type": "code",
   "execution_count": 56,
   "id": "3901e745-60dd-4938-90a1-c56d1b86892c",
   "metadata": {},
   "outputs": [
    {
     "name": "stdout",
     "output_type": "stream",
     "text": [
      "request_url =  https://api.census.gov/data/2020/acs/acs5/profile?get=NAME,DP02_0116E,DP02_0116PE&for=place:*&in=state:06\n"
     ]
    }
   ],
   "source": [
    "request_url = base_url + dataset_name + get_variables + geography\n",
    "print(\"request_url = \", request_url)"
   ]
  },
  {
   "attachments": {},
   "cell_type": "markdown",
   "id": "a3df3db3-7861-4302-83ed-5d7f27c781ed",
   "metadata": {},
   "source": [
    "## 3. Make the API call"
   ]
  },
  {
   "cell_type": "code",
   "execution_count": 57,
   "id": "9903734f-1da9-47a6-9563-1d7bc7cfc6ab",
   "metadata": {},
   "outputs": [],
   "source": [
    "# Make API Call\n",
    "r = requests.get(request_url)\n",
    "\n",
    "api_results = r.json()"
   ]
  },
  {
   "cell_type": "code",
   "execution_count": 58,
   "id": "6ff76336-4831-451b-a4d7-c8674e90a8e1",
   "metadata": {},
   "outputs": [
    {
     "data": {
      "text/plain": [
       "list"
      ]
     },
     "execution_count": 58,
     "metadata": {},
     "output_type": "execute_result"
    }
   ],
   "source": [
    "type(api_results)"
   ]
  },
  {
   "attachments": {},
   "cell_type": "markdown",
   "id": "f98cddaf-65c6-4b0c-bb5b-ce812e770f4a",
   "metadata": {},
   "source": [
    "## 4. Get the data into a Dataframe "
   ]
  },
  {
   "cell_type": "code",
   "execution_count": 59,
   "id": "7db78496-f09e-4308-9818-6668c3105b77",
   "metadata": {},
   "outputs": [
    {
     "name": "stdout",
     "output_type": "stream",
     "text": [
      "Number of rows: 1612\n",
      "Number of columns: 5\n"
     ]
    },
    {
     "data": {
      "text/html": [
       "<div>\n",
       "<style scoped>\n",
       "    .dataframe tbody tr th:only-of-type {\n",
       "        vertical-align: middle;\n",
       "    }\n",
       "\n",
       "    .dataframe tbody tr th {\n",
       "        vertical-align: top;\n",
       "    }\n",
       "\n",
       "    .dataframe thead th {\n",
       "        text-align: right;\n",
       "    }\n",
       "</style>\n",
       "<table border=\"1\" class=\"dataframe\">\n",
       "  <thead>\n",
       "    <tr style=\"text-align: right;\">\n",
       "      <th></th>\n",
       "      <th>0</th>\n",
       "      <th>1</th>\n",
       "      <th>2</th>\n",
       "      <th>3</th>\n",
       "      <th>4</th>\n",
       "    </tr>\n",
       "  </thead>\n",
       "  <tbody>\n",
       "    <tr>\n",
       "      <th>0</th>\n",
       "      <td>NAME</td>\n",
       "      <td>DP02_0116E</td>\n",
       "      <td>DP02_0116PE</td>\n",
       "      <td>state</td>\n",
       "      <td>place</td>\n",
       "    </tr>\n",
       "    <tr>\n",
       "      <th>1</th>\n",
       "      <td>Home Garden CDP, California</td>\n",
       "      <td>913</td>\n",
       "      <td>64.3</td>\n",
       "      <td>06</td>\n",
       "      <td>34281</td>\n",
       "    </tr>\n",
       "    <tr>\n",
       "      <th>2</th>\n",
       "      <td>Home Gardens CDP, California</td>\n",
       "      <td>6587</td>\n",
       "      <td>58.5</td>\n",
       "      <td>06</td>\n",
       "      <td>34302</td>\n",
       "    </tr>\n",
       "    <tr>\n",
       "      <th>3</th>\n",
       "      <td>Homeland CDP, California</td>\n",
       "      <td>3226</td>\n",
       "      <td>45.3</td>\n",
       "      <td>06</td>\n",
       "      <td>34316</td>\n",
       "    </tr>\n",
       "    <tr>\n",
       "      <th>4</th>\n",
       "      <td>Homestead Valley CDP, California</td>\n",
       "      <td>182</td>\n",
       "      <td>7.1</td>\n",
       "      <td>06</td>\n",
       "      <td>34392</td>\n",
       "    </tr>\n",
       "  </tbody>\n",
       "</table>\n",
       "</div>"
      ],
      "text/plain": [
       "                                  0           1            2      3      4\n",
       "0                              NAME  DP02_0116E  DP02_0116PE  state  place\n",
       "1       Home Garden CDP, California         913         64.3     06  34281\n",
       "2      Home Gardens CDP, California        6587         58.5     06  34302\n",
       "3          Homeland CDP, California        3226         45.3     06  34316\n",
       "4  Homestead Valley CDP, California         182          7.1     06  34392"
      ]
     },
     "execution_count": 59,
     "metadata": {},
     "output_type": "execute_result"
    }
   ],
   "source": [
    "data = pd.DataFrame(api_results)\n",
    "\n",
    "print(\"Number of rows:\", data.shape[0])\n",
    "print(\"Number of columns:\", data.shape[1])\n",
    "data.head()"
   ]
  },
  {
   "attachments": {},
   "cell_type": "markdown",
   "id": "d6c648fb-8264-407c-8041-b3afeda10fe8",
   "metadata": {},
   "source": [
    "## 5. Get the first row into columns and then get rid of it"
   ]
  },
  {
   "cell_type": "code",
   "execution_count": 60,
   "id": "da717937-b9df-4443-a18e-8c3fe66e7381",
   "metadata": {},
   "outputs": [
    {
     "name": "stdout",
     "output_type": "stream",
     "text": [
      "Number of rows: 1611\n",
      "Number of columns: 5\n"
     ]
    },
    {
     "data": {
      "text/html": [
       "<div>\n",
       "<style scoped>\n",
       "    .dataframe tbody tr th:only-of-type {\n",
       "        vertical-align: middle;\n",
       "    }\n",
       "\n",
       "    .dataframe tbody tr th {\n",
       "        vertical-align: top;\n",
       "    }\n",
       "\n",
       "    .dataframe thead th {\n",
       "        text-align: right;\n",
       "    }\n",
       "</style>\n",
       "<table border=\"1\" class=\"dataframe\">\n",
       "  <thead>\n",
       "    <tr style=\"text-align: right;\">\n",
       "      <th></th>\n",
       "      <th>NAME</th>\n",
       "      <th>DP02_0116E</th>\n",
       "      <th>DP02_0116PE</th>\n",
       "      <th>state</th>\n",
       "      <th>place</th>\n",
       "    </tr>\n",
       "  </thead>\n",
       "  <tbody>\n",
       "    <tr>\n",
       "      <th>1</th>\n",
       "      <td>Home Garden CDP, California</td>\n",
       "      <td>913</td>\n",
       "      <td>64.3</td>\n",
       "      <td>06</td>\n",
       "      <td>34281</td>\n",
       "    </tr>\n",
       "    <tr>\n",
       "      <th>2</th>\n",
       "      <td>Home Gardens CDP, California</td>\n",
       "      <td>6587</td>\n",
       "      <td>58.5</td>\n",
       "      <td>06</td>\n",
       "      <td>34302</td>\n",
       "    </tr>\n",
       "    <tr>\n",
       "      <th>3</th>\n",
       "      <td>Homeland CDP, California</td>\n",
       "      <td>3226</td>\n",
       "      <td>45.3</td>\n",
       "      <td>06</td>\n",
       "      <td>34316</td>\n",
       "    </tr>\n",
       "    <tr>\n",
       "      <th>4</th>\n",
       "      <td>Homestead Valley CDP, California</td>\n",
       "      <td>182</td>\n",
       "      <td>7.1</td>\n",
       "      <td>06</td>\n",
       "      <td>34392</td>\n",
       "    </tr>\n",
       "    <tr>\n",
       "      <th>5</th>\n",
       "      <td>Homewood Canyon CDP, California</td>\n",
       "      <td>31</td>\n",
       "      <td>12.9</td>\n",
       "      <td>06</td>\n",
       "      <td>34405</td>\n",
       "    </tr>\n",
       "  </tbody>\n",
       "</table>\n",
       "</div>"
      ],
      "text/plain": [
       "0                              NAME DP02_0116E DP02_0116PE state  place\n",
       "1       Home Garden CDP, California        913        64.3    06  34281\n",
       "2      Home Gardens CDP, California       6587        58.5    06  34302\n",
       "3          Homeland CDP, California       3226        45.3    06  34316\n",
       "4  Homestead Valley CDP, California        182         7.1    06  34392\n",
       "5   Homewood Canyon CDP, California         31        12.9    06  34405"
      ]
     },
     "execution_count": 60,
     "metadata": {},
     "output_type": "execute_result"
    }
   ],
   "source": [
    "data.columns = data.iloc[0]\n",
    "\n",
    "data = data.iloc[1:]\n",
    "\n",
    "print(\"Number of rows:\", data.shape[0])\n",
    "print(\"Number of columns:\", data.shape[1])\n",
    "data.head()"
   ]
  },
  {
   "attachments": {},
   "cell_type": "markdown",
   "id": "b733e888",
   "metadata": {},
   "source": [
    "## 6. Cleaning Data"
   ]
  },
  {
   "attachments": {},
   "cell_type": "markdown",
   "id": "8cbc6a92",
   "metadata": {},
   "source": [
    "### 6.1. Splitting column to get some information"
   ]
  },
  {
   "cell_type": "code",
   "execution_count": 61,
   "id": "4bd7639b",
   "metadata": {},
   "outputs": [
    {
     "name": "stdout",
     "output_type": "stream",
     "text": [
      "Number of rows: 1611\n",
      "Number of columns: 7\n"
     ]
    },
    {
     "data": {
      "text/html": [
       "<div>\n",
       "<style scoped>\n",
       "    .dataframe tbody tr th:only-of-type {\n",
       "        vertical-align: middle;\n",
       "    }\n",
       "\n",
       "    .dataframe tbody tr th {\n",
       "        vertical-align: top;\n",
       "    }\n",
       "\n",
       "    .dataframe thead th {\n",
       "        text-align: right;\n",
       "    }\n",
       "</style>\n",
       "<table border=\"1\" class=\"dataframe\">\n",
       "  <thead>\n",
       "    <tr style=\"text-align: right;\">\n",
       "      <th></th>\n",
       "      <th>NAME</th>\n",
       "      <th>DP02_0116E</th>\n",
       "      <th>DP02_0116PE</th>\n",
       "      <th>state</th>\n",
       "      <th>place</th>\n",
       "      <th>Place_Name</th>\n",
       "      <th>State_Name</th>\n",
       "    </tr>\n",
       "  </thead>\n",
       "  <tbody>\n",
       "    <tr>\n",
       "      <th>1</th>\n",
       "      <td>Home Garden CDP, California</td>\n",
       "      <td>913</td>\n",
       "      <td>64.3</td>\n",
       "      <td>06</td>\n",
       "      <td>34281</td>\n",
       "      <td>Home Garden CDP</td>\n",
       "      <td>California</td>\n",
       "    </tr>\n",
       "    <tr>\n",
       "      <th>2</th>\n",
       "      <td>Home Gardens CDP, California</td>\n",
       "      <td>6587</td>\n",
       "      <td>58.5</td>\n",
       "      <td>06</td>\n",
       "      <td>34302</td>\n",
       "      <td>Home Gardens CDP</td>\n",
       "      <td>California</td>\n",
       "    </tr>\n",
       "    <tr>\n",
       "      <th>3</th>\n",
       "      <td>Homeland CDP, California</td>\n",
       "      <td>3226</td>\n",
       "      <td>45.3</td>\n",
       "      <td>06</td>\n",
       "      <td>34316</td>\n",
       "      <td>Homeland CDP</td>\n",
       "      <td>California</td>\n",
       "    </tr>\n",
       "    <tr>\n",
       "      <th>4</th>\n",
       "      <td>Homestead Valley CDP, California</td>\n",
       "      <td>182</td>\n",
       "      <td>7.1</td>\n",
       "      <td>06</td>\n",
       "      <td>34392</td>\n",
       "      <td>Homestead Valley CDP</td>\n",
       "      <td>California</td>\n",
       "    </tr>\n",
       "    <tr>\n",
       "      <th>5</th>\n",
       "      <td>Homewood Canyon CDP, California</td>\n",
       "      <td>31</td>\n",
       "      <td>12.9</td>\n",
       "      <td>06</td>\n",
       "      <td>34405</td>\n",
       "      <td>Homewood Canyon CDP</td>\n",
       "      <td>California</td>\n",
       "    </tr>\n",
       "  </tbody>\n",
       "</table>\n",
       "</div>"
      ],
      "text/plain": [
       "0                              NAME DP02_0116E DP02_0116PE state  place  \\\n",
       "1       Home Garden CDP, California        913        64.3    06  34281   \n",
       "2      Home Gardens CDP, California       6587        58.5    06  34302   \n",
       "3          Homeland CDP, California       3226        45.3    06  34316   \n",
       "4  Homestead Valley CDP, California        182         7.1    06  34392   \n",
       "5   Homewood Canyon CDP, California         31        12.9    06  34405   \n",
       "\n",
       "0            Place_Name  State_Name  \n",
       "1       Home Garden CDP  California  \n",
       "2      Home Gardens CDP  California  \n",
       "3          Homeland CDP  California  \n",
       "4  Homestead Valley CDP  California  \n",
       "5   Homewood Canyon CDP  California  "
      ]
     },
     "execution_count": 61,
     "metadata": {},
     "output_type": "execute_result"
    }
   ],
   "source": [
    "two_new_cols = ['Place_Name', 'State_Name']\n",
    "\n",
    "data[two_new_cols] = data['NAME'].str.split(', ',1, expand=True)\n",
    "\n",
    "print(\"Number of rows:\", data.shape[0])\n",
    "print(\"Number of columns:\", data.shape[1])\n",
    "data.head()"
   ]
  },
  {
   "attachments": {},
   "cell_type": "markdown",
   "id": "1a08fc46",
   "metadata": {},
   "source": [
    "### 6.2. Dropping repeated column"
   ]
  },
  {
   "cell_type": "code",
   "execution_count": 62,
   "id": "db81b1ad",
   "metadata": {},
   "outputs": [
    {
     "name": "stdout",
     "output_type": "stream",
     "text": [
      "Number of rows: 1611\n",
      "Number of columns: 6\n"
     ]
    },
    {
     "data": {
      "text/html": [
       "<div>\n",
       "<style scoped>\n",
       "    .dataframe tbody tr th:only-of-type {\n",
       "        vertical-align: middle;\n",
       "    }\n",
       "\n",
       "    .dataframe tbody tr th {\n",
       "        vertical-align: top;\n",
       "    }\n",
       "\n",
       "    .dataframe thead th {\n",
       "        text-align: right;\n",
       "    }\n",
       "</style>\n",
       "<table border=\"1\" class=\"dataframe\">\n",
       "  <thead>\n",
       "    <tr style=\"text-align: right;\">\n",
       "      <th></th>\n",
       "      <th>DP02_0116E</th>\n",
       "      <th>DP02_0116PE</th>\n",
       "      <th>state</th>\n",
       "      <th>place</th>\n",
       "      <th>Place_Name</th>\n",
       "      <th>State_Name</th>\n",
       "    </tr>\n",
       "  </thead>\n",
       "  <tbody>\n",
       "    <tr>\n",
       "      <th>1</th>\n",
       "      <td>913</td>\n",
       "      <td>64.3</td>\n",
       "      <td>06</td>\n",
       "      <td>34281</td>\n",
       "      <td>Home Garden CDP</td>\n",
       "      <td>California</td>\n",
       "    </tr>\n",
       "    <tr>\n",
       "      <th>2</th>\n",
       "      <td>6587</td>\n",
       "      <td>58.5</td>\n",
       "      <td>06</td>\n",
       "      <td>34302</td>\n",
       "      <td>Home Gardens CDP</td>\n",
       "      <td>California</td>\n",
       "    </tr>\n",
       "    <tr>\n",
       "      <th>3</th>\n",
       "      <td>3226</td>\n",
       "      <td>45.3</td>\n",
       "      <td>06</td>\n",
       "      <td>34316</td>\n",
       "      <td>Homeland CDP</td>\n",
       "      <td>California</td>\n",
       "    </tr>\n",
       "    <tr>\n",
       "      <th>4</th>\n",
       "      <td>182</td>\n",
       "      <td>7.1</td>\n",
       "      <td>06</td>\n",
       "      <td>34392</td>\n",
       "      <td>Homestead Valley CDP</td>\n",
       "      <td>California</td>\n",
       "    </tr>\n",
       "    <tr>\n",
       "      <th>5</th>\n",
       "      <td>31</td>\n",
       "      <td>12.9</td>\n",
       "      <td>06</td>\n",
       "      <td>34405</td>\n",
       "      <td>Homewood Canyon CDP</td>\n",
       "      <td>California</td>\n",
       "    </tr>\n",
       "  </tbody>\n",
       "</table>\n",
       "</div>"
      ],
      "text/plain": [
       "0 DP02_0116E DP02_0116PE state  place            Place_Name  State_Name\n",
       "1        913        64.3    06  34281       Home Garden CDP  California\n",
       "2       6587        58.5    06  34302      Home Gardens CDP  California\n",
       "3       3226        45.3    06  34316          Homeland CDP  California\n",
       "4        182         7.1    06  34392  Homestead Valley CDP  California\n",
       "5         31        12.9    06  34405   Homewood Canyon CDP  California"
      ]
     },
     "execution_count": 62,
     "metadata": {},
     "output_type": "execute_result"
    }
   ],
   "source": [
    "data.drop(\"NAME\", axis='columns', inplace=True)\n",
    "\n",
    "print(\"Number of rows:\", data.shape[0])\n",
    "print(\"Number of columns:\", data.shape[1])\n",
    "data.head()"
   ]
  },
  {
   "attachments": {},
   "cell_type": "markdown",
   "id": "cffe9505",
   "metadata": {},
   "source": [
    "### 6.3. Renaming columns"
   ]
  },
  {
   "cell_type": "code",
   "execution_count": 63,
   "id": "bcbdd1e0",
   "metadata": {},
   "outputs": [
    {
     "name": "stdout",
     "output_type": "stream",
     "text": [
      "Number of rows: 1611\n",
      "Number of columns: 6\n"
     ]
    },
    {
     "data": {
      "text/html": [
       "<div>\n",
       "<style scoped>\n",
       "    .dataframe tbody tr th:only-of-type {\n",
       "        vertical-align: middle;\n",
       "    }\n",
       "\n",
       "    .dataframe tbody tr th {\n",
       "        vertical-align: top;\n",
       "    }\n",
       "\n",
       "    .dataframe thead th {\n",
       "        text-align: right;\n",
       "    }\n",
       "</style>\n",
       "<table border=\"1\" class=\"dataframe\">\n",
       "  <thead>\n",
       "    <tr style=\"text-align: right;\">\n",
       "      <th></th>\n",
       "      <th>Language spoken at home (Spanish) (DP02_0116E)</th>\n",
       "      <th>Language spoken at home (Spanish) - Percent (DP02_0116PE)</th>\n",
       "      <th>FIPS_State</th>\n",
       "      <th>FIPS_Place</th>\n",
       "      <th>Place_Name</th>\n",
       "      <th>State_Name</th>\n",
       "    </tr>\n",
       "  </thead>\n",
       "  <tbody>\n",
       "    <tr>\n",
       "      <th>1</th>\n",
       "      <td>913</td>\n",
       "      <td>64.3</td>\n",
       "      <td>06</td>\n",
       "      <td>34281</td>\n",
       "      <td>Home Garden CDP</td>\n",
       "      <td>California</td>\n",
       "    </tr>\n",
       "    <tr>\n",
       "      <th>2</th>\n",
       "      <td>6587</td>\n",
       "      <td>58.5</td>\n",
       "      <td>06</td>\n",
       "      <td>34302</td>\n",
       "      <td>Home Gardens CDP</td>\n",
       "      <td>California</td>\n",
       "    </tr>\n",
       "    <tr>\n",
       "      <th>3</th>\n",
       "      <td>3226</td>\n",
       "      <td>45.3</td>\n",
       "      <td>06</td>\n",
       "      <td>34316</td>\n",
       "      <td>Homeland CDP</td>\n",
       "      <td>California</td>\n",
       "    </tr>\n",
       "    <tr>\n",
       "      <th>4</th>\n",
       "      <td>182</td>\n",
       "      <td>7.1</td>\n",
       "      <td>06</td>\n",
       "      <td>34392</td>\n",
       "      <td>Homestead Valley CDP</td>\n",
       "      <td>California</td>\n",
       "    </tr>\n",
       "    <tr>\n",
       "      <th>5</th>\n",
       "      <td>31</td>\n",
       "      <td>12.9</td>\n",
       "      <td>06</td>\n",
       "      <td>34405</td>\n",
       "      <td>Homewood Canyon CDP</td>\n",
       "      <td>California</td>\n",
       "    </tr>\n",
       "  </tbody>\n",
       "</table>\n",
       "</div>"
      ],
      "text/plain": [
       "0 Language spoken at home (Spanish) (DP02_0116E)  \\\n",
       "1                                            913   \n",
       "2                                           6587   \n",
       "3                                           3226   \n",
       "4                                            182   \n",
       "5                                             31   \n",
       "\n",
       "0 Language spoken at home (Spanish) - Percent (DP02_0116PE) FIPS_State  \\\n",
       "1                                               64.3                06   \n",
       "2                                               58.5                06   \n",
       "3                                               45.3                06   \n",
       "4                                                7.1                06   \n",
       "5                                               12.9                06   \n",
       "\n",
       "0 FIPS_Place            Place_Name  State_Name  \n",
       "1      34281       Home Garden CDP  California  \n",
       "2      34302      Home Gardens CDP  California  \n",
       "3      34316          Homeland CDP  California  \n",
       "4      34392  Homestead Valley CDP  California  \n",
       "5      34405   Homewood Canyon CDP  California  "
      ]
     },
     "execution_count": 63,
     "metadata": {},
     "output_type": "execute_result"
    }
   ],
   "source": [
    "cols_to_rename = {\n",
    "                   'DP02_0116E' : 'Language spoken at home (Spanish) (DP02_0116E)', \n",
    "                   'DP02_0116PE' : 'Language spoken at home (Spanish) - Percent (DP02_0116PE)', \n",
    "                   'state' : 'FIPS_State', \n",
    "                   'place' : 'FIPS_Place'\n",
    "                 }\n",
    "data.rename(columns = cols_to_rename, inplace=True)\n",
    "\n",
    "print(\"Number of rows:\", data.shape[0])\n",
    "print(\"Number of columns:\", data.shape[1])\n",
    "data.head()"
   ]
  },
  {
   "attachments": {},
   "cell_type": "markdown",
   "id": "2162acb6",
   "metadata": {},
   "source": [
    "### 6.4. Reordering columns"
   ]
  },
  {
   "cell_type": "code",
   "execution_count": 64,
   "id": "7b16f7c1",
   "metadata": {},
   "outputs": [
    {
     "name": "stdout",
     "output_type": "stream",
     "text": [
      "Number of rows: 1611\n",
      "Number of columns: 6\n"
     ]
    },
    {
     "data": {
      "text/html": [
       "<div>\n",
       "<style scoped>\n",
       "    .dataframe tbody tr th:only-of-type {\n",
       "        vertical-align: middle;\n",
       "    }\n",
       "\n",
       "    .dataframe tbody tr th {\n",
       "        vertical-align: top;\n",
       "    }\n",
       "\n",
       "    .dataframe thead th {\n",
       "        text-align: right;\n",
       "    }\n",
       "</style>\n",
       "<table border=\"1\" class=\"dataframe\">\n",
       "  <thead>\n",
       "    <tr style=\"text-align: right;\">\n",
       "      <th></th>\n",
       "      <th>Place_Name</th>\n",
       "      <th>State_Name</th>\n",
       "      <th>Language spoken at home (Spanish) (DP02_0116E)</th>\n",
       "      <th>Language spoken at home (Spanish) - Percent (DP02_0116PE)</th>\n",
       "      <th>FIPS_Place</th>\n",
       "      <th>FIPS_State</th>\n",
       "    </tr>\n",
       "  </thead>\n",
       "  <tbody>\n",
       "    <tr>\n",
       "      <th>1</th>\n",
       "      <td>Home Garden CDP</td>\n",
       "      <td>California</td>\n",
       "      <td>913</td>\n",
       "      <td>64.3</td>\n",
       "      <td>34281</td>\n",
       "      <td>06</td>\n",
       "    </tr>\n",
       "    <tr>\n",
       "      <th>2</th>\n",
       "      <td>Home Gardens CDP</td>\n",
       "      <td>California</td>\n",
       "      <td>6587</td>\n",
       "      <td>58.5</td>\n",
       "      <td>34302</td>\n",
       "      <td>06</td>\n",
       "    </tr>\n",
       "    <tr>\n",
       "      <th>3</th>\n",
       "      <td>Homeland CDP</td>\n",
       "      <td>California</td>\n",
       "      <td>3226</td>\n",
       "      <td>45.3</td>\n",
       "      <td>34316</td>\n",
       "      <td>06</td>\n",
       "    </tr>\n",
       "    <tr>\n",
       "      <th>4</th>\n",
       "      <td>Homestead Valley CDP</td>\n",
       "      <td>California</td>\n",
       "      <td>182</td>\n",
       "      <td>7.1</td>\n",
       "      <td>34392</td>\n",
       "      <td>06</td>\n",
       "    </tr>\n",
       "    <tr>\n",
       "      <th>5</th>\n",
       "      <td>Homewood Canyon CDP</td>\n",
       "      <td>California</td>\n",
       "      <td>31</td>\n",
       "      <td>12.9</td>\n",
       "      <td>34405</td>\n",
       "      <td>06</td>\n",
       "    </tr>\n",
       "  </tbody>\n",
       "</table>\n",
       "</div>"
      ],
      "text/plain": [
       "0            Place_Name  State_Name  \\\n",
       "1       Home Garden CDP  California   \n",
       "2      Home Gardens CDP  California   \n",
       "3          Homeland CDP  California   \n",
       "4  Homestead Valley CDP  California   \n",
       "5   Homewood Canyon CDP  California   \n",
       "\n",
       "0 Language spoken at home (Spanish) (DP02_0116E)  \\\n",
       "1                                            913   \n",
       "2                                           6587   \n",
       "3                                           3226   \n",
       "4                                            182   \n",
       "5                                             31   \n",
       "\n",
       "0 Language spoken at home (Spanish) - Percent (DP02_0116PE) FIPS_Place  \\\n",
       "1                                               64.3             34281   \n",
       "2                                               58.5             34302   \n",
       "3                                               45.3             34316   \n",
       "4                                                7.1             34392   \n",
       "5                                               12.9             34405   \n",
       "\n",
       "0 FIPS_State  \n",
       "1         06  \n",
       "2         06  \n",
       "3         06  \n",
       "4         06  \n",
       "5         06  "
      ]
     },
     "execution_count": 64,
     "metadata": {},
     "output_type": "execute_result"
    }
   ],
   "source": [
    "cols_to_keep = ['Place_Name', 'State_Name', 'Language spoken at home (Spanish) (DP02_0116E)', 'Language spoken at home (Spanish) - Percent (DP02_0116PE)', 'FIPS_Place', 'FIPS_State']\n",
    "df = data[cols_to_keep]\n",
    "\n",
    "print(\"Number of rows:\", df.shape[0])\n",
    "print(\"Number of columns:\", df.shape[1])\n",
    "df.head()"
   ]
  },
  {
   "attachments": {},
   "cell_type": "markdown",
   "id": "dc013c3d",
   "metadata": {},
   "source": [
    "## 7. Save the Dataframe as a CSV file"
   ]
  },
  {
   "cell_type": "code",
   "execution_count": 65,
   "id": "45fc1db7",
   "metadata": {},
   "outputs": [],
   "source": [
    "csv_file_to_create = \"Places_Data.csv\"\n",
    "\n",
    "filename_with_path = \"Data/\" + csv_file_to_create\n",
    "df.to_csv(filename_with_path, index=False)"
   ]
  }
 ],
 "metadata": {
  "kernelspec": {
   "display_name": "Python 3",
   "language": "python",
   "name": "python3"
  },
  "language_info": {
   "codemirror_mode": {
    "name": "ipython",
    "version": 3
   },
   "file_extension": ".py",
   "mimetype": "text/x-python",
   "name": "python",
   "nbconvert_exporter": "python",
   "pygments_lexer": "ipython3",
   "version": "3.9.12"
  },
  "vscode": {
   "interpreter": {
    "hash": "0ccba871b46202fe891a5da8f1fa45061240964d317113191dbecc63a04b0fa2"
   }
  }
 },
 "nbformat": 4,
 "nbformat_minor": 5
}
