{
 "cells": [
  {
   "attachments": {},
   "cell_type": "markdown",
   "id": "469e933d-39d1-47db-a948-c8961b496dfc",
   "metadata": {},
   "source": [
    "# Final Project: 2021 Data Wrangling\n",
    "\n",
    "- **Vintage**:  2020 and 2021 (differences)\n",
    "- **Geography Level**: State     \n",
    "- **Variables**:  https://api.census.gov/data/2020/acs/acs5/profile/variables.html \n",
    "- **Supported Geographies**: https://api.census.gov/data/2020/acs/acs5/profile/geography.html\n",
    "\n",
    "### ***Question***:  \n",
    "- What is the estimation and percent of population who speak Spanish at home for each US state?  "
   ]
  },
  {
   "attachments": {},
   "cell_type": "markdown",
   "id": "2f3924b9",
   "metadata": {},
   "source": [
    "## 1. Import necessary packages"
   ]
  },
  {
   "cell_type": "code",
   "execution_count": 94,
   "id": "1f7ea856-0600-452b-b2ae-1572e6a679b4",
   "metadata": {},
   "outputs": [],
   "source": [
    "import pandas as pd\n",
    "import json\n",
    "import requests"
   ]
  },
  {
   "attachments": {},
   "cell_type": "markdown",
   "id": "484de62a-4773-4958-a08d-5c486e9b23bb",
   "metadata": {},
   "source": [
    "## 2. Build the API Request URL"
   ]
  },
  {
   "attachments": {},
   "cell_type": "markdown",
   "id": "ba97c957",
   "metadata": {},
   "source": [
    "### 2.1. For vintage 2020"
   ]
  },
  {
   "attachments": {},
   "cell_type": "markdown",
   "id": "4b14d038-60bb-4cc0-a6dd-94004f9bd803",
   "metadata": {},
   "source": [
    "- Base URL"
   ]
  },
  {
   "cell_type": "code",
   "execution_count": 95,
   "id": "ca765e9e-fd1c-4ce0-97d1-bc41525131ee",
   "metadata": {},
   "outputs": [],
   "source": [
    "base_url_2020 = \"https://api.census.gov/data\""
   ]
  },
  {
   "attachments": {},
   "cell_type": "markdown",
   "id": "afebe9e0-98a7-432d-b211-73db3dfbafef",
   "metadata": {},
   "source": [
    "- Dataset Name"
   ]
  },
  {
   "cell_type": "code",
   "execution_count": 96,
   "id": "38c9a86f-d581-43d5-8459-d205fa25a10b",
   "metadata": {},
   "outputs": [],
   "source": [
    "dataset_name_2020 = \"/2020/acs/acs5/profile\""
   ]
  },
  {
   "attachments": {},
   "cell_type": "markdown",
   "id": "1d8ac627-cfa4-44de-8e69-6276ab0fd473",
   "metadata": {},
   "source": [
    "- Get Variables\n",
    "\n",
    "    - **DP02_0116E**: Estimate of population (5 years and over) who speaks Spanish at home\n",
    "    - **DP02_0116PE**: Percent of population (5 years and over) who speaks Spanish at home"
   ]
  },
  {
   "cell_type": "code",
   "execution_count": 97,
   "id": "daf2c356-61db-4fac-9461-d1f763d91d15",
   "metadata": {},
   "outputs": [],
   "source": [
    "get_variables_2020 = \"?get=NAME,DP02_0116E,DP02_0116PE\""
   ]
  },
  {
   "attachments": {},
   "cell_type": "markdown",
   "id": "cdadd63b-d9d5-4912-b19a-f2ad7894cf39",
   "metadata": {},
   "source": [
    "- Geography Levels:\n",
    "\n",
    "    - Every state in the US"
   ]
  },
  {
   "cell_type": "code",
   "execution_count": 98,
   "id": "2ecb8924-df52-49f4-8c71-07fa99e9201d",
   "metadata": {},
   "outputs": [],
   "source": [
    "geography_2020 = \"&for=state:*\""
   ]
  },
  {
   "attachments": {},
   "cell_type": "markdown",
   "id": "d9165204-24a1-43f4-8f3d-068aaf9920dc",
   "metadata": {},
   "source": [
    "- Put it all together "
   ]
  },
  {
   "cell_type": "code",
   "execution_count": 99,
   "id": "3901e745-60dd-4938-90a1-c56d1b86892c",
   "metadata": {},
   "outputs": [
    {
     "name": "stdout",
     "output_type": "stream",
     "text": [
      "request_url_2020 =  https://api.census.gov/data/2020/acs/acs5/profile?get=NAME,DP02_0116E,DP02_0116PE&for=state:*\n"
     ]
    }
   ],
   "source": [
    "request_url_2020 = base_url_2020 + dataset_name_2020 + get_variables_2020 + geography_2020\n",
    "print(\"request_url_2020 = \", request_url_2020)"
   ]
  },
  {
   "attachments": {},
   "cell_type": "markdown",
   "id": "91e51850",
   "metadata": {},
   "source": [
    "### 2.2. For vintage 2021"
   ]
  },
  {
   "attachments": {},
   "cell_type": "markdown",
   "id": "6dbaae33",
   "metadata": {},
   "source": [
    "- Base URL"
   ]
  },
  {
   "cell_type": "code",
   "execution_count": 100,
   "id": "4b039eaa",
   "metadata": {},
   "outputs": [],
   "source": [
    "base_url_2021 = \"https://api.census.gov/data\""
   ]
  },
  {
   "attachments": {},
   "cell_type": "markdown",
   "id": "127de127",
   "metadata": {},
   "source": [
    "- Dataset Name"
   ]
  },
  {
   "cell_type": "code",
   "execution_count": 101,
   "id": "5c96c272",
   "metadata": {},
   "outputs": [],
   "source": [
    "dataset_name_2021 = \"/2021/acs/acs5/profile\""
   ]
  },
  {
   "attachments": {},
   "cell_type": "markdown",
   "id": "1b3ed802",
   "metadata": {},
   "source": [
    "- Get Variables\n",
    "\n",
    "    - **DP02_0116E**: Estimate of population (5 years and over) who speaks Spanish at home\n",
    "    - **DP02_0116PE**: Percent of population (5 years and over) who speaks Spanish at home"
   ]
  },
  {
   "cell_type": "code",
   "execution_count": 102,
   "id": "9d591939",
   "metadata": {},
   "outputs": [],
   "source": [
    "get_variables_2021 = \"?get=NAME,DP02_0116E,DP02_0116PE\""
   ]
  },
  {
   "attachments": {},
   "cell_type": "markdown",
   "id": "0a017bbb",
   "metadata": {},
   "source": [
    "- Geography Levels:\n",
    "\n",
    "    - Every state in the US"
   ]
  },
  {
   "cell_type": "code",
   "execution_count": 103,
   "id": "a53887b9",
   "metadata": {},
   "outputs": [],
   "source": [
    "geography_2021 = \"&for=state:*\""
   ]
  },
  {
   "attachments": {},
   "cell_type": "markdown",
   "id": "7caf3195",
   "metadata": {},
   "source": [
    "- Put it all together "
   ]
  },
  {
   "cell_type": "code",
   "execution_count": 104,
   "id": "25669f69",
   "metadata": {},
   "outputs": [
    {
     "name": "stdout",
     "output_type": "stream",
     "text": [
      "request_url_2021 =  https://api.census.gov/data/2021/acs/acs5/profile?get=NAME,DP02_0116E,DP02_0116PE&for=state:*\n"
     ]
    }
   ],
   "source": [
    "request_url_2021 = base_url_2021 + dataset_name_2021 + get_variables_2021 + geography_2021\n",
    "print(\"request_url_2021 = \", request_url_2021)"
   ]
  },
  {
   "attachments": {},
   "cell_type": "markdown",
   "id": "a3df3db3-7861-4302-83ed-5d7f27c781ed",
   "metadata": {},
   "source": [
    "## 3. Make the API call"
   ]
  },
  {
   "attachments": {},
   "cell_type": "markdown",
   "id": "3e877493",
   "metadata": {},
   "source": [
    "### 3.1. For vintage 2020"
   ]
  },
  {
   "cell_type": "code",
   "execution_count": 105,
   "id": "9903734f-1da9-47a6-9563-1d7bc7cfc6ab",
   "metadata": {},
   "outputs": [],
   "source": [
    "r_2020 = requests.get(request_url_2020)\n",
    "\n",
    "api_results_2020 = r_2020.json()"
   ]
  },
  {
   "attachments": {},
   "cell_type": "markdown",
   "id": "88eb8485",
   "metadata": {},
   "source": [
    "### 3.2. For vintage 2021"
   ]
  },
  {
   "cell_type": "code",
   "execution_count": 106,
   "id": "6d8b3192",
   "metadata": {},
   "outputs": [],
   "source": [
    "r_2021 = requests.get(request_url_2021)\n",
    "\n",
    "api_results_2021 = r_2021.json()"
   ]
  },
  {
   "attachments": {},
   "cell_type": "markdown",
   "id": "f98cddaf-65c6-4b0c-bb5b-ce812e770f4a",
   "metadata": {},
   "source": [
    "## 4. Get the data into a Dataframe "
   ]
  },
  {
   "attachments": {},
   "cell_type": "markdown",
   "id": "ec3f0ebb",
   "metadata": {},
   "source": [
    "### 4.1. For vintage 2020"
   ]
  },
  {
   "cell_type": "code",
   "execution_count": 107,
   "id": "7db78496-f09e-4308-9818-6668c3105b77",
   "metadata": {},
   "outputs": [
    {
     "name": "stdout",
     "output_type": "stream",
     "text": [
      "Number of rows: 53\n",
      "Number of columns: 4\n"
     ]
    },
    {
     "data": {
      "text/html": [
       "<div>\n",
       "<style scoped>\n",
       "    .dataframe tbody tr th:only-of-type {\n",
       "        vertical-align: middle;\n",
       "    }\n",
       "\n",
       "    .dataframe tbody tr th {\n",
       "        vertical-align: top;\n",
       "    }\n",
       "\n",
       "    .dataframe thead th {\n",
       "        text-align: right;\n",
       "    }\n",
       "</style>\n",
       "<table border=\"1\" class=\"dataframe\">\n",
       "  <thead>\n",
       "    <tr style=\"text-align: right;\">\n",
       "      <th></th>\n",
       "      <th>0</th>\n",
       "      <th>1</th>\n",
       "      <th>2</th>\n",
       "      <th>3</th>\n",
       "    </tr>\n",
       "  </thead>\n",
       "  <tbody>\n",
       "    <tr>\n",
       "      <th>0</th>\n",
       "      <td>NAME</td>\n",
       "      <td>DP02_0116E</td>\n",
       "      <td>DP02_0116PE</td>\n",
       "      <td>state</td>\n",
       "    </tr>\n",
       "    <tr>\n",
       "      <th>1</th>\n",
       "      <td>Arkansas</td>\n",
       "      <td>153429</td>\n",
       "      <td>5.4</td>\n",
       "      <td>05</td>\n",
       "    </tr>\n",
       "    <tr>\n",
       "      <th>2</th>\n",
       "      <td>Washington</td>\n",
       "      <td>602058</td>\n",
       "      <td>8.5</td>\n",
       "      <td>53</td>\n",
       "    </tr>\n",
       "    <tr>\n",
       "      <th>3</th>\n",
       "      <td>Kansas</td>\n",
       "      <td>207181</td>\n",
       "      <td>7.6</td>\n",
       "      <td>20</td>\n",
       "    </tr>\n",
       "    <tr>\n",
       "      <th>4</th>\n",
       "      <td>Oklahoma</td>\n",
       "      <td>269433</td>\n",
       "      <td>7.3</td>\n",
       "      <td>40</td>\n",
       "    </tr>\n",
       "  </tbody>\n",
       "</table>\n",
       "</div>"
      ],
      "text/plain": [
       "            0           1            2      3\n",
       "0        NAME  DP02_0116E  DP02_0116PE  state\n",
       "1    Arkansas      153429          5.4     05\n",
       "2  Washington      602058          8.5     53\n",
       "3      Kansas      207181          7.6     20\n",
       "4    Oklahoma      269433          7.3     40"
      ]
     },
     "execution_count": 107,
     "metadata": {},
     "output_type": "execute_result"
    }
   ],
   "source": [
    "data_2020 = pd.DataFrame(api_results_2020)\n",
    "\n",
    "print(\"Number of rows:\", data_2020.shape[0])\n",
    "print(\"Number of columns:\", data_2020.shape[1])\n",
    "data_2020.head()"
   ]
  },
  {
   "cell_type": "code",
   "execution_count": 108,
   "id": "da717937-b9df-4443-a18e-8c3fe66e7381",
   "metadata": {},
   "outputs": [
    {
     "name": "stdout",
     "output_type": "stream",
     "text": [
      "Number of rows: 52\n",
      "Number of columns: 4\n"
     ]
    },
    {
     "data": {
      "text/html": [
       "<div>\n",
       "<style scoped>\n",
       "    .dataframe tbody tr th:only-of-type {\n",
       "        vertical-align: middle;\n",
       "    }\n",
       "\n",
       "    .dataframe tbody tr th {\n",
       "        vertical-align: top;\n",
       "    }\n",
       "\n",
       "    .dataframe thead th {\n",
       "        text-align: right;\n",
       "    }\n",
       "</style>\n",
       "<table border=\"1\" class=\"dataframe\">\n",
       "  <thead>\n",
       "    <tr style=\"text-align: right;\">\n",
       "      <th></th>\n",
       "      <th>NAME</th>\n",
       "      <th>DP02_0116E</th>\n",
       "      <th>DP02_0116PE</th>\n",
       "      <th>state</th>\n",
       "    </tr>\n",
       "  </thead>\n",
       "  <tbody>\n",
       "    <tr>\n",
       "      <th>1</th>\n",
       "      <td>Arkansas</td>\n",
       "      <td>153429</td>\n",
       "      <td>5.4</td>\n",
       "      <td>05</td>\n",
       "    </tr>\n",
       "    <tr>\n",
       "      <th>2</th>\n",
       "      <td>Washington</td>\n",
       "      <td>602058</td>\n",
       "      <td>8.5</td>\n",
       "      <td>53</td>\n",
       "    </tr>\n",
       "    <tr>\n",
       "      <th>3</th>\n",
       "      <td>Kansas</td>\n",
       "      <td>207181</td>\n",
       "      <td>7.6</td>\n",
       "      <td>20</td>\n",
       "    </tr>\n",
       "    <tr>\n",
       "      <th>4</th>\n",
       "      <td>Oklahoma</td>\n",
       "      <td>269433</td>\n",
       "      <td>7.3</td>\n",
       "      <td>40</td>\n",
       "    </tr>\n",
       "    <tr>\n",
       "      <th>5</th>\n",
       "      <td>Wisconsin</td>\n",
       "      <td>254258</td>\n",
       "      <td>4.6</td>\n",
       "      <td>55</td>\n",
       "    </tr>\n",
       "  </tbody>\n",
       "</table>\n",
       "</div>"
      ],
      "text/plain": [
       "0        NAME DP02_0116E DP02_0116PE state\n",
       "1    Arkansas     153429         5.4    05\n",
       "2  Washington     602058         8.5    53\n",
       "3      Kansas     207181         7.6    20\n",
       "4    Oklahoma     269433         7.3    40\n",
       "5   Wisconsin     254258         4.6    55"
      ]
     },
     "execution_count": 108,
     "metadata": {},
     "output_type": "execute_result"
    }
   ],
   "source": [
    "# Get the first row into columns and then get rid of it\n",
    " \n",
    "data_2020.columns = data_2020.iloc[0]\n",
    "\n",
    "data_2020 = data_2020.iloc[1:]\n",
    "\n",
    "print(\"Number of rows:\", data_2020.shape[0])\n",
    "print(\"Number of columns:\", data_2020.shape[1])\n",
    "data_2020.head()"
   ]
  },
  {
   "attachments": {},
   "cell_type": "markdown",
   "id": "77533607",
   "metadata": {},
   "source": [
    "### 4.2. For vintage 2021"
   ]
  },
  {
   "cell_type": "code",
   "execution_count": 109,
   "id": "2dd471d2",
   "metadata": {},
   "outputs": [
    {
     "name": "stdout",
     "output_type": "stream",
     "text": [
      "Number of rows: 53\n",
      "Number of columns: 4\n"
     ]
    },
    {
     "data": {
      "text/html": [
       "<div>\n",
       "<style scoped>\n",
       "    .dataframe tbody tr th:only-of-type {\n",
       "        vertical-align: middle;\n",
       "    }\n",
       "\n",
       "    .dataframe tbody tr th {\n",
       "        vertical-align: top;\n",
       "    }\n",
       "\n",
       "    .dataframe thead th {\n",
       "        text-align: right;\n",
       "    }\n",
       "</style>\n",
       "<table border=\"1\" class=\"dataframe\">\n",
       "  <thead>\n",
       "    <tr style=\"text-align: right;\">\n",
       "      <th></th>\n",
       "      <th>0</th>\n",
       "      <th>1</th>\n",
       "      <th>2</th>\n",
       "      <th>3</th>\n",
       "    </tr>\n",
       "  </thead>\n",
       "  <tbody>\n",
       "    <tr>\n",
       "      <th>0</th>\n",
       "      <td>NAME</td>\n",
       "      <td>DP02_0116E</td>\n",
       "      <td>DP02_0116PE</td>\n",
       "      <td>state</td>\n",
       "    </tr>\n",
       "    <tr>\n",
       "      <th>1</th>\n",
       "      <td>Alabama</td>\n",
       "      <td>156752</td>\n",
       "      <td>3.3</td>\n",
       "      <td>01</td>\n",
       "    </tr>\n",
       "    <tr>\n",
       "      <th>2</th>\n",
       "      <td>Alaska</td>\n",
       "      <td>23629</td>\n",
       "      <td>3.4</td>\n",
       "      <td>02</td>\n",
       "    </tr>\n",
       "    <tr>\n",
       "      <th>3</th>\n",
       "      <td>Arizona</td>\n",
       "      <td>1342767</td>\n",
       "      <td>20.1</td>\n",
       "      <td>04</td>\n",
       "    </tr>\n",
       "    <tr>\n",
       "      <th>4</th>\n",
       "      <td>Arkansas</td>\n",
       "      <td>155476</td>\n",
       "      <td>5.5</td>\n",
       "      <td>05</td>\n",
       "    </tr>\n",
       "  </tbody>\n",
       "</table>\n",
       "</div>"
      ],
      "text/plain": [
       "          0           1            2      3\n",
       "0      NAME  DP02_0116E  DP02_0116PE  state\n",
       "1   Alabama      156752          3.3     01\n",
       "2    Alaska       23629          3.4     02\n",
       "3   Arizona     1342767         20.1     04\n",
       "4  Arkansas      155476          5.5     05"
      ]
     },
     "execution_count": 109,
     "metadata": {},
     "output_type": "execute_result"
    }
   ],
   "source": [
    "data_2021 = pd.DataFrame(api_results_2021)\n",
    "\n",
    "print(\"Number of rows:\", data_2021.shape[0])\n",
    "print(\"Number of columns:\", data_2021.shape[1])\n",
    "data_2021.head()"
   ]
  },
  {
   "cell_type": "code",
   "execution_count": 110,
   "id": "d81a3c03",
   "metadata": {},
   "outputs": [
    {
     "name": "stdout",
     "output_type": "stream",
     "text": [
      "Number of rows: 52\n",
      "Number of columns: 4\n"
     ]
    },
    {
     "data": {
      "text/html": [
       "<div>\n",
       "<style scoped>\n",
       "    .dataframe tbody tr th:only-of-type {\n",
       "        vertical-align: middle;\n",
       "    }\n",
       "\n",
       "    .dataframe tbody tr th {\n",
       "        vertical-align: top;\n",
       "    }\n",
       "\n",
       "    .dataframe thead th {\n",
       "        text-align: right;\n",
       "    }\n",
       "</style>\n",
       "<table border=\"1\" class=\"dataframe\">\n",
       "  <thead>\n",
       "    <tr style=\"text-align: right;\">\n",
       "      <th></th>\n",
       "      <th>NAME</th>\n",
       "      <th>DP02_0116E</th>\n",
       "      <th>DP02_0116PE</th>\n",
       "      <th>state</th>\n",
       "    </tr>\n",
       "  </thead>\n",
       "  <tbody>\n",
       "    <tr>\n",
       "      <th>1</th>\n",
       "      <td>Alabama</td>\n",
       "      <td>156752</td>\n",
       "      <td>3.3</td>\n",
       "      <td>01</td>\n",
       "    </tr>\n",
       "    <tr>\n",
       "      <th>2</th>\n",
       "      <td>Alaska</td>\n",
       "      <td>23629</td>\n",
       "      <td>3.4</td>\n",
       "      <td>02</td>\n",
       "    </tr>\n",
       "    <tr>\n",
       "      <th>3</th>\n",
       "      <td>Arizona</td>\n",
       "      <td>1342767</td>\n",
       "      <td>20.1</td>\n",
       "      <td>04</td>\n",
       "    </tr>\n",
       "    <tr>\n",
       "      <th>4</th>\n",
       "      <td>Arkansas</td>\n",
       "      <td>155476</td>\n",
       "      <td>5.5</td>\n",
       "      <td>05</td>\n",
       "    </tr>\n",
       "    <tr>\n",
       "      <th>5</th>\n",
       "      <td>California</td>\n",
       "      <td>10514821</td>\n",
       "      <td>28.3</td>\n",
       "      <td>06</td>\n",
       "    </tr>\n",
       "  </tbody>\n",
       "</table>\n",
       "</div>"
      ],
      "text/plain": [
       "0        NAME DP02_0116E DP02_0116PE state\n",
       "1     Alabama     156752         3.3    01\n",
       "2      Alaska      23629         3.4    02\n",
       "3     Arizona    1342767        20.1    04\n",
       "4    Arkansas     155476         5.5    05\n",
       "5  California   10514821        28.3    06"
      ]
     },
     "execution_count": 110,
     "metadata": {},
     "output_type": "execute_result"
    }
   ],
   "source": [
    "# Get the first row into columns and then get rid of it\n",
    "\n",
    "data_2021.columns = data_2021.iloc[0]\n",
    "\n",
    "data_2021 = data_2021.iloc[1:]\n",
    "\n",
    "print(\"Number of rows:\", data_2021.shape[0])\n",
    "print(\"Number of columns:\", data_2021.shape[1])\n",
    "data_2021.head()"
   ]
  },
  {
   "attachments": {},
   "cell_type": "markdown",
   "id": "25e8631b",
   "metadata": {},
   "source": [
    "## 5. Merge both dataframes (data_2020 and data_2021)"
   ]
  },
  {
   "cell_type": "code",
   "execution_count": 111,
   "id": "9645514e",
   "metadata": {},
   "outputs": [],
   "source": [
    "left_table = data_2020\n",
    "right_table = data_2021"
   ]
  },
  {
   "cell_type": "code",
   "execution_count": 112,
   "id": "e55585a2",
   "metadata": {},
   "outputs": [],
   "source": [
    "left_table_join_field = 'NAME'\n",
    "right_table_join_field = 'NAME'"
   ]
  },
  {
   "cell_type": "code",
   "execution_count": 113,
   "id": "5d8d42fd",
   "metadata": {},
   "outputs": [
    {
     "name": "stdout",
     "output_type": "stream",
     "text": [
      "\n",
      "Left Table:   (52, 4)\n",
      "Right Table:  (52, 4)\n",
      "Joined Dataframe:  (52, 7)\n",
      "\n"
     ]
    },
    {
     "data": {
      "text/html": [
       "<div>\n",
       "<style scoped>\n",
       "    .dataframe tbody tr th:only-of-type {\n",
       "        vertical-align: middle;\n",
       "    }\n",
       "\n",
       "    .dataframe tbody tr th {\n",
       "        vertical-align: top;\n",
       "    }\n",
       "\n",
       "    .dataframe thead th {\n",
       "        text-align: right;\n",
       "    }\n",
       "</style>\n",
       "<table border=\"1\" class=\"dataframe\">\n",
       "  <thead>\n",
       "    <tr style=\"text-align: right;\">\n",
       "      <th></th>\n",
       "      <th>NAME</th>\n",
       "      <th>DP02_0116E_x</th>\n",
       "      <th>DP02_0116PE_x</th>\n",
       "      <th>state_x</th>\n",
       "      <th>DP02_0116E_y</th>\n",
       "      <th>DP02_0116PE_y</th>\n",
       "      <th>state_y</th>\n",
       "    </tr>\n",
       "  </thead>\n",
       "  <tbody>\n",
       "    <tr>\n",
       "      <th>0</th>\n",
       "      <td>Arkansas</td>\n",
       "      <td>153429</td>\n",
       "      <td>5.4</td>\n",
       "      <td>05</td>\n",
       "      <td>155476</td>\n",
       "      <td>5.5</td>\n",
       "      <td>05</td>\n",
       "    </tr>\n",
       "    <tr>\n",
       "      <th>1</th>\n",
       "      <td>Washington</td>\n",
       "      <td>602058</td>\n",
       "      <td>8.5</td>\n",
       "      <td>53</td>\n",
       "      <td>620206</td>\n",
       "      <td>8.7</td>\n",
       "      <td>53</td>\n",
       "    </tr>\n",
       "    <tr>\n",
       "      <th>2</th>\n",
       "      <td>Kansas</td>\n",
       "      <td>207181</td>\n",
       "      <td>7.6</td>\n",
       "      <td>20</td>\n",
       "      <td>212194</td>\n",
       "      <td>7.7</td>\n",
       "      <td>20</td>\n",
       "    </tr>\n",
       "    <tr>\n",
       "      <th>3</th>\n",
       "      <td>Oklahoma</td>\n",
       "      <td>269433</td>\n",
       "      <td>7.3</td>\n",
       "      <td>40</td>\n",
       "      <td>274323</td>\n",
       "      <td>7.4</td>\n",
       "      <td>40</td>\n",
       "    </tr>\n",
       "    <tr>\n",
       "      <th>4</th>\n",
       "      <td>Wisconsin</td>\n",
       "      <td>254258</td>\n",
       "      <td>4.6</td>\n",
       "      <td>55</td>\n",
       "      <td>256965</td>\n",
       "      <td>4.6</td>\n",
       "      <td>55</td>\n",
       "    </tr>\n",
       "  </tbody>\n",
       "</table>\n",
       "</div>"
      ],
      "text/plain": [
       "0        NAME DP02_0116E_x DP02_0116PE_x state_x DP02_0116E_y DP02_0116PE_y  \\\n",
       "0    Arkansas       153429           5.4      05       155476           5.5   \n",
       "1  Washington       602058           8.5      53       620206           8.7   \n",
       "2      Kansas       207181           7.6      20       212194           7.7   \n",
       "3    Oklahoma       269433           7.3      40       274323           7.4   \n",
       "4   Wisconsin       254258           4.6      55       256965           4.6   \n",
       "\n",
       "0 state_y  \n",
       "0      05  \n",
       "1      53  \n",
       "2      20  \n",
       "3      40  \n",
       "4      55  "
      ]
     },
     "execution_count": 113,
     "metadata": {},
     "output_type": "execute_result"
    }
   ],
   "source": [
    "df = pd.merge(left_table,       \n",
    "                right_table,     \n",
    "                left_on=left_table_join_field,\n",
    "                right_on=right_table_join_field,\n",
    "                how='left'                          # Type of Join:  Left\n",
    "            )\n",
    "\n",
    "print()\n",
    "print(\"Left Table:  \", left_table.shape)\n",
    "print(\"Right Table: \", right_table.shape)\n",
    "print(\"Joined Dataframe: \", df.shape)\n",
    "print()\n",
    "\n",
    "df.head()"
   ]
  },
  {
   "attachments": {},
   "cell_type": "markdown",
   "id": "035b345b",
   "metadata": {},
   "source": [
    "## 6. Add states abbreviations"
   ]
  },
  {
   "attachments": {},
   "cell_type": "markdown",
   "id": "cff2f8d9",
   "metadata": {},
   "source": [
    "### 6.1 Import csv with states abbreviations"
   ]
  },
  {
   "cell_type": "code",
   "execution_count": 114,
   "id": "8c9bc77c",
   "metadata": {},
   "outputs": [
    {
     "name": "stdout",
     "output_type": "stream",
     "text": [
      "Number of rows: 50\n",
      "Number of columns: 2\n"
     ]
    },
    {
     "data": {
      "text/html": [
       "<div>\n",
       "<style scoped>\n",
       "    .dataframe tbody tr th:only-of-type {\n",
       "        vertical-align: middle;\n",
       "    }\n",
       "\n",
       "    .dataframe tbody tr th {\n",
       "        vertical-align: top;\n",
       "    }\n",
       "\n",
       "    .dataframe thead th {\n",
       "        text-align: right;\n",
       "    }\n",
       "</style>\n",
       "<table border=\"1\" class=\"dataframe\">\n",
       "  <thead>\n",
       "    <tr style=\"text-align: right;\">\n",
       "      <th></th>\n",
       "      <th>State_Name</th>\n",
       "      <th>State_Abbrev</th>\n",
       "    </tr>\n",
       "  </thead>\n",
       "  <tbody>\n",
       "    <tr>\n",
       "      <th>0</th>\n",
       "      <td>Alabama</td>\n",
       "      <td>AL</td>\n",
       "    </tr>\n",
       "    <tr>\n",
       "      <th>1</th>\n",
       "      <td>Alaska</td>\n",
       "      <td>AK</td>\n",
       "    </tr>\n",
       "    <tr>\n",
       "      <th>2</th>\n",
       "      <td>Arizona</td>\n",
       "      <td>AZ</td>\n",
       "    </tr>\n",
       "    <tr>\n",
       "      <th>3</th>\n",
       "      <td>Arkansas</td>\n",
       "      <td>AR</td>\n",
       "    </tr>\n",
       "    <tr>\n",
       "      <th>4</th>\n",
       "      <td>California</td>\n",
       "      <td>CA</td>\n",
       "    </tr>\n",
       "  </tbody>\n",
       "</table>\n",
       "</div>"
      ],
      "text/plain": [
       "   State_Name State_Abbrev\n",
       "0     Alabama           AL\n",
       "1      Alaska           AK\n",
       "2     Arizona           AZ\n",
       "3    Arkansas           AR\n",
       "4  California           CA"
      ]
     },
     "execution_count": 114,
     "metadata": {},
     "output_type": "execute_result"
    }
   ],
   "source": [
    "state_abb = pd.read_csv('Data/State_Abbreviations.csv')\n",
    "\n",
    "print(\"Number of rows:\", state_abb.shape[0])\n",
    "print(\"Number of columns:\", state_abb.shape[1])\n",
    "state_abb.head()"
   ]
  },
  {
   "attachments": {},
   "cell_type": "markdown",
   "id": "c3d9fcaa",
   "metadata": {},
   "source": [
    "### 6.2. Deleting Puerto Rico and District of Columbia of the dataframe df to match the dataframe state_abb"
   ]
  },
  {
   "cell_type": "code",
   "execution_count": 115,
   "id": "f4cf2fb2",
   "metadata": {},
   "outputs": [
    {
     "name": "stdout",
     "output_type": "stream",
     "text": [
      "Number of rows: 50\n",
      "Number of columns: 7\n"
     ]
    },
    {
     "data": {
      "text/html": [
       "<div>\n",
       "<style scoped>\n",
       "    .dataframe tbody tr th:only-of-type {\n",
       "        vertical-align: middle;\n",
       "    }\n",
       "\n",
       "    .dataframe tbody tr th {\n",
       "        vertical-align: top;\n",
       "    }\n",
       "\n",
       "    .dataframe thead th {\n",
       "        text-align: right;\n",
       "    }\n",
       "</style>\n",
       "<table border=\"1\" class=\"dataframe\">\n",
       "  <thead>\n",
       "    <tr style=\"text-align: right;\">\n",
       "      <th></th>\n",
       "      <th>NAME</th>\n",
       "      <th>DP02_0116E_x</th>\n",
       "      <th>DP02_0116PE_x</th>\n",
       "      <th>state_x</th>\n",
       "      <th>DP02_0116E_y</th>\n",
       "      <th>DP02_0116PE_y</th>\n",
       "      <th>state_y</th>\n",
       "    </tr>\n",
       "  </thead>\n",
       "  <tbody>\n",
       "    <tr>\n",
       "      <th>0</th>\n",
       "      <td>Arkansas</td>\n",
       "      <td>153429</td>\n",
       "      <td>5.4</td>\n",
       "      <td>05</td>\n",
       "      <td>155476</td>\n",
       "      <td>5.5</td>\n",
       "      <td>05</td>\n",
       "    </tr>\n",
       "    <tr>\n",
       "      <th>1</th>\n",
       "      <td>Washington</td>\n",
       "      <td>602058</td>\n",
       "      <td>8.5</td>\n",
       "      <td>53</td>\n",
       "      <td>620206</td>\n",
       "      <td>8.7</td>\n",
       "      <td>53</td>\n",
       "    </tr>\n",
       "    <tr>\n",
       "      <th>2</th>\n",
       "      <td>Kansas</td>\n",
       "      <td>207181</td>\n",
       "      <td>7.6</td>\n",
       "      <td>20</td>\n",
       "      <td>212194</td>\n",
       "      <td>7.7</td>\n",
       "      <td>20</td>\n",
       "    </tr>\n",
       "    <tr>\n",
       "      <th>3</th>\n",
       "      <td>Oklahoma</td>\n",
       "      <td>269433</td>\n",
       "      <td>7.3</td>\n",
       "      <td>40</td>\n",
       "      <td>274323</td>\n",
       "      <td>7.4</td>\n",
       "      <td>40</td>\n",
       "    </tr>\n",
       "    <tr>\n",
       "      <th>4</th>\n",
       "      <td>Wisconsin</td>\n",
       "      <td>254258</td>\n",
       "      <td>4.6</td>\n",
       "      <td>55</td>\n",
       "      <td>256965</td>\n",
       "      <td>4.6</td>\n",
       "      <td>55</td>\n",
       "    </tr>\n",
       "  </tbody>\n",
       "</table>\n",
       "</div>"
      ],
      "text/plain": [
       "0        NAME DP02_0116E_x DP02_0116PE_x state_x DP02_0116E_y DP02_0116PE_y  \\\n",
       "0    Arkansas       153429           5.4      05       155476           5.5   \n",
       "1  Washington       602058           8.5      53       620206           8.7   \n",
       "2      Kansas       207181           7.6      20       212194           7.7   \n",
       "3    Oklahoma       269433           7.3      40       274323           7.4   \n",
       "4   Wisconsin       254258           4.6      55       256965           4.6   \n",
       "\n",
       "0 state_y  \n",
       "0      05  \n",
       "1      53  \n",
       "2      20  \n",
       "3      40  \n",
       "4      55  "
      ]
     },
     "execution_count": 115,
     "metadata": {},
     "output_type": "execute_result"
    }
   ],
   "source": [
    "states_to_delete = ['Puerto Rico', 'District of Columbia']\n",
    "df.query(\"NAME not in @states_to_delete\", inplace=True)\n",
    "\n",
    "print(\"Number of rows:\", df.shape[0])\n",
    "print(\"Number of columns:\", df.shape[1])\n",
    "df.head()"
   ]
  },
  {
   "attachments": {},
   "cell_type": "markdown",
   "id": "5f29b1fb",
   "metadata": {},
   "source": [
    "### 6.3. Merge both dataframes (df and state_abb)"
   ]
  },
  {
   "cell_type": "code",
   "execution_count": 116,
   "id": "030b83a9",
   "metadata": {},
   "outputs": [],
   "source": [
    "left_table = df\n",
    "right_table = state_abb"
   ]
  },
  {
   "cell_type": "code",
   "execution_count": 117,
   "id": "11f732ed",
   "metadata": {},
   "outputs": [],
   "source": [
    "left_table_join_field = 'NAME'\n",
    "right_table_join_field = 'State_Name'"
   ]
  },
  {
   "cell_type": "code",
   "execution_count": 118,
   "id": "8ee4b19b",
   "metadata": {},
   "outputs": [
    {
     "name": "stdout",
     "output_type": "stream",
     "text": [
      "\n",
      "Left Table:   (50, 7)\n",
      "Right Table:  (50, 2)\n",
      "Joined Dataframe:  (50, 9)\n",
      "\n"
     ]
    },
    {
     "data": {
      "text/html": [
       "<div>\n",
       "<style scoped>\n",
       "    .dataframe tbody tr th:only-of-type {\n",
       "        vertical-align: middle;\n",
       "    }\n",
       "\n",
       "    .dataframe tbody tr th {\n",
       "        vertical-align: top;\n",
       "    }\n",
       "\n",
       "    .dataframe thead th {\n",
       "        text-align: right;\n",
       "    }\n",
       "</style>\n",
       "<table border=\"1\" class=\"dataframe\">\n",
       "  <thead>\n",
       "    <tr style=\"text-align: right;\">\n",
       "      <th></th>\n",
       "      <th>NAME</th>\n",
       "      <th>DP02_0116E_x</th>\n",
       "      <th>DP02_0116PE_x</th>\n",
       "      <th>state_x</th>\n",
       "      <th>DP02_0116E_y</th>\n",
       "      <th>DP02_0116PE_y</th>\n",
       "      <th>state_y</th>\n",
       "      <th>State_Name</th>\n",
       "      <th>State_Abbrev</th>\n",
       "    </tr>\n",
       "  </thead>\n",
       "  <tbody>\n",
       "    <tr>\n",
       "      <th>0</th>\n",
       "      <td>Arkansas</td>\n",
       "      <td>153429</td>\n",
       "      <td>5.4</td>\n",
       "      <td>05</td>\n",
       "      <td>155476</td>\n",
       "      <td>5.5</td>\n",
       "      <td>05</td>\n",
       "      <td>Arkansas</td>\n",
       "      <td>AR</td>\n",
       "    </tr>\n",
       "    <tr>\n",
       "      <th>1</th>\n",
       "      <td>Washington</td>\n",
       "      <td>602058</td>\n",
       "      <td>8.5</td>\n",
       "      <td>53</td>\n",
       "      <td>620206</td>\n",
       "      <td>8.7</td>\n",
       "      <td>53</td>\n",
       "      <td>Washington</td>\n",
       "      <td>WA</td>\n",
       "    </tr>\n",
       "    <tr>\n",
       "      <th>2</th>\n",
       "      <td>Kansas</td>\n",
       "      <td>207181</td>\n",
       "      <td>7.6</td>\n",
       "      <td>20</td>\n",
       "      <td>212194</td>\n",
       "      <td>7.7</td>\n",
       "      <td>20</td>\n",
       "      <td>Kansas</td>\n",
       "      <td>KS</td>\n",
       "    </tr>\n",
       "    <tr>\n",
       "      <th>3</th>\n",
       "      <td>Oklahoma</td>\n",
       "      <td>269433</td>\n",
       "      <td>7.3</td>\n",
       "      <td>40</td>\n",
       "      <td>274323</td>\n",
       "      <td>7.4</td>\n",
       "      <td>40</td>\n",
       "      <td>Oklahoma</td>\n",
       "      <td>OK</td>\n",
       "    </tr>\n",
       "    <tr>\n",
       "      <th>4</th>\n",
       "      <td>Wisconsin</td>\n",
       "      <td>254258</td>\n",
       "      <td>4.6</td>\n",
       "      <td>55</td>\n",
       "      <td>256965</td>\n",
       "      <td>4.6</td>\n",
       "      <td>55</td>\n",
       "      <td>Wisconsin</td>\n",
       "      <td>WI</td>\n",
       "    </tr>\n",
       "  </tbody>\n",
       "</table>\n",
       "</div>"
      ],
      "text/plain": [
       "         NAME DP02_0116E_x DP02_0116PE_x state_x DP02_0116E_y DP02_0116PE_y  \\\n",
       "0    Arkansas       153429           5.4      05       155476           5.5   \n",
       "1  Washington       602058           8.5      53       620206           8.7   \n",
       "2      Kansas       207181           7.6      20       212194           7.7   \n",
       "3    Oklahoma       269433           7.3      40       274323           7.4   \n",
       "4   Wisconsin       254258           4.6      55       256965           4.6   \n",
       "\n",
       "  state_y  State_Name State_Abbrev  \n",
       "0      05    Arkansas           AR  \n",
       "1      53  Washington           WA  \n",
       "2      20      Kansas           KS  \n",
       "3      40    Oklahoma           OK  \n",
       "4      55   Wisconsin           WI  "
      ]
     },
     "execution_count": 118,
     "metadata": {},
     "output_type": "execute_result"
    }
   ],
   "source": [
    "df = pd.merge(left_table,       \n",
    "                right_table,     \n",
    "                left_on=left_table_join_field,\n",
    "                right_on=right_table_join_field,\n",
    "                how='left'                          # Type of Join:  Left\n",
    "            )\n",
    "\n",
    "print()\n",
    "print(\"Left Table:  \", left_table.shape)\n",
    "print(\"Right Table: \", right_table.shape)\n",
    "print(\"Joined Dataframe: \", df.shape)\n",
    "print()\n",
    "\n",
    "df.head()"
   ]
  },
  {
   "attachments": {},
   "cell_type": "markdown",
   "id": "b733e888",
   "metadata": {},
   "source": [
    "## 7. Cleaning"
   ]
  },
  {
   "attachments": {},
   "cell_type": "markdown",
   "id": "1a08fc46",
   "metadata": {},
   "source": [
    "### 7.1. Dropping repeated columns"
   ]
  },
  {
   "cell_type": "code",
   "execution_count": 119,
   "id": "db81b1ad",
   "metadata": {},
   "outputs": [
    {
     "name": "stdout",
     "output_type": "stream",
     "text": [
      "Number of rows: 50\n",
      "Number of columns: 7\n"
     ]
    },
    {
     "data": {
      "text/html": [
       "<div>\n",
       "<style scoped>\n",
       "    .dataframe tbody tr th:only-of-type {\n",
       "        vertical-align: middle;\n",
       "    }\n",
       "\n",
       "    .dataframe tbody tr th {\n",
       "        vertical-align: top;\n",
       "    }\n",
       "\n",
       "    .dataframe thead th {\n",
       "        text-align: right;\n",
       "    }\n",
       "</style>\n",
       "<table border=\"1\" class=\"dataframe\">\n",
       "  <thead>\n",
       "    <tr style=\"text-align: right;\">\n",
       "      <th></th>\n",
       "      <th>DP02_0116E_x</th>\n",
       "      <th>DP02_0116PE_x</th>\n",
       "      <th>DP02_0116E_y</th>\n",
       "      <th>DP02_0116PE_y</th>\n",
       "      <th>state_y</th>\n",
       "      <th>State_Name</th>\n",
       "      <th>State_Abbrev</th>\n",
       "    </tr>\n",
       "  </thead>\n",
       "  <tbody>\n",
       "    <tr>\n",
       "      <th>0</th>\n",
       "      <td>153429</td>\n",
       "      <td>5.4</td>\n",
       "      <td>155476</td>\n",
       "      <td>5.5</td>\n",
       "      <td>05</td>\n",
       "      <td>Arkansas</td>\n",
       "      <td>AR</td>\n",
       "    </tr>\n",
       "    <tr>\n",
       "      <th>1</th>\n",
       "      <td>602058</td>\n",
       "      <td>8.5</td>\n",
       "      <td>620206</td>\n",
       "      <td>8.7</td>\n",
       "      <td>53</td>\n",
       "      <td>Washington</td>\n",
       "      <td>WA</td>\n",
       "    </tr>\n",
       "    <tr>\n",
       "      <th>2</th>\n",
       "      <td>207181</td>\n",
       "      <td>7.6</td>\n",
       "      <td>212194</td>\n",
       "      <td>7.7</td>\n",
       "      <td>20</td>\n",
       "      <td>Kansas</td>\n",
       "      <td>KS</td>\n",
       "    </tr>\n",
       "    <tr>\n",
       "      <th>3</th>\n",
       "      <td>269433</td>\n",
       "      <td>7.3</td>\n",
       "      <td>274323</td>\n",
       "      <td>7.4</td>\n",
       "      <td>40</td>\n",
       "      <td>Oklahoma</td>\n",
       "      <td>OK</td>\n",
       "    </tr>\n",
       "    <tr>\n",
       "      <th>4</th>\n",
       "      <td>254258</td>\n",
       "      <td>4.6</td>\n",
       "      <td>256965</td>\n",
       "      <td>4.6</td>\n",
       "      <td>55</td>\n",
       "      <td>Wisconsin</td>\n",
       "      <td>WI</td>\n",
       "    </tr>\n",
       "  </tbody>\n",
       "</table>\n",
       "</div>"
      ],
      "text/plain": [
       "  DP02_0116E_x DP02_0116PE_x DP02_0116E_y DP02_0116PE_y state_y  State_Name  \\\n",
       "0       153429           5.4       155476           5.5      05    Arkansas   \n",
       "1       602058           8.5       620206           8.7      53  Washington   \n",
       "2       207181           7.6       212194           7.7      20      Kansas   \n",
       "3       269433           7.3       274323           7.4      40    Oklahoma   \n",
       "4       254258           4.6       256965           4.6      55   Wisconsin   \n",
       "\n",
       "  State_Abbrev  \n",
       "0           AR  \n",
       "1           WA  \n",
       "2           KS  \n",
       "3           OK  \n",
       "4           WI  "
      ]
     },
     "execution_count": 119,
     "metadata": {},
     "output_type": "execute_result"
    }
   ],
   "source": [
    "columns_to_delete = ['NAME', 'state_x']\n",
    "df.drop(columns_to_delete, axis='columns', inplace=True)\n",
    "\n",
    "print(\"Number of rows:\", df.shape[0])\n",
    "print(\"Number of columns:\", df.shape[1])\n",
    "df.head()"
   ]
  },
  {
   "attachments": {},
   "cell_type": "markdown",
   "id": "cffe9505",
   "metadata": {},
   "source": [
    "### 7.2. Renaming columns"
   ]
  },
  {
   "cell_type": "code",
   "execution_count": 122,
   "id": "bcbdd1e0",
   "metadata": {},
   "outputs": [
    {
     "name": "stdout",
     "output_type": "stream",
     "text": [
      "Number of rows: 50\n",
      "Number of columns: 7\n"
     ]
    },
    {
     "data": {
      "text/html": [
       "<div>\n",
       "<style scoped>\n",
       "    .dataframe tbody tr th:only-of-type {\n",
       "        vertical-align: middle;\n",
       "    }\n",
       "\n",
       "    .dataframe tbody tr th {\n",
       "        vertical-align: top;\n",
       "    }\n",
       "\n",
       "    .dataframe thead th {\n",
       "        text-align: right;\n",
       "    }\n",
       "</style>\n",
       "<table border=\"1\" class=\"dataframe\">\n",
       "  <thead>\n",
       "    <tr style=\"text-align: right;\">\n",
       "      <th></th>\n",
       "      <th>2020 - Language spoken at home (Spanish) (DP02_0116E)</th>\n",
       "      <th>2020 - Language spoken at home (Spanish) - Percent (DP02_0116PE)</th>\n",
       "      <th>2021 - Language spoken at home (Spanish) (DP02_0116E)</th>\n",
       "      <th>2021 - Language spoken at home (Spanish) - Percent (DP02_0116PE)</th>\n",
       "      <th>FIPS_State</th>\n",
       "      <th>State_Name</th>\n",
       "      <th>State_Abbreviation</th>\n",
       "    </tr>\n",
       "  </thead>\n",
       "  <tbody>\n",
       "    <tr>\n",
       "      <th>0</th>\n",
       "      <td>153429</td>\n",
       "      <td>5.4</td>\n",
       "      <td>155476</td>\n",
       "      <td>5.5</td>\n",
       "      <td>05</td>\n",
       "      <td>Arkansas</td>\n",
       "      <td>AR</td>\n",
       "    </tr>\n",
       "    <tr>\n",
       "      <th>1</th>\n",
       "      <td>602058</td>\n",
       "      <td>8.5</td>\n",
       "      <td>620206</td>\n",
       "      <td>8.7</td>\n",
       "      <td>53</td>\n",
       "      <td>Washington</td>\n",
       "      <td>WA</td>\n",
       "    </tr>\n",
       "    <tr>\n",
       "      <th>2</th>\n",
       "      <td>207181</td>\n",
       "      <td>7.6</td>\n",
       "      <td>212194</td>\n",
       "      <td>7.7</td>\n",
       "      <td>20</td>\n",
       "      <td>Kansas</td>\n",
       "      <td>KS</td>\n",
       "    </tr>\n",
       "    <tr>\n",
       "      <th>3</th>\n",
       "      <td>269433</td>\n",
       "      <td>7.3</td>\n",
       "      <td>274323</td>\n",
       "      <td>7.4</td>\n",
       "      <td>40</td>\n",
       "      <td>Oklahoma</td>\n",
       "      <td>OK</td>\n",
       "    </tr>\n",
       "    <tr>\n",
       "      <th>4</th>\n",
       "      <td>254258</td>\n",
       "      <td>4.6</td>\n",
       "      <td>256965</td>\n",
       "      <td>4.6</td>\n",
       "      <td>55</td>\n",
       "      <td>Wisconsin</td>\n",
       "      <td>WI</td>\n",
       "    </tr>\n",
       "  </tbody>\n",
       "</table>\n",
       "</div>"
      ],
      "text/plain": [
       "  2020 - Language spoken at home (Spanish) (DP02_0116E)  \\\n",
       "0                                             153429      \n",
       "1                                             602058      \n",
       "2                                             207181      \n",
       "3                                             269433      \n",
       "4                                             254258      \n",
       "\n",
       "  2020 - Language spoken at home (Spanish) - Percent (DP02_0116PE)  \\\n",
       "0                                                5.4                 \n",
       "1                                                8.5                 \n",
       "2                                                7.6                 \n",
       "3                                                7.3                 \n",
       "4                                                4.6                 \n",
       "\n",
       "  2021 - Language spoken at home (Spanish) (DP02_0116E)  \\\n",
       "0                                             155476      \n",
       "1                                             620206      \n",
       "2                                             212194      \n",
       "3                                             274323      \n",
       "4                                             256965      \n",
       "\n",
       "  2021 - Language spoken at home (Spanish) - Percent (DP02_0116PE) FIPS_State  \\\n",
       "0                                                5.5                       05   \n",
       "1                                                8.7                       53   \n",
       "2                                                7.7                       20   \n",
       "3                                                7.4                       40   \n",
       "4                                                4.6                       55   \n",
       "\n",
       "   State_Name State_Abbreviation  \n",
       "0    Arkansas                 AR  \n",
       "1  Washington                 WA  \n",
       "2      Kansas                 KS  \n",
       "3    Oklahoma                 OK  \n",
       "4   Wisconsin                 WI  "
      ]
     },
     "execution_count": 122,
     "metadata": {},
     "output_type": "execute_result"
    }
   ],
   "source": [
    "cols_to_rename = {\n",
    "                   'DP02_0116E_x' : '2020 - Language spoken at home (Spanish) (DP02_0116E)', \n",
    "                   'DP02_0116PE_x' : '2020 - Language spoken at home (Spanish) - Percent (DP02_0116PE)', \n",
    "                   'DP02_0116E_y' : '2021 - Language spoken at home (Spanish) (DP02_0116E)', \n",
    "                   'DP02_0116PE_y' : '2021 - Language spoken at home (Spanish) - Percent (DP02_0116PE)', \n",
    "                   'state_y' : 'FIPS_State', \n",
    "                   'State_Abbrev' : 'State_Abbreviation'\n",
    "                 }\n",
    "df.rename(columns = cols_to_rename, inplace=True)\n",
    "\n",
    "print(\"Number of rows:\", df.shape[0])\n",
    "print(\"Number of columns:\", df.shape[1])\n",
    "df.head()"
   ]
  },
  {
   "attachments": {},
   "cell_type": "markdown",
   "id": "e0b095fd",
   "metadata": {},
   "source": [
    "### 7.3. Creating new columns"
   ]
  },
  {
   "cell_type": "code",
   "execution_count": 124,
   "id": "70f40d9a",
   "metadata": {},
   "outputs": [
    {
     "data": {
      "text/plain": [
       "2020 - Language spoken at home (Spanish) (DP02_0116E)               object\n",
       "2020 - Language spoken at home (Spanish) - Percent (DP02_0116PE)    object\n",
       "2021 - Language spoken at home (Spanish) (DP02_0116E)               object\n",
       "2021 - Language spoken at home (Spanish) - Percent (DP02_0116PE)    object\n",
       "FIPS_State                                                          object\n",
       "State_Name                                                          object\n",
       "State_Abbreviation                                                  object\n",
       "dtype: object"
      ]
     },
     "execution_count": 124,
     "metadata": {},
     "output_type": "execute_result"
    }
   ],
   "source": [
    "df.dtypes"
   ]
  },
  {
   "cell_type": "code",
   "execution_count": 125,
   "id": "e205687a",
   "metadata": {},
   "outputs": [],
   "source": [
    "df['2021 - Language spoken at home (Spanish) (DP02_0116E)'] = df['2021 - Language spoken at home (Spanish) (DP02_0116E)'].astype(int)\n",
    "df['2021 - Language spoken at home (Spanish) - Percent (DP02_0116PE)'] = df['2021 - Language spoken at home (Spanish) - Percent (DP02_0116PE)'].astype(float)\n",
    "df['2020 - Language spoken at home (Spanish) (DP02_0116E)'] = df['2020 - Language spoken at home (Spanish) (DP02_0116E)'].astype(int)\n",
    "df['2020 - Language spoken at home (Spanish) - Percent (DP02_0116PE)'] = df['2020 - Language spoken at home (Spanish) - Percent (DP02_0116PE)'].astype(float)\n"
   ]
  },
  {
   "cell_type": "code",
   "execution_count": 126,
   "id": "e79274fa",
   "metadata": {},
   "outputs": [
    {
     "data": {
      "text/plain": [
       "2020 - Language spoken at home (Spanish) (DP02_0116E)                 int32\n",
       "2020 - Language spoken at home (Spanish) - Percent (DP02_0116PE)    float64\n",
       "2021 - Language spoken at home (Spanish) (DP02_0116E)                 int32\n",
       "2021 - Language spoken at home (Spanish) - Percent (DP02_0116PE)    float64\n",
       "FIPS_State                                                           object\n",
       "State_Name                                                           object\n",
       "State_Abbreviation                                                   object\n",
       "dtype: object"
      ]
     },
     "execution_count": 126,
     "metadata": {},
     "output_type": "execute_result"
    }
   ],
   "source": [
    "df.dtypes"
   ]
  },
  {
   "cell_type": "code",
   "execution_count": 127,
   "id": "183220b0",
   "metadata": {},
   "outputs": [],
   "source": [
    "df['Difference - Language spoken at home (Spanish) (DP02_0116E)'] = df['2021 - Language spoken at home (Spanish) (DP02_0116E)'] - df['2020 - Language spoken at home (Spanish) (DP02_0116E)']\n",
    "df['Difference - Language spoken at home (Spanish) - Percent (DP02_0116PE)'] = df['2021 - Language spoken at home (Spanish) - Percent (DP02_0116PE)'] - df['2020 - Language spoken at home (Spanish) - Percent (DP02_0116PE)']"
   ]
  },
  {
   "attachments": {},
   "cell_type": "markdown",
   "id": "2162acb6",
   "metadata": {},
   "source": [
    "### 7.4. Reordering columns"
   ]
  },
  {
   "cell_type": "code",
   "execution_count": 128,
   "id": "7b16f7c1",
   "metadata": {},
   "outputs": [
    {
     "name": "stdout",
     "output_type": "stream",
     "text": [
      "Number of rows: 50\n",
      "Number of columns: 9\n"
     ]
    },
    {
     "data": {
      "text/html": [
       "<div>\n",
       "<style scoped>\n",
       "    .dataframe tbody tr th:only-of-type {\n",
       "        vertical-align: middle;\n",
       "    }\n",
       "\n",
       "    .dataframe tbody tr th {\n",
       "        vertical-align: top;\n",
       "    }\n",
       "\n",
       "    .dataframe thead th {\n",
       "        text-align: right;\n",
       "    }\n",
       "</style>\n",
       "<table border=\"1\" class=\"dataframe\">\n",
       "  <thead>\n",
       "    <tr style=\"text-align: right;\">\n",
       "      <th></th>\n",
       "      <th>State_Name</th>\n",
       "      <th>FIPS_State</th>\n",
       "      <th>State_Abbreviation</th>\n",
       "      <th>2020 - Language spoken at home (Spanish) (DP02_0116E)</th>\n",
       "      <th>2020 - Language spoken at home (Spanish) - Percent (DP02_0116PE)</th>\n",
       "      <th>2021 - Language spoken at home (Spanish) (DP02_0116E)</th>\n",
       "      <th>2021 - Language spoken at home (Spanish) - Percent (DP02_0116PE)</th>\n",
       "      <th>Difference - Language spoken at home (Spanish) (DP02_0116E)</th>\n",
       "      <th>Difference - Language spoken at home (Spanish) - Percent (DP02_0116PE)</th>\n",
       "    </tr>\n",
       "  </thead>\n",
       "  <tbody>\n",
       "    <tr>\n",
       "      <th>0</th>\n",
       "      <td>Arkansas</td>\n",
       "      <td>05</td>\n",
       "      <td>AR</td>\n",
       "      <td>153429</td>\n",
       "      <td>5.4</td>\n",
       "      <td>155476</td>\n",
       "      <td>5.5</td>\n",
       "      <td>2047</td>\n",
       "      <td>0.1</td>\n",
       "    </tr>\n",
       "    <tr>\n",
       "      <th>1</th>\n",
       "      <td>Washington</td>\n",
       "      <td>53</td>\n",
       "      <td>WA</td>\n",
       "      <td>602058</td>\n",
       "      <td>8.5</td>\n",
       "      <td>620206</td>\n",
       "      <td>8.7</td>\n",
       "      <td>18148</td>\n",
       "      <td>0.2</td>\n",
       "    </tr>\n",
       "    <tr>\n",
       "      <th>2</th>\n",
       "      <td>Kansas</td>\n",
       "      <td>20</td>\n",
       "      <td>KS</td>\n",
       "      <td>207181</td>\n",
       "      <td>7.6</td>\n",
       "      <td>212194</td>\n",
       "      <td>7.7</td>\n",
       "      <td>5013</td>\n",
       "      <td>0.1</td>\n",
       "    </tr>\n",
       "    <tr>\n",
       "      <th>3</th>\n",
       "      <td>Oklahoma</td>\n",
       "      <td>40</td>\n",
       "      <td>OK</td>\n",
       "      <td>269433</td>\n",
       "      <td>7.3</td>\n",
       "      <td>274323</td>\n",
       "      <td>7.4</td>\n",
       "      <td>4890</td>\n",
       "      <td>0.1</td>\n",
       "    </tr>\n",
       "    <tr>\n",
       "      <th>4</th>\n",
       "      <td>Wisconsin</td>\n",
       "      <td>55</td>\n",
       "      <td>WI</td>\n",
       "      <td>254258</td>\n",
       "      <td>4.6</td>\n",
       "      <td>256965</td>\n",
       "      <td>4.6</td>\n",
       "      <td>2707</td>\n",
       "      <td>0.0</td>\n",
       "    </tr>\n",
       "  </tbody>\n",
       "</table>\n",
       "</div>"
      ],
      "text/plain": [
       "   State_Name FIPS_State State_Abbreviation  \\\n",
       "0    Arkansas         05                 AR   \n",
       "1  Washington         53                 WA   \n",
       "2      Kansas         20                 KS   \n",
       "3    Oklahoma         40                 OK   \n",
       "4   Wisconsin         55                 WI   \n",
       "\n",
       "   2020 - Language spoken at home (Spanish) (DP02_0116E)  \\\n",
       "0                                             153429       \n",
       "1                                             602058       \n",
       "2                                             207181       \n",
       "3                                             269433       \n",
       "4                                             254258       \n",
       "\n",
       "   2020 - Language spoken at home (Spanish) - Percent (DP02_0116PE)  \\\n",
       "0                                                5.4                  \n",
       "1                                                8.5                  \n",
       "2                                                7.6                  \n",
       "3                                                7.3                  \n",
       "4                                                4.6                  \n",
       "\n",
       "   2021 - Language spoken at home (Spanish) (DP02_0116E)  \\\n",
       "0                                             155476       \n",
       "1                                             620206       \n",
       "2                                             212194       \n",
       "3                                             274323       \n",
       "4                                             256965       \n",
       "\n",
       "   2021 - Language spoken at home (Spanish) - Percent (DP02_0116PE)  \\\n",
       "0                                                5.5                  \n",
       "1                                                8.7                  \n",
       "2                                                7.7                  \n",
       "3                                                7.4                  \n",
       "4                                                4.6                  \n",
       "\n",
       "   Difference - Language spoken at home (Spanish) (DP02_0116E)  \\\n",
       "0                                               2047             \n",
       "1                                              18148             \n",
       "2                                               5013             \n",
       "3                                               4890             \n",
       "4                                               2707             \n",
       "\n",
       "   Difference - Language spoken at home (Spanish) - Percent (DP02_0116PE)  \n",
       "0                                                0.1                       \n",
       "1                                                0.2                       \n",
       "2                                                0.1                       \n",
       "3                                                0.1                       \n",
       "4                                                0.0                       "
      ]
     },
     "execution_count": 128,
     "metadata": {},
     "output_type": "execute_result"
    }
   ],
   "source": [
    "cols_to_keep = ['State_Name', 'FIPS_State', 'State_Abbreviation', '2020 - Language spoken at home (Spanish) (DP02_0116E)', '2020 - Language spoken at home (Spanish) - Percent (DP02_0116PE)', '2021 - Language spoken at home (Spanish) (DP02_0116E)', '2021 - Language spoken at home (Spanish) - Percent (DP02_0116PE)', 'Difference - Language spoken at home (Spanish) (DP02_0116E)', 'Difference - Language spoken at home (Spanish) - Percent (DP02_0116PE)']\n",
    "df = df[cols_to_keep]\n",
    "\n",
    "print(\"Number of rows:\", df.shape[0])\n",
    "print(\"Number of columns:\", df.shape[1])\n",
    "df.head()"
   ]
  },
  {
   "attachments": {},
   "cell_type": "markdown",
   "id": "dc013c3d",
   "metadata": {},
   "source": [
    "## 8. Save the Dataframe as a CSV file"
   ]
  },
  {
   "cell_type": "code",
   "execution_count": 129,
   "id": "45fc1db7",
   "metadata": {},
   "outputs": [],
   "source": [
    "csv_file_to_create = \"2021_Data.csv\"\n",
    "\n",
    "filename_with_path = \"Data/\" + csv_file_to_create\n",
    "df.to_csv(filename_with_path, index=False)"
   ]
  }
 ],
 "metadata": {
  "kernelspec": {
   "display_name": "Python 3",
   "language": "python",
   "name": "python3"
  },
  "language_info": {
   "codemirror_mode": {
    "name": "ipython",
    "version": 3
   },
   "file_extension": ".py",
   "mimetype": "text/x-python",
   "name": "python",
   "nbconvert_exporter": "python",
   "pygments_lexer": "ipython3",
   "version": "3.9.12"
  },
  "vscode": {
   "interpreter": {
    "hash": "0ccba871b46202fe891a5da8f1fa45061240964d317113191dbecc63a04b0fa2"
   }
  }
 },
 "nbformat": 4,
 "nbformat_minor": 5
}
