{
 "cells": [
  {
   "attachments": {},
   "cell_type": "markdown",
   "id": "469e933d-39d1-47db-a948-c8961b496dfc",
   "metadata": {},
   "source": [
    "# Final Project: Counties Data Wrangling\n",
    "\n",
    "- **Vintage**:  2020\n",
    "- **Geography Level**: County\n",
    "- **Variables**:\n",
    "    - **DP02_0116E**: Estimate of population (5 years and over) who speaks Spanish at home\n",
    "    - **DP02_0116PE**: Percent of population (5 years and over) who speaks Spanish at home\n",
    "#\n",
    "- **Variables List**:  https://api.census.gov/data/2020/acs/acs5/profile/variables.html \n",
    "- **Supported Geographies**: https://api.census.gov/data/2020/acs/acs5/profile/geography.html\n",
    "\n",
    "### ***Question***:  \n",
    "- Get number and percentage of people who speak Spanish at home for each California county"
   ]
  },
  {
   "attachments": {},
   "cell_type": "markdown",
   "id": "2f3924b9",
   "metadata": {},
   "source": [
    "## 1. Import necessary packages"
   ]
  },
  {
   "cell_type": "code",
   "execution_count": 43,
   "id": "1f7ea856-0600-452b-b2ae-1572e6a679b4",
   "metadata": {},
   "outputs": [],
   "source": [
    "import pandas as pd\n",
    "import json\n",
    "import requests"
   ]
  },
  {
   "attachments": {},
   "cell_type": "markdown",
   "id": "484de62a-4773-4958-a08d-5c486e9b23bb",
   "metadata": {},
   "source": [
    "## 2. Build the API Request URL"
   ]
  },
  {
   "attachments": {},
   "cell_type": "markdown",
   "id": "4b14d038-60bb-4cc0-a6dd-94004f9bd803",
   "metadata": {},
   "source": [
    "- Base URL"
   ]
  },
  {
   "cell_type": "code",
   "execution_count": 44,
   "id": "ca765e9e-fd1c-4ce0-97d1-bc41525131ee",
   "metadata": {},
   "outputs": [],
   "source": [
    "base_url = \"https://api.census.gov/data\""
   ]
  },
  {
   "attachments": {},
   "cell_type": "markdown",
   "id": "afebe9e0-98a7-432d-b211-73db3dfbafef",
   "metadata": {},
   "source": [
    "- Dataset Name"
   ]
  },
  {
   "cell_type": "code",
   "execution_count": 45,
   "id": "38c9a86f-d581-43d5-8459-d205fa25a10b",
   "metadata": {},
   "outputs": [],
   "source": [
    "dataset_name = \"/2020/acs/acs5/profile\""
   ]
  },
  {
   "attachments": {},
   "cell_type": "markdown",
   "id": "1d8ac627-cfa4-44de-8e69-6276ab0fd473",
   "metadata": {},
   "source": [
    "- Get Variables\n",
    "\n",
    "    - **DP02_0116E**: Estimate of population (5 years and over) who speaks Spanish at home\n",
    "    - **DP02_0116PE**: Percent of population (5 years and over) who speaks Spanish at home"
   ]
  },
  {
   "cell_type": "code",
   "execution_count": 46,
   "id": "daf2c356-61db-4fac-9461-d1f763d91d15",
   "metadata": {},
   "outputs": [],
   "source": [
    "get_variables = \"?get=NAME,DP02_0116E,DP02_0116PE\""
   ]
  },
  {
   "attachments": {},
   "cell_type": "markdown",
   "id": "cdadd63b-d9d5-4912-b19a-f2ad7894cf39",
   "metadata": {},
   "source": [
    "- Geography Levels \n",
    "\n",
    "    - Every county in the state of California (FIPS State Code = 06)"
   ]
  },
  {
   "cell_type": "code",
   "execution_count": 47,
   "id": "2ecb8924-df52-49f4-8c71-07fa99e9201d",
   "metadata": {},
   "outputs": [],
   "source": [
    "geography = \"&for=county:*&in=state:06\""
   ]
  },
  {
   "attachments": {},
   "cell_type": "markdown",
   "id": "d9165204-24a1-43f4-8f3d-068aaf9920dc",
   "metadata": {},
   "source": [
    "- Put it all together "
   ]
  },
  {
   "cell_type": "code",
   "execution_count": 48,
   "id": "3901e745-60dd-4938-90a1-c56d1b86892c",
   "metadata": {},
   "outputs": [
    {
     "name": "stdout",
     "output_type": "stream",
     "text": [
      "request_url =  https://api.census.gov/data/2020/acs/acs5/profile?get=NAME,DP02_0116E,DP02_0116PE&for=county:*&in=state:06\n"
     ]
    }
   ],
   "source": [
    "request_url = base_url + dataset_name + get_variables + geography\n",
    "print(\"request_url = \", request_url)"
   ]
  },
  {
   "attachments": {},
   "cell_type": "markdown",
   "id": "a3df3db3-7861-4302-83ed-5d7f27c781ed",
   "metadata": {},
   "source": [
    "## 3. Make the API call"
   ]
  },
  {
   "cell_type": "code",
   "execution_count": 49,
   "id": "9903734f-1da9-47a6-9563-1d7bc7cfc6ab",
   "metadata": {},
   "outputs": [],
   "source": [
    "r = requests.get(request_url)\n",
    "\n",
    "api_results = r.json()"
   ]
  },
  {
   "attachments": {},
   "cell_type": "markdown",
   "id": "f98cddaf-65c6-4b0c-bb5b-ce812e770f4a",
   "metadata": {},
   "source": [
    "## 4. Get the data into a Dataframe "
   ]
  },
  {
   "cell_type": "code",
   "execution_count": 50,
   "id": "7db78496-f09e-4308-9818-6668c3105b77",
   "metadata": {},
   "outputs": [
    {
     "name": "stdout",
     "output_type": "stream",
     "text": [
      "Number of rows: 59\n",
      "Number of columns: 5\n"
     ]
    },
    {
     "data": {
      "text/html": [
       "<div>\n",
       "<style scoped>\n",
       "    .dataframe tbody tr th:only-of-type {\n",
       "        vertical-align: middle;\n",
       "    }\n",
       "\n",
       "    .dataframe tbody tr th {\n",
       "        vertical-align: top;\n",
       "    }\n",
       "\n",
       "    .dataframe thead th {\n",
       "        text-align: right;\n",
       "    }\n",
       "</style>\n",
       "<table border=\"1\" class=\"dataframe\">\n",
       "  <thead>\n",
       "    <tr style=\"text-align: right;\">\n",
       "      <th></th>\n",
       "      <th>0</th>\n",
       "      <th>1</th>\n",
       "      <th>2</th>\n",
       "      <th>3</th>\n",
       "      <th>4</th>\n",
       "    </tr>\n",
       "  </thead>\n",
       "  <tbody>\n",
       "    <tr>\n",
       "      <th>0</th>\n",
       "      <td>NAME</td>\n",
       "      <td>DP02_0116E</td>\n",
       "      <td>DP02_0116PE</td>\n",
       "      <td>state</td>\n",
       "      <td>county</td>\n",
       "    </tr>\n",
       "    <tr>\n",
       "      <th>1</th>\n",
       "      <td>Alameda County, California</td>\n",
       "      <td>250597</td>\n",
       "      <td>16.0</td>\n",
       "      <td>06</td>\n",
       "      <td>001</td>\n",
       "    </tr>\n",
       "    <tr>\n",
       "      <th>2</th>\n",
       "      <td>Alpine County, California</td>\n",
       "      <td>110</td>\n",
       "      <td>10.1</td>\n",
       "      <td>06</td>\n",
       "      <td>003</td>\n",
       "    </tr>\n",
       "    <tr>\n",
       "      <th>3</th>\n",
       "      <td>Butte County, California</td>\n",
       "      <td>21187</td>\n",
       "      <td>10.0</td>\n",
       "      <td>06</td>\n",
       "      <td>007</td>\n",
       "    </tr>\n",
       "    <tr>\n",
       "      <th>4</th>\n",
       "      <td>Colusa County, California</td>\n",
       "      <td>9998</td>\n",
       "      <td>50.2</td>\n",
       "      <td>06</td>\n",
       "      <td>011</td>\n",
       "    </tr>\n",
       "  </tbody>\n",
       "</table>\n",
       "</div>"
      ],
      "text/plain": [
       "                            0           1            2      3       4\n",
       "0                        NAME  DP02_0116E  DP02_0116PE  state  county\n",
       "1  Alameda County, California      250597         16.0     06     001\n",
       "2   Alpine County, California         110         10.1     06     003\n",
       "3    Butte County, California       21187         10.0     06     007\n",
       "4   Colusa County, California        9998         50.2     06     011"
      ]
     },
     "execution_count": 50,
     "metadata": {},
     "output_type": "execute_result"
    }
   ],
   "source": [
    "data = pd.DataFrame(api_results)\n",
    "\n",
    "print(\"Number of rows:\", data.shape[0])\n",
    "print(\"Number of columns:\", data.shape[1])\n",
    "data.head()"
   ]
  },
  {
   "cell_type": "code",
   "execution_count": 51,
   "id": "da717937-b9df-4443-a18e-8c3fe66e7381",
   "metadata": {},
   "outputs": [
    {
     "name": "stdout",
     "output_type": "stream",
     "text": [
      "Number of rows: 58\n",
      "Number of columns: 5\n"
     ]
    },
    {
     "data": {
      "text/html": [
       "<div>\n",
       "<style scoped>\n",
       "    .dataframe tbody tr th:only-of-type {\n",
       "        vertical-align: middle;\n",
       "    }\n",
       "\n",
       "    .dataframe tbody tr th {\n",
       "        vertical-align: top;\n",
       "    }\n",
       "\n",
       "    .dataframe thead th {\n",
       "        text-align: right;\n",
       "    }\n",
       "</style>\n",
       "<table border=\"1\" class=\"dataframe\">\n",
       "  <thead>\n",
       "    <tr style=\"text-align: right;\">\n",
       "      <th></th>\n",
       "      <th>NAME</th>\n",
       "      <th>DP02_0116E</th>\n",
       "      <th>DP02_0116PE</th>\n",
       "      <th>state</th>\n",
       "      <th>county</th>\n",
       "    </tr>\n",
       "  </thead>\n",
       "  <tbody>\n",
       "    <tr>\n",
       "      <th>1</th>\n",
       "      <td>Alameda County, California</td>\n",
       "      <td>250597</td>\n",
       "      <td>16.0</td>\n",
       "      <td>06</td>\n",
       "      <td>001</td>\n",
       "    </tr>\n",
       "    <tr>\n",
       "      <th>2</th>\n",
       "      <td>Alpine County, California</td>\n",
       "      <td>110</td>\n",
       "      <td>10.1</td>\n",
       "      <td>06</td>\n",
       "      <td>003</td>\n",
       "    </tr>\n",
       "    <tr>\n",
       "      <th>3</th>\n",
       "      <td>Butte County, California</td>\n",
       "      <td>21187</td>\n",
       "      <td>10.0</td>\n",
       "      <td>06</td>\n",
       "      <td>007</td>\n",
       "    </tr>\n",
       "    <tr>\n",
       "      <th>4</th>\n",
       "      <td>Colusa County, California</td>\n",
       "      <td>9998</td>\n",
       "      <td>50.2</td>\n",
       "      <td>06</td>\n",
       "      <td>011</td>\n",
       "    </tr>\n",
       "    <tr>\n",
       "      <th>5</th>\n",
       "      <td>Contra Costa County, California</td>\n",
       "      <td>195737</td>\n",
       "      <td>18.1</td>\n",
       "      <td>06</td>\n",
       "      <td>013</td>\n",
       "    </tr>\n",
       "  </tbody>\n",
       "</table>\n",
       "</div>"
      ],
      "text/plain": [
       "0                             NAME DP02_0116E DP02_0116PE state county\n",
       "1       Alameda County, California     250597        16.0    06    001\n",
       "2        Alpine County, California        110        10.1    06    003\n",
       "3         Butte County, California      21187        10.0    06    007\n",
       "4        Colusa County, California       9998        50.2    06    011\n",
       "5  Contra Costa County, California     195737        18.1    06    013"
      ]
     },
     "execution_count": 51,
     "metadata": {},
     "output_type": "execute_result"
    }
   ],
   "source": [
    "# Get the first Row into columns and then get rid of it\n",
    "\n",
    "data.columns = data.iloc[0]\n",
    "\n",
    "data = data.iloc[1:]\n",
    "\n",
    "print(\"Number of rows:\", data.shape[0])\n",
    "print(\"Number of columns:\", data.shape[1])\n",
    "data.head()"
   ]
  },
  {
   "attachments": {},
   "cell_type": "markdown",
   "id": "035b345b",
   "metadata": {},
   "source": [
    "## 6. Add Rural areas"
   ]
  },
  {
   "attachments": {},
   "cell_type": "markdown",
   "id": "cff2f8d9",
   "metadata": {},
   "source": [
    "### 6.1 Import excel with rural areas of California"
   ]
  },
  {
   "cell_type": "code",
   "execution_count": 52,
   "id": "8c9bc77c",
   "metadata": {},
   "outputs": [
    {
     "name": "stdout",
     "output_type": "stream",
     "text": [
      "Number of rows: 58\n",
      "Number of columns: 4\n"
     ]
    },
    {
     "data": {
      "text/html": [
       "<div>\n",
       "<style scoped>\n",
       "    .dataframe tbody tr th:only-of-type {\n",
       "        vertical-align: middle;\n",
       "    }\n",
       "\n",
       "    .dataframe tbody tr th {\n",
       "        vertical-align: top;\n",
       "    }\n",
       "\n",
       "    .dataframe thead th {\n",
       "        text-align: right;\n",
       "    }\n",
       "</style>\n",
       "<table border=\"1\" class=\"dataframe\">\n",
       "  <thead>\n",
       "    <tr style=\"text-align: right;\">\n",
       "      <th></th>\n",
       "      <th>FIPS_Code</th>\n",
       "      <th>Abbreviation</th>\n",
       "      <th>County_Name</th>\n",
       "      <th>Rural_Status</th>\n",
       "    </tr>\n",
       "  </thead>\n",
       "  <tbody>\n",
       "    <tr>\n",
       "      <th>0</th>\n",
       "      <td>06001</td>\n",
       "      <td>CA</td>\n",
       "      <td>Alameda County</td>\n",
       "      <td>1</td>\n",
       "    </tr>\n",
       "    <tr>\n",
       "      <th>1</th>\n",
       "      <td>06003</td>\n",
       "      <td>CA</td>\n",
       "      <td>Alpine County</td>\n",
       "      <td>4</td>\n",
       "    </tr>\n",
       "    <tr>\n",
       "      <th>2</th>\n",
       "      <td>06005</td>\n",
       "      <td>CA</td>\n",
       "      <td>Amador County</td>\n",
       "      <td>4</td>\n",
       "    </tr>\n",
       "    <tr>\n",
       "      <th>3</th>\n",
       "      <td>06007</td>\n",
       "      <td>CA</td>\n",
       "      <td>Butte County</td>\n",
       "      <td>2</td>\n",
       "    </tr>\n",
       "    <tr>\n",
       "      <th>4</th>\n",
       "      <td>06009</td>\n",
       "      <td>CA</td>\n",
       "      <td>Calaveras County</td>\n",
       "      <td>6</td>\n",
       "    </tr>\n",
       "  </tbody>\n",
       "</table>\n",
       "</div>"
      ],
      "text/plain": [
       "  FIPS_Code Abbreviation       County_Name Rural_Status\n",
       "0     06001           CA    Alameda County            1\n",
       "1     06003           CA     Alpine County            4\n",
       "2     06005           CA     Amador County            4\n",
       "3     06007           CA      Butte County            2\n",
       "4     06009           CA  Calaveras County            6"
      ]
     },
     "execution_count": 52,
     "metadata": {},
     "output_type": "execute_result"
    }
   ],
   "source": [
    "rural_areas = pd.read_excel('Data/Rural_areas_California.xlsx', dtype={'FIPS_Code' : str, 'Rural_Status' : str})\n",
    "\n",
    "print(\"Number of rows:\", rural_areas.shape[0])\n",
    "print(\"Number of columns:\", rural_areas.shape[1])\n",
    "rural_areas.head()"
   ]
  },
  {
   "cell_type": "code",
   "execution_count": 53,
   "id": "67f272e8",
   "metadata": {},
   "outputs": [
    {
     "name": "stdout",
     "output_type": "stream",
     "text": [
      "Data types: \n"
     ]
    },
    {
     "data": {
      "text/plain": [
       "FIPS_Code       object\n",
       "Abbreviation    object\n",
       "County_Name     object\n",
       "Rural_Status    object\n",
       "dtype: object"
      ]
     },
     "execution_count": 53,
     "metadata": {},
     "output_type": "execute_result"
    }
   ],
   "source": [
    "# Print data types\n",
    "print(\"Data types: \")\n",
    "rural_areas.dtypes"
   ]
  },
  {
   "attachments": {},
   "cell_type": "markdown",
   "id": "60b672cf",
   "metadata": {},
   "source": [
    "### 6.2. Splitting the NAME column in the dataframe data for merging both dataframes"
   ]
  },
  {
   "cell_type": "code",
   "execution_count": 54,
   "id": "b3126cb4",
   "metadata": {},
   "outputs": [
    {
     "name": "stdout",
     "output_type": "stream",
     "text": [
      "Number of rows: 58\n",
      "Number of columns: 7\n"
     ]
    },
    {
     "data": {
      "text/html": [
       "<div>\n",
       "<style scoped>\n",
       "    .dataframe tbody tr th:only-of-type {\n",
       "        vertical-align: middle;\n",
       "    }\n",
       "\n",
       "    .dataframe tbody tr th {\n",
       "        vertical-align: top;\n",
       "    }\n",
       "\n",
       "    .dataframe thead th {\n",
       "        text-align: right;\n",
       "    }\n",
       "</style>\n",
       "<table border=\"1\" class=\"dataframe\">\n",
       "  <thead>\n",
       "    <tr style=\"text-align: right;\">\n",
       "      <th></th>\n",
       "      <th>NAME</th>\n",
       "      <th>DP02_0116E</th>\n",
       "      <th>DP02_0116PE</th>\n",
       "      <th>state</th>\n",
       "      <th>county</th>\n",
       "      <th>County_Name</th>\n",
       "      <th>State_Name</th>\n",
       "    </tr>\n",
       "  </thead>\n",
       "  <tbody>\n",
       "    <tr>\n",
       "      <th>1</th>\n",
       "      <td>Alameda County, California</td>\n",
       "      <td>250597</td>\n",
       "      <td>16.0</td>\n",
       "      <td>06</td>\n",
       "      <td>001</td>\n",
       "      <td>Alameda County</td>\n",
       "      <td>California</td>\n",
       "    </tr>\n",
       "    <tr>\n",
       "      <th>2</th>\n",
       "      <td>Alpine County, California</td>\n",
       "      <td>110</td>\n",
       "      <td>10.1</td>\n",
       "      <td>06</td>\n",
       "      <td>003</td>\n",
       "      <td>Alpine County</td>\n",
       "      <td>California</td>\n",
       "    </tr>\n",
       "    <tr>\n",
       "      <th>3</th>\n",
       "      <td>Butte County, California</td>\n",
       "      <td>21187</td>\n",
       "      <td>10.0</td>\n",
       "      <td>06</td>\n",
       "      <td>007</td>\n",
       "      <td>Butte County</td>\n",
       "      <td>California</td>\n",
       "    </tr>\n",
       "    <tr>\n",
       "      <th>4</th>\n",
       "      <td>Colusa County, California</td>\n",
       "      <td>9998</td>\n",
       "      <td>50.2</td>\n",
       "      <td>06</td>\n",
       "      <td>011</td>\n",
       "      <td>Colusa County</td>\n",
       "      <td>California</td>\n",
       "    </tr>\n",
       "    <tr>\n",
       "      <th>5</th>\n",
       "      <td>Contra Costa County, California</td>\n",
       "      <td>195737</td>\n",
       "      <td>18.1</td>\n",
       "      <td>06</td>\n",
       "      <td>013</td>\n",
       "      <td>Contra Costa County</td>\n",
       "      <td>California</td>\n",
       "    </tr>\n",
       "  </tbody>\n",
       "</table>\n",
       "</div>"
      ],
      "text/plain": [
       "0                             NAME DP02_0116E DP02_0116PE state county  \\\n",
       "1       Alameda County, California     250597        16.0    06    001   \n",
       "2        Alpine County, California        110        10.1    06    003   \n",
       "3         Butte County, California      21187        10.0    06    007   \n",
       "4        Colusa County, California       9998        50.2    06    011   \n",
       "5  Contra Costa County, California     195737        18.1    06    013   \n",
       "\n",
       "0          County_Name  State_Name  \n",
       "1       Alameda County  California  \n",
       "2        Alpine County  California  \n",
       "3         Butte County  California  \n",
       "4        Colusa County  California  \n",
       "5  Contra Costa County  California  "
      ]
     },
     "execution_count": 54,
     "metadata": {},
     "output_type": "execute_result"
    }
   ],
   "source": [
    "two_new_cols = ['County_Name', 'State_Name']\n",
    "\n",
    "data[two_new_cols] = data['NAME'].str.split(', ',1, expand=True)\n",
    "\n",
    "print(\"Number of rows:\", data.shape[0])\n",
    "print(\"Number of columns:\", data.shape[1])\n",
    "data.head()"
   ]
  },
  {
   "attachments": {},
   "cell_type": "markdown",
   "id": "5f29b1fb",
   "metadata": {},
   "source": [
    "### 6.3. Merge both dataframes (data and rural_areas)"
   ]
  },
  {
   "attachments": {},
   "cell_type": "markdown",
   "id": "f1db17ea",
   "metadata": {},
   "source": [
    "- Assign left and right tables to avoid confusion"
   ]
  },
  {
   "cell_type": "code",
   "execution_count": 55,
   "id": "030b83a9",
   "metadata": {},
   "outputs": [],
   "source": [
    "left_table = data\n",
    "right_table = rural_areas"
   ]
  },
  {
   "attachments": {},
   "cell_type": "markdown",
   "id": "f8a38e44",
   "metadata": {},
   "source": [
    "- Select the joining columns of the left and right tables to avoid confusion"
   ]
  },
  {
   "cell_type": "code",
   "execution_count": 56,
   "id": "11f732ed",
   "metadata": {},
   "outputs": [],
   "source": [
    "left_table_join_field = 'County_Name'\n",
    "right_table_join_field = 'County_Name'"
   ]
  },
  {
   "attachments": {},
   "cell_type": "markdown",
   "id": "04a2edd6",
   "metadata": {},
   "source": [
    "- Merge"
   ]
  },
  {
   "cell_type": "code",
   "execution_count": 57,
   "id": "8ee4b19b",
   "metadata": {},
   "outputs": [
    {
     "name": "stdout",
     "output_type": "stream",
     "text": [
      "\n",
      "Left Table:   (58, 7)\n",
      "Right Table:  (58, 4)\n",
      "Joined Dataframe:  (58, 10)\n",
      "\n"
     ]
    },
    {
     "data": {
      "text/html": [
       "<div>\n",
       "<style scoped>\n",
       "    .dataframe tbody tr th:only-of-type {\n",
       "        vertical-align: middle;\n",
       "    }\n",
       "\n",
       "    .dataframe tbody tr th {\n",
       "        vertical-align: top;\n",
       "    }\n",
       "\n",
       "    .dataframe thead th {\n",
       "        text-align: right;\n",
       "    }\n",
       "</style>\n",
       "<table border=\"1\" class=\"dataframe\">\n",
       "  <thead>\n",
       "    <tr style=\"text-align: right;\">\n",
       "      <th></th>\n",
       "      <th>NAME</th>\n",
       "      <th>DP02_0116E</th>\n",
       "      <th>DP02_0116PE</th>\n",
       "      <th>state</th>\n",
       "      <th>county</th>\n",
       "      <th>County_Name</th>\n",
       "      <th>State_Name</th>\n",
       "      <th>FIPS_Code</th>\n",
       "      <th>Abbreviation</th>\n",
       "      <th>Rural_Status</th>\n",
       "    </tr>\n",
       "  </thead>\n",
       "  <tbody>\n",
       "    <tr>\n",
       "      <th>0</th>\n",
       "      <td>Alameda County, California</td>\n",
       "      <td>250597</td>\n",
       "      <td>16.0</td>\n",
       "      <td>06</td>\n",
       "      <td>001</td>\n",
       "      <td>Alameda County</td>\n",
       "      <td>California</td>\n",
       "      <td>06001</td>\n",
       "      <td>CA</td>\n",
       "      <td>1</td>\n",
       "    </tr>\n",
       "    <tr>\n",
       "      <th>1</th>\n",
       "      <td>Alpine County, California</td>\n",
       "      <td>110</td>\n",
       "      <td>10.1</td>\n",
       "      <td>06</td>\n",
       "      <td>003</td>\n",
       "      <td>Alpine County</td>\n",
       "      <td>California</td>\n",
       "      <td>06003</td>\n",
       "      <td>CA</td>\n",
       "      <td>4</td>\n",
       "    </tr>\n",
       "    <tr>\n",
       "      <th>2</th>\n",
       "      <td>Butte County, California</td>\n",
       "      <td>21187</td>\n",
       "      <td>10.0</td>\n",
       "      <td>06</td>\n",
       "      <td>007</td>\n",
       "      <td>Butte County</td>\n",
       "      <td>California</td>\n",
       "      <td>06007</td>\n",
       "      <td>CA</td>\n",
       "      <td>2</td>\n",
       "    </tr>\n",
       "    <tr>\n",
       "      <th>3</th>\n",
       "      <td>Colusa County, California</td>\n",
       "      <td>9998</td>\n",
       "      <td>50.2</td>\n",
       "      <td>06</td>\n",
       "      <td>011</td>\n",
       "      <td>Colusa County</td>\n",
       "      <td>California</td>\n",
       "      <td>06011</td>\n",
       "      <td>CA</td>\n",
       "      <td>4</td>\n",
       "    </tr>\n",
       "    <tr>\n",
       "      <th>4</th>\n",
       "      <td>Contra Costa County, California</td>\n",
       "      <td>195737</td>\n",
       "      <td>18.1</td>\n",
       "      <td>06</td>\n",
       "      <td>013</td>\n",
       "      <td>Contra Costa County</td>\n",
       "      <td>California</td>\n",
       "      <td>06013</td>\n",
       "      <td>CA</td>\n",
       "      <td>1</td>\n",
       "    </tr>\n",
       "  </tbody>\n",
       "</table>\n",
       "</div>"
      ],
      "text/plain": [
       "                              NAME DP02_0116E DP02_0116PE state county  \\\n",
       "0       Alameda County, California     250597        16.0    06    001   \n",
       "1        Alpine County, California        110        10.1    06    003   \n",
       "2         Butte County, California      21187        10.0    06    007   \n",
       "3        Colusa County, California       9998        50.2    06    011   \n",
       "4  Contra Costa County, California     195737        18.1    06    013   \n",
       "\n",
       "           County_Name  State_Name FIPS_Code Abbreviation Rural_Status  \n",
       "0       Alameda County  California     06001           CA            1  \n",
       "1        Alpine County  California     06003           CA            4  \n",
       "2         Butte County  California     06007           CA            2  \n",
       "3        Colusa County  California     06011           CA            4  \n",
       "4  Contra Costa County  California     06013           CA            1  "
      ]
     },
     "execution_count": 57,
     "metadata": {},
     "output_type": "execute_result"
    }
   ],
   "source": [
    "df = pd.merge(left_table,       \n",
    "                right_table,     \n",
    "                left_on=left_table_join_field,\n",
    "                right_on=right_table_join_field,\n",
    "                how='left'                          # Type of Join:  Left\n",
    "            )\n",
    "\n",
    "print()\n",
    "print(\"Left Table:  \", left_table.shape)\n",
    "print(\"Right Table: \", right_table.shape)\n",
    "print(\"Joined Dataframe: \", df.shape)\n",
    "print()\n",
    "\n",
    "df.head()"
   ]
  },
  {
   "cell_type": "code",
   "execution_count": 58,
   "id": "31564693",
   "metadata": {},
   "outputs": [
    {
     "name": "stdout",
     "output_type": "stream",
     "text": [
      "Data types: \n"
     ]
    },
    {
     "data": {
      "text/plain": [
       "NAME            object\n",
       "DP02_0116E      object\n",
       "DP02_0116PE     object\n",
       "state           object\n",
       "county          object\n",
       "County_Name     object\n",
       "State_Name      object\n",
       "FIPS_Code       object\n",
       "Abbreviation    object\n",
       "Rural_Status    object\n",
       "dtype: object"
      ]
     },
     "execution_count": 58,
     "metadata": {},
     "output_type": "execute_result"
    }
   ],
   "source": [
    "# Print data types\n",
    "print(\"Data types: \")\n",
    "df.dtypes"
   ]
  },
  {
   "attachments": {},
   "cell_type": "markdown",
   "id": "b733e888",
   "metadata": {},
   "source": [
    "## 7. Cleaning"
   ]
  },
  {
   "attachments": {},
   "cell_type": "markdown",
   "id": "1a08fc46",
   "metadata": {},
   "source": [
    "### 7.1. Dropping repeated column"
   ]
  },
  {
   "cell_type": "code",
   "execution_count": 59,
   "id": "db81b1ad",
   "metadata": {},
   "outputs": [
    {
     "name": "stdout",
     "output_type": "stream",
     "text": [
      "Number of rows: 58\n",
      "Number of columns: 9\n"
     ]
    },
    {
     "data": {
      "text/html": [
       "<div>\n",
       "<style scoped>\n",
       "    .dataframe tbody tr th:only-of-type {\n",
       "        vertical-align: middle;\n",
       "    }\n",
       "\n",
       "    .dataframe tbody tr th {\n",
       "        vertical-align: top;\n",
       "    }\n",
       "\n",
       "    .dataframe thead th {\n",
       "        text-align: right;\n",
       "    }\n",
       "</style>\n",
       "<table border=\"1\" class=\"dataframe\">\n",
       "  <thead>\n",
       "    <tr style=\"text-align: right;\">\n",
       "      <th></th>\n",
       "      <th>DP02_0116E</th>\n",
       "      <th>DP02_0116PE</th>\n",
       "      <th>state</th>\n",
       "      <th>county</th>\n",
       "      <th>County_Name</th>\n",
       "      <th>State_Name</th>\n",
       "      <th>FIPS_Code</th>\n",
       "      <th>Abbreviation</th>\n",
       "      <th>Rural_Status</th>\n",
       "    </tr>\n",
       "  </thead>\n",
       "  <tbody>\n",
       "    <tr>\n",
       "      <th>0</th>\n",
       "      <td>250597</td>\n",
       "      <td>16.0</td>\n",
       "      <td>06</td>\n",
       "      <td>001</td>\n",
       "      <td>Alameda County</td>\n",
       "      <td>California</td>\n",
       "      <td>06001</td>\n",
       "      <td>CA</td>\n",
       "      <td>1</td>\n",
       "    </tr>\n",
       "    <tr>\n",
       "      <th>1</th>\n",
       "      <td>110</td>\n",
       "      <td>10.1</td>\n",
       "      <td>06</td>\n",
       "      <td>003</td>\n",
       "      <td>Alpine County</td>\n",
       "      <td>California</td>\n",
       "      <td>06003</td>\n",
       "      <td>CA</td>\n",
       "      <td>4</td>\n",
       "    </tr>\n",
       "    <tr>\n",
       "      <th>2</th>\n",
       "      <td>21187</td>\n",
       "      <td>10.0</td>\n",
       "      <td>06</td>\n",
       "      <td>007</td>\n",
       "      <td>Butte County</td>\n",
       "      <td>California</td>\n",
       "      <td>06007</td>\n",
       "      <td>CA</td>\n",
       "      <td>2</td>\n",
       "    </tr>\n",
       "    <tr>\n",
       "      <th>3</th>\n",
       "      <td>9998</td>\n",
       "      <td>50.2</td>\n",
       "      <td>06</td>\n",
       "      <td>011</td>\n",
       "      <td>Colusa County</td>\n",
       "      <td>California</td>\n",
       "      <td>06011</td>\n",
       "      <td>CA</td>\n",
       "      <td>4</td>\n",
       "    </tr>\n",
       "    <tr>\n",
       "      <th>4</th>\n",
       "      <td>195737</td>\n",
       "      <td>18.1</td>\n",
       "      <td>06</td>\n",
       "      <td>013</td>\n",
       "      <td>Contra Costa County</td>\n",
       "      <td>California</td>\n",
       "      <td>06013</td>\n",
       "      <td>CA</td>\n",
       "      <td>1</td>\n",
       "    </tr>\n",
       "  </tbody>\n",
       "</table>\n",
       "</div>"
      ],
      "text/plain": [
       "  DP02_0116E DP02_0116PE state county          County_Name  State_Name  \\\n",
       "0     250597        16.0    06    001       Alameda County  California   \n",
       "1        110        10.1    06    003        Alpine County  California   \n",
       "2      21187        10.0    06    007         Butte County  California   \n",
       "3       9998        50.2    06    011        Colusa County  California   \n",
       "4     195737        18.1    06    013  Contra Costa County  California   \n",
       "\n",
       "  FIPS_Code Abbreviation Rural_Status  \n",
       "0     06001           CA            1  \n",
       "1     06003           CA            4  \n",
       "2     06007           CA            2  \n",
       "3     06011           CA            4  \n",
       "4     06013           CA            1  "
      ]
     },
     "execution_count": 59,
     "metadata": {},
     "output_type": "execute_result"
    }
   ],
   "source": [
    "df.drop('NAME', axis='columns', inplace=True)\n",
    "\n",
    "print(\"Number of rows:\", df.shape[0])\n",
    "print(\"Number of columns:\", df.shape[1])\n",
    "df.head()"
   ]
  },
  {
   "attachments": {},
   "cell_type": "markdown",
   "id": "cffe9505",
   "metadata": {},
   "source": [
    "### 7.2. Renaming columns"
   ]
  },
  {
   "cell_type": "code",
   "execution_count": 60,
   "id": "bcbdd1e0",
   "metadata": {},
   "outputs": [
    {
     "name": "stdout",
     "output_type": "stream",
     "text": [
      "Number of rows: 58\n",
      "Number of columns: 9\n"
     ]
    },
    {
     "data": {
      "text/html": [
       "<div>\n",
       "<style scoped>\n",
       "    .dataframe tbody tr th:only-of-type {\n",
       "        vertical-align: middle;\n",
       "    }\n",
       "\n",
       "    .dataframe tbody tr th {\n",
       "        vertical-align: top;\n",
       "    }\n",
       "\n",
       "    .dataframe thead th {\n",
       "        text-align: right;\n",
       "    }\n",
       "</style>\n",
       "<table border=\"1\" class=\"dataframe\">\n",
       "  <thead>\n",
       "    <tr style=\"text-align: right;\">\n",
       "      <th></th>\n",
       "      <th>Language spoken at home (Spanish) (DP02_0116E)</th>\n",
       "      <th>Language spoken at home (Spanish) - Percent (DP02_0116PE)</th>\n",
       "      <th>FIPS_State</th>\n",
       "      <th>FIPS_County</th>\n",
       "      <th>County_Name</th>\n",
       "      <th>State_Name</th>\n",
       "      <th>FIPS_Code_Full</th>\n",
       "      <th>State_Abbreviation</th>\n",
       "      <th>Rural_Status</th>\n",
       "    </tr>\n",
       "  </thead>\n",
       "  <tbody>\n",
       "    <tr>\n",
       "      <th>0</th>\n",
       "      <td>250597</td>\n",
       "      <td>16.0</td>\n",
       "      <td>06</td>\n",
       "      <td>001</td>\n",
       "      <td>Alameda County</td>\n",
       "      <td>California</td>\n",
       "      <td>06001</td>\n",
       "      <td>CA</td>\n",
       "      <td>1</td>\n",
       "    </tr>\n",
       "    <tr>\n",
       "      <th>1</th>\n",
       "      <td>110</td>\n",
       "      <td>10.1</td>\n",
       "      <td>06</td>\n",
       "      <td>003</td>\n",
       "      <td>Alpine County</td>\n",
       "      <td>California</td>\n",
       "      <td>06003</td>\n",
       "      <td>CA</td>\n",
       "      <td>4</td>\n",
       "    </tr>\n",
       "    <tr>\n",
       "      <th>2</th>\n",
       "      <td>21187</td>\n",
       "      <td>10.0</td>\n",
       "      <td>06</td>\n",
       "      <td>007</td>\n",
       "      <td>Butte County</td>\n",
       "      <td>California</td>\n",
       "      <td>06007</td>\n",
       "      <td>CA</td>\n",
       "      <td>2</td>\n",
       "    </tr>\n",
       "    <tr>\n",
       "      <th>3</th>\n",
       "      <td>9998</td>\n",
       "      <td>50.2</td>\n",
       "      <td>06</td>\n",
       "      <td>011</td>\n",
       "      <td>Colusa County</td>\n",
       "      <td>California</td>\n",
       "      <td>06011</td>\n",
       "      <td>CA</td>\n",
       "      <td>4</td>\n",
       "    </tr>\n",
       "    <tr>\n",
       "      <th>4</th>\n",
       "      <td>195737</td>\n",
       "      <td>18.1</td>\n",
       "      <td>06</td>\n",
       "      <td>013</td>\n",
       "      <td>Contra Costa County</td>\n",
       "      <td>California</td>\n",
       "      <td>06013</td>\n",
       "      <td>CA</td>\n",
       "      <td>1</td>\n",
       "    </tr>\n",
       "  </tbody>\n",
       "</table>\n",
       "</div>"
      ],
      "text/plain": [
       "  Language spoken at home (Spanish) (DP02_0116E)  \\\n",
       "0                                         250597   \n",
       "1                                            110   \n",
       "2                                          21187   \n",
       "3                                           9998   \n",
       "4                                         195737   \n",
       "\n",
       "  Language spoken at home (Spanish) - Percent (DP02_0116PE) FIPS_State  \\\n",
       "0                                               16.0                06   \n",
       "1                                               10.1                06   \n",
       "2                                               10.0                06   \n",
       "3                                               50.2                06   \n",
       "4                                               18.1                06   \n",
       "\n",
       "  FIPS_County          County_Name  State_Name FIPS_Code_Full  \\\n",
       "0         001       Alameda County  California          06001   \n",
       "1         003        Alpine County  California          06003   \n",
       "2         007         Butte County  California          06007   \n",
       "3         011        Colusa County  California          06011   \n",
       "4         013  Contra Costa County  California          06013   \n",
       "\n",
       "  State_Abbreviation Rural_Status  \n",
       "0                 CA            1  \n",
       "1                 CA            4  \n",
       "2                 CA            2  \n",
       "3                 CA            4  \n",
       "4                 CA            1  "
      ]
     },
     "execution_count": 60,
     "metadata": {},
     "output_type": "execute_result"
    }
   ],
   "source": [
    "cols_to_rename = {\n",
    "                   'DP02_0116E' : 'Language spoken at home (Spanish) (DP02_0116E)', \n",
    "                   'DP02_0116PE' : 'Language spoken at home (Spanish) - Percent (DP02_0116PE)', \n",
    "                   'state' : 'FIPS_State', \n",
    "                   'county' : 'FIPS_County',\n",
    "                   'Abbreviation' : 'State_Abbreviation',\n",
    "                   'FIPS_Code' : 'FIPS_Code_Full'\n",
    "                 }\n",
    "df.rename(columns = cols_to_rename, inplace=True)\n",
    "\n",
    "print(\"Number of rows:\", df.shape[0])\n",
    "print(\"Number of columns:\", df.shape[1])\n",
    "df.head()"
   ]
  },
  {
   "attachments": {},
   "cell_type": "markdown",
   "id": "2162acb6",
   "metadata": {},
   "source": [
    "### 7.3. Reordering columns"
   ]
  },
  {
   "cell_type": "code",
   "execution_count": 61,
   "id": "7b16f7c1",
   "metadata": {},
   "outputs": [
    {
     "name": "stdout",
     "output_type": "stream",
     "text": [
      "Number of rows: 58\n",
      "Number of columns: 9\n"
     ]
    },
    {
     "data": {
      "text/html": [
       "<div>\n",
       "<style scoped>\n",
       "    .dataframe tbody tr th:only-of-type {\n",
       "        vertical-align: middle;\n",
       "    }\n",
       "\n",
       "    .dataframe tbody tr th {\n",
       "        vertical-align: top;\n",
       "    }\n",
       "\n",
       "    .dataframe thead th {\n",
       "        text-align: right;\n",
       "    }\n",
       "</style>\n",
       "<table border=\"1\" class=\"dataframe\">\n",
       "  <thead>\n",
       "    <tr style=\"text-align: right;\">\n",
       "      <th></th>\n",
       "      <th>County_Name</th>\n",
       "      <th>FIPS_State</th>\n",
       "      <th>FIPS_County</th>\n",
       "      <th>FIPS_Code_Full</th>\n",
       "      <th>Rural_Status</th>\n",
       "      <th>Language spoken at home (Spanish) (DP02_0116E)</th>\n",
       "      <th>Language spoken at home (Spanish) - Percent (DP02_0116PE)</th>\n",
       "      <th>State_Name</th>\n",
       "      <th>State_Abbreviation</th>\n",
       "    </tr>\n",
       "  </thead>\n",
       "  <tbody>\n",
       "    <tr>\n",
       "      <th>0</th>\n",
       "      <td>Alameda County</td>\n",
       "      <td>06</td>\n",
       "      <td>001</td>\n",
       "      <td>06001</td>\n",
       "      <td>1</td>\n",
       "      <td>250597</td>\n",
       "      <td>16.0</td>\n",
       "      <td>California</td>\n",
       "      <td>CA</td>\n",
       "    </tr>\n",
       "    <tr>\n",
       "      <th>1</th>\n",
       "      <td>Alpine County</td>\n",
       "      <td>06</td>\n",
       "      <td>003</td>\n",
       "      <td>06003</td>\n",
       "      <td>4</td>\n",
       "      <td>110</td>\n",
       "      <td>10.1</td>\n",
       "      <td>California</td>\n",
       "      <td>CA</td>\n",
       "    </tr>\n",
       "    <tr>\n",
       "      <th>2</th>\n",
       "      <td>Butte County</td>\n",
       "      <td>06</td>\n",
       "      <td>007</td>\n",
       "      <td>06007</td>\n",
       "      <td>2</td>\n",
       "      <td>21187</td>\n",
       "      <td>10.0</td>\n",
       "      <td>California</td>\n",
       "      <td>CA</td>\n",
       "    </tr>\n",
       "    <tr>\n",
       "      <th>3</th>\n",
       "      <td>Colusa County</td>\n",
       "      <td>06</td>\n",
       "      <td>011</td>\n",
       "      <td>06011</td>\n",
       "      <td>4</td>\n",
       "      <td>9998</td>\n",
       "      <td>50.2</td>\n",
       "      <td>California</td>\n",
       "      <td>CA</td>\n",
       "    </tr>\n",
       "    <tr>\n",
       "      <th>4</th>\n",
       "      <td>Contra Costa County</td>\n",
       "      <td>06</td>\n",
       "      <td>013</td>\n",
       "      <td>06013</td>\n",
       "      <td>1</td>\n",
       "      <td>195737</td>\n",
       "      <td>18.1</td>\n",
       "      <td>California</td>\n",
       "      <td>CA</td>\n",
       "    </tr>\n",
       "  </tbody>\n",
       "</table>\n",
       "</div>"
      ],
      "text/plain": [
       "           County_Name FIPS_State FIPS_County FIPS_Code_Full Rural_Status  \\\n",
       "0       Alameda County         06         001          06001            1   \n",
       "1        Alpine County         06         003          06003            4   \n",
       "2         Butte County         06         007          06007            2   \n",
       "3        Colusa County         06         011          06011            4   \n",
       "4  Contra Costa County         06         013          06013            1   \n",
       "\n",
       "  Language spoken at home (Spanish) (DP02_0116E)  \\\n",
       "0                                         250597   \n",
       "1                                            110   \n",
       "2                                          21187   \n",
       "3                                           9998   \n",
       "4                                         195737   \n",
       "\n",
       "  Language spoken at home (Spanish) - Percent (DP02_0116PE)  State_Name  \\\n",
       "0                                               16.0         California   \n",
       "1                                               10.1         California   \n",
       "2                                               10.0         California   \n",
       "3                                               50.2         California   \n",
       "4                                               18.1         California   \n",
       "\n",
       "  State_Abbreviation  \n",
       "0                 CA  \n",
       "1                 CA  \n",
       "2                 CA  \n",
       "3                 CA  \n",
       "4                 CA  "
      ]
     },
     "execution_count": 61,
     "metadata": {},
     "output_type": "execute_result"
    }
   ],
   "source": [
    "cols_to_keep = ['County_Name', 'FIPS_State', 'FIPS_County', 'FIPS_Code_Full', 'Rural_Status', 'Language spoken at home (Spanish) (DP02_0116E)', 'Language spoken at home (Spanish) - Percent (DP02_0116PE)', 'State_Name', 'State_Abbreviation']\n",
    "df = df[cols_to_keep]\n",
    "\n",
    "print(\"Number of rows:\", df.shape[0])\n",
    "print(\"Number of columns:\", df.shape[1])\n",
    "df.head()"
   ]
  },
  {
   "attachments": {},
   "cell_type": "markdown",
   "id": "1230461f",
   "metadata": {},
   "source": [
    "### 7.4. Convert Rural_Status column"
   ]
  },
  {
   "cell_type": "code",
   "execution_count": 62,
   "id": "f4cf6909",
   "metadata": {},
   "outputs": [
    {
     "name": "stdout",
     "output_type": "stream",
     "text": [
      "Number of rows: 58\n",
      "Number of columns: 9\n"
     ]
    },
    {
     "data": {
      "text/html": [
       "<div>\n",
       "<style scoped>\n",
       "    .dataframe tbody tr th:only-of-type {\n",
       "        vertical-align: middle;\n",
       "    }\n",
       "\n",
       "    .dataframe tbody tr th {\n",
       "        vertical-align: top;\n",
       "    }\n",
       "\n",
       "    .dataframe thead th {\n",
       "        text-align: right;\n",
       "    }\n",
       "</style>\n",
       "<table border=\"1\" class=\"dataframe\">\n",
       "  <thead>\n",
       "    <tr style=\"text-align: right;\">\n",
       "      <th></th>\n",
       "      <th>County_Name</th>\n",
       "      <th>FIPS_State</th>\n",
       "      <th>FIPS_County</th>\n",
       "      <th>FIPS_Code_Full</th>\n",
       "      <th>Rural_Status</th>\n",
       "      <th>Language spoken at home (Spanish) (DP02_0116E)</th>\n",
       "      <th>Language spoken at home (Spanish) - Percent (DP02_0116PE)</th>\n",
       "      <th>State_Name</th>\n",
       "      <th>State_Abbreviation</th>\n",
       "    </tr>\n",
       "  </thead>\n",
       "  <tbody>\n",
       "    <tr>\n",
       "      <th>0</th>\n",
       "      <td>Alameda County</td>\n",
       "      <td>06</td>\n",
       "      <td>001</td>\n",
       "      <td>06001</td>\n",
       "      <td>Urban</td>\n",
       "      <td>250597</td>\n",
       "      <td>16.0</td>\n",
       "      <td>California</td>\n",
       "      <td>CA</td>\n",
       "    </tr>\n",
       "    <tr>\n",
       "      <th>1</th>\n",
       "      <td>Alpine County</td>\n",
       "      <td>06</td>\n",
       "      <td>003</td>\n",
       "      <td>06003</td>\n",
       "      <td>Rural</td>\n",
       "      <td>110</td>\n",
       "      <td>10.1</td>\n",
       "      <td>California</td>\n",
       "      <td>CA</td>\n",
       "    </tr>\n",
       "    <tr>\n",
       "      <th>2</th>\n",
       "      <td>Butte County</td>\n",
       "      <td>06</td>\n",
       "      <td>007</td>\n",
       "      <td>06007</td>\n",
       "      <td>Urban</td>\n",
       "      <td>21187</td>\n",
       "      <td>10.0</td>\n",
       "      <td>California</td>\n",
       "      <td>CA</td>\n",
       "    </tr>\n",
       "    <tr>\n",
       "      <th>3</th>\n",
       "      <td>Colusa County</td>\n",
       "      <td>06</td>\n",
       "      <td>011</td>\n",
       "      <td>06011</td>\n",
       "      <td>Rural</td>\n",
       "      <td>9998</td>\n",
       "      <td>50.2</td>\n",
       "      <td>California</td>\n",
       "      <td>CA</td>\n",
       "    </tr>\n",
       "    <tr>\n",
       "      <th>4</th>\n",
       "      <td>Contra Costa County</td>\n",
       "      <td>06</td>\n",
       "      <td>013</td>\n",
       "      <td>06013</td>\n",
       "      <td>Urban</td>\n",
       "      <td>195737</td>\n",
       "      <td>18.1</td>\n",
       "      <td>California</td>\n",
       "      <td>CA</td>\n",
       "    </tr>\n",
       "  </tbody>\n",
       "</table>\n",
       "</div>"
      ],
      "text/plain": [
       "           County_Name FIPS_State FIPS_County FIPS_Code_Full Rural_Status  \\\n",
       "0       Alameda County         06         001          06001        Urban   \n",
       "1        Alpine County         06         003          06003        Rural   \n",
       "2         Butte County         06         007          06007        Urban   \n",
       "3        Colusa County         06         011          06011        Rural   \n",
       "4  Contra Costa County         06         013          06013        Urban   \n",
       "\n",
       "  Language spoken at home (Spanish) (DP02_0116E)  \\\n",
       "0                                         250597   \n",
       "1                                            110   \n",
       "2                                          21187   \n",
       "3                                           9998   \n",
       "4                                         195737   \n",
       "\n",
       "  Language spoken at home (Spanish) - Percent (DP02_0116PE)  State_Name  \\\n",
       "0                                               16.0         California   \n",
       "1                                               10.1         California   \n",
       "2                                               10.0         California   \n",
       "3                                               50.2         California   \n",
       "4                                               18.1         California   \n",
       "\n",
       "  State_Abbreviation  \n",
       "0                 CA  \n",
       "1                 CA  \n",
       "2                 CA  \n",
       "3                 CA  \n",
       "4                 CA  "
      ]
     },
     "execution_count": 62,
     "metadata": {},
     "output_type": "execute_result"
    }
   ],
   "source": [
    "# Rural areas\n",
    "rural_numbers = ['3', '4', '5', '6', '7', '8', '9', '10', '11', '12']\n",
    "for num in rural_numbers:\n",
    "    df['Rural_Status'] = df['Rural_Status'].str.replace(num,'Rural')\n",
    "\n",
    "# Urban areas\n",
    "urban_numbers = ['1','2']\n",
    "for num in urban_numbers:\n",
    "    df['Rural_Status'] = df['Rural_Status'].str.replace(num,'Urban')\n",
    "\n",
    "# Print\n",
    "print(\"Number of rows:\", df.shape[0])\n",
    "print(\"Number of columns:\", df.shape[1])\n",
    "df.head()"
   ]
  },
  {
   "attachments": {},
   "cell_type": "markdown",
   "id": "dc013c3d",
   "metadata": {},
   "source": [
    "## 8. Save the Dataframe as a CSV file"
   ]
  },
  {
   "cell_type": "code",
   "execution_count": 63,
   "id": "45fc1db7",
   "metadata": {},
   "outputs": [],
   "source": [
    "csv_file_to_create = \"Counties_Data.csv\"\n",
    "\n",
    "filename_with_path = \"Data/\" + csv_file_to_create\n",
    "df.to_csv(filename_with_path, index=False)"
   ]
  }
 ],
 "metadata": {
  "kernelspec": {
   "display_name": "Python 3",
   "language": "python",
   "name": "python3"
  },
  "language_info": {
   "codemirror_mode": {
    "name": "ipython",
    "version": 3
   },
   "file_extension": ".py",
   "mimetype": "text/x-python",
   "name": "python",
   "nbconvert_exporter": "python",
   "pygments_lexer": "ipython3",
   "version": "3.9.12"
  },
  "vscode": {
   "interpreter": {
    "hash": "0ccba871b46202fe891a5da8f1fa45061240964d317113191dbecc63a04b0fa2"
   }
  }
 },
 "nbformat": 4,
 "nbformat_minor": 5
}
