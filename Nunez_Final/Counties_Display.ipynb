{
 "cells": [
  {
   "attachments": {},
   "cell_type": "markdown",
   "metadata": {},
   "source": [
    "# Final Project: Counties Display\n",
    "\n",
    "- **Vintage**:  2020\n",
    "- **Geography Level**: County    \n",
    "- **Variables**:  https://api.census.gov/data/2020/acs/acs5/profile/variables.html \n",
    "- **Supported Geographies**: https://api.census.gov/data/2020/acs/acs5/profile/geography.html\n",
    "\n",
    "### ***Question***:  What is the estimation and percent of population who speak Spanish at home for each county in California?  "
   ]
  },
  {
   "cell_type": "code",
   "execution_count": 6,
   "metadata": {},
   "outputs": [],
   "source": [
    "import pandas as pd\n",
    "import plotly.express as px"
   ]
  },
  {
   "attachments": {},
   "cell_type": "markdown",
   "metadata": {},
   "source": [
    "## 1. Read csv file"
   ]
  },
  {
   "cell_type": "code",
   "execution_count": 7,
   "metadata": {
    "tags": []
   },
   "outputs": [
    {
     "name": "stdout",
     "output_type": "stream",
     "text": [
      "(58, 8)\n"
     ]
    },
    {
     "data": {
      "text/html": [
       "<div>\n",
       "<style scoped>\n",
       "    .dataframe tbody tr th:only-of-type {\n",
       "        vertical-align: middle;\n",
       "    }\n",
       "\n",
       "    .dataframe tbody tr th {\n",
       "        vertical-align: top;\n",
       "    }\n",
       "\n",
       "    .dataframe thead th {\n",
       "        text-align: right;\n",
       "    }\n",
       "</style>\n",
       "<table border=\"1\" class=\"dataframe\">\n",
       "  <thead>\n",
       "    <tr style=\"text-align: right;\">\n",
       "      <th></th>\n",
       "      <th>County_Name</th>\n",
       "      <th>FIPS_State</th>\n",
       "      <th>FIPS_County</th>\n",
       "      <th>Rural_Status</th>\n",
       "      <th>Language spoken at home (Spanish) (DP02_0116E)</th>\n",
       "      <th>Language spoken at home (Spanish) - Percent (DP02_0116PE)</th>\n",
       "      <th>State_Name</th>\n",
       "      <th>Abbreviation</th>\n",
       "    </tr>\n",
       "  </thead>\n",
       "  <tbody>\n",
       "    <tr>\n",
       "      <th>0</th>\n",
       "      <td>Alameda County</td>\n",
       "      <td>06</td>\n",
       "      <td>001</td>\n",
       "      <td>Urban</td>\n",
       "      <td>250597</td>\n",
       "      <td>16.0</td>\n",
       "      <td>California</td>\n",
       "      <td>CA</td>\n",
       "    </tr>\n",
       "    <tr>\n",
       "      <th>1</th>\n",
       "      <td>Alpine County</td>\n",
       "      <td>06</td>\n",
       "      <td>003</td>\n",
       "      <td>Rural</td>\n",
       "      <td>110</td>\n",
       "      <td>10.1</td>\n",
       "      <td>California</td>\n",
       "      <td>CA</td>\n",
       "    </tr>\n",
       "    <tr>\n",
       "      <th>2</th>\n",
       "      <td>Butte County</td>\n",
       "      <td>06</td>\n",
       "      <td>007</td>\n",
       "      <td>Urban</td>\n",
       "      <td>21187</td>\n",
       "      <td>10.0</td>\n",
       "      <td>California</td>\n",
       "      <td>CA</td>\n",
       "    </tr>\n",
       "    <tr>\n",
       "      <th>3</th>\n",
       "      <td>Colusa County</td>\n",
       "      <td>06</td>\n",
       "      <td>011</td>\n",
       "      <td>Rural</td>\n",
       "      <td>9998</td>\n",
       "      <td>50.2</td>\n",
       "      <td>California</td>\n",
       "      <td>CA</td>\n",
       "    </tr>\n",
       "    <tr>\n",
       "      <th>4</th>\n",
       "      <td>Contra Costa County</td>\n",
       "      <td>06</td>\n",
       "      <td>013</td>\n",
       "      <td>Urban</td>\n",
       "      <td>195737</td>\n",
       "      <td>18.1</td>\n",
       "      <td>California</td>\n",
       "      <td>CA</td>\n",
       "    </tr>\n",
       "  </tbody>\n",
       "</table>\n",
       "</div>"
      ],
      "text/plain": [
       "           County_Name FIPS_State FIPS_County Rural_Status  \\\n",
       "0       Alameda County         06         001        Urban   \n",
       "1        Alpine County         06         003        Rural   \n",
       "2         Butte County         06         007        Urban   \n",
       "3        Colusa County         06         011        Rural   \n",
       "4  Contra Costa County         06         013        Urban   \n",
       "\n",
       "   Language spoken at home (Spanish) (DP02_0116E)  \\\n",
       "0                                          250597   \n",
       "1                                             110   \n",
       "2                                           21187   \n",
       "3                                            9998   \n",
       "4                                          195737   \n",
       "\n",
       "   Language spoken at home (Spanish) - Percent (DP02_0116PE)  State_Name  \\\n",
       "0                                               16.0          California   \n",
       "1                                               10.1          California   \n",
       "2                                               10.0          California   \n",
       "3                                               50.2          California   \n",
       "4                                               18.1          California   \n",
       "\n",
       "  Abbreviation  \n",
       "0           CA  \n",
       "1           CA  \n",
       "2           CA  \n",
       "3           CA  \n",
       "4           CA  "
      ]
     },
     "execution_count": 7,
     "metadata": {},
     "output_type": "execute_result"
    }
   ],
   "source": [
    "df = pd.read_csv('Data/Counties_Data.csv', dtype={'FIPS_State' : str, \n",
    "                                                  'FIPS_County' : str})\n",
    "print(df.shape)\n",
    "df.head()"
   ]
  },
  {
   "cell_type": "code",
   "execution_count": 8,
   "metadata": {},
   "outputs": [
    {
     "name": "stdout",
     "output_type": "stream",
     "text": [
      "Data types: \n"
     ]
    },
    {
     "data": {
      "text/plain": [
       "County_Name                                                   object\n",
       "FIPS_State                                                    object\n",
       "FIPS_County                                                   object\n",
       "Rural_Status                                                  object\n",
       "Language spoken at home (Spanish) (DP02_0116E)                 int64\n",
       "Language spoken at home (Spanish) - Percent (DP02_0116PE)    float64\n",
       "State_Name                                                    object\n",
       "Abbreviation                                                  object\n",
       "dtype: object"
      ]
     },
     "execution_count": 8,
     "metadata": {},
     "output_type": "execute_result"
    }
   ],
   "source": [
    "print(\"Data types: \")\n",
    "df.dtypes"
   ]
  },
  {
   "attachments": {},
   "cell_type": "markdown",
   "metadata": {},
   "source": [
    "## 2. Plot Bar Chart Top 5 for:"
   ]
  },
  {
   "attachments": {},
   "cell_type": "markdown",
   "metadata": {},
   "source": [
    "### 2.1. Language spoken at home (Spanish) (DP02_0116E)"
   ]
  },
  {
   "attachments": {},
   "cell_type": "markdown",
   "metadata": {},
   "source": [
    "#### - Sort values"
   ]
  },
  {
   "cell_type": "code",
   "execution_count": 9,
   "metadata": {},
   "outputs": [
    {
     "data": {
      "text/html": [
       "<div>\n",
       "<style scoped>\n",
       "    .dataframe tbody tr th:only-of-type {\n",
       "        vertical-align: middle;\n",
       "    }\n",
       "\n",
       "    .dataframe tbody tr th {\n",
       "        vertical-align: top;\n",
       "    }\n",
       "\n",
       "    .dataframe thead th {\n",
       "        text-align: right;\n",
       "    }\n",
       "</style>\n",
       "<table border=\"1\" class=\"dataframe\">\n",
       "  <thead>\n",
       "    <tr style=\"text-align: right;\">\n",
       "      <th></th>\n",
       "      <th>County_Name</th>\n",
       "      <th>FIPS_State</th>\n",
       "      <th>FIPS_County</th>\n",
       "      <th>Rural_Status</th>\n",
       "      <th>Language spoken at home (Spanish) (DP02_0116E)</th>\n",
       "      <th>Language spoken at home (Spanish) - Percent (DP02_0116PE)</th>\n",
       "      <th>State_Name</th>\n",
       "      <th>Abbreviation</th>\n",
       "    </tr>\n",
       "  </thead>\n",
       "  <tbody>\n",
       "    <tr>\n",
       "      <th>51</th>\n",
       "      <td>Los Angeles County</td>\n",
       "      <td>06</td>\n",
       "      <td>037</td>\n",
       "      <td>Urban</td>\n",
       "      <td>3657846</td>\n",
       "      <td>38.7</td>\n",
       "      <td>California</td>\n",
       "      <td>CA</td>\n",
       "    </tr>\n",
       "    <tr>\n",
       "      <th>24</th>\n",
       "      <td>Riverside County</td>\n",
       "      <td>06</td>\n",
       "      <td>065</td>\n",
       "      <td>Urban</td>\n",
       "      <td>779766</td>\n",
       "      <td>34.2</td>\n",
       "      <td>California</td>\n",
       "      <td>CA</td>\n",
       "    </tr>\n",
       "    <tr>\n",
       "      <th>28</th>\n",
       "      <td>San Diego County</td>\n",
       "      <td>06</td>\n",
       "      <td>073</td>\n",
       "      <td>Urban</td>\n",
       "      <td>753804</td>\n",
       "      <td>24.2</td>\n",
       "      <td>California</td>\n",
       "      <td>CA</td>\n",
       "    </tr>\n",
       "    <tr>\n",
       "      <th>21</th>\n",
       "      <td>Orange County</td>\n",
       "      <td>06</td>\n",
       "      <td>059</td>\n",
       "      <td>Urban</td>\n",
       "      <td>732305</td>\n",
       "      <td>24.5</td>\n",
       "      <td>California</td>\n",
       "      <td>CA</td>\n",
       "    </tr>\n",
       "    <tr>\n",
       "      <th>27</th>\n",
       "      <td>San Bernardino County</td>\n",
       "      <td>06</td>\n",
       "      <td>071</td>\n",
       "      <td>Urban</td>\n",
       "      <td>689338</td>\n",
       "      <td>34.3</td>\n",
       "      <td>California</td>\n",
       "      <td>CA</td>\n",
       "    </tr>\n",
       "  </tbody>\n",
       "</table>\n",
       "</div>"
      ],
      "text/plain": [
       "              County_Name FIPS_State FIPS_County Rural_Status  \\\n",
       "51     Los Angeles County         06         037        Urban   \n",
       "24       Riverside County         06         065        Urban   \n",
       "28       San Diego County         06         073        Urban   \n",
       "21          Orange County         06         059        Urban   \n",
       "27  San Bernardino County         06         071        Urban   \n",
       "\n",
       "    Language spoken at home (Spanish) (DP02_0116E)  \\\n",
       "51                                         3657846   \n",
       "24                                          779766   \n",
       "28                                          753804   \n",
       "21                                          732305   \n",
       "27                                          689338   \n",
       "\n",
       "    Language spoken at home (Spanish) - Percent (DP02_0116PE)  State_Name  \\\n",
       "51                                               38.7          California   \n",
       "24                                               34.2          California   \n",
       "28                                               24.2          California   \n",
       "21                                               24.5          California   \n",
       "27                                               34.3          California   \n",
       "\n",
       "   Abbreviation  \n",
       "51           CA  \n",
       "24           CA  \n",
       "28           CA  \n",
       "21           CA  \n",
       "27           CA  "
      ]
     },
     "execution_count": 9,
     "metadata": {},
     "output_type": "execute_result"
    }
   ],
   "source": [
    "df_estimate = df.sort_values(by=\"Language spoken at home (Spanish) (DP02_0116E)\", ascending=False)\n",
    "df_estimate.head()"
   ]
  },
  {
   "attachments": {},
   "cell_type": "markdown",
   "metadata": {},
   "source": [
    "#### - Get Top 10"
   ]
  },
  {
   "cell_type": "code",
   "execution_count": 10,
   "metadata": {},
   "outputs": [
    {
     "data": {
      "text/html": [
       "<div>\n",
       "<style scoped>\n",
       "    .dataframe tbody tr th:only-of-type {\n",
       "        vertical-align: middle;\n",
       "    }\n",
       "\n",
       "    .dataframe tbody tr th {\n",
       "        vertical-align: top;\n",
       "    }\n",
       "\n",
       "    .dataframe thead th {\n",
       "        text-align: right;\n",
       "    }\n",
       "</style>\n",
       "<table border=\"1\" class=\"dataframe\">\n",
       "  <thead>\n",
       "    <tr style=\"text-align: right;\">\n",
       "      <th></th>\n",
       "      <th>County_Name</th>\n",
       "      <th>FIPS_State</th>\n",
       "      <th>FIPS_County</th>\n",
       "      <th>Rural_Status</th>\n",
       "      <th>Language spoken at home (Spanish) (DP02_0116E)</th>\n",
       "      <th>Language spoken at home (Spanish) - Percent (DP02_0116PE)</th>\n",
       "      <th>State_Name</th>\n",
       "      <th>Abbreviation</th>\n",
       "    </tr>\n",
       "  </thead>\n",
       "  <tbody>\n",
       "    <tr>\n",
       "      <th>51</th>\n",
       "      <td>Los Angeles County</td>\n",
       "      <td>06</td>\n",
       "      <td>037</td>\n",
       "      <td>Urban</td>\n",
       "      <td>3657846</td>\n",
       "      <td>38.7</td>\n",
       "      <td>California</td>\n",
       "      <td>CA</td>\n",
       "    </tr>\n",
       "    <tr>\n",
       "      <th>24</th>\n",
       "      <td>Riverside County</td>\n",
       "      <td>06</td>\n",
       "      <td>065</td>\n",
       "      <td>Urban</td>\n",
       "      <td>779766</td>\n",
       "      <td>34.2</td>\n",
       "      <td>California</td>\n",
       "      <td>CA</td>\n",
       "    </tr>\n",
       "    <tr>\n",
       "      <th>28</th>\n",
       "      <td>San Diego County</td>\n",
       "      <td>06</td>\n",
       "      <td>073</td>\n",
       "      <td>Urban</td>\n",
       "      <td>753804</td>\n",
       "      <td>24.2</td>\n",
       "      <td>California</td>\n",
       "      <td>CA</td>\n",
       "    </tr>\n",
       "    <tr>\n",
       "      <th>21</th>\n",
       "      <td>Orange County</td>\n",
       "      <td>06</td>\n",
       "      <td>059</td>\n",
       "      <td>Urban</td>\n",
       "      <td>732305</td>\n",
       "      <td>24.5</td>\n",
       "      <td>California</td>\n",
       "      <td>CA</td>\n",
       "    </tr>\n",
       "    <tr>\n",
       "      <th>27</th>\n",
       "      <td>San Bernardino County</td>\n",
       "      <td>06</td>\n",
       "      <td>071</td>\n",
       "      <td>Urban</td>\n",
       "      <td>689338</td>\n",
       "      <td>34.3</td>\n",
       "      <td>California</td>\n",
       "      <td>CA</td>\n",
       "    </tr>\n",
       "  </tbody>\n",
       "</table>\n",
       "</div>"
      ],
      "text/plain": [
       "              County_Name FIPS_State FIPS_County Rural_Status  \\\n",
       "51     Los Angeles County         06         037        Urban   \n",
       "24       Riverside County         06         065        Urban   \n",
       "28       San Diego County         06         073        Urban   \n",
       "21          Orange County         06         059        Urban   \n",
       "27  San Bernardino County         06         071        Urban   \n",
       "\n",
       "    Language spoken at home (Spanish) (DP02_0116E)  \\\n",
       "51                                         3657846   \n",
       "24                                          779766   \n",
       "28                                          753804   \n",
       "21                                          732305   \n",
       "27                                          689338   \n",
       "\n",
       "    Language spoken at home (Spanish) - Percent (DP02_0116PE)  State_Name  \\\n",
       "51                                               38.7          California   \n",
       "24                                               34.2          California   \n",
       "28                                               24.2          California   \n",
       "21                                               24.5          California   \n",
       "27                                               34.3          California   \n",
       "\n",
       "   Abbreviation  \n",
       "51           CA  \n",
       "24           CA  \n",
       "28           CA  \n",
       "21           CA  \n",
       "27           CA  "
      ]
     },
     "execution_count": 10,
     "metadata": {},
     "output_type": "execute_result"
    }
   ],
   "source": [
    "df_estimate = df_estimate.iloc[ : 5]\n",
    "df_estimate"
   ]
  },
  {
   "attachments": {},
   "cell_type": "markdown",
   "metadata": {},
   "source": [
    "#### - Plot bar chart"
   ]
  },
  {
   "cell_type": "code",
   "execution_count": 11,
   "metadata": {},
   "outputs": [],
   "source": [
    "df_estimate.sort_values(by=\"Language spoken at home (Spanish) (DP02_0116E)\", ascending=True, inplace=True)"
   ]
  },
  {
   "cell_type": "code",
   "execution_count": 20,
   "metadata": {},
   "outputs": [
    {
     "data": {
      "application/vnd.plotly.v1+json": {
       "config": {
        "plotlyServerURL": "https://plot.ly"
       },
       "data": [
        {
         "alignmentgroup": "True",
         "hovertemplate": "County_Name=%{x}<br>Language spoken at home (Spanish) (DP02_0116E)=%{text}<extra></extra>",
         "legendgroup": "",
         "marker": {
          "color": "#1F77B4",
          "pattern": {
           "shape": ""
          }
         },
         "name": "",
         "offsetgroup": "",
         "orientation": "v",
         "showlegend": false,
         "text": [
          689338,
          732305,
          753804,
          779766,
          3657846
         ],
         "textposition": "auto",
         "texttemplate": "%{text:,.2s}",
         "type": "bar",
         "x": [
          "San Bernardino County",
          "Orange County",
          "San Diego County",
          "Riverside County",
          "Los Angeles County"
         ],
         "xaxis": "x",
         "y": [
          689338,
          732305,
          753804,
          779766,
          3657846
         ],
         "yaxis": "y"
        }
       ],
       "layout": {
        "barmode": "relative",
        "legend": {
         "tracegroupgap": 0
        },
        "template": {
         "data": {
          "pie": [
           {
            "automargin": true,
            "type": "pie"
           }
          ]
         },
         "layout": {
          "xaxis": {
           "showgrid": true,
           "title": {
            "standoff": 15
           }
          },
          "yaxis": {
           "showgrid": true,
           "title": {
            "standoff": 15
           }
          }
         }
        },
        "title": {
         "text": "Top 5 Counties with Spanish as first language at home (in California) (DP02_0116E)"
        },
        "xaxis": {
         "anchor": "y",
         "domain": [
          0,
          1
         ],
         "title": {
          "text": "County_Name"
         }
        },
        "yaxis": {
         "anchor": "x",
         "domain": [
          0,
          1
         ],
         "title": {
          "text": "Language spoken at home (Spanish) (DP02_0116E)"
         }
        }
       }
      }
     },
     "metadata": {},
     "output_type": "display_data"
    }
   ],
   "source": [
    "fig = px.bar(df_estimate,              \n",
    "             x='County_Name', \n",
    "             y='Language spoken at home (Spanish) (DP02_0116E)',\n",
    "             text='Language spoken at home (Spanish) (DP02_0116E)',\n",
    "             orientation='v',   \n",
    "             template='gridon',\n",
    "             title='Top 5 Counties with Spanish as first language at home (in California) (DP02_0116E)')\n",
    "\n",
    "# Formatting bar labels\n",
    "fig.update_traces(textposition='auto', \n",
    "                  texttemplate='%{text:,.2s}'\n",
    "                 )\n",
    "\n",
    "fig.show()"
   ]
  },
  {
   "attachments": {},
   "cell_type": "markdown",
   "metadata": {},
   "source": [
    "### 2.2. Language spoken at home (Spanish) - Percent (DP02_0116PE)"
   ]
  },
  {
   "attachments": {},
   "cell_type": "markdown",
   "metadata": {},
   "source": [
    "#### - Sort values"
   ]
  },
  {
   "cell_type": "code",
   "execution_count": 13,
   "metadata": {},
   "outputs": [
    {
     "data": {
      "text/html": [
       "<div>\n",
       "<style scoped>\n",
       "    .dataframe tbody tr th:only-of-type {\n",
       "        vertical-align: middle;\n",
       "    }\n",
       "\n",
       "    .dataframe tbody tr th {\n",
       "        vertical-align: top;\n",
       "    }\n",
       "\n",
       "    .dataframe thead th {\n",
       "        text-align: right;\n",
       "    }\n",
       "</style>\n",
       "<table border=\"1\" class=\"dataframe\">\n",
       "  <thead>\n",
       "    <tr style=\"text-align: right;\">\n",
       "      <th></th>\n",
       "      <th>County_Name</th>\n",
       "      <th>FIPS_State</th>\n",
       "      <th>FIPS_County</th>\n",
       "      <th>Rural_Status</th>\n",
       "      <th>Language spoken at home (Spanish) (DP02_0116E)</th>\n",
       "      <th>Language spoken at home (Spanish) - Percent (DP02_0116PE)</th>\n",
       "      <th>State_Name</th>\n",
       "      <th>Abbreviation</th>\n",
       "    </tr>\n",
       "  </thead>\n",
       "  <tbody>\n",
       "    <tr>\n",
       "      <th>8</th>\n",
       "      <td>Imperial County</td>\n",
       "      <td>06</td>\n",
       "      <td>025</td>\n",
       "      <td>Urban</td>\n",
       "      <td>122197</td>\n",
       "      <td>73.6</td>\n",
       "      <td>California</td>\n",
       "      <td>CA</td>\n",
       "    </tr>\n",
       "    <tr>\n",
       "      <th>3</th>\n",
       "      <td>Colusa County</td>\n",
       "      <td>06</td>\n",
       "      <td>011</td>\n",
       "      <td>Rural</td>\n",
       "      <td>9998</td>\n",
       "      <td>50.2</td>\n",
       "      <td>California</td>\n",
       "      <td>CA</td>\n",
       "    </tr>\n",
       "    <tr>\n",
       "      <th>18</th>\n",
       "      <td>Monterey County</td>\n",
       "      <td>06</td>\n",
       "      <td>053</td>\n",
       "      <td>Urban</td>\n",
       "      <td>194372</td>\n",
       "      <td>48.3</td>\n",
       "      <td>California</td>\n",
       "      <td>CA</td>\n",
       "    </tr>\n",
       "    <tr>\n",
       "      <th>40</th>\n",
       "      <td>Tulare County</td>\n",
       "      <td>06</td>\n",
       "      <td>107</td>\n",
       "      <td>Urban</td>\n",
       "      <td>201625</td>\n",
       "      <td>47.2</td>\n",
       "      <td>California</td>\n",
       "      <td>CA</td>\n",
       "    </tr>\n",
       "    <tr>\n",
       "      <th>16</th>\n",
       "      <td>Merced County</td>\n",
       "      <td>06</td>\n",
       "      <td>047</td>\n",
       "      <td>Urban</td>\n",
       "      <td>110652</td>\n",
       "      <td>43.8</td>\n",
       "      <td>California</td>\n",
       "      <td>CA</td>\n",
       "    </tr>\n",
       "  </tbody>\n",
       "</table>\n",
       "</div>"
      ],
      "text/plain": [
       "        County_Name FIPS_State FIPS_County Rural_Status  \\\n",
       "8   Imperial County         06         025        Urban   \n",
       "3     Colusa County         06         011        Rural   \n",
       "18  Monterey County         06         053        Urban   \n",
       "40    Tulare County         06         107        Urban   \n",
       "16    Merced County         06         047        Urban   \n",
       "\n",
       "    Language spoken at home (Spanish) (DP02_0116E)  \\\n",
       "8                                           122197   \n",
       "3                                             9998   \n",
       "18                                          194372   \n",
       "40                                          201625   \n",
       "16                                          110652   \n",
       "\n",
       "    Language spoken at home (Spanish) - Percent (DP02_0116PE)  State_Name  \\\n",
       "8                                                73.6          California   \n",
       "3                                                50.2          California   \n",
       "18                                               48.3          California   \n",
       "40                                               47.2          California   \n",
       "16                                               43.8          California   \n",
       "\n",
       "   Abbreviation  \n",
       "8            CA  \n",
       "3            CA  \n",
       "18           CA  \n",
       "40           CA  \n",
       "16           CA  "
      ]
     },
     "execution_count": 13,
     "metadata": {},
     "output_type": "execute_result"
    }
   ],
   "source": [
    "df_percent = df.sort_values(by=\"Language spoken at home (Spanish) - Percent (DP02_0116PE)\", ascending=False)\n",
    "df_percent.head()"
   ]
  },
  {
   "attachments": {},
   "cell_type": "markdown",
   "metadata": {},
   "source": [
    "#### - Get Top 10"
   ]
  },
  {
   "cell_type": "code",
   "execution_count": 14,
   "metadata": {},
   "outputs": [
    {
     "data": {
      "text/html": [
       "<div>\n",
       "<style scoped>\n",
       "    .dataframe tbody tr th:only-of-type {\n",
       "        vertical-align: middle;\n",
       "    }\n",
       "\n",
       "    .dataframe tbody tr th {\n",
       "        vertical-align: top;\n",
       "    }\n",
       "\n",
       "    .dataframe thead th {\n",
       "        text-align: right;\n",
       "    }\n",
       "</style>\n",
       "<table border=\"1\" class=\"dataframe\">\n",
       "  <thead>\n",
       "    <tr style=\"text-align: right;\">\n",
       "      <th></th>\n",
       "      <th>County_Name</th>\n",
       "      <th>FIPS_State</th>\n",
       "      <th>FIPS_County</th>\n",
       "      <th>Rural_Status</th>\n",
       "      <th>Language spoken at home (Spanish) (DP02_0116E)</th>\n",
       "      <th>Language spoken at home (Spanish) - Percent (DP02_0116PE)</th>\n",
       "      <th>State_Name</th>\n",
       "      <th>Abbreviation</th>\n",
       "    </tr>\n",
       "  </thead>\n",
       "  <tbody>\n",
       "    <tr>\n",
       "      <th>8</th>\n",
       "      <td>Imperial County</td>\n",
       "      <td>06</td>\n",
       "      <td>025</td>\n",
       "      <td>Urban</td>\n",
       "      <td>122197</td>\n",
       "      <td>73.6</td>\n",
       "      <td>California</td>\n",
       "      <td>CA</td>\n",
       "    </tr>\n",
       "    <tr>\n",
       "      <th>3</th>\n",
       "      <td>Colusa County</td>\n",
       "      <td>06</td>\n",
       "      <td>011</td>\n",
       "      <td>Rural</td>\n",
       "      <td>9998</td>\n",
       "      <td>50.2</td>\n",
       "      <td>California</td>\n",
       "      <td>CA</td>\n",
       "    </tr>\n",
       "    <tr>\n",
       "      <th>18</th>\n",
       "      <td>Monterey County</td>\n",
       "      <td>06</td>\n",
       "      <td>053</td>\n",
       "      <td>Urban</td>\n",
       "      <td>194372</td>\n",
       "      <td>48.3</td>\n",
       "      <td>California</td>\n",
       "      <td>CA</td>\n",
       "    </tr>\n",
       "    <tr>\n",
       "      <th>40</th>\n",
       "      <td>Tulare County</td>\n",
       "      <td>06</td>\n",
       "      <td>107</td>\n",
       "      <td>Urban</td>\n",
       "      <td>201625</td>\n",
       "      <td>47.2</td>\n",
       "      <td>California</td>\n",
       "      <td>CA</td>\n",
       "    </tr>\n",
       "    <tr>\n",
       "      <th>16</th>\n",
       "      <td>Merced County</td>\n",
       "      <td>06</td>\n",
       "      <td>047</td>\n",
       "      <td>Urban</td>\n",
       "      <td>110652</td>\n",
       "      <td>43.8</td>\n",
       "      <td>California</td>\n",
       "      <td>CA</td>\n",
       "    </tr>\n",
       "  </tbody>\n",
       "</table>\n",
       "</div>"
      ],
      "text/plain": [
       "        County_Name FIPS_State FIPS_County Rural_Status  \\\n",
       "8   Imperial County         06         025        Urban   \n",
       "3     Colusa County         06         011        Rural   \n",
       "18  Monterey County         06         053        Urban   \n",
       "40    Tulare County         06         107        Urban   \n",
       "16    Merced County         06         047        Urban   \n",
       "\n",
       "    Language spoken at home (Spanish) (DP02_0116E)  \\\n",
       "8                                           122197   \n",
       "3                                             9998   \n",
       "18                                          194372   \n",
       "40                                          201625   \n",
       "16                                          110652   \n",
       "\n",
       "    Language spoken at home (Spanish) - Percent (DP02_0116PE)  State_Name  \\\n",
       "8                                                73.6          California   \n",
       "3                                                50.2          California   \n",
       "18                                               48.3          California   \n",
       "40                                               47.2          California   \n",
       "16                                               43.8          California   \n",
       "\n",
       "   Abbreviation  \n",
       "8            CA  \n",
       "3            CA  \n",
       "18           CA  \n",
       "40           CA  \n",
       "16           CA  "
      ]
     },
     "execution_count": 14,
     "metadata": {},
     "output_type": "execute_result"
    }
   ],
   "source": [
    "df_percent = df_percent.iloc[ : 5]\n",
    "df_percent"
   ]
  },
  {
   "attachments": {},
   "cell_type": "markdown",
   "metadata": {},
   "source": [
    "#### - Get value in percentage format"
   ]
  },
  {
   "cell_type": "code",
   "execution_count": 15,
   "metadata": {},
   "outputs": [],
   "source": [
    "df_percent['Language spoken at home (Spanish) - Percent (DP02_0116PE)'] = df_percent['Language spoken at home (Spanish) - Percent (DP02_0116PE)'] / 100"
   ]
  },
  {
   "attachments": {},
   "cell_type": "markdown",
   "metadata": {},
   "source": [
    "#### - Plot bar chart"
   ]
  },
  {
   "cell_type": "code",
   "execution_count": 16,
   "metadata": {},
   "outputs": [],
   "source": [
    "df_percent.sort_values(by=\"Language spoken at home (Spanish) - Percent (DP02_0116PE)\", ascending=True, inplace=True)"
   ]
  },
  {
   "cell_type": "code",
   "execution_count": 21,
   "metadata": {},
   "outputs": [
    {
     "data": {
      "application/vnd.plotly.v1+json": {
       "config": {
        "plotlyServerURL": "https://plot.ly"
       },
       "data": [
        {
         "alignmentgroup": "True",
         "hovertemplate": "County_Name=%{x}<br>Language spoken at home (Spanish) - Percent (DP02_0116PE)=%{text}<extra></extra>",
         "legendgroup": "",
         "marker": {
          "color": "#1F77B4",
          "pattern": {
           "shape": ""
          }
         },
         "name": "",
         "offsetgroup": "",
         "orientation": "v",
         "showlegend": false,
         "text": [
          0.43799999999999994,
          0.47200000000000003,
          0.483,
          0.502,
          0.736
         ],
         "textposition": "auto",
         "texttemplate": "%{text:.1%}",
         "type": "bar",
         "x": [
          "Merced County",
          "Tulare County",
          "Monterey County",
          "Colusa County",
          "Imperial County"
         ],
         "xaxis": "x",
         "y": [
          0.43799999999999994,
          0.47200000000000003,
          0.483,
          0.502,
          0.736
         ],
         "yaxis": "y"
        }
       ],
       "layout": {
        "barmode": "relative",
        "legend": {
         "tracegroupgap": 0
        },
        "template": {
         "data": {
          "pie": [
           {
            "automargin": true,
            "type": "pie"
           }
          ]
         },
         "layout": {
          "xaxis": {
           "showgrid": true,
           "title": {
            "standoff": 15
           }
          },
          "yaxis": {
           "showgrid": true,
           "title": {
            "standoff": 15
           }
          }
         }
        },
        "title": {
         "text": "Top 5 Counties with Spanish as first language at home (in California) - Percent (DP02_0116PE)"
        },
        "xaxis": {
         "anchor": "y",
         "domain": [
          0,
          1
         ],
         "title": {
          "text": "County_Name"
         }
        },
        "yaxis": {
         "anchor": "x",
         "domain": [
          0,
          1
         ],
         "title": {
          "text": "Language spoken at home (Spanish) - Percent (DP02_0116PE)"
         }
        }
       }
      }
     },
     "metadata": {},
     "output_type": "display_data"
    }
   ],
   "source": [
    "fig = px.bar(df_percent,              \n",
    "             x='County_Name', \n",
    "             y='Language spoken at home (Spanish) - Percent (DP02_0116PE)',\n",
    "             text='Language spoken at home (Spanish) - Percent (DP02_0116PE)',\n",
    "             orientation='v',   \n",
    "             template='gridon',\n",
    "             title='Top 5 Counties with Spanish as first language at home (in California) - Percent (DP02_0116PE)')\n",
    "\n",
    "# Formatting bar labels\n",
    "fig.update_traces(textposition='auto', \n",
    "                  texttemplate='%{text:.1%}'\n",
    "                 )\n",
    "\n",
    "fig.show()"
   ]
  },
  {
   "attachments": {},
   "cell_type": "markdown",
   "metadata": {},
   "source": [
    "## 3. Plot US State Map for:"
   ]
  },
  {
   "attachments": {},
   "cell_type": "markdown",
   "metadata": {},
   "source": [
    "### 3.1. Language spoken at home (Spanish) (DP02_0116E)"
   ]
  },
  {
   "cell_type": "code",
   "execution_count": 18,
   "metadata": {},
   "outputs": [
    {
     "ename": "ValueError",
     "evalue": "Value of 'locations' is not the name of a column in 'data_frame'. Expected one of ['County_Name', 'FIPS_State', 'FIPS_County', 'Rural_Status', 'Language spoken at home (Spanish) (DP02_0116E)', 'Language spoken at home (Spanish) - Percent (DP02_0116PE)', 'State_Name', 'Abbreviation'] but received: State_Abbreviation",
     "output_type": "error",
     "traceback": [
      "\u001b[1;31m---------------------------------------------------------------------------\u001b[0m",
      "\u001b[1;31mValueError\u001b[0m                                Traceback (most recent call last)",
      "\u001b[1;32mc:\\Users\\W10\\WCU\\Python for analytics\\Nunez_Final\\Counties_Display.ipynb Celda 27\u001b[0m in \u001b[0;36m<cell line: 1>\u001b[1;34m()\u001b[0m\n\u001b[1;32m----> <a href='vscode-notebook-cell:/c%3A/Users/W10/WCU/Python%20for%20analytics/Nunez_Final/Counties_Display.ipynb#X35sZmlsZQ%3D%3D?line=0'>1</a>\u001b[0m fig \u001b[39m=\u001b[39m px\u001b[39m.\u001b[39;49mchoropleth(df, \n\u001b[0;32m      <a href='vscode-notebook-cell:/c%3A/Users/W10/WCU/Python%20for%20analytics/Nunez_Final/Counties_Display.ipynb#X35sZmlsZQ%3D%3D?line=1'>2</a>\u001b[0m                     scope\u001b[39m=\u001b[39;49m\u001b[39m\"\u001b[39;49m\u001b[39musa\u001b[39;49m\u001b[39m\"\u001b[39;49m,    \n\u001b[0;32m      <a href='vscode-notebook-cell:/c%3A/Users/W10/WCU/Python%20for%20analytics/Nunez_Final/Counties_Display.ipynb#X35sZmlsZQ%3D%3D?line=2'>3</a>\u001b[0m                     locationmode\u001b[39m=\u001b[39;49m\u001b[39m'\u001b[39;49m\u001b[39mUSA-states\u001b[39;49m\u001b[39m'\u001b[39;49m,          \u001b[39m# Plot states of USA\u001b[39;49;00m\n\u001b[0;32m      <a href='vscode-notebook-cell:/c%3A/Users/W10/WCU/Python%20for%20analytics/Nunez_Final/Counties_Display.ipynb#X35sZmlsZQ%3D%3D?line=3'>4</a>\u001b[0m                     locations\u001b[39m=\u001b[39;49m\u001b[39m'\u001b[39;49m\u001b[39mState_Abbreviation\u001b[39;49m\u001b[39m'\u001b[39;49m,     \u001b[39m# Column containing State Abbeviations                   \u001b[39;49;00m\n\u001b[0;32m      <a href='vscode-notebook-cell:/c%3A/Users/W10/WCU/Python%20for%20analytics/Nunez_Final/Counties_Display.ipynb#X35sZmlsZQ%3D%3D?line=4'>5</a>\u001b[0m                     \n\u001b[0;32m      <a href='vscode-notebook-cell:/c%3A/Users/W10/WCU/Python%20for%20analytics/Nunez_Final/Counties_Display.ipynb#X35sZmlsZQ%3D%3D?line=5'>6</a>\u001b[0m                     color\u001b[39m=\u001b[39;49m\u001b[39m'\u001b[39;49m\u001b[39mLanguage spoken at home (Spanish) (DP02_0116E)\u001b[39;49m\u001b[39m'\u001b[39;49m,             \u001b[39m# Column determining map color for each State\u001b[39;49;00m\n\u001b[0;32m      <a href='vscode-notebook-cell:/c%3A/Users/W10/WCU/Python%20for%20analytics/Nunez_Final/Counties_Display.ipynb#X35sZmlsZQ%3D%3D?line=6'>7</a>\u001b[0m                     hover_name\u001b[39m=\u001b[39;49m\u001b[39m'\u001b[39;49m\u001b[39mState_Name\u001b[39;49m\u001b[39m'\u001b[39;49m,            \u001b[39m# Sets top label of Tooltip\u001b[39;49;00m\n\u001b[0;32m      <a href='vscode-notebook-cell:/c%3A/Users/W10/WCU/Python%20for%20analytics/Nunez_Final/Counties_Display.ipynb#X35sZmlsZQ%3D%3D?line=7'>8</a>\u001b[0m                     color_continuous_scale\u001b[39m=\u001b[39;49m\u001b[39m'\u001b[39;49m\u001b[39mOrRd\u001b[39;49m\u001b[39m'\u001b[39;49m, \n\u001b[0;32m      <a href='vscode-notebook-cell:/c%3A/Users/W10/WCU/Python%20for%20analytics/Nunez_Final/Counties_Display.ipynb#X35sZmlsZQ%3D%3D?line=8'>9</a>\u001b[0m                     title\u001b[39m=\u001b[39;49m\u001b[39m\"\u001b[39;49m\u001b[39mWhat is the estimation of population for each US state who speak Spanish at home? \u001b[39;49m\u001b[39m\"\u001b[39;49m\n\u001b[0;32m     <a href='vscode-notebook-cell:/c%3A/Users/W10/WCU/Python%20for%20analytics/Nunez_Final/Counties_Display.ipynb#X35sZmlsZQ%3D%3D?line=9'>10</a>\u001b[0m                    )\n\u001b[0;32m     <a href='vscode-notebook-cell:/c%3A/Users/W10/WCU/Python%20for%20analytics/Nunez_Final/Counties_Display.ipynb#X35sZmlsZQ%3D%3D?line=11'>12</a>\u001b[0m fig\u001b[39m.\u001b[39mupdate_layout(margin\u001b[39m=\u001b[39m{\u001b[39m\"\u001b[39m\u001b[39mr\u001b[39m\u001b[39m\"\u001b[39m:\u001b[39m0\u001b[39m,\u001b[39m\"\u001b[39m\u001b[39mt\u001b[39m\u001b[39m\"\u001b[39m:\u001b[39m50\u001b[39m,\u001b[39m\"\u001b[39m\u001b[39ml\u001b[39m\u001b[39m\"\u001b[39m:\u001b[39m0\u001b[39m,\u001b[39m\"\u001b[39m\u001b[39mb\u001b[39m\u001b[39m\"\u001b[39m:\u001b[39m0\u001b[39m})\n\u001b[0;32m     <a href='vscode-notebook-cell:/c%3A/Users/W10/WCU/Python%20for%20analytics/Nunez_Final/Counties_Display.ipynb#X35sZmlsZQ%3D%3D?line=13'>14</a>\u001b[0m fig\u001b[39m.\u001b[39mshow()\n",
      "File \u001b[1;32mc:\\Users\\W10\\anaconda3\\envs\\Cis340_Fall_2022\\lib\\site-packages\\plotly\\express\\_chart_types.py:1091\u001b[0m, in \u001b[0;36mchoropleth\u001b[1;34m(data_frame, lat, lon, locations, locationmode, geojson, featureidkey, color, facet_row, facet_col, facet_col_wrap, facet_row_spacing, facet_col_spacing, hover_name, hover_data, custom_data, animation_frame, animation_group, category_orders, labels, color_discrete_sequence, color_discrete_map, color_continuous_scale, range_color, color_continuous_midpoint, projection, scope, center, fitbounds, basemap_visible, title, template, width, height)\u001b[0m\n\u001b[0;32m   1051\u001b[0m \u001b[39mdef\u001b[39;00m \u001b[39mchoropleth\u001b[39m(\n\u001b[0;32m   1052\u001b[0m     data_frame\u001b[39m=\u001b[39m\u001b[39mNone\u001b[39;00m,\n\u001b[0;32m   1053\u001b[0m     lat\u001b[39m=\u001b[39m\u001b[39mNone\u001b[39;00m,\n\u001b[1;32m   (...)\u001b[0m\n\u001b[0;32m   1085\u001b[0m     height\u001b[39m=\u001b[39m\u001b[39mNone\u001b[39;00m,\n\u001b[0;32m   1086\u001b[0m ) \u001b[39m-\u001b[39m\u001b[39m>\u001b[39m go\u001b[39m.\u001b[39mFigure:\n\u001b[0;32m   1087\u001b[0m     \u001b[39m\"\"\"\u001b[39;00m\n\u001b[0;32m   1088\u001b[0m \u001b[39m    In a choropleth map, each row of `data_frame` is represented by a\u001b[39;00m\n\u001b[0;32m   1089\u001b[0m \u001b[39m    colored region mark on a map.\u001b[39;00m\n\u001b[0;32m   1090\u001b[0m \u001b[39m    \"\"\"\u001b[39;00m\n\u001b[1;32m-> 1091\u001b[0m     \u001b[39mreturn\u001b[39;00m make_figure(\n\u001b[0;32m   1092\u001b[0m         args\u001b[39m=\u001b[39;49m\u001b[39mlocals\u001b[39;49m(),\n\u001b[0;32m   1093\u001b[0m         constructor\u001b[39m=\u001b[39;49mgo\u001b[39m.\u001b[39;49mChoropleth,\n\u001b[0;32m   1094\u001b[0m         trace_patch\u001b[39m=\u001b[39;49m\u001b[39mdict\u001b[39;49m(locationmode\u001b[39m=\u001b[39;49mlocationmode),\n\u001b[0;32m   1095\u001b[0m     )\n",
      "File \u001b[1;32mc:\\Users\\W10\\anaconda3\\envs\\Cis340_Fall_2022\\lib\\site-packages\\plotly\\express\\_core.py:1990\u001b[0m, in \u001b[0;36mmake_figure\u001b[1;34m(args, constructor, trace_patch, layout_patch)\u001b[0m\n\u001b[0;32m   1987\u001b[0m layout_patch \u001b[39m=\u001b[39m layout_patch \u001b[39mor\u001b[39;00m {}\n\u001b[0;32m   1988\u001b[0m apply_default_cascade(args)\n\u001b[1;32m-> 1990\u001b[0m args \u001b[39m=\u001b[39m build_dataframe(args, constructor)\n\u001b[0;32m   1991\u001b[0m \u001b[39mif\u001b[39;00m constructor \u001b[39min\u001b[39;00m [go\u001b[39m.\u001b[39mTreemap, go\u001b[39m.\u001b[39mSunburst, go\u001b[39m.\u001b[39mIcicle] \u001b[39mand\u001b[39;00m args[\u001b[39m\"\u001b[39m\u001b[39mpath\u001b[39m\u001b[39m\"\u001b[39m] \u001b[39mis\u001b[39;00m \u001b[39mnot\u001b[39;00m \u001b[39mNone\u001b[39;00m:\n\u001b[0;32m   1992\u001b[0m     args \u001b[39m=\u001b[39m process_dataframe_hierarchy(args)\n",
      "File \u001b[1;32mc:\\Users\\W10\\anaconda3\\envs\\Cis340_Fall_2022\\lib\\site-packages\\plotly\\express\\_core.py:1405\u001b[0m, in \u001b[0;36mbuild_dataframe\u001b[1;34m(args, constructor)\u001b[0m\n\u001b[0;32m   1402\u001b[0m     args[\u001b[39m\"\u001b[39m\u001b[39mcolor\u001b[39m\u001b[39m\"\u001b[39m] \u001b[39m=\u001b[39m \u001b[39mNone\u001b[39;00m\n\u001b[0;32m   1403\u001b[0m \u001b[39m# now that things have been prepped, we do the systematic rewriting of `args`\u001b[39;00m\n\u001b[1;32m-> 1405\u001b[0m df_output, wide_id_vars \u001b[39m=\u001b[39m process_args_into_dataframe(\n\u001b[0;32m   1406\u001b[0m     args, wide_mode, var_name, value_name\n\u001b[0;32m   1407\u001b[0m )\n\u001b[0;32m   1409\u001b[0m \u001b[39m# now that `df_output` exists and `args` contains only references, we complete\u001b[39;00m\n\u001b[0;32m   1410\u001b[0m \u001b[39m# the special-case and wide-mode handling by further rewriting args and/or mutating\u001b[39;00m\n\u001b[0;32m   1411\u001b[0m \u001b[39m# df_output\u001b[39;00m\n\u001b[0;32m   1413\u001b[0m count_name \u001b[39m=\u001b[39m _escape_col_name(df_output, \u001b[39m\"\u001b[39m\u001b[39mcount\u001b[39m\u001b[39m\"\u001b[39m, [var_name, value_name])\n",
      "File \u001b[1;32mc:\\Users\\W10\\anaconda3\\envs\\Cis340_Fall_2022\\lib\\site-packages\\plotly\\express\\_core.py:1207\u001b[0m, in \u001b[0;36mprocess_args_into_dataframe\u001b[1;34m(args, wide_mode, var_name, value_name)\u001b[0m\n\u001b[0;32m   1205\u001b[0m         \u001b[39mif\u001b[39;00m argument \u001b[39m==\u001b[39m \u001b[39m\"\u001b[39m\u001b[39mindex\u001b[39m\u001b[39m\"\u001b[39m:\n\u001b[0;32m   1206\u001b[0m             err_msg \u001b[39m+\u001b[39m\u001b[39m=\u001b[39m \u001b[39m\"\u001b[39m\u001b[39m\\n\u001b[39;00m\u001b[39m To use the index, pass it in directly as `df.index`.\u001b[39m\u001b[39m\"\u001b[39m\n\u001b[1;32m-> 1207\u001b[0m         \u001b[39mraise\u001b[39;00m \u001b[39mValueError\u001b[39;00m(err_msg)\n\u001b[0;32m   1208\u001b[0m \u001b[39melif\u001b[39;00m length \u001b[39mand\u001b[39;00m \u001b[39mlen\u001b[39m(df_input[argument]) \u001b[39m!=\u001b[39m length:\n\u001b[0;32m   1209\u001b[0m     \u001b[39mraise\u001b[39;00m \u001b[39mValueError\u001b[39;00m(\n\u001b[0;32m   1210\u001b[0m         \u001b[39m\"\u001b[39m\u001b[39mAll arguments should have the same length. \u001b[39m\u001b[39m\"\u001b[39m\n\u001b[0;32m   1211\u001b[0m         \u001b[39m\"\u001b[39m\u001b[39mThe length of column argument `df[\u001b[39m\u001b[39m%s\u001b[39;00m\u001b[39m]` is \u001b[39m\u001b[39m%d\u001b[39;00m\u001b[39m, whereas the \u001b[39m\u001b[39m\"\u001b[39m\n\u001b[1;32m   (...)\u001b[0m\n\u001b[0;32m   1218\u001b[0m         )\n\u001b[0;32m   1219\u001b[0m     )\n",
      "\u001b[1;31mValueError\u001b[0m: Value of 'locations' is not the name of a column in 'data_frame'. Expected one of ['County_Name', 'FIPS_State', 'FIPS_County', 'Rural_Status', 'Language spoken at home (Spanish) (DP02_0116E)', 'Language spoken at home (Spanish) - Percent (DP02_0116PE)', 'State_Name', 'Abbreviation'] but received: State_Abbreviation"
     ]
    }
   ],
   "source": [
    "fig = px.choropleth(df, \n",
    "                    scope=\"usa\",    \n",
    "                    locationmode='USA-states',          # Plot states of USA\n",
    "                    locations='State_Abbreviation',     # Column containing State Abbeviations                   \n",
    "                    \n",
    "                    color='Language spoken at home (Spanish) (DP02_0116E)',             # Column determining map color for each State\n",
    "                    hover_name='State_Name',            # Sets top label of Tooltip\n",
    "                    color_continuous_scale='OrRd', \n",
    "                    title=\"What is the estimation of population for each US state who speak Spanish at home? \"\n",
    "                   )\n",
    "\n",
    "fig.update_layout(margin={\"r\":0,\"t\":50,\"l\":0,\"b\":0})\n",
    "\n",
    "fig.show()"
   ]
  },
  {
   "attachments": {},
   "cell_type": "markdown",
   "metadata": {},
   "source": [
    "### 3.2. Language spoken at home (Spanish) - Percent (DP02_0116PE)"
   ]
  },
  {
   "cell_type": "code",
   "execution_count": null,
   "metadata": {},
   "outputs": [
    {
     "data": {
      "application/vnd.plotly.v1+json": {
       "config": {
        "plotlyServerURL": "https://plot.ly"
       },
       "data": [
        {
         "coloraxis": "coloraxis",
         "geo": "geo",
         "hovertemplate": "<b>%{hovertext}</b><br><br>State_Abbreviation=%{location}<br>Language spoken at home (Spanish) - Percent (DP02_0116PE)=%{z}<extra></extra>",
         "hovertext": [
          "Arkansas",
          "Washington",
          "Kansas",
          "Oklahoma",
          "Wisconsin",
          "Mississippi",
          "Missouri",
          "Michigan",
          "Rhode Island",
          "Minnesota",
          "Iowa",
          "New Mexico",
          "Nevada",
          "Delaware",
          "Kentucky",
          "South Dakota",
          "Tennessee",
          "Pennsylvania",
          "California",
          "West Virginia",
          "Utah",
          "New York",
          "Alaska",
          "Florida",
          "South Carolina",
          "North Dakota",
          "Maine",
          "Georgia",
          "Alabama",
          "New Hampshire",
          "Oregon",
          "Wyoming",
          "Arizona",
          "Louisiana",
          "Indiana",
          "Idaho",
          "Connecticut",
          "Hawaii",
          "Illinois",
          "Massachusetts",
          "Texas",
          "Montana",
          "Nebraska",
          "Ohio",
          "Colorado",
          "New Jersey",
          "Maryland",
          "Virginia",
          "Vermont",
          "North Carolina"
         ],
         "locationmode": "USA-states",
         "locations": [
          "AR",
          "WA",
          "KS",
          "OK",
          "WI",
          "MS",
          "MO",
          "MI",
          "RI",
          "MN",
          "IA",
          "NM",
          "NV",
          "DE",
          "KY",
          "SD",
          "TN",
          "PA",
          "CA",
          "WV",
          "UT",
          "NY",
          "AK",
          "FL",
          "SC",
          "ND",
          "ME",
          "GA",
          "AL",
          "NH",
          "OR",
          "WY",
          "AZ",
          "LA",
          "IN",
          "ID",
          "CT",
          "HI",
          "IL",
          "MA",
          "TX",
          "MT",
          "NE",
          "OH",
          "CO",
          "NJ",
          "MD",
          "VA",
          "VT",
          "NC"
         ],
         "name": "",
         "type": "choropleth",
         "z": [
          5.4,
          8.5,
          7.6,
          7.3,
          4.6,
          2.4,
          2.6,
          2.9,
          12.3,
          3.9,
          4.1,
          26,
          20.9,
          7.1,
          2.7,
          2.1,
          4.2,
          5.1,
          28.3,
          1,
          10.3,
          14.7,
          3.5,
          21.8,
          4.6,
          1.9,
          0.9,
          7.9,
          3.3,
          2.4,
          8.9,
          4.7,
          20.2,
          3.7,
          4.6,
          8,
          11.9,
          2.2,
          13.3,
          9.1,
          28.8,
          1.4,
          7.7,
          2.3,
          11.2,
          16.4,
          8.3,
          7.3,
          1.1,
          7.5
         ]
        }
       ],
       "layout": {
        "coloraxis": {
         "colorbar": {
          "title": {
           "text": "Language spoken at home (Spanish) - Percent (DP02_0116PE)"
          }
         },
         "colorscale": [
          [
           0,
           "rgb(255,247,236)"
          ],
          [
           0.125,
           "rgb(254,232,200)"
          ],
          [
           0.25,
           "rgb(253,212,158)"
          ],
          [
           0.375,
           "rgb(253,187,132)"
          ],
          [
           0.5,
           "rgb(252,141,89)"
          ],
          [
           0.625,
           "rgb(239,101,72)"
          ],
          [
           0.75,
           "rgb(215,48,31)"
          ],
          [
           0.875,
           "rgb(179,0,0)"
          ],
          [
           1,
           "rgb(127,0,0)"
          ]
         ]
        },
        "geo": {
         "center": {},
         "domain": {
          "x": [
           0,
           1
          ],
          "y": [
           0,
           1
          ]
         },
         "scope": "usa"
        },
        "legend": {
         "tracegroupgap": 0
        },
        "margin": {
         "b": 0,
         "l": 0,
         "r": 0,
         "t": 50
        },
        "template": {
         "data": {
          "bar": [
           {
            "error_x": {
             "color": "#2a3f5f"
            },
            "error_y": {
             "color": "#2a3f5f"
            },
            "marker": {
             "line": {
              "color": "#E5ECF6",
              "width": 0.5
             },
             "pattern": {
              "fillmode": "overlay",
              "size": 10,
              "solidity": 0.2
             }
            },
            "type": "bar"
           }
          ],
          "barpolar": [
           {
            "marker": {
             "line": {
              "color": "#E5ECF6",
              "width": 0.5
             },
             "pattern": {
              "fillmode": "overlay",
              "size": 10,
              "solidity": 0.2
             }
            },
            "type": "barpolar"
           }
          ],
          "carpet": [
           {
            "aaxis": {
             "endlinecolor": "#2a3f5f",
             "gridcolor": "white",
             "linecolor": "white",
             "minorgridcolor": "white",
             "startlinecolor": "#2a3f5f"
            },
            "baxis": {
             "endlinecolor": "#2a3f5f",
             "gridcolor": "white",
             "linecolor": "white",
             "minorgridcolor": "white",
             "startlinecolor": "#2a3f5f"
            },
            "type": "carpet"
           }
          ],
          "choropleth": [
           {
            "colorbar": {
             "outlinewidth": 0,
             "ticks": ""
            },
            "type": "choropleth"
           }
          ],
          "contour": [
           {
            "colorbar": {
             "outlinewidth": 0,
             "ticks": ""
            },
            "colorscale": [
             [
              0,
              "#0d0887"
             ],
             [
              0.1111111111111111,
              "#46039f"
             ],
             [
              0.2222222222222222,
              "#7201a8"
             ],
             [
              0.3333333333333333,
              "#9c179e"
             ],
             [
              0.4444444444444444,
              "#bd3786"
             ],
             [
              0.5555555555555556,
              "#d8576b"
             ],
             [
              0.6666666666666666,
              "#ed7953"
             ],
             [
              0.7777777777777778,
              "#fb9f3a"
             ],
             [
              0.8888888888888888,
              "#fdca26"
             ],
             [
              1,
              "#f0f921"
             ]
            ],
            "type": "contour"
           }
          ],
          "contourcarpet": [
           {
            "colorbar": {
             "outlinewidth": 0,
             "ticks": ""
            },
            "type": "contourcarpet"
           }
          ],
          "heatmap": [
           {
            "colorbar": {
             "outlinewidth": 0,
             "ticks": ""
            },
            "colorscale": [
             [
              0,
              "#0d0887"
             ],
             [
              0.1111111111111111,
              "#46039f"
             ],
             [
              0.2222222222222222,
              "#7201a8"
             ],
             [
              0.3333333333333333,
              "#9c179e"
             ],
             [
              0.4444444444444444,
              "#bd3786"
             ],
             [
              0.5555555555555556,
              "#d8576b"
             ],
             [
              0.6666666666666666,
              "#ed7953"
             ],
             [
              0.7777777777777778,
              "#fb9f3a"
             ],
             [
              0.8888888888888888,
              "#fdca26"
             ],
             [
              1,
              "#f0f921"
             ]
            ],
            "type": "heatmap"
           }
          ],
          "heatmapgl": [
           {
            "colorbar": {
             "outlinewidth": 0,
             "ticks": ""
            },
            "colorscale": [
             [
              0,
              "#0d0887"
             ],
             [
              0.1111111111111111,
              "#46039f"
             ],
             [
              0.2222222222222222,
              "#7201a8"
             ],
             [
              0.3333333333333333,
              "#9c179e"
             ],
             [
              0.4444444444444444,
              "#bd3786"
             ],
             [
              0.5555555555555556,
              "#d8576b"
             ],
             [
              0.6666666666666666,
              "#ed7953"
             ],
             [
              0.7777777777777778,
              "#fb9f3a"
             ],
             [
              0.8888888888888888,
              "#fdca26"
             ],
             [
              1,
              "#f0f921"
             ]
            ],
            "type": "heatmapgl"
           }
          ],
          "histogram": [
           {
            "marker": {
             "pattern": {
              "fillmode": "overlay",
              "size": 10,
              "solidity": 0.2
             }
            },
            "type": "histogram"
           }
          ],
          "histogram2d": [
           {
            "colorbar": {
             "outlinewidth": 0,
             "ticks": ""
            },
            "colorscale": [
             [
              0,
              "#0d0887"
             ],
             [
              0.1111111111111111,
              "#46039f"
             ],
             [
              0.2222222222222222,
              "#7201a8"
             ],
             [
              0.3333333333333333,
              "#9c179e"
             ],
             [
              0.4444444444444444,
              "#bd3786"
             ],
             [
              0.5555555555555556,
              "#d8576b"
             ],
             [
              0.6666666666666666,
              "#ed7953"
             ],
             [
              0.7777777777777778,
              "#fb9f3a"
             ],
             [
              0.8888888888888888,
              "#fdca26"
             ],
             [
              1,
              "#f0f921"
             ]
            ],
            "type": "histogram2d"
           }
          ],
          "histogram2dcontour": [
           {
            "colorbar": {
             "outlinewidth": 0,
             "ticks": ""
            },
            "colorscale": [
             [
              0,
              "#0d0887"
             ],
             [
              0.1111111111111111,
              "#46039f"
             ],
             [
              0.2222222222222222,
              "#7201a8"
             ],
             [
              0.3333333333333333,
              "#9c179e"
             ],
             [
              0.4444444444444444,
              "#bd3786"
             ],
             [
              0.5555555555555556,
              "#d8576b"
             ],
             [
              0.6666666666666666,
              "#ed7953"
             ],
             [
              0.7777777777777778,
              "#fb9f3a"
             ],
             [
              0.8888888888888888,
              "#fdca26"
             ],
             [
              1,
              "#f0f921"
             ]
            ],
            "type": "histogram2dcontour"
           }
          ],
          "mesh3d": [
           {
            "colorbar": {
             "outlinewidth": 0,
             "ticks": ""
            },
            "type": "mesh3d"
           }
          ],
          "parcoords": [
           {
            "line": {
             "colorbar": {
              "outlinewidth": 0,
              "ticks": ""
             }
            },
            "type": "parcoords"
           }
          ],
          "pie": [
           {
            "automargin": true,
            "type": "pie"
           }
          ],
          "scatter": [
           {
            "fillpattern": {
             "fillmode": "overlay",
             "size": 10,
             "solidity": 0.2
            },
            "type": "scatter"
           }
          ],
          "scatter3d": [
           {
            "line": {
             "colorbar": {
              "outlinewidth": 0,
              "ticks": ""
             }
            },
            "marker": {
             "colorbar": {
              "outlinewidth": 0,
              "ticks": ""
             }
            },
            "type": "scatter3d"
           }
          ],
          "scattercarpet": [
           {
            "marker": {
             "colorbar": {
              "outlinewidth": 0,
              "ticks": ""
             }
            },
            "type": "scattercarpet"
           }
          ],
          "scattergeo": [
           {
            "marker": {
             "colorbar": {
              "outlinewidth": 0,
              "ticks": ""
             }
            },
            "type": "scattergeo"
           }
          ],
          "scattergl": [
           {
            "marker": {
             "colorbar": {
              "outlinewidth": 0,
              "ticks": ""
             }
            },
            "type": "scattergl"
           }
          ],
          "scattermapbox": [
           {
            "marker": {
             "colorbar": {
              "outlinewidth": 0,
              "ticks": ""
             }
            },
            "type": "scattermapbox"
           }
          ],
          "scatterpolar": [
           {
            "marker": {
             "colorbar": {
              "outlinewidth": 0,
              "ticks": ""
             }
            },
            "type": "scatterpolar"
           }
          ],
          "scatterpolargl": [
           {
            "marker": {
             "colorbar": {
              "outlinewidth": 0,
              "ticks": ""
             }
            },
            "type": "scatterpolargl"
           }
          ],
          "scatterternary": [
           {
            "marker": {
             "colorbar": {
              "outlinewidth": 0,
              "ticks": ""
             }
            },
            "type": "scatterternary"
           }
          ],
          "surface": [
           {
            "colorbar": {
             "outlinewidth": 0,
             "ticks": ""
            },
            "colorscale": [
             [
              0,
              "#0d0887"
             ],
             [
              0.1111111111111111,
              "#46039f"
             ],
             [
              0.2222222222222222,
              "#7201a8"
             ],
             [
              0.3333333333333333,
              "#9c179e"
             ],
             [
              0.4444444444444444,
              "#bd3786"
             ],
             [
              0.5555555555555556,
              "#d8576b"
             ],
             [
              0.6666666666666666,
              "#ed7953"
             ],
             [
              0.7777777777777778,
              "#fb9f3a"
             ],
             [
              0.8888888888888888,
              "#fdca26"
             ],
             [
              1,
              "#f0f921"
             ]
            ],
            "type": "surface"
           }
          ],
          "table": [
           {
            "cells": {
             "fill": {
              "color": "#EBF0F8"
             },
             "line": {
              "color": "white"
             }
            },
            "header": {
             "fill": {
              "color": "#C8D4E3"
             },
             "line": {
              "color": "white"
             }
            },
            "type": "table"
           }
          ]
         },
         "layout": {
          "annotationdefaults": {
           "arrowcolor": "#2a3f5f",
           "arrowhead": 0,
           "arrowwidth": 1
          },
          "autotypenumbers": "strict",
          "coloraxis": {
           "colorbar": {
            "outlinewidth": 0,
            "ticks": ""
           }
          },
          "colorscale": {
           "diverging": [
            [
             0,
             "#8e0152"
            ],
            [
             0.1,
             "#c51b7d"
            ],
            [
             0.2,
             "#de77ae"
            ],
            [
             0.3,
             "#f1b6da"
            ],
            [
             0.4,
             "#fde0ef"
            ],
            [
             0.5,
             "#f7f7f7"
            ],
            [
             0.6,
             "#e6f5d0"
            ],
            [
             0.7,
             "#b8e186"
            ],
            [
             0.8,
             "#7fbc41"
            ],
            [
             0.9,
             "#4d9221"
            ],
            [
             1,
             "#276419"
            ]
           ],
           "sequential": [
            [
             0,
             "#0d0887"
            ],
            [
             0.1111111111111111,
             "#46039f"
            ],
            [
             0.2222222222222222,
             "#7201a8"
            ],
            [
             0.3333333333333333,
             "#9c179e"
            ],
            [
             0.4444444444444444,
             "#bd3786"
            ],
            [
             0.5555555555555556,
             "#d8576b"
            ],
            [
             0.6666666666666666,
             "#ed7953"
            ],
            [
             0.7777777777777778,
             "#fb9f3a"
            ],
            [
             0.8888888888888888,
             "#fdca26"
            ],
            [
             1,
             "#f0f921"
            ]
           ],
           "sequentialminus": [
            [
             0,
             "#0d0887"
            ],
            [
             0.1111111111111111,
             "#46039f"
            ],
            [
             0.2222222222222222,
             "#7201a8"
            ],
            [
             0.3333333333333333,
             "#9c179e"
            ],
            [
             0.4444444444444444,
             "#bd3786"
            ],
            [
             0.5555555555555556,
             "#d8576b"
            ],
            [
             0.6666666666666666,
             "#ed7953"
            ],
            [
             0.7777777777777778,
             "#fb9f3a"
            ],
            [
             0.8888888888888888,
             "#fdca26"
            ],
            [
             1,
             "#f0f921"
            ]
           ]
          },
          "colorway": [
           "#636efa",
           "#EF553B",
           "#00cc96",
           "#ab63fa",
           "#FFA15A",
           "#19d3f3",
           "#FF6692",
           "#B6E880",
           "#FF97FF",
           "#FECB52"
          ],
          "font": {
           "color": "#2a3f5f"
          },
          "geo": {
           "bgcolor": "white",
           "lakecolor": "white",
           "landcolor": "#E5ECF6",
           "showlakes": true,
           "showland": true,
           "subunitcolor": "white"
          },
          "hoverlabel": {
           "align": "left"
          },
          "hovermode": "closest",
          "mapbox": {
           "style": "light"
          },
          "paper_bgcolor": "white",
          "plot_bgcolor": "#E5ECF6",
          "polar": {
           "angularaxis": {
            "gridcolor": "white",
            "linecolor": "white",
            "ticks": ""
           },
           "bgcolor": "#E5ECF6",
           "radialaxis": {
            "gridcolor": "white",
            "linecolor": "white",
            "ticks": ""
           }
          },
          "scene": {
           "xaxis": {
            "backgroundcolor": "#E5ECF6",
            "gridcolor": "white",
            "gridwidth": 2,
            "linecolor": "white",
            "showbackground": true,
            "ticks": "",
            "zerolinecolor": "white"
           },
           "yaxis": {
            "backgroundcolor": "#E5ECF6",
            "gridcolor": "white",
            "gridwidth": 2,
            "linecolor": "white",
            "showbackground": true,
            "ticks": "",
            "zerolinecolor": "white"
           },
           "zaxis": {
            "backgroundcolor": "#E5ECF6",
            "gridcolor": "white",
            "gridwidth": 2,
            "linecolor": "white",
            "showbackground": true,
            "ticks": "",
            "zerolinecolor": "white"
           }
          },
          "shapedefaults": {
           "line": {
            "color": "#2a3f5f"
           }
          },
          "ternary": {
           "aaxis": {
            "gridcolor": "white",
            "linecolor": "white",
            "ticks": ""
           },
           "baxis": {
            "gridcolor": "white",
            "linecolor": "white",
            "ticks": ""
           },
           "bgcolor": "#E5ECF6",
           "caxis": {
            "gridcolor": "white",
            "linecolor": "white",
            "ticks": ""
           }
          },
          "title": {
           "x": 0.05
          },
          "xaxis": {
           "automargin": true,
           "gridcolor": "white",
           "linecolor": "white",
           "ticks": "",
           "title": {
            "standoff": 15
           },
           "zerolinecolor": "white",
           "zerolinewidth": 2
          },
          "yaxis": {
           "automargin": true,
           "gridcolor": "white",
           "linecolor": "white",
           "ticks": "",
           "title": {
            "standoff": 15
           },
           "zerolinecolor": "white",
           "zerolinewidth": 2
          }
         }
        },
        "title": {
         "text": "What is the percentage of population for each US state who speak Spanish at home? "
        }
       }
      }
     },
     "metadata": {},
     "output_type": "display_data"
    }
   ],
   "source": [
    "fig = px.choropleth(df, \n",
    "                    scope=\"usa\",    \n",
    "                    locationmode='USA-states',          # Plot states of USA\n",
    "                    locations='State_Abbreviation',     # Column containing State Abbeviations                   \n",
    "                    \n",
    "                    color='Language spoken at home (Spanish) - Percent (DP02_0116PE)',      # Column determining map color for each State\n",
    "                    hover_name='State_Name',            # Sets top label of Tooltip\n",
    "                    color_continuous_scale='OrRd', \n",
    "                    title=\"What is the percentage of population for each US state who speak Spanish at home? \"\n",
    "                   )\n",
    "\n",
    "fig.update_layout(margin={\"r\":0,\"t\":50,\"l\":0,\"b\":0})\n",
    "\n",
    "fig.show()"
   ]
  }
 ],
 "metadata": {
  "kernelspec": {
   "display_name": "Python 3.9.12",
   "language": "python",
   "name": "python3"
  },
  "language_info": {
   "codemirror_mode": {
    "name": "ipython",
    "version": 3
   },
   "file_extension": ".py",
   "mimetype": "text/x-python",
   "name": "python",
   "nbconvert_exporter": "python",
   "pygments_lexer": "ipython3",
   "version": "3.9.12"
  },
  "vscode": {
   "interpreter": {
    "hash": "0ccba871b46202fe891a5da8f1fa45061240964d317113191dbecc63a04b0fa2"
   }
  }
 },
 "nbformat": 4,
 "nbformat_minor": 4
}
