{
 "cells": [
  {
   "cell_type": "markdown",
   "metadata": {},
   "source": [
    "# 2.3 Ex: Part 3 (Outside Class)     \n",
    "\n",
    "- Data file:  **Leading_Causes_of_Death.csv**  "
   ]
  },
  {
   "cell_type": "code",
   "execution_count": 1,
   "metadata": {},
   "outputs": [],
   "source": [
    "import pandas as pd"
   ]
  },
  {
   "cell_type": "markdown",
   "metadata": {},
   "source": [
    "### Read the datafile File into a *pandas* Dataframe  "
   ]
  },
  {
   "cell_type": "code",
   "execution_count": 2,
   "metadata": {},
   "outputs": [
    {
     "name": "stdout",
     "output_type": "stream",
     "text": [
      "(10868, 6)\n"
     ]
    },
    {
     "data": {
      "text/html": [
       "<div>\n",
       "<style scoped>\n",
       "    .dataframe tbody tr th:only-of-type {\n",
       "        vertical-align: middle;\n",
       "    }\n",
       "\n",
       "    .dataframe tbody tr th {\n",
       "        vertical-align: top;\n",
       "    }\n",
       "\n",
       "    .dataframe thead th {\n",
       "        text-align: right;\n",
       "    }\n",
       "</style>\n",
       "<table border=\"1\" class=\"dataframe\">\n",
       "  <thead>\n",
       "    <tr style=\"text-align: right;\">\n",
       "      <th></th>\n",
       "      <th>Year</th>\n",
       "      <th>Death_Cause_Name</th>\n",
       "      <th>113_Cause_Name</th>\n",
       "      <th>State</th>\n",
       "      <th>Deaths</th>\n",
       "      <th>Age-Adjusted Death Rate</th>\n",
       "    </tr>\n",
       "  </thead>\n",
       "  <tbody>\n",
       "    <tr>\n",
       "      <th>0</th>\n",
       "      <td>2017</td>\n",
       "      <td>Unintentional injuries</td>\n",
       "      <td>Accidents (unintentional injuries) (V01-X59,Y8...</td>\n",
       "      <td>United States</td>\n",
       "      <td>169936</td>\n",
       "      <td>49.4</td>\n",
       "    </tr>\n",
       "    <tr>\n",
       "      <th>1</th>\n",
       "      <td>2017</td>\n",
       "      <td>Unintentional injuries</td>\n",
       "      <td>Accidents (unintentional injuries) (V01-X59,Y8...</td>\n",
       "      <td>Alabama</td>\n",
       "      <td>2703</td>\n",
       "      <td>53.8</td>\n",
       "    </tr>\n",
       "    <tr>\n",
       "      <th>2</th>\n",
       "      <td>2017</td>\n",
       "      <td>Unintentional injuries</td>\n",
       "      <td>Accidents (unintentional injuries) (V01-X59,Y8...</td>\n",
       "      <td>Alaska</td>\n",
       "      <td>436</td>\n",
       "      <td>63.7</td>\n",
       "    </tr>\n",
       "    <tr>\n",
       "      <th>3</th>\n",
       "      <td>2017</td>\n",
       "      <td>Unintentional injuries</td>\n",
       "      <td>Accidents (unintentional injuries) (V01-X59,Y8...</td>\n",
       "      <td>Arizona</td>\n",
       "      <td>4184</td>\n",
       "      <td>56.2</td>\n",
       "    </tr>\n",
       "    <tr>\n",
       "      <th>4</th>\n",
       "      <td>2017</td>\n",
       "      <td>Unintentional injuries</td>\n",
       "      <td>Accidents (unintentional injuries) (V01-X59,Y8...</td>\n",
       "      <td>Arkansas</td>\n",
       "      <td>1625</td>\n",
       "      <td>51.8</td>\n",
       "    </tr>\n",
       "  </tbody>\n",
       "</table>\n",
       "</div>"
      ],
      "text/plain": [
       "   Year        Death_Cause_Name  \\\n",
       "0  2017  Unintentional injuries   \n",
       "1  2017  Unintentional injuries   \n",
       "2  2017  Unintentional injuries   \n",
       "3  2017  Unintentional injuries   \n",
       "4  2017  Unintentional injuries   \n",
       "\n",
       "                                      113_Cause_Name          State  Deaths  \\\n",
       "0  Accidents (unintentional injuries) (V01-X59,Y8...  United States  169936   \n",
       "1  Accidents (unintentional injuries) (V01-X59,Y8...        Alabama    2703   \n",
       "2  Accidents (unintentional injuries) (V01-X59,Y8...         Alaska     436   \n",
       "3  Accidents (unintentional injuries) (V01-X59,Y8...        Arizona    4184   \n",
       "4  Accidents (unintentional injuries) (V01-X59,Y8...       Arkansas    1625   \n",
       "\n",
       "   Age-Adjusted Death Rate  \n",
       "0                     49.4  \n",
       "1                     53.8  \n",
       "2                     63.7  \n",
       "3                     56.2  \n",
       "4                     51.8  "
      ]
     },
     "execution_count": 2,
     "metadata": {},
     "output_type": "execute_result"
    }
   ],
   "source": [
    "df = pd.read_csv(\"Data/Leading_Causes_of_Death.csv\")\n",
    "\n",
    "print(df.shape)\n",
    "df.head()"
   ]
  },
  {
   "cell_type": "code",
   "execution_count": 3,
   "metadata": {},
   "outputs": [
    {
     "data": {
      "text/plain": [
       "Year                         int64\n",
       "Death_Cause_Name            object\n",
       "113_Cause_Name              object\n",
       "State                       object\n",
       "Deaths                       int64\n",
       "Age-Adjusted Death Rate    float64\n",
       "dtype: object"
      ]
     },
     "execution_count": 3,
     "metadata": {},
     "output_type": "execute_result"
    }
   ],
   "source": [
    "df.dtypes"
   ]
  },
  {
   "cell_type": "markdown",
   "metadata": {},
   "source": [
    "# Q3.1: In 2017, what were the leading causes of death in the US? "
   ]
  },
  {
   "cell_type": "code",
   "execution_count": 16,
   "metadata": {},
   "outputs": [
    {
     "name": "stdout",
     "output_type": "stream",
     "text": [
      "Q3.1: In 2017, what were the leading causes of death in the US?\n",
      "(10, 6)\n"
     ]
    },
    {
     "data": {
      "text/html": [
       "<div>\n",
       "<style scoped>\n",
       "    .dataframe tbody tr th:only-of-type {\n",
       "        vertical-align: middle;\n",
       "    }\n",
       "\n",
       "    .dataframe tbody tr th {\n",
       "        vertical-align: top;\n",
       "    }\n",
       "\n",
       "    .dataframe thead th {\n",
       "        text-align: right;\n",
       "    }\n",
       "</style>\n",
       "<table border=\"1\" class=\"dataframe\">\n",
       "  <thead>\n",
       "    <tr style=\"text-align: right;\">\n",
       "      <th></th>\n",
       "      <th>Year</th>\n",
       "      <th>Death_Cause_Name</th>\n",
       "      <th>113_Cause_Name</th>\n",
       "      <th>State</th>\n",
       "      <th>Deaths</th>\n",
       "      <th>Age-Adjusted Death Rate</th>\n",
       "    </tr>\n",
       "  </thead>\n",
       "  <tbody>\n",
       "    <tr>\n",
       "      <th>0</th>\n",
       "      <td>2017</td>\n",
       "      <td>Unintentional injuries</td>\n",
       "      <td>Accidents (unintentional injuries) (V01-X59,Y8...</td>\n",
       "      <td>United States</td>\n",
       "      <td>169936</td>\n",
       "      <td>49.4</td>\n",
       "    </tr>\n",
       "    <tr>\n",
       "      <th>104</th>\n",
       "      <td>2017</td>\n",
       "      <td>Alzheimer's disease</td>\n",
       "      <td>Alzheimer's disease (G30)</td>\n",
       "      <td>United States</td>\n",
       "      <td>121404</td>\n",
       "      <td>31.0</td>\n",
       "    </tr>\n",
       "    <tr>\n",
       "      <th>156</th>\n",
       "      <td>2017</td>\n",
       "      <td>Stroke</td>\n",
       "      <td>Cerebrovascular diseases (I60-I69)</td>\n",
       "      <td>United States</td>\n",
       "      <td>146383</td>\n",
       "      <td>37.6</td>\n",
       "    </tr>\n",
       "    <tr>\n",
       "      <th>208</th>\n",
       "      <td>2017</td>\n",
       "      <td>CLRD</td>\n",
       "      <td>Chronic lower respiratory diseases (J40-J47)</td>\n",
       "      <td>United States</td>\n",
       "      <td>160201</td>\n",
       "      <td>40.9</td>\n",
       "    </tr>\n",
       "    <tr>\n",
       "      <th>260</th>\n",
       "      <td>2017</td>\n",
       "      <td>Diabetes</td>\n",
       "      <td>Diabetes mellitus (E10-E14)</td>\n",
       "      <td>United States</td>\n",
       "      <td>83564</td>\n",
       "      <td>21.5</td>\n",
       "    </tr>\n",
       "    <tr>\n",
       "      <th>312</th>\n",
       "      <td>2017</td>\n",
       "      <td>Heart disease</td>\n",
       "      <td>Diseases of heart (I00-I09,I11,I13,I20-I51)</td>\n",
       "      <td>United States</td>\n",
       "      <td>647457</td>\n",
       "      <td>165.0</td>\n",
       "    </tr>\n",
       "    <tr>\n",
       "      <th>364</th>\n",
       "      <td>2017</td>\n",
       "      <td>Influenza and pneumonia</td>\n",
       "      <td>Influenza and pneumonia (J09-J18)</td>\n",
       "      <td>United States</td>\n",
       "      <td>55672</td>\n",
       "      <td>14.3</td>\n",
       "    </tr>\n",
       "    <tr>\n",
       "      <th>416</th>\n",
       "      <td>2017</td>\n",
       "      <td>Suicide</td>\n",
       "      <td>Intentional self-harm (suicide) (*U03,X60-X84,...</td>\n",
       "      <td>United States</td>\n",
       "      <td>47173</td>\n",
       "      <td>14.0</td>\n",
       "    </tr>\n",
       "    <tr>\n",
       "      <th>468</th>\n",
       "      <td>2017</td>\n",
       "      <td>Cancer</td>\n",
       "      <td>Malignant neoplasms (C00-C97)</td>\n",
       "      <td>United States</td>\n",
       "      <td>599108</td>\n",
       "      <td>152.5</td>\n",
       "    </tr>\n",
       "    <tr>\n",
       "      <th>520</th>\n",
       "      <td>2017</td>\n",
       "      <td>Kidney disease</td>\n",
       "      <td>Nephritis, nephrotic syndrome and nephrosis (N...</td>\n",
       "      <td>United States</td>\n",
       "      <td>50633</td>\n",
       "      <td>13.0</td>\n",
       "    </tr>\n",
       "  </tbody>\n",
       "</table>\n",
       "</div>"
      ],
      "text/plain": [
       "     Year         Death_Cause_Name  \\\n",
       "0    2017   Unintentional injuries   \n",
       "104  2017      Alzheimer's disease   \n",
       "156  2017                   Stroke   \n",
       "208  2017                     CLRD   \n",
       "260  2017                 Diabetes   \n",
       "312  2017            Heart disease   \n",
       "364  2017  Influenza and pneumonia   \n",
       "416  2017                  Suicide   \n",
       "468  2017                   Cancer   \n",
       "520  2017           Kidney disease   \n",
       "\n",
       "                                        113_Cause_Name          State  Deaths  \\\n",
       "0    Accidents (unintentional injuries) (V01-X59,Y8...  United States  169936   \n",
       "104                          Alzheimer's disease (G30)  United States  121404   \n",
       "156                 Cerebrovascular diseases (I60-I69)  United States  146383   \n",
       "208       Chronic lower respiratory diseases (J40-J47)  United States  160201   \n",
       "260                        Diabetes mellitus (E10-E14)  United States   83564   \n",
       "312        Diseases of heart (I00-I09,I11,I13,I20-I51)  United States  647457   \n",
       "364                  Influenza and pneumonia (J09-J18)  United States   55672   \n",
       "416  Intentional self-harm (suicide) (*U03,X60-X84,...  United States   47173   \n",
       "468                      Malignant neoplasms (C00-C97)  United States  599108   \n",
       "520  Nephritis, nephrotic syndrome and nephrosis (N...  United States   50633   \n",
       "\n",
       "     Age-Adjusted Death Rate  \n",
       "0                       49.4  \n",
       "104                     31.0  \n",
       "156                     37.6  \n",
       "208                     40.9  \n",
       "260                     21.5  \n",
       "312                    165.0  \n",
       "364                     14.3  \n",
       "416                     14.0  \n",
       "468                    152.5  \n",
       "520                     13.0  "
      ]
     },
     "execution_count": 16,
     "metadata": {},
     "output_type": "execute_result"
    }
   ],
   "source": [
    "df_Q1 = df.query(\"Year == 2017 and Death_Cause_Name != 'All causes'\")\n",
    "\n",
    "print(\"Q3.1: In 2017, what were the leading causes of death in the US?\")\n",
    "df_Q1_1 = df_Q1.drop_duplicates(subset='Death_Cause_Name')\n",
    "print(df_Q1_1.shape)\n",
    "df_Q1_1"
   ]
  },
  {
   "cell_type": "code",
   "execution_count": 17,
   "metadata": {},
   "outputs": [
    {
     "data": {
      "text/plain": [
       "array([2017], dtype=int64)"
      ]
     },
     "execution_count": 17,
     "metadata": {},
     "output_type": "execute_result"
    }
   ],
   "source": [
    "df_Q1_1['Year'].unique()"
   ]
  },
  {
   "cell_type": "code",
   "execution_count": 18,
   "metadata": {},
   "outputs": [
    {
     "data": {
      "text/plain": [
       "array(['Unintentional injuries', \"Alzheimer's disease\", 'Stroke', 'CLRD',\n",
       "       'Diabetes', 'Heart disease', 'Influenza and pneumonia', 'Suicide',\n",
       "       'Cancer', 'Kidney disease'], dtype=object)"
      ]
     },
     "execution_count": 18,
     "metadata": {},
     "output_type": "execute_result"
    }
   ],
   "source": [
    "\n",
    "df_Q1_1['Death_Cause_Name'].unique()"
   ]
  },
  {
   "cell_type": "markdown",
   "metadata": {},
   "source": [
    "# Q3.2: In 2000, what were the leading causes of death in the US? "
   ]
  },
  {
   "cell_type": "code",
   "execution_count": 20,
   "metadata": {},
   "outputs": [
    {
     "name": "stdout",
     "output_type": "stream",
     "text": [
      "Q3.2: In 2000, what were the leading causes of death in the US?\n",
      "(10, 6)\n"
     ]
    },
    {
     "data": {
      "text/html": [
       "<div>\n",
       "<style scoped>\n",
       "    .dataframe tbody tr th:only-of-type {\n",
       "        vertical-align: middle;\n",
       "    }\n",
       "\n",
       "    .dataframe tbody tr th {\n",
       "        vertical-align: top;\n",
       "    }\n",
       "\n",
       "    .dataframe thead th {\n",
       "        text-align: right;\n",
       "    }\n",
       "</style>\n",
       "<table border=\"1\" class=\"dataframe\">\n",
       "  <thead>\n",
       "    <tr style=\"text-align: right;\">\n",
       "      <th></th>\n",
       "      <th>Year</th>\n",
       "      <th>Death_Cause_Name</th>\n",
       "      <th>113_Cause_Name</th>\n",
       "      <th>State</th>\n",
       "      <th>Deaths</th>\n",
       "      <th>Age-Adjusted Death Rate</th>\n",
       "    </tr>\n",
       "  </thead>\n",
       "  <tbody>\n",
       "    <tr>\n",
       "      <th>9724</th>\n",
       "      <td>2000</td>\n",
       "      <td>Unintentional injuries</td>\n",
       "      <td>Accidents (unintentional injuries) (V01-X59,Y8...</td>\n",
       "      <td>Alabama</td>\n",
       "      <td>2093</td>\n",
       "      <td>47.0</td>\n",
       "    </tr>\n",
       "    <tr>\n",
       "      <th>9828</th>\n",
       "      <td>2000</td>\n",
       "      <td>Alzheimer's disease</td>\n",
       "      <td>Alzheimer's disease (G30)</td>\n",
       "      <td>Alabama</td>\n",
       "      <td>895</td>\n",
       "      <td>20.4</td>\n",
       "    </tr>\n",
       "    <tr>\n",
       "      <th>9880</th>\n",
       "      <td>2000</td>\n",
       "      <td>Stroke</td>\n",
       "      <td>Cerebrovascular diseases (I60-I69)</td>\n",
       "      <td>Alabama</td>\n",
       "      <td>3183</td>\n",
       "      <td>71.5</td>\n",
       "    </tr>\n",
       "    <tr>\n",
       "      <th>9932</th>\n",
       "      <td>2000</td>\n",
       "      <td>CLRD</td>\n",
       "      <td>Chronic lower respiratory diseases (J40-J47)</td>\n",
       "      <td>Alabama</td>\n",
       "      <td>2057</td>\n",
       "      <td>45.5</td>\n",
       "    </tr>\n",
       "    <tr>\n",
       "      <th>9984</th>\n",
       "      <td>2000</td>\n",
       "      <td>Diabetes</td>\n",
       "      <td>Diabetes mellitus (E10-E14)</td>\n",
       "      <td>Alabama</td>\n",
       "      <td>1321</td>\n",
       "      <td>29.3</td>\n",
       "    </tr>\n",
       "    <tr>\n",
       "      <th>10036</th>\n",
       "      <td>2000</td>\n",
       "      <td>Heart disease</td>\n",
       "      <td>Diseases of heart (I00-I09,I11,I13,I20-I51)</td>\n",
       "      <td>Alabama</td>\n",
       "      <td>13406</td>\n",
       "      <td>299.5</td>\n",
       "    </tr>\n",
       "    <tr>\n",
       "      <th>10088</th>\n",
       "      <td>2000</td>\n",
       "      <td>Influenza and pneumonia</td>\n",
       "      <td>Influenza and pneumonia (J09-J18)</td>\n",
       "      <td>Alabama</td>\n",
       "      <td>1138</td>\n",
       "      <td>25.7</td>\n",
       "    </tr>\n",
       "    <tr>\n",
       "      <th>10140</th>\n",
       "      <td>2000</td>\n",
       "      <td>Suicide</td>\n",
       "      <td>Intentional self-harm (suicide) (*U03,X60-X84,...</td>\n",
       "      <td>Alabama</td>\n",
       "      <td>583</td>\n",
       "      <td>13.1</td>\n",
       "    </tr>\n",
       "    <tr>\n",
       "      <th>10192</th>\n",
       "      <td>2000</td>\n",
       "      <td>Cancer</td>\n",
       "      <td>Malignant neoplasms (C00-C97)</td>\n",
       "      <td>Alabama</td>\n",
       "      <td>9807</td>\n",
       "      <td>215.4</td>\n",
       "    </tr>\n",
       "    <tr>\n",
       "      <th>10244</th>\n",
       "      <td>2000</td>\n",
       "      <td>Kidney disease</td>\n",
       "      <td>Nephritis, nephrotic syndrome and nephrosis (N...</td>\n",
       "      <td>Alabama</td>\n",
       "      <td>939</td>\n",
       "      <td>21.1</td>\n",
       "    </tr>\n",
       "  </tbody>\n",
       "</table>\n",
       "</div>"
      ],
      "text/plain": [
       "       Year         Death_Cause_Name  \\\n",
       "9724   2000   Unintentional injuries   \n",
       "9828   2000      Alzheimer's disease   \n",
       "9880   2000                   Stroke   \n",
       "9932   2000                     CLRD   \n",
       "9984   2000                 Diabetes   \n",
       "10036  2000            Heart disease   \n",
       "10088  2000  Influenza and pneumonia   \n",
       "10140  2000                  Suicide   \n",
       "10192  2000                   Cancer   \n",
       "10244  2000           Kidney disease   \n",
       "\n",
       "                                          113_Cause_Name    State  Deaths  \\\n",
       "9724   Accidents (unintentional injuries) (V01-X59,Y8...  Alabama    2093   \n",
       "9828                           Alzheimer's disease (G30)  Alabama     895   \n",
       "9880                  Cerebrovascular diseases (I60-I69)  Alabama    3183   \n",
       "9932        Chronic lower respiratory diseases (J40-J47)  Alabama    2057   \n",
       "9984                         Diabetes mellitus (E10-E14)  Alabama    1321   \n",
       "10036        Diseases of heart (I00-I09,I11,I13,I20-I51)  Alabama   13406   \n",
       "10088                  Influenza and pneumonia (J09-J18)  Alabama    1138   \n",
       "10140  Intentional self-harm (suicide) (*U03,X60-X84,...  Alabama     583   \n",
       "10192                      Malignant neoplasms (C00-C97)  Alabama    9807   \n",
       "10244  Nephritis, nephrotic syndrome and nephrosis (N...  Alabama     939   \n",
       "\n",
       "       Age-Adjusted Death Rate  \n",
       "9724                      47.0  \n",
       "9828                      20.4  \n",
       "9880                      71.5  \n",
       "9932                      45.5  \n",
       "9984                      29.3  \n",
       "10036                    299.5  \n",
       "10088                     25.7  \n",
       "10140                     13.1  \n",
       "10192                    215.4  \n",
       "10244                     21.1  "
      ]
     },
     "execution_count": 20,
     "metadata": {},
     "output_type": "execute_result"
    }
   ],
   "source": [
    "df_Q2 = df.query(\"Year == 2000 and Death_Cause_Name != 'All causes'\")\n",
    "\n",
    "print(\"Q3.2: In 2000, what were the leading causes of death in the US?\")\n",
    "df_Q2_1 = df_Q2.drop_duplicates(subset='Death_Cause_Name')\n",
    "print(df_Q2_1.shape)\n",
    "df_Q2_1"
   ]
  },
  {
   "cell_type": "code",
   "execution_count": 22,
   "metadata": {},
   "outputs": [
    {
     "data": {
      "text/plain": [
       "array([2000], dtype=int64)"
      ]
     },
     "execution_count": 22,
     "metadata": {},
     "output_type": "execute_result"
    }
   ],
   "source": [
    "df_Q2_1['Year'].unique()"
   ]
  },
  {
   "cell_type": "code",
   "execution_count": 23,
   "metadata": {},
   "outputs": [
    {
     "data": {
      "text/plain": [
       "array(['Unintentional injuries', \"Alzheimer's disease\", 'Stroke', 'CLRD',\n",
       "       'Diabetes', 'Heart disease', 'Influenza and pneumonia', 'Suicide',\n",
       "       'Cancer', 'Kidney disease'], dtype=object)"
      ]
     },
     "execution_count": 23,
     "metadata": {},
     "output_type": "execute_result"
    }
   ],
   "source": [
    "df_Q2_1['Death_Cause_Name'].unique()"
   ]
  }
 ],
 "metadata": {
  "kernelspec": {
   "display_name": "Python 3.9.12",
   "language": "python",
   "name": "python3"
  },
  "language_info": {
   "codemirror_mode": {
    "name": "ipython",
    "version": 3
   },
   "file_extension": ".py",
   "mimetype": "text/x-python",
   "name": "python",
   "nbconvert_exporter": "python",
   "pygments_lexer": "ipython3",
   "version": "3.9.12"
  },
  "vscode": {
   "interpreter": {
    "hash": "0ccba871b46202fe891a5da8f1fa45061240964d317113191dbecc63a04b0fa2"
   }
  }
 },
 "nbformat": 4,
 "nbformat_minor": 4
}
